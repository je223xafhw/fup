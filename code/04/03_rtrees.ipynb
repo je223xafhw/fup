{
 "cells": [
  {
   "cell_type": "code",
   "execution_count": 4,
   "metadata": {},
   "outputs": [
    {
     "data": {
      "text/plain": [
       "False"
      ]
     },
     "metadata": {},
     "output_type": "display_data"
    },
    {
     "data": {
      "text/plain": [
       "False"
      ]
     },
     "metadata": {},
     "output_type": "display_data"
    },
    {
     "data": {
      "text/plain": [
       "True"
      ]
     },
     "metadata": {},
     "output_type": "display_data"
    }
   ],
   "source": [
    "{-# LANGUAGE FlexibleInstances #-}\n",
    "data Rose a = Rose a [Rose a]\n",
    "\n",
    "instance Eq a => Eq (Rose a) where\n",
    "    Rose a as == Rose b bs = a == b && as == bs\n",
    "    _ == _           = False\n",
    "\n",
    "instance Ord a => Ord (Rose a) where\n",
    "    compare (Rose a as) (Rose b bs) = case compare a b of\n",
    "        EQ -> compare as bs\n",
    "        other -> other\n",
    "\n",
    "let rose2 = Rose 5 [Rose 5 [], Rose 6 []]\n",
    "\n",
    "let rose1 = Rose 5 [Rose 5 [], Rose 4 [Rose 4 [], Rose (10 :: Int) []]]\n",
    "let rose3 = Rose 4 [Rose 4 [], Rose 10 []]\n",
    "\n",
    "let rose4 = Rose 5 []\n",
    "rose1 == rose2\n",
    "rose1 == rose3\n",
    "rose1 > rose3"
   ]
  },
  {
   "cell_type": "code",
   "execution_count": 5,
   "metadata": {},
   "outputs": [
    {
     "data": {
      "text/plain": [
       "+--4"
      ]
     },
     "metadata": {},
     "output_type": "display_data"
    }
   ],
   "source": [
    "class Pretty a where\n",
    "    pretty :: a -> String\n",
    "    -- show :: Show a => a -> String\n",
    "\n",
    "instance Pretty Int where\n",
    "    pretty = show\n",
    "\n",
    "instance (Show a, Pretty a) => Pretty (Rose a) where\n",
    "    pretty (Rose x []) =  \"+--\" ++ show x\n",
    "    pretty (Rose x xs) = \"|--\" ++ show x ++ \"\\n\" ++ concatMap (\\child -> \"   \" ++ pretty child) xs\n",
    "\n",
    "\n",
    "putStrLn (pretty (Rose (4 :: Int) [] ))\n"
   ]
  },
  {
   "attachments": {},
   "cell_type": "markdown",
   "metadata": {},
   "source": [
    "```python\n",
    "data = \n",
    "{4: \n",
    "    {5: \n",
    "        {1,\n",
    "        2:[7,8], \n",
    "        3}, \n",
    "    6}\n",
    "}\n",
    "{\n",
    "root: item\n",
    "subitem: \"+-- item\\n\"\n",
    "level: \"|   \"\n",
    "}\n",
    "```"
   ]
  },
  {
   "attachments": {},
   "cell_type": "markdown",
   "metadata": {},
   "source": [
    "```\n",
    "4\n",
    "+-- 5\n",
    "|   +-- 1\n",
    "|   +-- 2\n",
    "|   |   +-- 7\n",
    "|   |   +-- 8\n",
    "|   +-- 3\n",
    "+-- 6\n",
    "```"
   ]
  },
  {
   "cell_type": "code",
   "execution_count": 6,
   "metadata": {},
   "outputs": [
    {
     "data": {
      "text/html": [
       "<style>/* Styles used for the Hoogle display in the pager */\n",
       ".hoogle-doc {\n",
       "display: block;\n",
       "padding-bottom: 1.3em;\n",
       "padding-left: 0.4em;\n",
       "}\n",
       ".hoogle-code {\n",
       "display: block;\n",
       "font-family: monospace;\n",
       "white-space: pre;\n",
       "}\n",
       ".hoogle-text {\n",
       "display: block;\n",
       "}\n",
       ".hoogle-name {\n",
       "color: green;\n",
       "font-weight: bold;\n",
       "}\n",
       ".hoogle-head {\n",
       "font-weight: bold;\n",
       "}\n",
       ".hoogle-sub {\n",
       "display: block;\n",
       "margin-left: 0.4em;\n",
       "}\n",
       ".hoogle-package {\n",
       "font-weight: bold;\n",
       "font-style: italic;\n",
       "}\n",
       ".hoogle-module {\n",
       "font-weight: bold;\n",
       "}\n",
       ".hoogle-class {\n",
       "font-weight: bold;\n",
       "}\n",
       ".get-type {\n",
       "color: green;\n",
       "font-weight: bold;\n",
       "font-family: monospace;\n",
       "display: block;\n",
       "white-space: pre-wrap;\n",
       "}\n",
       ".show-type {\n",
       "color: green;\n",
       "font-weight: bold;\n",
       "font-family: monospace;\n",
       "margin-left: 1em;\n",
       "}\n",
       ".mono {\n",
       "font-family: monospace;\n",
       "display: block;\n",
       "}\n",
       ".err-msg {\n",
       "color: red;\n",
       "font-style: italic;\n",
       "font-family: monospace;\n",
       "white-space: pre;\n",
       "display: block;\n",
       "}\n",
       "#unshowable {\n",
       "color: red;\n",
       "font-weight: bold;\n",
       "}\n",
       ".err-msg.in.collapse {\n",
       "padding-top: 0.7em;\n",
       "}\n",
       ".highlight-code {\n",
       "white-space: pre;\n",
       "font-family: monospace;\n",
       "}\n",
       ".suggestion-warning { \n",
       "font-weight: bold;\n",
       "color: rgb(200, 130, 0);\n",
       "}\n",
       ".suggestion-error { \n",
       "font-weight: bold;\n",
       "color: red;\n",
       "}\n",
       ".suggestion-name {\n",
       "font-weight: bold;\n",
       "}\n",
       "</style><span class='get-type'>map :: forall a b. (a -> b) -> [a] -> [b]</span>"
      ],
      "text/plain": [
       "map :: forall a b. (a -> b) -> [a] -> [b]"
      ]
     },
     "metadata": {},
     "output_type": "display_data"
    }
   ],
   "source": [
    ":t map"
   ]
  },
  {
   "cell_type": "code",
   "execution_count": 22,
   "metadata": {},
   "outputs": [
    {
     "data": {
      "text/plain": [
       "5\n",
       "+-- 5\n",
       "+-- 4\n",
       "|   +-- 4\n",
       "|   +-- 10"
      ]
     },
     "metadata": {},
     "output_type": "display_data"
    }
   ],
   "source": [
    "data Rose a = Rose a [Rose a]\n",
    "class Pretty a where    \n",
    "    pretty :: a -> String\n",
    "\n",
    "instance Pretty Int where    \n",
    "    pretty = show    \n",
    "\n",
    "instance (Show a, Pretty a) => Pretty (Rose a) where\n",
    "    pretty (Rose x xs) =  show x ++ pretty' xs 0 \"\"\n",
    "        where\n",
    "            pretty' :: [Rose a] -> Int -> String -> String\n",
    "            pretty' [] _ s = s\n",
    "            pretty' ((Rose x []):xs) i s = pretty' xs i (newLine s i x)\n",
    "            pretty' ((Rose x rs):xs) i s = pretty' xs i (newLine s i x ++ pretty' rs (i + 1) \"\")\n",
    "\n",
    "            newLine :: String -> Int -> a -> String\n",
    "            newLine s i x = s  ++ tabs i ++ \"+-- \" ++ show x\n",
    "            \n",
    "            tabs :: Int -> String\n",
    "            tabs i = \"\\n\" ++ concat (replicate i \"|   \")\n",
    "\n",
    "            \n",
    "test = putStrLn (pretty (Rose 5 [Rose 5 [], Rose 4 [Rose 4 [], Rose (10 :: Int) []]]))\n",
    "\n",
    "test\n"
   ]
  }
 ],
 "metadata": {
  "kernelspec": {
   "display_name": "Haskell",
   "language": "haskell",
   "name": "haskell"
  },
  "language_info": {
   "codemirror_mode": "ihaskell",
   "file_extension": ".hs",
   "mimetype": "text/x-haskell",
   "name": "haskell",
   "pygments_lexer": "Haskell",
   "version": "9.2.7"
  },
  "orig_nbformat": 4
 },
 "nbformat": 4,
 "nbformat_minor": 2
}
