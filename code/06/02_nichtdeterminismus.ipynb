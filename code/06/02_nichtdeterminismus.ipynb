{
 "cells": [
  {
   "cell_type": "code",
   "execution_count": 16,
   "metadata": {},
   "outputs": [],
   "source": [
    "import Control.Monad (MonadPlus (..))\n",
    "\n",
    "permutations :: MonadPlus mp => [a] -> mp [a]\n",
    "permutations [] = return []\n",
    "permutations (x:xs) = permutations xs >>= insert x\n",
    "\n",
    "insert :: MonadPlus mp => e -> [e] -> mp [e]\n",
    "insert x [] = return [x]\n",
    "insert x (y:ys) = do\n",
    "    let liste = insert x ys\n",
    "    let all = x:y:ys\n",
    "    return all `mplus` fmap (y:) liste\n",
    "\n"
   ]
  },
  {
   "cell_type": "code",
   "execution_count": 23,
   "metadata": {},
   "outputs": [
    {
     "data": {
      "text/plain": [
       "[[1,2,3],[2,1,3],[2,3,1],[1,3,2],[3,1,2],[3,2,1]]"
      ]
     },
     "metadata": {},
     "output_type": "display_data"
    },
    {
     "data": {
      "text/plain": [
       "[\"abc\",\"bac\",\"bca\",\"acb\",\"cab\",\"cba\"]"
      ]
     },
     "metadata": {},
     "output_type": "display_data"
    },
    {
     "ename": "",
     "evalue": "",
     "output_type": "error",
     "traceback": [
      "<interactive>:1:1: error:\n    • Couldn't match type: [Maybe a0]\n                     with: Maybe Int\n      Expected: [Maybe Int]\n        Actual: [[Maybe a0]]\n    • In the expression: permutations [Just 1, Just 4] :: [Maybe Int]\n      In an equation for ‘it’: it = permutations [Just 1, Just 4] :: [Maybe Int]"
     ]
    }
   ],
   "source": [
    "permutations [1,2,3] :: [[Int]]\n",
    "permutations ['a','b','c'] :: [String]\n",
    "permutations [Just 1, Just 4] :: [Maybe Int]\n"
   ]
  },
  {
   "cell_type": "code",
   "execution_count": 101,
   "metadata": {},
   "outputs": [
    {
     "ename": "",
     "evalue": "",
     "output_type": "error",
     "traceback": [
      "<interactive>:5:13: error:\n    • Variable not in scope: msum :: [m0 [Int]] -> mp [Int]\n    • Perhaps you meant ‘sum’ (imported from Prelude)"
     ]
    }
   ],
   "source": [
    "solve :: MonadPlus mp => Int -> Int -> mp [Int]\n",
    "solve 0 0 = return []\n",
    "solve _ 0 = mzero\n",
    "solve 0 _ = mzero\n",
    "solve l s = msum [ return (x:xs) | x <- [0..s], xs <- solve (l-1) (s-x) ]"
   ]
  },
  {
   "cell_type": "code",
   "execution_count": 98,
   "metadata": {},
   "outputs": [
    {
     "data": {
      "text/plain": [
       "[0,0,3]"
      ]
     },
     "metadata": {},
     "output_type": "display_data"
    }
   ],
   "source": [
    "solve 3 3"
   ]
  }
 ],
 "metadata": {
  "kernelspec": {
   "display_name": "Haskell",
   "language": "haskell",
   "name": "haskell"
  },
  "language_info": {
   "codemirror_mode": "ihaskell",
   "file_extension": ".hs",
   "mimetype": "text/x-haskell",
   "name": "haskell",
   "pygments_lexer": "Haskell",
   "version": "9.2.7"
  },
  "orig_nbformat": 4
 },
 "nbformat": 4,
 "nbformat_minor": 2
}
