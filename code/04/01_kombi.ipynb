{
 "cells": [
  {
   "attachments": {},
   "cell_type": "markdown",
   "metadata": {},
   "source": [
    "# 1 Kombinatorfunktionen in Haskell\n",
    "\n"
   ]
  },
  {
   "cell_type": "code",
   "execution_count": null,
   "metadata": {},
   "outputs": [],
   "source": [
    "```\n",
    "\\x y    -> f (g x) y \n",
    "        => \\x -> f (g x)\n",
    "        => \\x -> (f . g) x\n",
    "        => (f . g)\n",
    "        ----\n",
    "\\f g x  -> g (f x)\n",
    "        => (g . f) x\n",
    "        => (g . f)\n",
    "        => . g f\n",
    "        => \\f g -> (.) g f\n",
    "        => flip (.)\n",
    "        ----\n",
    "\\x y    -> f (g (h x y))\n",
    "        => (f . g) h x y\n",
    "        => \\x -> (f . g) h x\n",
    "        => (f . g) h\n",
    "\n",
    "flip id => \\x y -> id y x\n",
    "\n",
    "((a1 -> (a2 -> b) -> a2 -> c1)  -> c2)  -> (a1 -> b -> c1)      -> c2\n",
    "a                                       -> b                    -> z\n",
    "a                                       -> b (x y)              -> z\n",
    "(c                              -> d )  -> b (x y)              -> z\n",
    "(c e d)                                 -> b x y                -> z\n",
    "(c e w)                                 -> b x y                -> z\n",
    "\n",
    "\n",
    "\n",
    "(.) . (.) => \n",
    " a  .  c  => \\x -> a (c x)\n",
    " .  .  c  => \\f x y -> (f . (c x)) y\n",
    " .  .  c  => \\f x y -> f (c x y)\n",
    " .  .  .  => \\f g w x y -> f ((g . x) y)\n",
    " .  .  .  => \\f g w x y -> f ((g (w x)) y)\n",
    " --- \n",
    ". (.) (.) => \n",
    "```"
   ]
  },
  {
   "cell_type": "code",
   "execution_count": 29,
   "metadata": {},
   "outputs": [
    {
     "ename": "",
     "evalue": "",
     "output_type": "error",
     "traceback": [
      "<interactive>:1:14: error: Variable not in scope: c :: t2 -> t3 -> t"
     ]
    }
   ],
   "source": []
  }
 ],
 "metadata": {
  "kernelspec": {
   "display_name": "Haskell",
   "language": "haskell",
   "name": "haskell"
  },
  "language_info": {
   "codemirror_mode": "ihaskell",
   "file_extension": ".hs",
   "mimetype": "text/x-haskell",
   "name": "haskell",
   "pygments_lexer": "Haskell",
   "version": "9.2.7"
  },
  "orig_nbformat": 4
 },
 "nbformat": 4,
 "nbformat_minor": 2
}
