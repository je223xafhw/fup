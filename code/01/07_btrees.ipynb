{
 "cells": [
  {
   "attachments": {},
   "cell_type": "markdown",
   "metadata": {},
   "source": [
    "# Aufgabe 7 Binary Tree\n",
    "\n",
    "Tree Int \n",
    "- also muss der DatenTyp Tree ein parameter haben\n",
    "- an dem muss er entscheiden, welchen Typ der parameter in der Mitte hat"
   ]
  },
  {
   "cell_type": "code",
   "execution_count": 152,
   "metadata": {},
   "outputs": [],
   "source": [
    "data Tree a = Leaf a | (Tree a) :-: (Tree a) deriving (Show, Eq)\n"
   ]
  },
  {
   "cell_type": "code",
   "execution_count": 153,
   "metadata": {},
   "outputs": [
    {
     "data": {
      "text/plain": [
       "Leaf 3 :-: ((Leaf 4 :-: Leaf 3) :-: ((Leaf 4 :-: Leaf 3) :-: (Leaf 4 :-: ((Leaf 4 :-: Leaf 3) :-: Leaf 3))))"
      ]
     },
     "metadata": {},
     "output_type": "display_data"
    }
   ],
   "source": [
    "let tree1 = Leaf 3 :-: (Leaf 5 :-: (Leaf 4 :-: Leaf 3))\n",
    "let tree2 = Leaf 3 :-: ((Leaf 4 :-: Leaf 3) :-: ((Leaf 4 :-: Leaf 3) :-: (Leaf 4 :-: ((Leaf 4 :-: Leaf 3) :-: Leaf 3))))\n",
    "print tree2"
   ]
  },
  {
   "attachments": {},
   "cell_type": "markdown",
   "metadata": {},
   "source": [
    "Möglichkeiten: \n",
    "1. Abbruch: nur ein Leaf\n",
    "2. Node (3 x 3) => 3 + 3 + wasvorherwar\n",
    "3. Node (3 x Tree) => addier 3 und geht nach rechts\n",
    "4. Node (Tree x 3) => adder 3 und geht nach links\n",
    "5. Node (Tree x Tree) => addier den Tree von links mit dem Tree von rechts"
   ]
  },
  {
   "cell_type": "code",
   "execution_count": 154,
   "metadata": {},
   "outputs": [
    {
     "data": {
      "text/plain": [
       "31"
      ]
     },
     "metadata": {},
     "output_type": "display_data"
    }
   ],
   "source": [
    "sumTree1 :: Tree Int -> Int\n",
    "sumTree1 (Leaf n) = n\n",
    "sumTree1 (l :-: r) = sumTree1 l + sumTree1 r\n",
    "\n",
    "sumTree2 :: Tree Int -> Int\n",
    "sumTree2 (Leaf n) = n\n",
    "sumTree2 n = sumTree2' n 0 where\n",
    "    sumTree2' :: Tree Int -> Int -> Int\n",
    "    sumTree2' (Leaf l) n = n + l\n",
    "    -- sumTree2' ((Leaf l) :-: (Leaf b)) n = n + b + l\n",
    "    -- sumTree2' ((Leaf l) :-: b) n = sumTree2' b (n+l)\n",
    "    -- sumTree2' (l :-: (Leaf b)) n = sumTree2' l (n+b)\n",
    "    sumTree2' (l :-: b) n = sumTree2' l n + sumTree2' b n\n",
    "    -- sumTree2' (l :-: b) n = sumTree2 l + sumTree2 b\n",
    "\n",
    "\n",
    "\n",
    "print (sumTree2 tree2)"
   ]
  },
  {
   "cell_type": "code",
   "execution_count": null,
   "metadata": {},
   "outputs": [],
   "source": [
    "buildTree :: Int -> Int -> Tree Int\n",
    "buildTree lo hi\n",
    "  | lo > hi = error \"Invalid range\"\n",
    "  | lo == hi = Leaf lo\n",
    "  | otherwise = let mid = (lo + hi) `div` 2\n",
    "                in buildTree lo mid :-: buildTree (mid + 1) hi"
   ]
  },
  {
   "attachments": {},
   "cell_type": "markdown",
   "metadata": {},
   "source": [
    "# Tests\n",
    "Test mit 5mio Nodes ergibt eine Laufzeit von ca 14 sekunden von beiden Funktionen"
   ]
  }
 ],
 "metadata": {
  "kernelspec": {
   "display_name": "Haskell",
   "language": "haskell",
   "name": "haskell"
  },
  "language_info": {
   "codemirror_mode": "ihaskell",
   "file_extension": ".hs",
   "mimetype": "text/x-haskell",
   "name": "haskell",
   "pygments_lexer": "Haskell",
   "version": "9.2.7"
  },
  "orig_nbformat": 4
 },
 "nbformat": 4,
 "nbformat_minor": 2
}
