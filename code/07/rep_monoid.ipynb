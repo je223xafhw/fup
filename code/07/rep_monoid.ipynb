{
 "cells": [
  {
   "cell_type": "code",
   "execution_count": 1,
   "metadata": {},
   "outputs": [],
   "source": [
    "class Semigroup a where\n",
    "  (<>) :: a -> a -> a\n",
    "\n",
    "class Semigroup a => Monoid a where\n",
    "  mempty  :: a\n",
    "\n",
    "  mappend :: a -> a -> a\n",
    "  mappend = (<>)"
   ]
  },
  {
   "cell_type": "code",
   "execution_count": 8,
   "metadata": {},
   "outputs": [],
   "source": [
    "instance Semigroup [a] where\n",
    "    (<>) :: [a] -> [a] -> [a]\n",
    "    (<>) = (++)\n",
    "\n",
    "instance Monoid [a] where\n",
    "    mempty = []\n",
    "\n",
    "    mappend = (<>)\n",
    "\n",
    "\n",
    "instance Num a => Semigroup (Maybe a) where \n",
    "    (<>) :: Maybe a -> Maybe a -> Maybe a\n",
    "    Just x <> Just y = return (y + x)\n",
    "\n"
   ]
  }
 ],
 "metadata": {
  "kernelspec": {
   "display_name": "Haskell",
   "language": "haskell",
   "name": "haskell"
  },
  "language_info": {
   "codemirror_mode": "ihaskell",
   "file_extension": ".hs",
   "mimetype": "text/x-haskell",
   "name": "haskell",
   "pygments_lexer": "Haskell",
   "version": "9.2.7"
  },
  "orig_nbformat": 4
 },
 "nbformat": 4,
 "nbformat_minor": 2
}
