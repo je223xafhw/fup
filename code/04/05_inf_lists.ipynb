{
 "cells": [
  {
   "attachments": {},
   "cell_type": "markdown",
   "metadata": {},
   "source": [
    "1. []\n",
    "2. einzelne elemente\n",
    "3. immer einen mehr"
   ]
  },
  {
   "cell_type": "code",
   "execution_count": 1,
   "metadata": {},
   "outputs": [],
   "source": [
    "-- combineList :: [a] -> [[a]]\n",
    "-- combineList xs = iterate (\\ys -> ys ++ [head xs]) xs\n",
    "\n",
    "-- xs = [1,2]\n",
    "-- combineList xs"
   ]
  },
  {
   "cell_type": "code",
   "execution_count": 2,
   "metadata": {},
   "outputs": [
    {
     "data": {
      "text/html": [
       "<style>/* Styles used for the Hoogle display in the pager */\n",
       ".hoogle-doc {\n",
       "display: block;\n",
       "padding-bottom: 1.3em;\n",
       "padding-left: 0.4em;\n",
       "}\n",
       ".hoogle-code {\n",
       "display: block;\n",
       "font-family: monospace;\n",
       "white-space: pre;\n",
       "}\n",
       ".hoogle-text {\n",
       "display: block;\n",
       "}\n",
       ".hoogle-name {\n",
       "color: green;\n",
       "font-weight: bold;\n",
       "}\n",
       ".hoogle-head {\n",
       "font-weight: bold;\n",
       "}\n",
       ".hoogle-sub {\n",
       "display: block;\n",
       "margin-left: 0.4em;\n",
       "}\n",
       ".hoogle-package {\n",
       "font-weight: bold;\n",
       "font-style: italic;\n",
       "}\n",
       ".hoogle-module {\n",
       "font-weight: bold;\n",
       "}\n",
       ".hoogle-class {\n",
       "font-weight: bold;\n",
       "}\n",
       ".get-type {\n",
       "color: green;\n",
       "font-weight: bold;\n",
       "font-family: monospace;\n",
       "display: block;\n",
       "white-space: pre-wrap;\n",
       "}\n",
       ".show-type {\n",
       "color: green;\n",
       "font-weight: bold;\n",
       "font-family: monospace;\n",
       "margin-left: 1em;\n",
       "}\n",
       ".mono {\n",
       "font-family: monospace;\n",
       "display: block;\n",
       "}\n",
       ".err-msg {\n",
       "color: red;\n",
       "font-style: italic;\n",
       "font-family: monospace;\n",
       "white-space: pre;\n",
       "display: block;\n",
       "}\n",
       "#unshowable {\n",
       "color: red;\n",
       "font-weight: bold;\n",
       "}\n",
       ".err-msg.in.collapse {\n",
       "padding-top: 0.7em;\n",
       "}\n",
       ".highlight-code {\n",
       "white-space: pre;\n",
       "font-family: monospace;\n",
       "}\n",
       ".suggestion-warning { \n",
       "font-weight: bold;\n",
       "color: rgb(200, 130, 0);\n",
       "}\n",
       ".suggestion-error { \n",
       "font-weight: bold;\n",
       "color: red;\n",
       "}\n",
       ".suggestion-name {\n",
       "font-weight: bold;\n",
       "}\n",
       "</style><div class=\"suggestion-name\" style=\"clear:both;\">Use join</div><div class=\"suggestion-row\" style=\"float: left;\"><div class=\"suggestion-warning\">Found:</div><div class=\"highlight-code\" id=\"haskell\">iterate (\\ ys -> ys ++ [head xs]) xs >>= id</div></div><div class=\"suggestion-row\" style=\"float: left;\"><div class=\"suggestion-warning\">Why Not:</div><div class=\"highlight-code\" id=\"haskell\">Control.Monad.join (iterate (\\ ys -> ys ++ [head xs]) xs)</div></div>"
      ],
      "text/plain": [
       "Line 2: Use join\n",
       "Found:\n",
       "iterate (\\ ys -> ys ++ [head xs]) xs >>= id\n",
       "Why not:\n",
       "Control.Monad.join (iterate (\\ ys -> ys ++ [head xs]) xs)"
      ]
     },
     "metadata": {},
     "output_type": "display_data"
    },
    {
     "ename": "",
     "evalue": "",
     "output_type": "error",
     "traceback": [
      "<interactive>:2:62: error:\n    • Couldn't match type ‘a’ with ‘[a]’\n      Expected: [a] -> [[a]]\n        Actual: [a] -> [a]\n      ‘a’ is a rigid type variable bound by\n        the type signature for:\n          allCombinations :: forall a. [a] -> [[a]]\n        at <interactive>:1:1-31\n    • In the second argument of ‘(>>=)’, namely ‘id’\n      In the expression: iterate (\\ ys -> ys ++ [head xs]) xs >>= id\n      In an equation for ‘allCombinations’: allCombinations xs = iterate (\\ ys -> ys ++ [head xs]) xs >>= id\n    • Relevant bindings include\n        xs :: [a] (bound at <interactive>:2:17)\n        allCombinations :: [a] -> [[a]] (bound at <interactive>:2:1)"
     ]
    }
   ],
   "source": [
    "allCombinations :: [a] -> [[a]]\n",
    "allCombinations xs = iterate (\\ys -> ys ++ [head xs]) [xs] >>= id\n",
    "\n",
    "take 10 (allCombinations [True, False])"
   ]
  },
  {
   "cell_type": "code",
   "execution_count": 1,
   "metadata": {},
   "outputs": [
    {
     "data": {
      "text/plain": [
       "[\"a0\",\"b0\",\"c0\",\"d0\",\"e0\",\"f0\",\"g0\",\"h0\",\"i0\",\"j0\"]"
      ]
     },
     "metadata": {},
     "output_type": "display_data"
    }
   ],
   "source": [
    "names :: [String]\n",
    "names = concatMap (\\n -> [c : show n | c <- ['a'..'z']]) [0..]\n",
    "\n",
    "take 10 names"
   ]
  }
 ],
 "metadata": {
  "kernelspec": {
   "display_name": "Haskell",
   "language": "haskell",
   "name": "haskell"
  },
  "language_info": {
   "codemirror_mode": "ihaskell",
   "file_extension": ".hs",
   "mimetype": "text/x-haskell",
   "name": "haskell",
   "pygments_lexer": "Haskell",
   "version": "9.2.7"
  },
  "orig_nbformat": 4
 },
 "nbformat": 4,
 "nbformat_minor": 2
}
