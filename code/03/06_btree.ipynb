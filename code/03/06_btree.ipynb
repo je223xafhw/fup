{
 "cells": [
  {
   "cell_type": "code",
   "execution_count": 4,
   "metadata": {},
   "outputs": [],
   "source": [
    "data BTree a = Empty\n",
    "             | Leaf a\n",
    "             | Node (BTree a) a (BTree a)\n",
    "  deriving Show\n",
    "let tree1 = Node (Leaf 10) 7 (Node (Leaf 9) 12 (Leaf 5))"
   ]
  },
  {
   "cell_type": "code",
   "execution_count": 14,
   "metadata": {},
   "outputs": [
    {
     "data": {
      "text/plain": [
       "(Node (Leaf 13) 13 (Node (Leaf 13) 13 (Leaf 13)),12)"
      ]
     },
     "metadata": {},
     "output_type": "display_data"
    }
   ],
   "source": [
    "\n",
    "maxBTree :: BTree Int -> Int\n",
    "maxBTree Empty = error \"Empty Tree\"\n",
    "maxBTree (Leaf a) = a\n",
    "maxBTree (Node l a r) = maxBTree' l r a where\n",
    "     maxBTree' :: BTree Int -> BTree Int -> Int -> Int\n",
    "     maxBTree' (Leaf l) (Leaf r) x = l `max` r `max` x\n",
    "     maxBTree' (Node l a r) (Leaf o) x = maxBTree' l r x `max` o `max` a `max` x\n",
    "     maxBTree' (Leaf o) (Node l a r)  x = maxBTree' l r x `max` o `max` a `max` x\n",
    "     maxBTree' (Node l1 a1 r1) (Node l2 a2 r2) x = maxBTree' l1 r1 y `max`  maxBTree' l2 r2 y where\n",
    "        y = max x (max a1 a2)\n",
    "\n",
    "replaceMaxRec:: BTree Int -> a -> (BTree a, Int)\n",
    "replaceMaxRecEmpty x = error \"Empty Tree\"\n",
    "replaceMaxRec(Leaf a) x = (Leaf x, a)\n",
    "replaceMaxRect b = rMRec t 0 b where\n",
    "     rMRec :: BTree Int -> Int -> a -> (BTree a, Int)\n",
    "     rMRec (Node (Leaf left) center (Leaf right)) x b         = (Node (Leaf b) b (Leaf b),\n",
    "                                                                        left `max` right `max` center)\n",
    "\n",
    "     rMRec (Node (Node l a r) center (Leaf o)) x b           = (Node (fst (rMRec (Node l a r) x b)) \n",
    "                                                                        b \n",
    "                                                                        (Leaf b), \n",
    "                                                                        a `max` center `max` o `max` x)\n",
    "                                                                                \n",
    "     rMRec (Node (Leaf o) center (Node l a r)) x b           = (Node (Leaf b) \n",
    "                                                                        b \n",
    "                                                                        (fst (rMRec (Node l a r) x b)), \n",
    "                                                                        a `max` center `max` o `max` x)\n",
    "                                                                        \n",
    "     rMRec (Node (Node l1 a1 r1) center (Node l2 a2 r2)) x b = (Node (fst (rMRec (Node l1 a1 r1) x b)) \n",
    "                                                                        b \n",
    "                                                                        (fst (rMRec (Node l2 a2 r2) x b)), \n",
    "                                                                        a1 `max` a2  `max` center `max` x)\n",
    "\n",
    "    \n",
    "    \n",
    "replaceMaxRectree1 13\n"
   ]
  },
  {
   "cell_type": "code",
   "execution_count": null,
   "metadata": {},
   "outputs": [
    {
     "data": {
      "text/plain": [
       "12"
      ]
     },
     "metadata": {},
     "output_type": "display_data"
    }
   ],
   "source": [
    "--         Typ -> (Leaf a) -> (Node b a b)      -> \n",
    "foldBTree :: b -> (a -> b) -> (b -> a -> b -> b) -> BTree a -> b\n",
    "foldBTree _ leaf _          (Leaf a)        = leaf a\n",
    "foldBTree empty leaf tree   (Node l a r)    = tree (foldBTree empty leaf tree l) a (foldBTree empty leaf tree r)\n",
    "foldBTree empty _ _ _                       = empty\n"
   ]
  },
  {
   "cell_type": "code",
   "execution_count": 113,
   "metadata": {},
   "outputs": [
    {
     "data": {
      "text/plain": [
       "12"
      ]
     },
     "metadata": {},
     "output_type": "display_data"
    },
    {
     "data": {
      "text/plain": [
       "Node (Leaf 1) 0 (Node (Leaf 1) 0 (Leaf 1))"
      ]
     },
     "metadata": {},
     "output_type": "display_data"
    }
   ],
   "source": [
    "-- maxBTree\n",
    "foldBTree 0 id (\\x y z -> x `max` y `max` z) tree1\n",
    "-- replace\n",
    "replace :: BTree a -> b -> BTree b\n",
    "replace (Leaf a) x = Leaf x\n",
    "replace (Node l a r) x = Node (replace l x) x (replace r x)\n",
    "\n",
    "\n",
    "foldBTree Empty (const (Leaf 1)) (\\a _ b -> Node a 0 b ) tree1"
   ]
  },
  {
   "cell_type": "code",
   "execution_count": 116,
   "metadata": {},
   "outputs": [
    {
     "data": {
      "text/plain": [
       "(Node (Leaf 5) 5 (Node (Leaf 5) 5 (Leaf 5)),12)"
      ]
     },
     "metadata": {},
     "output_type": "display_data"
    }
   ],
   "source": [
    "replaceMaxRecFold :: BTree Int -> a -> (BTree a, Int)\n",
    "replaceMaxRec t n = (foldBTree Empty (const (Leaf n)) (\\a _ b -> Node a n b ) t, foldBTree 0 id (\\x y z -> x `max` y `max` z) t)\n",
    "\n",
    "replaceMaxRec tree1 5"
   ]
  },
  {
   "cell_type": "code",
   "execution_count": 126,
   "metadata": {},
   "outputs": [
    {
     "data": {
      "text/plain": [
       "Node (Leaf 12) 12 (Node (Leaf 12) 12 (Leaf 12))"
      ]
     },
     "metadata": {},
     "output_type": "display_data"
    }
   ],
   "source": [
    "replaceMax :: BTree Int -> BTree Int\n",
    "replaceMax t = fst (replaceMaxRec t m) where\n",
    "    m = foldBTree 0 id (\\x y z -> x `max` y `max` z) t\n",
    "\n",
    "replaceMax tree1"
   ]
  }
 ],
 "metadata": {
  "kernelspec": {
   "display_name": "Haskell",
   "language": "haskell",
   "name": "haskell"
  },
  "language_info": {
   "codemirror_mode": "ihaskell",
   "file_extension": ".hs",
   "mimetype": "text/x-haskell",
   "name": "haskell",
   "pygments_lexer": "Haskell",
   "version": "9.2.7"
  },
  "orig_nbformat": 4
 },
 "nbformat": 4,
 "nbformat_minor": 2
}
