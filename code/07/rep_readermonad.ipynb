{
 "cells": [
  {
   "cell_type": "code",
   "execution_count": 6,
   "metadata": {},
   "outputs": [],
   "source": [
    "class Monad m => MonadReader r m where\n",
    "  ask   :: m r\n",
    "  local :: (r -> r) -> m a -> m a"
   ]
  },
  {
   "cell_type": "code",
   "execution_count": 12,
   "metadata": {},
   "outputs": [
    {
     "ename": "",
     "evalue": "",
     "output_type": "error",
     "traceback": [
      "<interactive>:2:18: error:\n    • Expected a type, but ‘Reader r a’ has kind ‘Constraint’\n    • In the type signature: runReader :: Reader r a -> r -> a\n      In the class declaration for ‘Reader’\n<interactive>:1:7: error:\n    • Expecting two more arguments to ‘MonadReader’\n      Expected a constraint, but ‘MonadReader’ has kind ‘* -> (* -> *) -> Constraint’\n    • In the class declaration for ‘Reader’"
     ]
    }
   ],
   "source": [
    "-- newtype Reader r a = Reader { runReader :: r -> a }\n",
    "\n",
    "-- class Reader r a\n",
    "\n",
    "class MonadReader => Reader r a where\n",
    "    runReader :: Reader r a -> r -> a\n",
    "    -- runReader rd r = "
   ]
  }
 ],
 "metadata": {
  "kernelspec": {
   "display_name": "Haskell",
   "language": "haskell",
   "name": "haskell"
  },
  "language_info": {
   "codemirror_mode": "ihaskell",
   "file_extension": ".hs",
   "mimetype": "text/x-haskell",
   "name": "haskell",
   "pygments_lexer": "Haskell",
   "version": "9.2.7"
  },
  "orig_nbformat": 4
 },
 "nbformat": 4,
 "nbformat_minor": 2
}
