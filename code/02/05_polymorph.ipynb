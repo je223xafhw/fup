{
 "cells": [
  {
   "cell_type": "code",
   "execution_count": 2,
   "metadata": {},
   "outputs": [],
   "source": [
    "data Tree a = Leaf a | (Tree a) :-: (Tree a) deriving (Show, Eq)"
   ]
  },
  {
   "cell_type": "code",
   "execution_count": 3,
   "metadata": {},
   "outputs": [
    {
     "data": {
      "text/plain": [
       "(Leaf 5 :-: (Leaf 4 :-: Leaf 3)) :-: (Leaf 5 :-: (Leaf 4 :-: Leaf 3))"
      ]
     },
     "metadata": {},
     "output_type": "display_data"
    },
    {
     "data": {
      "text/plain": [
       "(Leaf 6 :-: (Leaf 5 :-: Leaf 4)) :-: (Leaf 6 :-: (Leaf 5 :-: Leaf 4))"
      ]
     },
     "metadata": {},
     "output_type": "display_data"
    }
   ],
   "source": [
    "mapTree :: (a -> b) -> Tree a -> Tree b\n",
    "mapTree f (Leaf n) = Leaf (f n)\n",
    "mapTree f (l :-: r) = mapTree f l :-: mapTree f r\n",
    "\n",
    "let tree1 = (Leaf 5 :-: (Leaf 4 :-: Leaf 3)) :-: (Leaf 5 :-: (Leaf 4 :-: Leaf 3))\n",
    "let tree2 = (Leaf 5 :-: (Leaf 4 :-: Leaf 3)) :-: (Leaf 5 :-: (Leaf 4 :-: Leaf 3))\n",
    "print tree1\n",
    "mapTree (+1) tree1"
   ]
  },
  {
   "cell_type": "code",
   "execution_count": 14,
   "metadata": {},
   "outputs": [
    {
     "data": {
      "text/plain": [
       "24"
      ]
     },
     "metadata": {},
     "output_type": "display_data"
    }
   ],
   "source": [
    "foldTree :: (a -> b) -> (b -> b -> b) -> Tree a -> b\n",
    "foldTree f _ (Leaf n) = f n\n",
    "foldTree f g (l :-: r) = g (foldTree f g l) (foldTree f g r)\n",
    "\n",
    "foldTree id (+) tree1"
   ]
  },
  {
   "cell_type": "code",
   "execution_count": 40,
   "metadata": {},
   "outputs": [
    {
     "data": {
      "text/plain": [
       "((Leaf 5 :-: (Leaf 4 :-: Leaf 3)) :-: (Leaf 5 :-: (Leaf 4 :-: Leaf 3))) :-: ((Leaf 3 :-: Leaf 3) :-: Leaf 3)"
      ]
     },
     "metadata": {},
     "output_type": "display_data"
    }
   ],
   "source": [
    "flatTree :: Tree (Tree a) -> Tree a\n",
    "flatTree = foldTree id (:-:)\n",
    "\n",
    "let t3 = (Leaf 5 :-: (Leaf 4 :-: Leaf 3)) :-: (Leaf 5 :-: (Leaf 4 :-: Leaf 3))\n",
    "let t7 = Leaf 3 :-: Leaf 3 :-: Leaf 3\n",
    "let t8 = Leaf t3 :-: Leaf t7\n",
    "\n",
    "flatTree t8\n",
    "\n"
   ]
  },
  {
   "attachments": {},
   "cell_type": "markdown",
   "metadata": {},
   "source": []
  }
 ],
 "metadata": {
  "kernelspec": {
   "display_name": "Haskell",
   "language": "haskell",
   "name": "haskell"
  },
  "language_info": {
   "codemirror_mode": "ihaskell",
   "file_extension": ".hs",
   "mimetype": "text/x-haskell",
   "name": "haskell",
   "pygments_lexer": "Haskell",
   "version": "9.2.7"
  },
  "orig_nbformat": 4
 },
 "nbformat": 4,
 "nbformat_minor": 2
}
