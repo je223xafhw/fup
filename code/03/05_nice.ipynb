{
 "cells": [
  {
   "attachments": {},
   "cell_type": "markdown",
   "metadata": {},
   "source": [
    "Here I assume $0\\in N$. If you disagree start with 105.\n",
    "\n",
    "Let $S$ be the sequence of numbers of the form $3^i 5^j7^k$. Our task is to generate these numbers in order. Apart from 1 each number added is of the form $3x*5y*7z$  where $x,y,z$ are previous numbers in the sequence. We can generate 𝑆 by shifting $x,y,z$ along the sequence.\n",
    "\n",
    "So, first put 1 into $S$, and set $x,y,z$ equal to 1.\n",
    "\n",
    "Now repeat: Take the minimum value 𝑚 of $3⋅𝑥, 5⋅𝑦, 7⋅𝑧$, and add 𝑚 to the sequence 𝑆. The $x,y,z$f or which the minimum was taken are shifted to the next element of $S$. This might be more than one, or even all three.\n",
    "\n",
    "- [link](https://cs.stackexchange.com/questions/39689/how-can-i-generate-first-n-elements-of-the-sequence-3i-5j-7k)\n",
    "- [link2](https://math.stackexchange.com/questions/551073/a-nice-number-is-an-integer-ending-in-3-or-7-when-written-out-in-decimal-prove)"
   ]
  },
  {
   "cell_type": "code",
   "execution_count": 14,
   "metadata": {},
   "outputs": [
    {
     "data": {
      "text/plain": [
       "[1,3,5,7,9,15,21,25,27,35]"
      ]
     },
     "metadata": {},
     "output_type": "display_data"
    }
   ],
   "source": [
    "nice :: [Integer]\n",
    "nice = sieve [1..]\n",
    "\n",
    "checkh :: Integer -> Bool\n",
    "checkh 1 = True\n",
    "checkh x\n",
    "    | x `mod` 3 == 0 = checkh (x `div` 3)\n",
    "    | x `mod` 5 == 0 = checkh (x `div` 5)\n",
    "    | x `mod` 7 == 0 = checkh (x `div` 7)\n",
    "    | otherwise = False\n",
    "\n",
    "sieve2 :: [Integer] -> [Integer]\n",
    "sieve2 = foldl (\\acc x -> if checkh x then acc ++ [x] else acc) []\n",
    "\n",
    "sieve :: [Integer] -> [Integer]\n",
    "sieve (x:xs) = x : sieve (filter checkh xs)\n",
    "\n",
    "take 10 nice\n",
    "-- nice !! 10"
   ]
  }
 ],
 "metadata": {
  "kernelspec": {
   "display_name": "Haskell",
   "language": "haskell",
   "name": "haskell"
  },
  "language_info": {
   "codemirror_mode": "ihaskell",
   "file_extension": ".hs",
   "mimetype": "text/x-haskell",
   "name": "haskell",
   "pygments_lexer": "Haskell",
   "version": "9.2.7"
  },
  "orig_nbformat": 4
 },
 "nbformat": 4,
 "nbformat_minor": 2
}
