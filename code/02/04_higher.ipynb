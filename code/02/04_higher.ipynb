{
 "cells": [
  {
   "attachments": {},
   "cell_type": "markdown",
   "metadata": {},
   "source": [
    "\n",
    "\n",
    "    Implementiert die folgenden Funktionen ohne Verwendung der Fold Funktionen:\n",
    "        zipWith :: (a -> b -> c) -> [a] -> [b] -> [c], kombiniert zwei Listen unter Verwendung einer einer übergebenen Funktion.\n",
    "        Die Länge der Ergebnisliste entspricht der Länge der kürzeren Eingabeliste.\n",
    "\n",
    "        concatMap :: (a -> [b]) -> [a] -> [b], wendet die übergebene Funktion auf jedes Element der Eingabeliste an und konkateniert alle Listen zu einer.\n",
    "        Beispiel: concatMap (take 3) [[1..], [10,11], [100..]] liefert [1,2,3,10,11,100,101,102]\n",
    "\n",
    "        concatMap lässt sich trivial mittels concat und map implementieren, aber auch ohne diese.\n",
    "\n",
    "    Implementiert folgende Funktionen unter Verwendung der filter Funktion:\n",
    "        nub :: [Int] -> [Int], entfernt alle doppelten Elemente aus der Liste, es wird immer das erste vorkommen eines Elementes behalten. Die Funktion ist ordnungserhaltend.\n",
    "        removeIf :: (a -> Bool) -> [a] -> [a], entfernt alle Elemente aus der Liste, die ein Prädikat erfüllen.\n",
    "        partition :: (a -> Bool) -> [a] -> ([a], [a]), erzeugt aus einer Liste zwei. Die erste Liste enthält alle Elemente, die das Prädikat erfüllen, und die zweite Liste alle Elemente, die das nicht tun.\n",
    "\n",
    "    Implementiert die inits Funktion aus Übung 1 unter Verwendung der map Funktion.\n",
    "\n",
    "    Implementiert die Funktion lookupAll :: String -> [(String, Int)] -> [Int] mit map und filter.\n",
    "    lookupAll soll sich ähnlich wie lookup verhalten, aber nicht nur den ersten Treffer, sondern alle Treffer liefern.\n",
    "\n",
    "    Implementiert die Funktion zip :: [a] -> [b] -> [(a, b)] mittels zipWith.\n",
    "\n",
    "Hinweise:\n",
    "\n",
    "Um Namenskonflikte mit den Funktionen aus dem Prelude zu verhindern, könnt ihr eure Datei um einen Import der Prelude ergänzen, bei dem ihr die bereits vordefinierten Funktionen verbergt.\n",
    "Beispiel: import Prelude hiding (zipWith, concatMap)\n",
    "\n",
    "Wenn ihr weiterhin Zugriff auf die Funktionen aus dem Prelude haben wollt, zum Beispiel um die Ergebnisse zu vergleichen, könnt ihr diese dann qualifiziert importieren.\n",
    "Beispiel: import qualified Prelude as P (zipWith, concatMap)\n",
    "Ein Aufruf einer der Funktion sähe dann zum Beispiel so aus: P.zipWith\n",
    "\n",
    "Alternativ könnt ihr eure Implementierung auch anders nennen, so dass es zu keinem Namenskonflikt kommt."
   ]
  },
  {
   "cell_type": "code",
   "execution_count": 9,
   "metadata": {},
   "outputs": [
    {
     "data": {
      "text/plain": [
       "[6,8,10,12]"
      ]
     },
     "metadata": {},
     "output_type": "display_data"
    }
   ],
   "source": [
    "zipWith :: (a -> b -> c) -> [a] -> [b] -> [c] -- kombiniert zwei Listen unter Verwendung einer einer übergebenen Funktion. Die Länge der Ergebnisliste entspricht der Länge der kürzeren Eingabeliste.\n",
    "zipWith f [] _ = []\n",
    "zipWith f _ [] = []\n",
    "zipWith f (x:xs) (y:ys) = f x y : zipWith f xs ys\n",
    "\n",
    "\n",
    "zipWith (+) [1,2,3,4] [5,6,7,8,9]"
   ]
  },
  {
   "attachments": {},
   "cell_type": "markdown",
   "metadata": {},
   "source": [
    "concatMap :: (a -> [b]) -> [a] -> [b], wendet die übergebene Funktion auf jedes Element der Eingabeliste an und konkateniert alle Listen zu einer.\n",
    "        Beispiel: concatMap (take 3) [[1..], [10,11], [100..]] liefert [1,2,3,10,11,100,101,102]"
   ]
  },
  {
   "cell_type": "code",
   "execution_count": 17,
   "metadata": {},
   "outputs": [
    {
     "data": {
      "text/html": [
       "<style>/* Styles used for the Hoogle display in the pager */\n",
       ".hoogle-doc {\n",
       "display: block;\n",
       "padding-bottom: 1.3em;\n",
       "padding-left: 0.4em;\n",
       "}\n",
       ".hoogle-code {\n",
       "display: block;\n",
       "font-family: monospace;\n",
       "white-space: pre;\n",
       "}\n",
       ".hoogle-text {\n",
       "display: block;\n",
       "}\n",
       ".hoogle-name {\n",
       "color: green;\n",
       "font-weight: bold;\n",
       "}\n",
       ".hoogle-head {\n",
       "font-weight: bold;\n",
       "}\n",
       ".hoogle-sub {\n",
       "display: block;\n",
       "margin-left: 0.4em;\n",
       "}\n",
       ".hoogle-package {\n",
       "font-weight: bold;\n",
       "font-style: italic;\n",
       "}\n",
       ".hoogle-module {\n",
       "font-weight: bold;\n",
       "}\n",
       ".hoogle-class {\n",
       "font-weight: bold;\n",
       "}\n",
       ".get-type {\n",
       "color: green;\n",
       "font-weight: bold;\n",
       "font-family: monospace;\n",
       "display: block;\n",
       "white-space: pre-wrap;\n",
       "}\n",
       ".show-type {\n",
       "color: green;\n",
       "font-weight: bold;\n",
       "font-family: monospace;\n",
       "margin-left: 1em;\n",
       "}\n",
       ".mono {\n",
       "font-family: monospace;\n",
       "display: block;\n",
       "}\n",
       ".err-msg {\n",
       "color: red;\n",
       "font-style: italic;\n",
       "font-family: monospace;\n",
       "white-space: pre;\n",
       "display: block;\n",
       "}\n",
       "#unshowable {\n",
       "color: red;\n",
       "font-weight: bold;\n",
       "}\n",
       ".err-msg.in.collapse {\n",
       "padding-top: 0.7em;\n",
       "}\n",
       ".highlight-code {\n",
       "white-space: pre;\n",
       "font-family: monospace;\n",
       "}\n",
       ".suggestion-warning { \n",
       "font-weight: bold;\n",
       "color: rgb(200, 130, 0);\n",
       "}\n",
       ".suggestion-error { \n",
       "font-weight: bold;\n",
       "color: red;\n",
       "}\n",
       ".suggestion-name {\n",
       "font-weight: bold;\n",
       "}\n",
       "</style><div class=\"suggestion-name\" style=\"clear:both;\">Use foldr</div><div class=\"suggestion-row\" style=\"float: left;\"><div class=\"suggestion-warning\">Found:</div><div class=\"highlight-code\" id=\"haskell\">concatMap f [] = []\n",
       "concatMap f (x : xs) = f x ++ concatMap f xs</div></div><div class=\"suggestion-row\" style=\"float: left;\"><div class=\"suggestion-warning\">Why Not:</div><div class=\"highlight-code\" id=\"haskell\">concatMap f xs = foldr ((++) . f) [] xs</div></div>"
      ],
      "text/plain": [
       "Line 2: Use foldr\n",
       "Found:\n",
       "concatMap f [] = []\n",
       "concatMap f (x : xs) = f x ++ concatMap f xs\n",
       "Why not:\n",
       "concatMap f xs = foldr ((++) . f) [] xs"
      ]
     },
     "metadata": {},
     "output_type": "display_data"
    },
    {
     "data": {
      "text/plain": [
       "[1,2,3,10,11,100,101,102]"
      ]
     },
     "metadata": {},
     "output_type": "display_data"
    }
   ],
   "source": [
    "concatMap :: (a -> [b]) -> [a] -> [b]\n",
    "concatMap f []  = []\n",
    "concatMap f (x:xs) = f x ++ concatMap f xs\n",
    "\n",
    "concatMap (take 3) [[1..], [10,11], [100..]]"
   ]
  },
  {
   "attachments": {},
   "cell_type": "markdown",
   "metadata": {},
   "source": [
    "nub :: [Int] -> [Int], entfernt alle doppelten Elemente aus der Liste, es wird immer das erste vorkommen eines Elementes behalten. Die Funktion ist ordnungserhaltend."
   ]
  },
  {
   "cell_type": "code",
   "execution_count": 37,
   "metadata": {},
   "outputs": [
    {
     "data": {
      "text/plain": [
       "[1,2,3]"
      ]
     },
     "metadata": {},
     "output_type": "display_data"
    }
   ],
   "source": [
    "nub :: [Int] -> [Int]\n",
    "nub [] = []\n",
    "nub (x:xs) = x : nub (filter (/= x) xs)\n",
    "\n",
    "nub [1,2,3,1,2,3]\n",
    "\n"
   ]
  },
  {
   "attachments": {},
   "cell_type": "markdown",
   "metadata": {},
   "source": [
    "removeIf :: (a -> Bool) -> [a] -> [a], entfernt alle Elemente aus der Liste, die ein Prädikat erfüllen."
   ]
  },
  {
   "cell_type": "code",
   "execution_count": 1,
   "metadata": {},
   "outputs": [
    {
     "data": {
      "text/plain": [
       "[1,2,3,4,0]"
      ]
     },
     "metadata": {},
     "output_type": "display_data"
    }
   ],
   "source": [
    "removeIf :: (a -> Bool) -> [a] -> [a]\n",
    "removeIf _ [] = []\n",
    "removeIf f (x:xs) = x : removeIf f (filter f xs)\n",
    "\n",
    "removeIf (< 5) [1,2,3,4,5,6,7,8,9,0]\n"
   ]
  },
  {
   "attachments": {},
   "cell_type": "markdown",
   "metadata": {},
   "source": [
    "Erzeugt aus einer Liste zwei. Die erste Liste enthält alle Elemente, die das Prädikat erfüllen, und die zweite Liste alle Elemente, die das nicht tun."
   ]
  },
  {
   "cell_type": "code",
   "execution_count": 58,
   "metadata": {},
   "outputs": [
    {
     "data": {
      "text/plain": [
       "([1,2,4,6,8],[1,3])"
      ]
     },
     "metadata": {},
     "output_type": "display_data"
    }
   ],
   "source": [
    "partition :: (a -> Bool) -> [a] -> ([a], [a]) -- erzeugt aus einer Liste zwei. Die erste Liste enthält alle Elemente, die das Prädikat erfüllen, und die zweite Liste alle Elemente, die das nicht tun.\n",
    "partition _ [] = ([],[])\n",
    "partition f (x:xs) = (x : removeIf f (filter f xs), x : removeIf f (filter (not . f) xs))\n",
    "\n",
    "partition even [1,2,3,4,5,6,7,8,9]"
   ]
  }
 ],
 "metadata": {
  "kernelspec": {
   "display_name": "Haskell",
   "language": "haskell",
   "name": "haskell"
  },
  "language_info": {
   "codemirror_mode": "ihaskell",
   "file_extension": ".hs",
   "mimetype": "text/x-haskell",
   "name": "haskell",
   "pygments_lexer": "Haskell",
   "version": "9.2.7"
  },
  "orig_nbformat": 4
 },
 "nbformat": 4,
 "nbformat_minor": 2
}
