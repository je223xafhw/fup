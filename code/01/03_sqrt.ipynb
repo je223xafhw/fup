{
 "cells": [
  {
   "attachments": {},
   "cell_type": "markdown",
   "metadata": {},
   "source": [
    "# Aufgabe 3\n",
    "Wurzelfunktion"
   ]
  },
  {
   "attachments": {},
   "cell_type": "markdown",
   "metadata": {},
   "source": [
    "## Aufgabe 3.1\n",
    "mit Hilfsfunktion\n",
    "\n",
    "berechnen der Wurzel einer Zahl, mit abrunden auf ganze zahlen\n",
    "```\n",
    "sqrt(2) = 1\n",
    "sqrt(15) = 3\n",
    "```\n",
    "\n",
    "Algorithmus:\n",
    "```\n",
    "def babylonian(n):\n",
    "x = n\n",
    "y = 1\n",
    "while(x > y):\n",
    "    x = (x+y)//2\n",
    "    y = n//x\n",
    "return y\n",
    "```"
   ]
  },
  {
   "cell_type": "code",
   "execution_count": 1,
   "metadata": {},
   "outputs": [
    {
     "data": {
      "text/plain": [
       "1"
      ]
     },
     "metadata": {},
     "output_type": "display_data"
    },
    {
     "data": {
      "text/plain": [
       "2"
      ]
     },
     "metadata": {},
     "output_type": "display_data"
    },
    {
     "data": {
      "text/plain": [
       "3"
      ]
     },
     "metadata": {},
     "output_type": "display_data"
    },
    {
     "data": {
      "text/plain": [
       "4"
      ]
     },
     "metadata": {},
     "output_type": "display_data"
    }
   ],
   "source": [
    "intSqrt :: Int -> Int\n",
    "intSqrt 0 = 0\n",
    "intSqrt 1 = 1\n",
    "intSqrt n \n",
    "    | n > 0 = intSqrt' n n 1\n",
    "    | otherwise = 0\n",
    "    where\n",
    "        intSqrt' :: Int -> Int -> Int -> Int\n",
    "        intSqrt' n x y\n",
    "            | x > y = intSqrt' n ((x + y) `div` 2) (n `div` x)\n",
    "            | otherwise = y\n",
    "\n",
    "print(intSqrt 1)\n",
    "print(intSqrt 4)\n",
    "print(intSqrt 15)\n",
    "print(intSqrt 16)"
   ]
  },
  {
   "attachments": {},
   "cell_type": "markdown",
   "metadata": {},
   "source": [
    "```\n",
    "def mySqrt(self, n: int) -> int:\n",
    "    x = n*2\n",
    "    while ((x*2)-n) > t: \n",
    "        y = n/x\n",
    "        x = (x+y)/2\n",
    "    return y\n",
    "```"
   ]
  },
  {
   "cell_type": "code",
   "execution_count": 26,
   "metadata": {},
   "outputs": [
    {
     "data": {
      "text/plain": [
       "1.0"
      ]
     },
     "metadata": {},
     "output_type": "display_data"
    },
    {
     "data": {
      "text/plain": [
       "2.0000005"
      ]
     },
     "metadata": {},
     "output_type": "display_data"
    },
    {
     "data": {
      "text/plain": [
       "3.8742952"
      ]
     },
     "metadata": {},
     "output_type": "display_data"
    },
    {
     "data": {
      "text/plain": [
       "7496.967"
      ]
     },
     "metadata": {},
     "output_type": "display_data"
    }
   ],
   "source": [
    "approachSqrt :: Float -> Float -> Float\n",
    "approachSqrt 0 t = 0\n",
    "approachSqrt 1 t = 1\n",
    "-- apporachsqrt number tolerance\n",
    "approachSqrt n t\n",
    "    | n > 0 && t < 1 && t > 0 = approachSqrt' n t 1 n\n",
    "    | otherwise = 0\n",
    "    where\n",
    "        -- approachSqrt' :: number -> t -> x -> y -> result\n",
    "        approachSqrt' :: Float -> Float -> Float -> Float -> Float\n",
    "        approachSqrt' n t y x\n",
    "            | abs(x - y) > t = approachSqrt' n t  (n / x) ((x+y) / 2)\n",
    "            | otherwise = x\n",
    "\n",
    "\n",
    "print(approachSqrt 1 0.1)\n",
    "print(approachSqrt 4 0.000000000000000001)\n",
    "print(approachSqrt 15 0.001)\n",
    "print(approachSqrt 56204513 0.00000000000000000001)"
   ]
  }
 ],
 "metadata": {
  "kernelspec": {
   "display_name": "Haskell",
   "language": "haskell",
   "name": "haskell"
  },
  "language_info": {
   "codemirror_mode": "ihaskell",
   "file_extension": ".hs",
   "mimetype": "text/x-haskell",
   "name": "haskell",
   "pygments_lexer": "Haskell",
   "version": "9.2.7"
  },
  "orig_nbformat": 4
 },
 "nbformat": 4,
 "nbformat_minor": 2
}
