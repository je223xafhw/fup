{
 "cells": [
  {
   "cell_type": "code",
   "execution_count": 26,
   "metadata": {},
   "outputs": [],
   "source": [
    "data Exp = Num Int\n",
    "         | Exp :+: Exp\n",
    "         | Exp :/: Exp\n",
    "         | Var String\n",
    "         | Let String Int Exp\n",
    "\n",
    "type Env a b = a -> Maybe b\n",
    "\n",
    "type ExpEnv = Env String Int\n",
    "\n",
    "insert :: Eq a => a -> b -> Env a b -> Env a b\n",
    "insert k v env k' = if k == k' then Just v else env k'"
   ]
  },
  {
   "cell_type": "code",
   "execution_count": 60,
   "metadata": {},
   "outputs": [],
   "source": [
    "eval :: Exp -> Maybe Int\n",
    "eval (Num n)     = Just n\n",
    "eval (Var i)     = Just 0\n",
    "eval (e1 :+: e2) = (+) <$> eval e1 <*> eval e2\n",
    "eval (e1 :/: e2) = eval e2 >>= \\e2' -> case e2' of \n",
    "    0 -> Nothing\n",
    "    _ -> div <$> eval e1 <*> Just e2'\n",
    "eval (Let x n e) = Just 0"
   ]
  },
  {
   "cell_type": "code",
   "execution_count": 61,
   "metadata": {},
   "outputs": [
    {
     "data": {
      "text/plain": [
       "Just 0"
      ]
     },
     "metadata": {},
     "output_type": "display_data"
    }
   ],
   "source": [
    "eval $ Let \"x\" 3 $ Var \"x\" :+: Num 3"
   ]
  },
  {
   "cell_type": "code",
   "execution_count": 63,
   "metadata": {},
   "outputs": [],
   "source": [
    "import Control.Monad.State\n",
    "\n",
    "evalState :: Exp -> State ExpEnv (Maybe Int)\n",
    "evalState (Num n)     = pure (Just n)\n",
    "evalState (Var i)     = do\n",
    "                        env <- get\n",
    "                        return $ env i\n",
    "evalState (e1 :+: e2) = do\n",
    "                        res1 <- evalState e1\n",
    "                        res2 <- evalState e2\n",
    "                        return  $ (+) <$> res1 <*> res2\n",
    "evalState (e1 :/: e2) = do\n",
    "                        e' <- evalState e2\n",
    "                        case e' of\n",
    "                            Just 0 -> return Nothing\n",
    "                            _ -> do\n",
    "                                e1' <- evalState e1\n",
    "                                return $ div <$> e1' <*> e'\n",
    "\n",
    "evalState (Let x n e) = do\n",
    "    env <- get\n",
    "    let env' = insert x n env\n",
    "    put env'\n",
    "    evalState e"
   ]
  },
  {
   "cell_type": "code",
   "execution_count": 4,
   "metadata": {},
   "outputs": [],
   "source": [
    "{-# LANGUAGE LambdaCase #-}\n",
    "\n",
    "evalState :: Exp -> State ExpEnv (Maybe Int)\n",
    "evalState (Num n)     = pure (Just n)\n",
    "evalState (Var i)     = get >>= \\env -> return $ env i\n",
    "evalState (e1 :+: e2) = evalState e1 >>= \\res1 -> evalState e2 >>= \\res2 -> return  $ (+) <$> res1 <*> res2\n",
    "evalState (e1 :/: e2) = evalState e2 >>= \\case \n",
    "                                    Just 0 -> return Nothing\n",
    "                                    e2' -> evalState e1 >>= \\e1' -> return $ div <$> e1' <*> e2'"
   ]
  },
  {
   "cell_type": "code",
   "execution_count": 87,
   "metadata": {},
   "outputs": [
    {
     "data": {
      "text/plain": [
       "Ergebnis: Just 84"
      ]
     },
     "metadata": {},
     "output_type": "display_data"
    }
   ],
   "source": [
    "main = do\n",
    "    let exp = Let \"x\" 42 (Var \"x\") :+: Var \"x\"\n",
    "    let (result, finalState) = runState (evalState exp) $ const Nothing\n",
    "    putStrLn $ \"Ergebnis: \" ++ show result\n",
    "\n",
    "main"
   ]
  }
 ],
 "metadata": {
  "kernelspec": {
   "display_name": "Haskell",
   "language": "haskell",
   "name": "haskell"
  },
  "language_info": {
   "codemirror_mode": "ihaskell",
   "file_extension": ".hs",
   "mimetype": "text/x-haskell",
   "name": "haskell",
   "pygments_lexer": "Haskell",
   "version": "9.2.7"
  },
  "orig_nbformat": 4
 },
 "nbformat": 4,
 "nbformat_minor": 2
}
