{
 "cells": [
  {
   "cell_type": "code",
   "execution_count": 80,
   "metadata": {},
   "outputs": [],
   "source": [
    "-- import Control.Monad.Reader\n",
    "\n",
    "data Exp = Num Int\n",
    "         | Exp :+: Exp\n",
    "         | Exp :/: Exp\n",
    "         | Var String\n",
    "         | Let String Int Exp\n",
    "\n",
    "type ExpEnv = [(String, Int)]\n",
    "\n",
    "class Monad m => MonadReader r m where\n",
    "  ask   :: m r\n",
    "  local :: (r -> r) -> m a -> m a\n"
   ]
  },
  {
   "cell_type": "code",
   "execution_count": 67,
   "metadata": {},
   "outputs": [],
   "source": [
    "newtype Reader r a = Reader { runReader :: r -> a }\n",
    "\n",
    "-- muss nun erstmal alle instanzen für die kette definieren\n",
    "instance Functor (Reader r) where\n",
    "  fmap f (Reader m) = Reader (f . m)\n",
    "\n",
    "instance Applicative (Reader r) where\n",
    "  pure x = Reader $ const x\n",
    "    --  reader braucht r -> a \n",
    "    -- e :: r (bound at :7:36)\n",
    "    -- g :: r -> a (bound at :7:23)\n",
    "    -- f :: r -> a -> b (bound at :7:10)\n",
    "    -- mach aus e mithilfe von m2 typ a, dann nimm e und das neue und packs in m1\n",
    "  Reader m1 <*> Reader m2 = Reader $ \\e -> m1 e $ m2 e\n",
    "\n",
    "instance Monad (Reader r) where\n",
    "  return = pure\n",
    "--   erlich gesagt, keine ahnung wie das hier funktioniert\n",
    "  Reader m >>= res = Reader (\\e -> runReader (res (m e)) e)\n"
   ]
  },
  {
   "cell_type": "code",
   "execution_count": 68,
   "metadata": {},
   "outputs": [],
   "source": [
    "instance MonadReader r (Reader r) where\n",
    "  ask = Reader id\n",
    "  local f (Reader g) = Reader (g . f)\n",
    "\n",
    "\n",
    "runReader :: Reader r a -> r -> a\n",
    "runReader (Reader f) = f"
   ]
  },
  {
   "cell_type": "code",
   "execution_count": 69,
   "metadata": {},
   "outputs": [],
   "source": [
    "-- evalReader :: MonadReader ExpEnv m => Exp -> m (Maybe Int)\n",
    "evalReader (Num n) = return (Just n)\n",
    "evalReader (Var x) = ask >>= \\e1 -> return $ lookup x e1\n",
    "evalReader (e1 :+: e2) = do\n",
    "  res1 <- evalReader e1\n",
    "  res2 <- evalReader e2\n",
    "  return  $ (+) <$> res1 <*> res2\n",
    "evalReader (e1 :/: e2) = do\n",
    "  v1 <- evalReader e1\n",
    "  v2 <- evalReader e2\n",
    "  case v2 of \n",
    "    Just 0 -> return Nothing\n",
    "    Just res1 -> do\n",
    "        case v1 of\n",
    "            Just 0 -> return $ Just 0\n",
    "            Just res2 -> return $ Just $ res1 `div` res2\n",
    "evalReader (Let x val e) = do\n",
    "  local (\\env -> (x, val) : env) (evalReader e)"
   ]
  },
  {
   "cell_type": "code",
   "execution_count": 75,
   "metadata": {},
   "outputs": [
    {
     "data": {
      "text/plain": [
       "Just 23"
      ]
     },
     "metadata": {},
     "output_type": "display_data"
    }
   ],
   "source": [
    "env :: ExpEnv\n",
    "env = [(\"x\", 5), (\"y\", 3)]\n",
    "\n",
    "exp :: Exp\n",
    "exp = Let \"x\" 10 ((Var \"x\" :+: Var \"y\") :+: Var \"x\")\n",
    "\n",
    "result :: Maybe Int\n",
    "result = runReader (evalReader exp) env\n",
    "\n",
    "result"
   ]
  }
 ],
 "metadata": {
  "kernelspec": {
   "display_name": "Haskell",
   "language": "haskell",
   "name": "haskell"
  },
  "language_info": {
   "codemirror_mode": "ihaskell",
   "file_extension": ".hs",
   "mimetype": "text/x-haskell",
   "name": "haskell",
   "pygments_lexer": "Haskell",
   "version": "9.2.7"
  },
  "orig_nbformat": 4
 },
 "nbformat": 4,
 "nbformat_minor": 2
}
