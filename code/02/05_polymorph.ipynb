{
 "cells": [
  {
   "cell_type": "code",
   "execution_count": 106,
   "metadata": {},
   "outputs": [],
   "source": [
    "data Tree a = Leaf a | (Tree a) :-: (Tree a) deriving (Show, Eq)"
   ]
  },
  {
   "cell_type": "code",
   "execution_count": 107,
   "metadata": {},
   "outputs": [
    {
     "data": {
      "text/plain": [
       "(Leaf 5 :-: (Leaf 4 :-: Leaf 3)) :-: (Leaf 5 :-: (Leaf 4 :-: Leaf 3))"
      ]
     },
     "metadata": {},
     "output_type": "display_data"
    },
    {
     "data": {
      "text/plain": [
       "(Leaf 6 :-: (Leaf 5 :-: Leaf 4)) :-: (Leaf 6 :-: (Leaf 5 :-: Leaf 4))"
      ]
     },
     "metadata": {},
     "output_type": "display_data"
    }
   ],
   "source": [
    "mapTree :: (a -> b) -> Tree a -> Tree b\n",
    "mapTree f (Leaf n) = Leaf (f n)\n",
    "mapTree f (l :-: r) = mapTree f l :-: mapTree f r\n",
    "\n",
    "let tree1 = (Leaf 5 :-: (Leaf 4 :-: Leaf 3)) :-: (Leaf 5 :-: (Leaf 4 :-: Leaf 3))\n",
    "let tree2 = (Leaf 5 :-: (Leaf 4 :-: Leaf 3)) :-: (Leaf 5 :-: (Leaf 4 :-: Leaf 3))\n",
    "print tree1\n",
    "mapTree (+1) tree1"
   ]
  },
  {
   "cell_type": "code",
   "execution_count": 108,
   "metadata": {},
   "outputs": [
    {
     "data": {
      "text/plain": [
       "0"
      ]
     },
     "metadata": {},
     "output_type": "display_data"
    }
   ],
   "source": [
    "foldTree :: (a -> b) -> (b -> b -> b) -> Tree a -> b\n",
    "foldTree f _ (Leaf n) = f n\n",
    "foldTree f g (l :-: r) = g (foldTree f g l) (foldTree f g r)\n",
    "\n",
    "foldTree id (-) tree1"
   ]
  },
  {
   "cell_type": "code",
   "execution_count": 121,
   "metadata": {},
   "outputs": [
    {
     "ename": "",
     "evalue": "",
     "output_type": "error",
     "traceback": [
      "<interactive>:1:1: error:\n    • No instance for (Num (Tree ())) arising from a use of ‘it’\n    • In the first argument of ‘print’, namely ‘it’\n      In a stmt of an interactive GHCi command: print it"
     ]
    }
   ],
   "source": [
    "flattenTree :: Tree (Tree a) -> Tree a\n",
    "flattenTree (Leaf n) = n\n",
    "flattenTree (t1 :-: t2) = foldTree id (:-:) t1 :-: foldTree id (:-:) t2\n",
    "\n",
    "let t3 = Leaf 2 :-: Leaf 4\n",
    "let t7 = Leaf 3 :-: Leaf 3 :-: Leaf 3\n",
    "let t8 = t3 :-: t7\n",
    "\n",
    "flattenTree t8\n",
    "\n"
   ]
  }
 ],
 "metadata": {
  "kernelspec": {
   "display_name": "Haskell",
   "language": "haskell",
   "name": "haskell"
  },
  "language_info": {
   "codemirror_mode": "ihaskell",
   "file_extension": ".hs",
   "mimetype": "text/x-haskell",
   "name": "haskell",
   "pygments_lexer": "Haskell",
   "version": "9.2.7"
  },
  "orig_nbformat": 4
 },
 "nbformat": 4,
 "nbformat_minor": 2
}
