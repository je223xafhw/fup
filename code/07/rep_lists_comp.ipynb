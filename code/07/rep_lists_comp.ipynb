{
 "cells": [
  {
   "cell_type": "code",
   "execution_count": 2,
   "metadata": {},
   "outputs": [
    {
     "data": {
      "text/plain": [
       "[7,8,9,10]"
      ]
     },
     "metadata": {},
     "output_type": "display_data"
    }
   ],
   "source": [
    "[x | x <- [1..10], x > 6]"
   ]
  },
  {
   "cell_type": "code",
   "execution_count": 23,
   "metadata": {},
   "outputs": [
    {
     "data": {
      "text/plain": [
       "[(1,7),(2,6),(3,5),(4,4),(3,5),(2,6),(1,7)]"
      ]
     },
     "metadata": {},
     "output_type": "display_data"
    }
   ],
   "source": [
    "-- mynub [if x<y then (x,y) else (y,x) | x<- [1..10], y <- [1..10], x + y == 8]\n",
    "[1..10] >>= \\x -> [1..10] >>= \\y -> guard (x+y == 8) >> return (if x<y then (x,y) else (y,x))"
   ]
  },
  {
   "cell_type": "code",
   "execution_count": 20,
   "metadata": {},
   "outputs": [
    {
     "data": {
      "text/plain": [
       "[1,2,3]"
      ]
     },
     "metadata": {},
     "output_type": "display_data"
    }
   ],
   "source": [
    "import Control.Monad\n",
    "\n",
    "nub :: Eq a     \n",
    "    => [a] -> [a]\n",
    "nub = foldl (\\acc x -> if x `elem` acc then acc else acc ++ [x]) []\n",
    "\n",
    "guard :: MonadPlus m => Bool -> m ()\n",
    "guard True = return ()\n",
    "guard False = mzero\n",
    "\n",
    "mynub [1,2,3,3]"
   ]
  }
 ],
 "metadata": {
  "kernelspec": {
   "display_name": "Haskell",
   "language": "haskell",
   "name": "haskell"
  },
  "language_info": {
   "codemirror_mode": "ihaskell",
   "file_extension": ".hs",
   "mimetype": "text/x-haskell",
   "name": "haskell",
   "pygments_lexer": "Haskell",
   "version": "9.2.7"
  },
  "orig_nbformat": 4
 },
 "nbformat": 4,
 "nbformat_minor": 2
}
