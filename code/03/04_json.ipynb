{
 "cells": [
  {
   "cell_type": "code",
   "execution_count": 145,
   "metadata": {},
   "outputs": [],
   "source": [
    "data JSON = JNull\n",
    "          | JBool Bool\n",
    "          | JInt Int\n",
    "          | JFloat Float\n",
    "          | JString String\n",
    "          | JChar Char\n",
    "          | JArray [JSON]\n",
    "          | JObject [(String, JSON)]\n",
    "  deriving Show\n",
    "\n",
    "data Tree a = Empty | Node (Tree a) a (Tree a)\n",
    "-- data ToJSON = Bool | Int | Float"
   ]
  },
  {
   "cell_type": "code",
   "execution_count": 146,
   "metadata": {},
   "outputs": [
    {
     "data": {
      "text/html": [
       "<style>/* Styles used for the Hoogle display in the pager */\n",
       ".hoogle-doc {\n",
       "display: block;\n",
       "padding-bottom: 1.3em;\n",
       "padding-left: 0.4em;\n",
       "}\n",
       ".hoogle-code {\n",
       "display: block;\n",
       "font-family: monospace;\n",
       "white-space: pre;\n",
       "}\n",
       ".hoogle-text {\n",
       "display: block;\n",
       "}\n",
       ".hoogle-name {\n",
       "color: green;\n",
       "font-weight: bold;\n",
       "}\n",
       ".hoogle-head {\n",
       "font-weight: bold;\n",
       "}\n",
       ".hoogle-sub {\n",
       "display: block;\n",
       "margin-left: 0.4em;\n",
       "}\n",
       ".hoogle-package {\n",
       "font-weight: bold;\n",
       "font-style: italic;\n",
       "}\n",
       ".hoogle-module {\n",
       "font-weight: bold;\n",
       "}\n",
       ".hoogle-class {\n",
       "font-weight: bold;\n",
       "}\n",
       ".get-type {\n",
       "color: green;\n",
       "font-weight: bold;\n",
       "font-family: monospace;\n",
       "display: block;\n",
       "white-space: pre-wrap;\n",
       "}\n",
       ".show-type {\n",
       "color: green;\n",
       "font-weight: bold;\n",
       "font-family: monospace;\n",
       "margin-left: 1em;\n",
       "}\n",
       ".mono {\n",
       "font-family: monospace;\n",
       "display: block;\n",
       "}\n",
       ".err-msg {\n",
       "color: red;\n",
       "font-style: italic;\n",
       "font-family: monospace;\n",
       "white-space: pre;\n",
       "display: block;\n",
       "}\n",
       "#unshowable {\n",
       "color: red;\n",
       "font-weight: bold;\n",
       "}\n",
       ".err-msg.in.collapse {\n",
       "padding-top: 0.7em;\n",
       "}\n",
       ".highlight-code {\n",
       "white-space: pre;\n",
       "font-family: monospace;\n",
       "}\n",
       ".suggestion-warning { \n",
       "font-weight: bold;\n",
       "color: rgb(200, 130, 0);\n",
       "}\n",
       ".suggestion-error { \n",
       "font-weight: bold;\n",
       "color: red;\n",
       "}\n",
       ".suggestion-name {\n",
       "font-weight: bold;\n",
       "}\n",
       "</style><div class=\"suggestion-name\" style=\"clear:both;\">Use second</div><div class=\"suggestion-row\" style=\"float: left;\"><div class=\"suggestion-warning\">Found:</div><div class=\"highlight-code\" id=\"haskell\">\\ (a, b) -> (a, toJSON b)</div></div><div class=\"suggestion-row\" style=\"float: left;\"><div class=\"suggestion-warning\">Why Not:</div><div class=\"highlight-code\" id=\"haskell\">Data.Bifunctor.second toJSON</div></div>"
      ],
      "text/plain": [
       "Line 20: Use second\n",
       "Found:\n",
       "\\ (a, b) -> (a, toJSON b)\n",
       "Why not:\n",
       "Data.Bifunctor.second toJSON"
      ]
     },
     "metadata": {},
     "output_type": "display_data"
    }
   ],
   "source": [
    "class ToJSON a where\n",
    "  toJSON :: a -> JSON\n",
    "\n",
    "instance ToJSON Bool where\n",
    "  toJSON = JBool\n",
    "\n",
    "instance ToJSON Int where\n",
    "  toJSON = JInt\n",
    "\n",
    "instance ToJSON Float where\n",
    "  toJSON = JFloat\n",
    "\n",
    "instance ToJSON Char where\n",
    "  toJSON = JChar\n",
    "\n",
    "instance ToJSON a => ToJSON [a] where\n",
    "  toJSON x = JArray (map toJSON x)\n",
    "\n",
    "instance ToJSON a => ToJSON [(String, a)] where\n",
    "  toJSON xs = JObject (map (\\(a,b) -> (a, toJSON b)) xs)\n",
    "--   toJSON xs = JObject (map (snd . toJSON) xs)\n",
    "\n",
    "instance ToJSON a => ToJSON (Tree a) where\n",
    "    toJSON Empty = JNull\n",
    "    toJSON (Node l c r) = JArray [toJSON l, toJSON c, toJSON r]\n"
   ]
  },
  {
   "cell_type": "code",
   "execution_count": 150,
   "metadata": {},
   "outputs": [
    {
     "data": {
      "text/plain": [
       "JArray [JNull,JInt 72,JArray [JNull,JInt 12,JNull]]"
      ]
     },
     "metadata": {},
     "output_type": "display_data"
    }
   ],
   "source": [
    "let tree1 = Node Empty \"72\" (Node Empty \"12\" Empty)\n",
    "let tree2 = Node Empty 72 (Node Empty 12 Empty)\n",
    "\n",
    "\n",
    "toJSON (tree2 :: Tree Int)"
   ]
  }
 ],
 "metadata": {
  "kernelspec": {
   "display_name": "Haskell",
   "language": "haskell",
   "name": "haskell"
  },
  "language_info": {
   "name": "haskell"
  },
  "orig_nbformat": 4
 },
 "nbformat": 4,
 "nbformat_minor": 2
}
