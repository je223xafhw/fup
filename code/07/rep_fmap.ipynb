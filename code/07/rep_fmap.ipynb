{
 "cells": [
  {
   "cell_type": "markdown",
   "metadata": {},
   "source": [
    "```haskell\n",
    "fmap :: Functor f1 => {a1 -> b1} -> f1 a1 -> f1 b1\n",
    "fmap :: Functor f2 => (a2 -> b2) -> (f2 a2 -> f2 b2)\n",
    "fmap :: Functor f3 => (a3 -> b3) -> (f3 a3 -> f3 b3)\n",
    "\n",
    "fmap fmap :: Functor f1, Functor f2 => {f1 (a2 -> b2) -> f1 (f2 a2 -> f2 b2)}\n",
    "fmap fmap :: Functor f, Functor f1 => {f (a -> b) -> f (f1 a -> f1 b)}\n",
    "\n",
    "f1 == ((->) r)\n",
    "(r -> a2 -> b2) -> (r -> f2 a2 -> f2 b2)\n",
    "r == a3 -> b3\n",
    "a2 == f3 a3\n",
    "b2 == f3 b3\n",
    "fmap fmap fmap :: (a3 -> b3) -> f2 (f3 a3) -> f2 (f3 b3)"
   ]
  },
  {
   "cell_type": "code",
   "execution_count": 3,
   "metadata": {},
   "outputs": [],
   "source": [
    "fmapx2 :: (Functor f, Functor f1) => f (a -> b) -> f (f1 a -> f1 b)\n",
    "fmapx2 = fmap fmap"
   ]
  },
  {
   "cell_type": "code",
   "execution_count": 8,
   "metadata": {},
   "outputs": [],
   "source": [
    "fmapx3 :: (Functor f, Functor f1) =>  (a -> b) -> f (f1 a) -> f (f1 b)\n",
    "fmapx3 = fmap fmap fmap"
   ]
  },
  {
   "cell_type": "code",
   "execution_count": 10,
   "metadata": {},
   "outputs": [],
   "source": [
    "class MyMonad m where\n",
    "    return :: a -> m a\n",
    "\n",
    "    (>>=) :: m a -> (a -> m b) -> m b"
   ]
  },
  {
   "cell_type": "code",
   "execution_count": 12,
   "metadata": {},
   "outputs": [
    {
     "data": {},
     "metadata": {},
     "output_type": "display_data"
    },
    {
     "name": "stdout",
     "output_type": "stream",
     "text": [
      "type IO :: * -> *\n",
      "newtype IO a = GHC.Types.IO (GHC.Prim.State# GHC.Prim.RealWorld -> (# GHC.Prim.State# GHC.Prim.RealWorld, a #))\n",
      "  \t-- Defined in ‘GHC.Types’\n",
      "instance Applicative IO -- Defined in ‘GHC.Base’\n",
      "instance Functor IO -- Defined in ‘GHC.Base’\n",
      "instance Monad IO -- Defined in ‘GHC.Base’\n",
      "instance Monoid a => Monoid (IO a) -- Defined in ‘GHC.Base’\n",
      "instance Semigroup a => Semigroup (IO a) -- Defined in ‘GHC.Base’\n",
      "instance MonadFail IO -- Defined in ‘Control.Monad.Fail’"
     ]
    }
   ],
   "source": []
  }
 ],
 "metadata": {
  "kernelspec": {
   "display_name": "Haskell",
   "language": "haskell",
   "name": "haskell"
  },
  "language_info": {
   "codemirror_mode": "ihaskell",
   "file_extension": ".hs",
   "mimetype": "text/x-haskell",
   "name": "haskell",
   "pygments_lexer": "Haskell",
   "version": "9.2.7"
  },
  "orig_nbformat": 4
 },
 "nbformat": 4,
 "nbformat_minor": 2
}
