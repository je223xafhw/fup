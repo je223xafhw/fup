{
 "cells": [
  {
   "attachments": {},
   "cell_type": "markdown",
   "metadata": {},
   "source": [
    "# Aufgabe 2"
   ]
  },
  {
   "attachments": {},
   "cell_type": "markdown",
   "metadata": {},
   "source": [
    "## Pattern Matching"
   ]
  },
  {
   "cell_type": "code",
   "execution_count": 83,
   "metadata": {},
   "outputs": [],
   "source": [
    "fromMaybeP :: a -> Maybe a -> a\n",
    "fromMaybeP _ (Just x) = x\n",
    "fromMaybeP n Nothing = n"
   ]
  },
  {
   "cell_type": "code",
   "execution_count": 99,
   "metadata": {},
   "outputs": [
    {
     "data": {
      "text/html": [
       "<style>/* Styles used for the Hoogle display in the pager */\n",
       ".hoogle-doc {\n",
       "display: block;\n",
       "padding-bottom: 1.3em;\n",
       "padding-left: 0.4em;\n",
       "}\n",
       ".hoogle-code {\n",
       "display: block;\n",
       "font-family: monospace;\n",
       "white-space: pre;\n",
       "}\n",
       ".hoogle-text {\n",
       "display: block;\n",
       "}\n",
       ".hoogle-name {\n",
       "color: green;\n",
       "font-weight: bold;\n",
       "}\n",
       ".hoogle-head {\n",
       "font-weight: bold;\n",
       "}\n",
       ".hoogle-sub {\n",
       "display: block;\n",
       "margin-left: 0.4em;\n",
       "}\n",
       ".hoogle-package {\n",
       "font-weight: bold;\n",
       "font-style: italic;\n",
       "}\n",
       ".hoogle-module {\n",
       "font-weight: bold;\n",
       "}\n",
       ".hoogle-class {\n",
       "font-weight: bold;\n",
       "}\n",
       ".get-type {\n",
       "color: green;\n",
       "font-weight: bold;\n",
       "font-family: monospace;\n",
       "display: block;\n",
       "white-space: pre-wrap;\n",
       "}\n",
       ".show-type {\n",
       "color: green;\n",
       "font-weight: bold;\n",
       "font-family: monospace;\n",
       "margin-left: 1em;\n",
       "}\n",
       ".mono {\n",
       "font-family: monospace;\n",
       "display: block;\n",
       "}\n",
       ".err-msg {\n",
       "color: red;\n",
       "font-style: italic;\n",
       "font-family: monospace;\n",
       "white-space: pre;\n",
       "display: block;\n",
       "}\n",
       "#unshowable {\n",
       "color: red;\n",
       "font-weight: bold;\n",
       "}\n",
       ".err-msg.in.collapse {\n",
       "padding-top: 0.7em;\n",
       "}\n",
       ".highlight-code {\n",
       "white-space: pre;\n",
       "font-family: monospace;\n",
       "}\n",
       ".suggestion-warning { \n",
       "font-weight: bold;\n",
       "color: rgb(200, 130, 0);\n",
       "}\n",
       ".suggestion-error { \n",
       "font-weight: bold;\n",
       "color: red;\n",
       "}\n",
       ".suggestion-name {\n",
       "font-weight: bold;\n",
       "}\n",
       "</style><div class=\"suggestion-name\" style=\"clear:both;\">Use catMaybes</div><div class=\"suggestion-row\" style=\"float: left;\"><div class=\"suggestion-warning\">Found:</div><div class=\"highlight-code\" id=\"haskell\">[x | Just x <- xs]</div></div><div class=\"suggestion-row\" style=\"float: left;\"><div class=\"suggestion-warning\">Why Not:</div><div class=\"highlight-code\" id=\"haskell\">Data.Maybe.catMaybes xs</div></div>"
      ],
      "text/plain": [
       "Line 3: Use catMaybes\n",
       "Found:\n",
       "[x | Just x <- xs]\n",
       "Why not:\n",
       "Data.Maybe.catMaybes xs"
      ]
     },
     "metadata": {},
     "output_type": "display_data"
    }
   ],
   "source": [
    "catMaybesP :: [Maybe a] -> [a]\n",
    "catMaybesP [] = []\n",
    "catMaybesP xs = [x | Just x <- xs]"
   ]
  },
  {
   "cell_type": "code",
   "execution_count": 85,
   "metadata": {},
   "outputs": [],
   "source": [
    "maybeP :: b -> (a -> b) -> Maybe a -> b\n",
    "maybeP n _ Nothing = n\n",
    "maybeP _ f (Just x) = f x\n",
    "\n"
   ]
  },
  {
   "cell_type": "code",
   "execution_count": 86,
   "metadata": {},
   "outputs": [],
   "source": [
    "leftsP :: [Either a b] -> [a]\n",
    "leftsP [] = []\n",
    "leftsP xs = [n | Left n <- xs]\n",
    "\n",
    "let xs = [Left 1, Right 4, Right 2, Right 10]\n"
   ]
  },
  {
   "cell_type": "code",
   "execution_count": 92,
   "metadata": {},
   "outputs": [
    {
     "data": {
      "text/plain": [
       "([1],[4,2,10])"
      ]
     },
     "metadata": {},
     "output_type": "display_data"
    }
   ],
   "source": [
    "partitionEithersPBAD :: [Either a b] -> ([a], [b])\n",
    "partitionEithersPBAD n = partitionEithersPBAD' n [] [] where\n",
    "    partitionEithersPBAD' :: [Either a b] -> [a] -> [b] -> ([a], [b])\n",
    "    partitionEithersPBAD' [] l r = (l, r)\n",
    "    partitionEithersPBAD' ((Left x):xs) l r = partitionEithersPBAD' xs (l ++ [x]) r\n",
    "    partitionEithersPBAD' ((Right x):xs) l r = partitionEithersPBAD' xs l (r ++ [x])\n",
    "\n",
    "partitionEithersP :: [Either a b] -> ([a], [b])\n",
    "partitionEithersP [] = ([], [])\n",
    "partitionEithersP xs = ([n | Left n <- xs], [n | Right n <- xs])\n",
    "\n",
    "print(partitionEithersP xs)\n"
   ]
  },
  {
   "cell_type": "code",
   "execution_count": 93,
   "metadata": {},
   "outputs": [],
   "source": [
    "eitherP :: (a -> c) -> (b -> c) -> Either a b -> c\n",
    "eitherP f _ (Left x) = f x\n",
    "eitherP _ g (Right x) = g x\n"
   ]
  },
  {
   "attachments": {},
   "cell_type": "markdown",
   "metadata": {},
   "source": [
    "## Case"
   ]
  },
  {
   "cell_type": "code",
   "execution_count": 97,
   "metadata": {},
   "outputs": [],
   "source": [
    "maybeC :: b -> (a -> b) -> Maybe a -> b\n",
    "maybeC n f x = case x of\n",
    "    Nothing -> n\n",
    "    (Just x) -> f x"
   ]
  },
  {
   "cell_type": "code",
   "execution_count": 88,
   "metadata": {},
   "outputs": [],
   "source": [
    "leftsC :: [Either a b] -> [a]\n",
    "leftsC n = case n of \n",
    "    [] -> []\n",
    "    xs -> [n | Left n <- xs]\n"
   ]
  },
  {
   "cell_type": "code",
   "execution_count": 94,
   "metadata": {},
   "outputs": [],
   "source": [
    "partitionEithersC :: [Either a b] -> ([a], [b])\n",
    "partitionEithersC xs = case xs of\n",
    "    [] -> ([], [])\n",
    "    xs -> ([n | Left n <- xs], [n | Right n <- xs])"
   ]
  },
  {
   "cell_type": "code",
   "execution_count": 95,
   "metadata": {},
   "outputs": [],
   "source": [
    "eitherC :: (a -> c) -> (b -> c) -> Either a b -> c\n",
    "eitherC f g n = case n of \n",
    "    Left n -> f n\n",
    "    Right n -> g n"
   ]
  }
 ],
 "metadata": {
  "kernelspec": {
   "display_name": "Haskell",
   "language": "haskell",
   "name": "haskell"
  },
  "language_info": {
   "name": "haskell"
  },
  "orig_nbformat": 4
 },
 "nbformat": 4,
 "nbformat_minor": 2
}
