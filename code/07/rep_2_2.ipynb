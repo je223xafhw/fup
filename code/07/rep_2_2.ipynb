{
 "cells": [
  {
   "cell_type": "code",
   "execution_count": 11,
   "metadata": {},
   "outputs": [
    {
     "data": {
      "text/plain": [
       "([2],[1])"
      ]
     },
     "metadata": {},
     "output_type": "display_data"
    }
   ],
   "source": [
    "partitionEithers :: [Either a b] -> ([a], [b])\n",
    "partitionEithers xs = ([x | Left x <- xs], [y | Right y <- xs])\n",
    "\n",
    "partitionEithers [Right 1, Left 2]"
   ]
  },
  {
   "cell_type": "code",
   "execution_count": 13,
   "metadata": {},
   "outputs": [],
   "source": [
    "either :: (a -> c) -> (b -> c) -> Either a b -> c\n",
    "either f g (Left x) = f x\n",
    "either f g (Right x) = g x"
   ]
  },
  {
   "cell_type": "code",
   "execution_count": 15,
   "metadata": {},
   "outputs": [
    {
     "data": {
      "text/plain": [
       "[1]"
      ]
     },
     "metadata": {},
     "output_type": "display_data"
    }
   ],
   "source": [
    "catMaybes :: [Maybe a] -> [a]\n",
    "catMaybes xs = [x | Just x <- xs]\n",
    "\n",
    "catMaybes [Just 1, Nothing]"
   ]
  },
  {
   "cell_type": "code",
   "execution_count": 16,
   "metadata": {},
   "outputs": [],
   "source": [
    "maybe :: b -> (a -> b) -> Maybe a -> b\n",
    "maybe n f Nothing = n\n",
    "maybe n f (Just x) = f x"
   ]
  },
  {
   "cell_type": "code",
   "execution_count": 18,
   "metadata": {},
   "outputs": [],
   "source": [
    "lefts :: [Either a b] -> [a]\n",
    "lefts xs = [x | Left x <- xs]"
   ]
  },
  {
   "cell_type": "code",
   "execution_count": 26,
   "metadata": {},
   "outputs": [],
   "source": [
    "data Tree a = Leaf a | Node (Tree a) a (Tree a)\n",
    "\n",
    "\n",
    "instance Show a => Show (Tree a) where\n",
    "    show :: Tree a -> String\n",
    "    show (Leaf a) = \"Leaf \" ++ show a\n",
    "    show (Node l c r) = \"Node (\" ++ show l ++ \") \" ++ show c ++ \" (\" ++ show r ++ \")\"\n",
    " "
   ]
  },
  {
   "cell_type": "code",
   "execution_count": 9,
   "metadata": {},
   "outputs": [],
   "source": [
    "mapTree :: (a -> b) -> Tree a -> Tree b\n",
    "mapTree f (Leaf a) = Leaf (f a)\n",
    "mapTree f (Node l c r) = Node (mapTree f l ) (f c) (mapTree f r)"
   ]
  },
  {
   "cell_type": "code",
   "execution_count": 12,
   "metadata": {},
   "outputs": [],
   "source": [
    "foldTree :: (a -> b) -> (b -> a -> b -> b) -> Tree a -> b\n",
    "foldTree fl fn (Leaf a) = fl a\n",
    "foldTree fl fn (Node l c r) = fn (foldTree fl fn l) c (foldTree fl fn r)"
   ]
  },
  {
   "cell_type": "code",
   "execution_count": 27,
   "metadata": {},
   "outputs": [
    {
     "data": {
      "text/plain": [
       "Node (Leaf 3) 4 (Node (Leaf 3) 6 (Leaf 3))"
      ]
     },
     "metadata": {},
     "output_type": "display_data"
    }
   ],
   "source": [
    "a = Node (Leaf 3) 4 (Node (Leaf 3) 6 (Leaf 3))\n",
    "a"
   ]
  },
  {
   "cell_type": "code",
   "execution_count": 28,
   "metadata": {},
   "outputs": [],
   "source": [
    "flatTree :: Tree (Tree a) -> Tree a\n",
    "flatTree (Leaf t) = t\n",
    "flatTree (Node r c l) = "
   ]
  }
 ],
 "metadata": {
  "kernelspec": {
   "display_name": "Haskell",
   "language": "haskell",
   "name": "haskell"
  },
  "language_info": {
   "codemirror_mode": "ihaskell",
   "file_extension": ".hs",
   "mimetype": "text/x-haskell",
   "name": "haskell",
   "pygments_lexer": "Haskell",
   "version": "9.2.7"
  },
  "orig_nbformat": 4
 },
 "nbformat": 4,
 "nbformat_minor": 2
}
