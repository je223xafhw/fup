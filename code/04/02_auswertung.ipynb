{
 "cells": [
  {
   "cell_type": "code",
   "execution_count": 9,
   "metadata": {},
   "outputs": [
    {
     "data": {
      "text/plain": [
       "3"
      ]
     },
     "metadata": {},
     "output_type": "display_data"
    },
    {
     "data": {
      "text/plain": [
       "[2,4]"
      ]
     },
     "metadata": {},
     "output_type": "display_data"
    }
   ],
   "source": [
    "nats :: Integer -> [Integer]\n",
    "nats n = n : nats (n+1)\n",
    "\n",
    "sieve :: [Integer] -> [Integer]\n",
    "sieve (p:xs) = p : sieve (filter (\\x -> x `mod` p /= 0) xs)\n",
    "\n",
    "primes :: [Integer]\n",
    "primes = sieve (nats 2)\n",
    "\n",
    "(!!) :: [a] -> Int -> a\n",
    "_      !! n | n < 0 = error \"!!: negative index\"\n",
    "[]     !! _         = error \"!!: index too large\"\n",
    "(x:_)  !! 0         = x\n",
    "(_:xs) !! n         = xs !! (n - 1)\n",
    "\n",
    "filter :: (a -> Bool) -> [a] -> [a]\n",
    "filter _pred []    = []\n",
    "filter pred (x:xs)\n",
    "  | pred x         = x : filter pred xs\n",
    "  | otherwise      = filter pred xs\n",
    "\n",
    "primes !! 1\n",
    "\n",
    "\n",
    "\n",
    "-- filter (\\x -> x `mod` 3 /= 0) [2, 3, 4]"
   ]
  },
  {
   "attachments": {},
   "cell_type": "markdown",
   "metadata": {},
   "source": [
    "```haskell\n",
    "p : sieve (filter (\\x -> x `mod` p /= 0) xs)\n",
    "2 : 3 : 5 : 7 : sieve (filter (\\x -> x `mod` p /= 0) (nats 6))\n",
    "\n",
    "\n",
    "2 : sieve (filter (\\x -> x `mod` p /= 0) (nats (3))) \n",
    "3 : sieve (filter (\\x -> x `mod` p /= 0) (nats (4))) \n",
    "4 : sieve (filter (\\x -> x `mod` p /= 0) (nats (5))) \n",
    "5 : sieve (filter (\\x -> x `mod` p /= 0) (...)) \n",
    "==>\n",
    "mit filterP = (filter (\\x -> x `mod` p /= 0)\n",
    "primes = 2 : sieve filterP (3 : nats(4)) : sieve filterP (4 : nats(5)) : sieve filterP nats (5)) )) ))\n",
    "```"
   ]
  },
  {
   "attachments": {},
   "cell_type": "markdown",
   "metadata": {},
   "source": [
    "- er schreibt nur das in den Speicher, was er wirklich braucht, also in diesem Beispiel wird nur die Liste bis 3 berechnet\n",
    "- man muss in funktionsaufrufen und nicht in elementen denken\n",
    "\n",
    "1. in primes wird `sieve (nats 2)` reingegeben\n",
    "2. nats gibt dann `[2, nats 3]` zurück, dh im Speicher ist nicht das Element, sondern der nächste Funktionsaufruf gespeichert\n",
    "   1. dh er schreibt die funktion da rein, aber rechnet sie nicht aus\n",
    "3. in `nats 3` steht `3 : nats 4`\n",
    "4. damit bekommt sieve `[2, nats 3]` und nimmt das erste Element, um danach zu filtern\n",
    "5. die 2 wird nicht gefiltert, sondern einfach an die Liste von sieve vorne angefügt (`primes !! 0 ` mit `sieve (nats 4)` = 4)\n",
    "6. anschliessend wird `nats 3` in `filter` gegeben\n",
    "7. da die 3 die filterbedingung erfüllt, wird das an die liste vorne angefügt\n",
    "\n",
    "\n",
    "\n",
    "1. jede funktion in haskell führt die rekursion nicht bis zum Ende aus, sondern nur solange, wie nötig\n",
    "2. das bedeutet, filter wird nicht bis ins unendliche die Liste ausrechnen, da `!!` in diesem Moment bereits terminiert"
   ]
  }
 ],
 "metadata": {
  "kernelspec": {
   "display_name": "Haskell",
   "language": "haskell",
   "name": "haskell"
  },
  "language_info": {
   "codemirror_mode": "ihaskell",
   "file_extension": ".hs",
   "mimetype": "text/x-haskell",
   "name": "haskell",
   "pygments_lexer": "Haskell",
   "version": "9.2.7"
  },
  "orig_nbformat": 4
 },
 "nbformat": 4,
 "nbformat_minor": 2
}
