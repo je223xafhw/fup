{
 "cells": [
  {
   "attachments": {},
   "cell_type": "markdown",
   "metadata": {},
   "source": [
    "## Vorbereitung\n",
    "\n",
    ":t Just Nothing\n",
    "\n",
    "=> Maybe (Maybe a)"
   ]
  },
  {
   "attachments": {},
   "cell_type": "markdown",
   "metadata": {},
   "source": [
    "`const 0 x` ist eine funktion, die für alle Werte einfach 0 liefert"
   ]
  },
  {
   "cell_type": "code",
   "execution_count": null,
   "metadata": {},
   "outputs": [],
   "source": [
    "-- Nothing :: Maybe a\n",
    "-- Just :: a -> Maybe a\n",
    "-- vordefiniert als `maybe`\n",
    "foldMaybe :: b -> (a -> b) -> Maybe a -> b\n",
    "foldMaybe n f Nothing = n\n",
    "foldMaybe n f (Just a) = f a"
   ]
  },
  {
   "cell_type": "code",
   "execution_count": null,
   "metadata": {},
   "outputs": [],
   "source": [
    "-- Left :: a -> Either a b\n",
    "-- Right :: b -> Either a b\n",
    "foldEither :: (a -> c) -> (b -> c) -> Either a b -> c\n",
    "foldEither l _ (Left x) = l x\n",
    "foldEither _ r (Right x) = r x"
   ]
  },
  {
   "attachments": {},
   "cell_type": "markdown",
   "metadata": {},
   "source": [
    "```\n",
    "map (foldEither id (\\b -> if b then 1 else 0)) [Left 42, Right True, Left False]\n",
    "=> [42,1,0]\n",
    "\n",
    "((+1) (*2)) 7\n",
    "=> 15\n",
    "```\n",
    "d.h es wird immer die hintere funktion zuerst ausgeführt"
   ]
  },
  {
   "cell_type": "code",
   "execution_count": null,
   "metadata": {},
   "outputs": [],
   "source": [
    "(.) :: (b -> c) -> (a -> b) -> a -> c\n",
    "f . g = \\x -> f (g x)\n",
    "-- (.) f g x = f (g x)\n",
    "-- (f . g) x = f (g x)"
   ]
  },
  {
   "attachments": {},
   "cell_type": "markdown",
   "metadata": {},
   "source": [
    "```\n",
    ":t ($)\n",
    "=> (a -> b) -> a -> b\n",
    "\n",
    "const 42 ([2,3] ++ [4,5]) == const 42 $ [2,3] ++ [4,5]\n",
    "=> 42\n",
    "```"
   ]
  },
  {
   "attachments": {},
   "cell_type": "markdown",
   "metadata": {},
   "source": [
    "## Abstrakte Datentypen\n",
    "### Array\n",
    "```\n",
    "putIndex :: Int -> a -> Array a -> Array a\n",
    "getIndex :: Int -> Array a -> Maybe a ODER a\n",
    "```"
   ]
  },
  {
   "cell_type": "code",
   "execution_count": 2,
   "metadata": {},
   "outputs": [
    {
     "data": {
      "text/plain": [
       "\"hallo\""
      ]
     },
     "metadata": {},
     "output_type": "display_data"
    }
   ],
   "source": [
    "type Array a = Int -> a\n",
    "\n",
    "emptyArray :: Array a\n",
    "emptyArray y = error (\"Access to undefined index: \" ++ show y)\n",
    "\n",
    "getIndex :: Int -> Array a -> a\n",
    "getIndex i arr = arr i\n",
    "\n",
    "putIndex :: Int -> a -> Array a -> Array a\n",
    "-- putIndex i x arr = \\j -> if j == i then x else arr j\n",
    "putIndex i x arr j = if j == i then x else arr j\n",
    "\n",
    "removeIndex :: Int -> Array a -> Array a \n",
    "-- das wird nicht removed, sondern an der stelle einfach nur erweitert und dann vorne dran halt steht, dass das nicht mehr da ist. aber im hintergrund gibts das schon noch\n",
    "removeIndex i arr = \\j -> if  j == i then emptyArray j else arr j\n",
    "\n",
    "-- TEST\n",
    "let a = emptyArray\n",
    "let a1 = putIndex 42 True a\n",
    "-- let a1 = \\j -> if j == 42 then True else emptyArray j\n",
    "let a2 = putIndex 73 True a1\n",
    "-- let a2 = \\j -> if j == 73 then True else (\\j -> if j == 42 then True else emptyArray j)\n",
    "let a3 = putIndex 55 False a2\n",
    "-- getIndex 55 a3\n"
   ]
  },
  {
   "attachments": {},
   "cell_type": "markdown",
   "metadata": {},
   "source": [
    "### Liste von Funktionen\n",
    "das ist eine Liste von funktionen, mit den Funktionen [(n -> n+1)...]\n",
    "\n",
    "*Kurzer Exkurs:* \"Hello\" !! 3 = \"l\""
   ]
  },
  {
   "cell_type": "code",
   "execution_count": 25,
   "metadata": {},
   "outputs": [
    {
     "data": {
      "text/plain": [
       "42"
      ]
     },
     "metadata": {},
     "output_type": "display_data"
    }
   ],
   "source": [
    "\n",
    "fun :: Int -> [Int -> Int]\n",
    "fun 0 = []\n",
    "-- fun n = fun (n-1) ++ [\\m -> m+n]\n",
    "fun n = fun (n-1) ++ [(n+)]\n",
    "\n",
    "(fun 10 !! 3) 38\n",
    "-- partiell appliziert"
   ]
  },
  {
   "attachments": {},
   "cell_type": "markdown",
   "metadata": {},
   "source": [
    "### Typklassen\n",
    "`Num, Ord, Eq`"
   ]
  },
  {
   "cell_type": "code",
   "execution_count": 30,
   "metadata": {},
   "outputs": [],
   "source": [
    "data Tree = Leaf Int | Tree :-: Tree\n",
    "\n",
    "-- induktiv über den Datentyp\n",
    "instance Eq Tree where\n",
    "    Leaf x == Leaf y        = x == y\n",
    "    l1 :-: r1 == l2 :-: r2  = l1 == l2 && r1 == r2\n",
    "    _ == _                  = False"
   ]
  },
  {
   "attachments": {},
   "cell_type": "markdown",
   "metadata": {},
   "source": [
    "das ist ganz witzig, hier mache ich jetzt ne neudefinition mit deriving, das hätte ich auch mit `Show` machen können, dann hätte ich mir den Kram bei der `prettyPrintJSON` funktion sparen können"
   ]
  },
  {
   "cell_type": "code",
   "execution_count": 38,
   "metadata": {},
   "outputs": [],
   "source": [
    "-- hier ist es jetzt nich tmehr so einfach, weil ich nicht direkt x mit y vergleichen kann. ich weiss ja nicht, was das für werte sind\n",
    "\n",
    "data T a = L a | T a :+: T a\n",
    "-- deriving (Eq) wäre dasselbe gewesen\n",
    "\n",
    "-- wenn ein eq kontext für a existiert, dann definiere ich jetzt einen für a \n",
    "instance Eq a => Eq (T a) where    \n",
    "    L x == L y              = x == y\n",
    "    l1 :+: r1 == l2 :+: r2  = l1 == l2 && r1 == r2\n",
    "    _ == _                  = False\n",
    "\n",
    "instance Ord a => Ord (T a) where\n",
    "    compare (L _) (_ :+: _) = LT\n",
    "    compare (_ :+: _) (L _) = GT\n",
    "    compare (L x) (L y)     = compare x y\n",
    "    compare (l1 :+: r1) (l2 :+: r2) = case compare l1 l2 of\n",
    "                                        EQ -> compare r1 r2\n",
    "                                        other -> other -- das ist jetzt einfach das ergebnis von compare l1 l2\n",
    "                                        -- LT -> LT\n",
    "                                        -- GT -> GT\n"
   ]
  },
  {
   "attachments": {},
   "cell_type": "markdown",
   "metadata": {},
   "source": [
    "angenommen ich habe eine funtion die induktiv definiert ist als:\n",
    "``` \n",
    "f x = 42 \n",
    "g x = g (f x)\n",
    "```\n",
    "und dann den wert: \n",
    "`f (g 42)`\n",
    "\n",
    "da gibts dann 2 Möglichkeiten\n",
    "\n",
    "outermost               | innermost     |\n",
    "|--|--|\n",
    "42                      | f(g (f 42))   |\n",
    "42                      | f(g 42)       |\n",
    "42                      | f(g (f 42))   |\n",
    "42                      | ...           |\n",
    "haskell                 | andere Sprachen|"
   ]
  },
  {
   "attachments": {},
   "cell_type": "markdown",
   "metadata": {},
   "source": [
    "- das ist krass, weil ich jetzt mit unendlichen Listen arbeiten kann\n",
    "\n",
    "```\n",
    "ones :: [Int]\n",
    "ones = 1 : ones\n",
    "```\n",
    "jetzt kann ich `ones !! 1000000` machen\n",
    "(aber das kann der nicht im speicher anlegen, deshalb ist das performant)\n",
    "\n",
    "\n",
    "- das geht aber mit foldl nicht, weil ich da alles in den akkumulator reinschreiben muss vorher\n",
    "- mit foldr allerdings schon, da ist der akku ja leer am anfang"
   ]
  },
  {
   "attachments": {},
   "cell_type": "markdown",
   "metadata": {},
   "source": [
    "`double(double 3)`\n",
    "LO | LI\n",
    "|--|--|\n",
    "double 3 + double 3 | double (3+3)\n",
    "(3+3) + double 3    | double 6\n",
    "6 + double 3        | 6 + 6\n",
    "6 + (3+3)           | 12\n",
    "6+6                 | -"
   ]
  },
  {
   "cell_type": "code",
   "execution_count": 1,
   "metadata": {},
   "outputs": [
    {
     "data": {
      "text/plain": [
       "31"
      ]
     },
     "metadata": {},
     "output_type": "display_data"
    }
   ],
   "source": [
    "primes :: [Int]\n",
    "primes = sieve [2..]\n",
    "-- primes kann ich auch ausgeben, das ist eine unendliche liste ab 2\n",
    "\n",
    "sieve :: [Int] -> [Int]\n",
    "sieve (p:xs) = p : sieve (filter (\\x -> x `mod` p /= 0) xs)\n",
    "\n",
    "\n",
    "ones:: [Int]\n",
    "ones = 1 : ones\n",
    "\n",
    "-- ones !! 100000000000\n",
    "\n",
    "primes !! 10"
   ]
  }
 ],
 "metadata": {
  "kernelspec": {
   "display_name": "Haskell",
   "language": "haskell",
   "name": "haskell"
  },
  "language_info": {
   "codemirror_mode": "ihaskell",
   "file_extension": ".hs",
   "mimetype": "text/x-haskell",
   "name": "haskell",
   "pygments_lexer": "Haskell",
   "version": "9.2.7"
  },
  "orig_nbformat": 4
 },
 "nbformat": 4,
 "nbformat_minor": 2
}
