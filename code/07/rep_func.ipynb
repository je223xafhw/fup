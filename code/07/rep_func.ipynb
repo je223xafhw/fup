{
 "cells": [
  {
   "cell_type": "code",
   "execution_count": 13,
   "metadata": {},
   "outputs": [],
   "source": [
    "class MyMonad m where\n",
    "    (>>==) :: m a -> (a -> m b) -> m b\n",
    "    return :: a -> m a\n",
    "\n",
    "class MyApplicative f where\n",
    "    pure :: a -> f a\n",
    "    (<**>) :: f (a -> b) -> f a -> f b\n",
    "\n",
    "class MyFunctor f where\n",
    "    fmap :: (a -> b) -> f a -> f b\n",
    "    "
   ]
  },
  {
   "cell_type": "code",
   "execution_count": 14,
   "metadata": {},
   "outputs": [],
   "source": [
    "-- instance Monoid FList a where\n",
    "\n",
    "\n",
    "-- instance Semigroup (FList a) where\n",
    "class MyFunctor f where\n",
    "    fmap :: (a->b) -> f a -> f b\n",
    "\n",
    "class MyMonoid m where\n",
    "    mempty :: m\n",
    "    mappend :: m -> m -> m\n",
    "\n",
    "instance MyFunctor Maybe where\n",
    "    fmap :: (a->b) -> Maybe a -> Maybe b\n",
    "    fmap f (Just a) = Just (f a)\n",
    "    fmap f _ = Nothing\n",
    "\n",
    "instance MyFunctor [] where\n",
    "    fmap :: (a -> b) -> [a] -> [b]\n",
    "    fmap f (x:xs) = f x : fmap f xs\n",
    "    fmap f _ = []\n",
    "\n",
    "\n",
    "instance MyMonoid [a] where\n",
    "    mempty = []\n",
    "    mappend = (++)\n",
    "\n",
    "instance MyMonoid Int where\n",
    "    mempty = 0\n",
    "    mappend = (+)\n",
    "\n",
    "-- data Maybe a = Just a | Nothing\n",
    "-- :i Monoid"
   ]
  },
  {
   "cell_type": "code",
   "execution_count": 80,
   "metadata": {},
   "outputs": [],
   "source": [
    "newtype Env a b = Env (a -> Maybe b)\n",
    "\n",
    "\n",
    "instance MyFunctor (Env a) where\n",
    "    fmap :: (b -> c) -> Env a b -> Env a c\n",
    "    fmap f (Env g) = Env (\\c -> case g c of \n",
    "                                    Nothing -> Nothing\n",
    "                                    Just b -> Just $ f b)\n",
    "\n",
    "\n",
    "instance MyApplicative (Env a) where\n",
    "    pure :: b -> Env a b\n",
    "    pure b = Env (\\_ -> Just b)\n",
    "\n",
    "    (<**>) :: Env a (b -> c) -> Env a b -> Env a c\n",
    "    Env f <**> Env g = Env (\\x -> case g x of\n",
    "                                Just y -> case f x of \n",
    "                                    Just h -> Just $ h y\n",
    "                                    _ -> Nothing\n",
    "                                _ -> Nothing)\n",
    "\n",
    "\n",
    "instance MyMonad (Env r) where\n",
    "    return = pure\n",
    "    (>>==) :: Env r a -> (a -> Env r b) -> Env r b\n",
    "    Env g >>== f = Env (\\x -> case g x of \n",
    "                                    Nothing -> Nothing\n",
    "                                    Just z -> e x where Env e = f z)"
   ]
  }
 ],
 "metadata": {
  "kernelspec": {
   "display_name": "Haskell",
   "language": "haskell",
   "name": "haskell"
  },
  "language_info": {
   "codemirror_mode": "ihaskell",
   "file_extension": ".hs",
   "mimetype": "text/x-haskell",
   "name": "haskell",
   "pygments_lexer": "Haskell",
   "version": "9.2.7"
  },
  "orig_nbformat": 4
 },
 "nbformat": 4,
 "nbformat_minor": 2
}
