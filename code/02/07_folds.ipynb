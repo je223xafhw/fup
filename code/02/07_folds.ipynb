{
 "cells": [
  {
   "cell_type": "code",
   "execution_count": null,
   "metadata": {},
   "outputs": [],
   "source": []
  },
  {
   "attachments": {},
   "cell_type": "markdown",
   "metadata": {},
   "source": [
    "Welche Funktionen werden durch folgende Ausdrücke definiert (umgangssprachlich)?\n",
    "\n",
    "`foldr :: (a -> b -> b) -> b -> [a] -> b`\n",
    "\n",
    "`foldl :: (b -> a -> b) -> b -> [a] -> b`\n",
    "\n",
    "- foldr (:) []: kopieren von werten aus einer liste, wobei die leere Liste, eine leere Liste bleibt\n",
    "- foldl (*) 1: multiplizieren aller werte eines arrays, anfangswert 1\n",
    "- foldr (-) 1: subtrahieren aller werte, von rechts an, endwert -1\n",
    "- foldl (-) 1: subtrahieren aller werte, von links an, endwert -1"
   ]
  },
  {
   "attachments": {},
   "cell_type": "markdown",
   "metadata": {},
   "source": [
    "# foldr\n",
    "\n",
    "- ich gebe zu foldr eine funktion rein, die hat 2 parameter: \n",
    "  - den aktuellen wert, welcher in der liste gerade konkateniert wird und einen akkumulator\n",
    "  - dh wenn ich foldr `(\\x n -> n + 1)` mache, werde ich n jedes mal inkrementieren"
   ]
  },
  {
   "cell_type": "code",
   "execution_count": 2,
   "metadata": {},
   "outputs": [
    {
     "ename": "",
     "evalue": "",
     "output_type": "error",
     "traceback": [
      "<interactive>:5:24: error:\n    • Couldn't match expected type: a -> a\n                  with actual type: [a]\n    • In the second argument of ‘(.)’, namely ‘xs’\n      In the first argument of ‘foldr’, namely ‘((:) . xs)’\n      In the expression: foldr ((:) . xs) []\n    • Relevant bindings include\n        xs :: [a] (bound at <interactive>:5:6)\n        (++) :: [a] -> [a] -> [a] (bound at <interactive>:5:1)"
     ]
    }
   ],
   "source": [
    "length:: [a] -> Int\n",
    "length = foldr add1 0 where\n",
    "    add1 _ n = n + 1\n",
    "\n",
    "-- sum1:: [Int] -> Int\n",
    "-- -- sum1 = foldr (\\x y -> (x+y)) 0\n",
    "-- -- sum1 = foldr (\\x -> (x+)) 0\n",
    "-- sum1 = foldr (+) 0\n",
    "\n",
    "(++) :: [a] -> [a] -> [a]\n",
    "(++) xs ys = foldr (\\x acc -> x++acc) xs ys\n",
    "\n",
    "(++) [1,2,3] [3,4,5]"
   ]
  }
 ],
 "metadata": {
  "kernelspec": {
   "display_name": "Haskell",
   "language": "haskell",
   "name": "haskell"
  },
  "language_info": {
   "codemirror_mode": "ihaskell",
   "file_extension": ".hs",
   "mimetype": "text/x-haskell",
   "name": "haskell",
   "pygments_lexer": "Haskell",
   "version": "9.2.7"
  },
  "orig_nbformat": 4
 },
 "nbformat": 4,
 "nbformat_minor": 2
}
