{
 "cells": [
  {
   "cell_type": "markdown",
   "metadata": {},
   "source": [
    "# BTree"
   ]
  },
  {
   "cell_type": "markdown",
   "metadata": {},
   "source": [
    "## Structure"
   ]
  },
  {
   "cell_type": "code",
   "execution_count": 149,
   "metadata": {},
   "outputs": [],
   "source": [
    "data Btree a = Leaf a | Node (Btree a) (Btree a)\n",
    "\n",
    "bt0 = Node (Leaf 3) (Node (Leaf 3) (Leaf 4))\n",
    "bt1 = Node (Leaf 3) (Node (Leaf 3) (Leaf 4))\n",
    "bt2 = Node (Leaf 4) (Node (Leaf 3) (Leaf 4))\n",
    "bt3 = Node (Leaf 4) (Node (Leaf 3) (Leaf 5))"
   ]
  },
  {
   "cell_type": "code",
   "execution_count": 150,
   "metadata": {},
   "outputs": [],
   "source": [
    "instance Show a => Show (Btree a) where\n",
    "    show :: Btree a -> String\n",
    "    show (Leaf a) = \"Leaf \" ++ show a\n",
    "    show (Node l r) = \"Node (\" ++ show l ++ \") (\" ++ show r ++ \")\""
   ]
  },
  {
   "cell_type": "code",
   "execution_count": 151,
   "metadata": {},
   "outputs": [
    {
     "data": {
      "text/plain": [
       "True"
      ]
     },
     "metadata": {},
     "output_type": "display_data"
    },
    {
     "data": {
      "text/plain": [
       "False"
      ]
     },
     "metadata": {},
     "output_type": "display_data"
    }
   ],
   "source": [
    "instance Eq a => Eq (Btree a) where\n",
    "    (==) :: Btree a -> Btree a -> Bool\n",
    "    (Leaf a) == (Leaf b) = a == b\n",
    "    (Node l1 r1) == (Node l2 r2) = l1 == l2 && r1 == r2\n",
    "    _ == _ = False\n",
    "\n",
    "bt0 == bt1\n",
    "bt1 == bt2"
   ]
  },
  {
   "cell_type": "code",
   "execution_count": 152,
   "metadata": {},
   "outputs": [
    {
     "data": {
      "text/plain": [
       "True"
      ]
     },
     "metadata": {},
     "output_type": "display_data"
    },
    {
     "data": {
      "text/plain": [
       "True"
      ]
     },
     "metadata": {},
     "output_type": "display_data"
    }
   ],
   "source": [
    "instance Ord a => Ord (Btree a) where\n",
    "    compare :: Btree a -> Btree a -> Ordering\n",
    "    (Leaf a) `compare` (Leaf b) = a `compare` b\n",
    "    (Node l1 r1) `compare` (Node l2 r2) = case l1 `compare` l2 of\n",
    "                                                EQ -> r1 `compare` r2\n",
    "                                                o -> o\n",
    "\n",
    "bt1 < bt2\n",
    "bt3 > bt2\n"
   ]
  },
  {
   "cell_type": "code",
   "execution_count": 153,
   "metadata": {},
   "outputs": [
    {
     "data": {
      "text/html": [
       "<style>/* Styles used for the Hoogle display in the pager */\n",
       ".hoogle-doc {\n",
       "display: block;\n",
       "padding-bottom: 1.3em;\n",
       "padding-left: 0.4em;\n",
       "}\n",
       ".hoogle-code {\n",
       "display: block;\n",
       "font-family: monospace;\n",
       "white-space: pre;\n",
       "}\n",
       ".hoogle-text {\n",
       "display: block;\n",
       "}\n",
       ".hoogle-name {\n",
       "color: green;\n",
       "font-weight: bold;\n",
       "}\n",
       ".hoogle-head {\n",
       "font-weight: bold;\n",
       "}\n",
       ".hoogle-sub {\n",
       "display: block;\n",
       "margin-left: 0.4em;\n",
       "}\n",
       ".hoogle-package {\n",
       "font-weight: bold;\n",
       "font-style: italic;\n",
       "}\n",
       ".hoogle-module {\n",
       "font-weight: bold;\n",
       "}\n",
       ".hoogle-class {\n",
       "font-weight: bold;\n",
       "}\n",
       ".get-type {\n",
       "color: green;\n",
       "font-weight: bold;\n",
       "font-family: monospace;\n",
       "display: block;\n",
       "white-space: pre-wrap;\n",
       "}\n",
       ".show-type {\n",
       "color: green;\n",
       "font-weight: bold;\n",
       "font-family: monospace;\n",
       "margin-left: 1em;\n",
       "}\n",
       ".mono {\n",
       "font-family: monospace;\n",
       "display: block;\n",
       "}\n",
       ".err-msg {\n",
       "color: red;\n",
       "font-style: italic;\n",
       "font-family: monospace;\n",
       "white-space: pre;\n",
       "display: block;\n",
       "}\n",
       "#unshowable {\n",
       "color: red;\n",
       "font-weight: bold;\n",
       "}\n",
       ".err-msg.in.collapse {\n",
       "padding-top: 0.7em;\n",
       "}\n",
       ".highlight-code {\n",
       "white-space: pre;\n",
       "font-family: monospace;\n",
       "}\n",
       ".suggestion-warning { \n",
       "font-weight: bold;\n",
       "color: rgb(200, 130, 0);\n",
       "}\n",
       ".suggestion-error { \n",
       "font-weight: bold;\n",
       "color: red;\n",
       "}\n",
       ".suggestion-name {\n",
       "font-weight: bold;\n",
       "}\n",
       "</style><div class=\"suggestion-name\" style=\"clear:both;\">Avoid lambda</div><div class=\"suggestion-row\" style=\"float: left;\"><div class=\"suggestion-warning\">Found:</div><div class=\"highlight-code\" id=\"haskell\">\\ a b -> a + b</div></div><div class=\"suggestion-row\" style=\"float: left;\"><div class=\"suggestion-warning\">Why Not:</div><div class=\"highlight-code\" id=\"haskell\">(+)</div></div>"
      ],
      "text/plain": [
       "Line 5: Avoid lambda\n",
       "Found:\n",
       "\\ a b -> a + b\n",
       "Why not:\n",
       "(+)"
      ]
     },
     "metadata": {},
     "output_type": "display_data"
    },
    {
     "data": {
      "text/plain": [
       "10"
      ]
     },
     "metadata": {},
     "output_type": "display_data"
    }
   ],
   "source": [
    "foldbt :: (a -> b) -> (b -> b -> b) -> Btree a -> b\n",
    "foldbt fl _ (Leaf a) = fl a\n",
    "foldbt fl fn (Node r l) = fn (foldbt fl fn l) (foldbt fl fn r)\n",
    "\n",
    "foldbt id (\\a b -> a + b) bt1"
   ]
  },
  {
   "cell_type": "code",
   "execution_count": 154,
   "metadata": {},
   "outputs": [
    {
     "data": {
      "text/plain": [
       "Node (Leaf 4) (Node (Leaf 4) (Leaf 5))"
      ]
     },
     "metadata": {},
     "output_type": "display_data"
    }
   ],
   "source": [
    "mapbt :: (a -> b) -> Btree a -> Btree b\n",
    "mapbt f (Leaf a) = Leaf $ f a\n",
    "mapbt f (Node l r) = Node (mapbt f l) (mapbt f r)\n",
    "\n",
    "mapbt (+1) bt1"
   ]
  },
  {
   "cell_type": "markdown",
   "metadata": {},
   "source": [
    "## Functor"
   ]
  },
  {
   "cell_type": "code",
   "execution_count": 155,
   "metadata": {},
   "outputs": [
    {
     "data": {
      "text/plain": [
       "Node (Node (Leaf 3) (Leaf 4)) (Node (Node (Leaf 3) (Leaf 4)) (Node (Leaf 4) (Leaf 5)))"
      ]
     },
     "metadata": {},
     "output_type": "display_data"
    },
    {
     "data": {
      "text/plain": [
       "Node (Node (Leaf 3) (Leaf 5)) (Leaf 4)"
      ]
     },
     "metadata": {},
     "output_type": "display_data"
    }
   ],
   "source": [
    "instance Functor Btree where\n",
    "    fmap :: (a -> b) -> Btree a -> Btree b\n",
    "    fmap f (Leaf a) = Leaf $ f a\n",
    "    fmap f (Node l r) = Node (fmap f l) (fmap f l)\n",
    "\n",
    "instance Applicative Btree where\n",
    "    pure :: a -> Btree a\n",
    "    pure = Leaf\n",
    "\n",
    "    (<*>) :: Btree (a -> b) -> Btree a -> Btree b\n",
    "    Leaf f <*> Leaf x = Leaf $ f x\n",
    "    f <*> Node x y = Node (f <*> x) (f <*> y)\n",
    "    -- Leaf f <*> Node x y = Node (f `fmap` x) (f `fmap` y)\n",
    "    _ <*> _ = error \"must provide Leaf with function\"\n",
    "\n",
    "instance Monad Btree where\n",
    "    return = pure\n",
    "    \n",
    "    (>>=) :: Btree a -> (a -> Btree b) -> Btree b\n",
    "    Leaf a >>= f = f a\n",
    "    Node l r >>= f = Node (l >>= \\ll -> f ll) (r >>= \\rr -> f rr)\n",
    "\n",
    "\n",
    "bt0 >>= (\\x -> Node (Leaf x) (Leaf (x + 1)))\n",
    "\n",
    "Leaf (+2) <*> Node (Node (Leaf 1) (Leaf 3)) (Leaf 2)\n",
    "-- Node (Leaf (+1)) (Leaf (2+)) <*> Node (Leaf 1) (Leaf 2)"
   ]
  },
  {
   "cell_type": "markdown",
   "metadata": {},
   "source": [
    "# KTree"
   ]
  },
  {
   "cell_type": "code",
   "execution_count": 156,
   "metadata": {},
   "outputs": [],
   "source": [
    "data Ktree a = KLeaf a | KNode (Ktree a) a (Ktree a)\n",
    "\n",
    "kt0 = KNode (KLeaf 3) 3 (KNode (KLeaf 3) 4 (KLeaf 4))\n",
    "kt1 = KNode (KLeaf 3) 3 (KNode (KLeaf 3) 4 (KLeaf 4))\n",
    "kt2 = KNode (KLeaf 3) 4 (KNode (KLeaf 3) 4 (KLeaf 4))\n",
    "kt3 = KNode (KLeaf 2) 3 (KNode (KLeaf 3) 4 (KLeaf 4))"
   ]
  },
  {
   "cell_type": "code",
   "execution_count": 157,
   "metadata": {},
   "outputs": [
    {
     "data": {
      "text/plain": [
       "Node (Leaf 3) 3 (Node (Leaf 3) 4 (Leaf 4))"
      ]
     },
     "metadata": {},
     "output_type": "display_data"
    }
   ],
   "source": [
    "instance Show a => Show (Ktree a) where\n",
    "    show :: Ktree a -> String\n",
    "    show (KLeaf a) = \"Leaf \" ++ show a\n",
    "    show (KNode l c r) = \"Node (\" ++ show l ++ \") \" ++ show c ++ \" (\" ++ show r ++ \")\"\n",
    "\n",
    "kt1"
   ]
  },
  {
   "cell_type": "code",
   "execution_count": 158,
   "metadata": {},
   "outputs": [
    {
     "data": {
      "text/plain": [
       "True"
      ]
     },
     "metadata": {},
     "output_type": "display_data"
    },
    {
     "data": {
      "text/plain": [
       "False"
      ]
     },
     "metadata": {},
     "output_type": "display_data"
    }
   ],
   "source": [
    "instance Eq a => Eq (Ktree a) where\n",
    "    (KLeaf a) == (KLeaf b) = a == b\n",
    "    (KNode l1 c1 r1) == (KNode l2 c2 r2) = c1 == c2 && l1 == l2 && r1 == r2\n",
    "    _ == _ = False\n",
    "\n",
    "kt0 == kt1\n",
    "kt1 == kt2"
   ]
  },
  {
   "cell_type": "code",
   "execution_count": 159,
   "metadata": {},
   "outputs": [
    {
     "data": {
      "text/plain": [
       "False"
      ]
     },
     "metadata": {},
     "output_type": "display_data"
    },
    {
     "data": {
      "text/plain": [
       "True"
      ]
     },
     "metadata": {},
     "output_type": "display_data"
    },
    {
     "data": {
      "text/plain": [
       "True"
      ]
     },
     "metadata": {},
     "output_type": "display_data"
    }
   ],
   "source": [
    "instance Ord a => Ord (Ktree a) where\n",
    "    (KLeaf a) `compare` (KLeaf b) = a `compare` b\n",
    "    (KNode l1 c1 r1) `compare` (KNode l2 c2 r2) = case c1 `compare`c2 of \n",
    "                                    EQ -> case l1 `compare` l2 of \n",
    "                                        EQ -> r1 `compare` r2\n",
    "                                        o -> o\n",
    "                                    o -> o\n",
    "\n",
    "\n",
    "\n",
    "kt0 > kt1\n",
    "kt2 > kt1\n",
    "kt3 < kt2"
   ]
  },
  {
   "cell_type": "code",
   "execution_count": 160,
   "metadata": {},
   "outputs": [
    {
     "data": {
      "text/plain": [
       "17"
      ]
     },
     "metadata": {},
     "output_type": "display_data"
    }
   ],
   "source": [
    "foldkt :: (a -> b) -> (b -> a -> b -> b) -> Ktree a -> b\n",
    "foldkt fl _ (KLeaf a) = fl a\n",
    "foldkt fl fn (KNode l a r) = fn (foldkt fl fn l) a (foldkt fl fn r)\n",
    "\n",
    "foldkt id (\\l a r -> l + a + r ) kt0"
   ]
  },
  {
   "cell_type": "code",
   "execution_count": 161,
   "metadata": {},
   "outputs": [
    {
     "data": {
      "text/plain": [
       "Node (Leaf \"3\") \"3\" (Node (Leaf \"3\") \"4\" (Leaf \"4\"))"
      ]
     },
     "metadata": {},
     "output_type": "display_data"
    }
   ],
   "source": [
    "mapkt :: (a -> b) -> Ktree a -> Ktree b\n",
    "mapkt f (KLeaf a) = KLeaf $ f a\n",
    "mapkt f (KNode l c r) = KNode (mapkt f l) (f c) (mapkt f r)\n",
    "\n",
    "mapkt show kt0"
   ]
  },
  {
   "cell_type": "markdown",
   "metadata": {},
   "source": [
    "## Functor"
   ]
  },
  {
   "cell_type": "code",
   "execution_count": 162,
   "metadata": {},
   "outputs": [],
   "source": [
    "instance Functor Ktree where\n",
    "    fmap :: (a -> b) -> Ktree a -> Ktree b\n",
    "    fmap f (KLeaf x) = KLeaf $ f x\n",
    "    fmap f (KNode l c r) = KNode (fmap f l) (f c) (fmap f r)\n",
    "\n",
    "instance Applicative Ktree where\n",
    "    pure :: a -> Ktree a\n",
    "    pure = KLeaf\n",
    "\n",
    "    (<*>) :: Ktree (a -> b) -> Ktree a -> Ktree b\n",
    "    KLeaf f <*> KLeaf x = KLeaf $ f x\n",
    "    KLeaf f <*> KNode l c r = KNode (f <$> l) (f c) (f <$> r)\n",
    "    _ <*> _ = error \"must provide Leaf with function\"\n",
    "\n",
    "instance Monad Ktree where\n",
    "    return = pure\n",
    "    \n",
    "    (>>=) :: Ktree a -> (a -> Ktree b) -> Ktree b\n",
    "    KLeaf a >>= f = f a\n",
    "    KNode l c r >>= f = KNode (l >>= \\ll -> f ll) m (r >>= \\rr -> f rr) where (KLeaf m) = f c"
   ]
  },
  {
   "cell_type": "markdown",
   "metadata": {},
   "source": [
    "# RTree"
   ]
  },
  {
   "cell_type": "code",
   "execution_count": 163,
   "metadata": {},
   "outputs": [],
   "source": [
    "data Rtree a = Rtree a [Rtree a]\n",
    "\n",
    "rt0 = Rtree 1 [Rtree 21 [], Rtree 22 [], Rtree 23 [Rtree 51 [], Rtree 52 []], Rtree 24 []]"
   ]
  },
  {
   "cell_type": "code",
   "execution_count": 164,
   "metadata": {},
   "outputs": [
    {
     "data": {
      "text/plain": [
       "Rtree 1 [Rtree 21 [], Rtree 22 [], Rtree 23 [Rtree 51 [], Rtree 52 [], ] Rtree 24 [], ]"
      ]
     },
     "metadata": {},
     "output_type": "display_data"
    }
   ],
   "source": [
    "instance Show a => Show (Rtree a) where\n",
    "    show :: Rtree a -> String\n",
    "    show (Rtree a xs) = case length xs of\n",
    "                0 -> \"Rtree \" ++ show a ++ \" [], \"\n",
    "                other -> \"Rtree \" ++ show a ++ \" [\" ++ concatMap show xs ++ \"] \"\n",
    "\n",
    "rt0"
   ]
  },
  {
   "cell_type": "code",
   "execution_count": 165,
   "metadata": {},
   "outputs": [],
   "source": [
    "instance Eq a => Eq (Rtree a) where\n",
    "    (==) :: Rtree a -> Rtree a -> Bool\n",
    "    Rtree a as == Rtree b bs = a == b && as == bs"
   ]
  },
  {
   "cell_type": "code",
   "execution_count": 166,
   "metadata": {},
   "outputs": [],
   "source": [
    "instance Ord a => Ord (Rtree a) where\n",
    "    compare :: Rtree a -> Rtree a -> Ordering\n",
    "    Rtree a as `compare` Rtree b bs = case a `compare` b of\n",
    "                            EQ -> EQ\n",
    "                            other -> as `compare` bs"
   ]
  },
  {
   "cell_type": "code",
   "execution_count": 167,
   "metadata": {},
   "outputs": [
    {
     "data": {
      "text/html": [
       "<style>/* Styles used for the Hoogle display in the pager */\n",
       ".hoogle-doc {\n",
       "display: block;\n",
       "padding-bottom: 1.3em;\n",
       "padding-left: 0.4em;\n",
       "}\n",
       ".hoogle-code {\n",
       "display: block;\n",
       "font-family: monospace;\n",
       "white-space: pre;\n",
       "}\n",
       ".hoogle-text {\n",
       "display: block;\n",
       "}\n",
       ".hoogle-name {\n",
       "color: green;\n",
       "font-weight: bold;\n",
       "}\n",
       ".hoogle-head {\n",
       "font-weight: bold;\n",
       "}\n",
       ".hoogle-sub {\n",
       "display: block;\n",
       "margin-left: 0.4em;\n",
       "}\n",
       ".hoogle-package {\n",
       "font-weight: bold;\n",
       "font-style: italic;\n",
       "}\n",
       ".hoogle-module {\n",
       "font-weight: bold;\n",
       "}\n",
       ".hoogle-class {\n",
       "font-weight: bold;\n",
       "}\n",
       ".get-type {\n",
       "color: green;\n",
       "font-weight: bold;\n",
       "font-family: monospace;\n",
       "display: block;\n",
       "white-space: pre-wrap;\n",
       "}\n",
       ".show-type {\n",
       "color: green;\n",
       "font-weight: bold;\n",
       "font-family: monospace;\n",
       "margin-left: 1em;\n",
       "}\n",
       ".mono {\n",
       "font-family: monospace;\n",
       "display: block;\n",
       "}\n",
       ".err-msg {\n",
       "color: red;\n",
       "font-style: italic;\n",
       "font-family: monospace;\n",
       "white-space: pre;\n",
       "display: block;\n",
       "}\n",
       "#unshowable {\n",
       "color: red;\n",
       "font-weight: bold;\n",
       "}\n",
       ".err-msg.in.collapse {\n",
       "padding-top: 0.7em;\n",
       "}\n",
       ".highlight-code {\n",
       "white-space: pre;\n",
       "font-family: monospace;\n",
       "}\n",
       ".suggestion-warning { \n",
       "font-weight: bold;\n",
       "color: rgb(200, 130, 0);\n",
       "}\n",
       ".suggestion-error { \n",
       "font-weight: bold;\n",
       "color: red;\n",
       "}\n",
       ".suggestion-name {\n",
       "font-weight: bold;\n",
       "}\n",
       "</style><div class=\"suggestion-name\" style=\"clear:both;\">Avoid lambda</div><div class=\"suggestion-row\" style=\"float: left;\"><div class=\"suggestion-warning\">Found:</div><div class=\"highlight-code\" id=\"haskell\">\\ x -> foldrt f x</div></div><div class=\"suggestion-row\" style=\"float: left;\"><div class=\"suggestion-warning\">Why Not:</div><div class=\"highlight-code\" id=\"haskell\">foldrt f</div></div><div class=\"suggestion-name\" style=\"clear:both;\">Redundant bracket</div><div class=\"suggestion-row\" style=\"float: left;\"><div class=\"suggestion-warning\">Found:</div><div class=\"highlight-code\" id=\"haskell\">(xs)</div></div><div class=\"suggestion-row\" style=\"float: left;\"><div class=\"suggestion-warning\">Why Not:</div><div class=\"highlight-code\" id=\"haskell\">xs</div></div>"
      ],
      "text/plain": [
       "Line 3: Avoid lambda\n",
       "Found:\n",
       "\\ x -> foldrt f x\n",
       "Why not:\n",
       "foldrt fLine 6: Redundant bracket\n",
       "Found:\n",
       "(xs)\n",
       "Why not:\n",
       "xs"
      ]
     },
     "metadata": {},
     "output_type": "display_data"
    },
    {
     "data": {
      "text/plain": [
       "\"1[\\\"21[]\\\",\\\"22[]\\\",\\\"23[\\\\\\\"51[]\\\\\\\",\\\\\\\"52[]\\\\\\\"]\\\",\\\"24[]\\\"]\""
      ]
     },
     "metadata": {},
     "output_type": "display_data"
    },
    {
     "data": {
      "text/plain": [
       "194"
      ]
     },
     "metadata": {},
     "output_type": "display_data"
    }
   ],
   "source": [
    "foldrt :: (a -> [b] -> b) -> Rtree a -> b\n",
    "foldrt f (Rtree a []) = f a []\n",
    "foldrt f (Rtree a xs) = f a (map (\\x -> foldrt f x) xs)\n",
    "\n",
    "foldrt (\\a xs -> show a ++ show xs) rt0\n",
    "foldrt (\\a xs -> a + sum(xs)) rt0"
   ]
  },
  {
   "cell_type": "markdown",
   "metadata": {},
   "source": [
    "## Functor"
   ]
  },
  {
   "cell_type": "code",
   "execution_count": 169,
   "metadata": {},
   "outputs": [
    {
     "data": {
      "text/plain": [
       "[3,4,4,5]"
      ]
     },
     "metadata": {},
     "output_type": "display_data"
    },
    {
     "data": {
      "text/plain": [
       "Rtree 1 [Rtree 3 [], Rtree 4 [], Rtree 4 [], Rtree 5 [], ]"
      ]
     },
     "metadata": {},
     "output_type": "display_data"
    },
    {
     "data": {
      "text/plain": [
       "[\"[1,2]\",\"[3,4]\"]"
      ]
     },
     "metadata": {},
     "output_type": "display_data"
    }
   ],
   "source": [
    "instance Functor Rtree where\n",
    "    fmap :: (a -> b) -> Rtree a -> Rtree b\n",
    "    fmap f (Rtree a []) = Rtree (f a) []\n",
    "    fmap f (Rtree a as) = Rtree (f a) (fmap (fmap f) as)\n",
    "\n",
    "instance Applicative Rtree where\n",
    "    pure :: a -> Rtree a\n",
    "    pure a = Rtree a []\n",
    "\n",
    "    (<*>) :: Rtree (a -> b) -> Rtree a -> Rtree b\n",
    "    Rtree f fs <*> Rtree a as = Rtree (f a) [g <*> b | g <- fs, b <- as]\n",
    "\n",
    "instance Monad Rtree where\n",
    "    return = pure\n",
    "\n",
    "    (>>=) :: Rtree a -> (a -> Rtree b) -> Rtree b\n",
    "    Rtree a as >>= f = Rtree m [f b | Rtree b bs <- as] where Rtree m [] = f a\n",
    "\n",
    "[(+1), (+2)] <*> [2, 3]\n",
    "\n",
    "Rtree (+1) [Rtree (+1) [], Rtree (+2) []] <*> Rtree 0 [Rtree 2 [], Rtree 3 []]\n",
    "\n",
    "[[1, 2], [3,4]] >>= (\\x -> [show x])\n",
    "\n",
    "-- Rtree (0 ::Int) [Rtree 2 [], Rtree 3 []] >>= (\\(Rtree a as) -> Rtree (show a) [pure (show b) | b <- as])\n"
   ]
  },
  {
   "cell_type": "code",
   "execution_count": 170,
   "metadata": {},
   "outputs": [
    {
     "data": {
      "text/plain": [
       "Just 6"
      ]
     },
     "metadata": {},
     "output_type": "display_data"
    }
   ],
   "source": [
    "fmap (+1) (Just 5)"
   ]
  },
  {
   "cell_type": "code",
   "execution_count": 171,
   "metadata": {},
   "outputs": [
    {
     "data": {
      "text/plain": [
       "Just 6"
      ]
     },
     "metadata": {},
     "output_type": "display_data"
    }
   ],
   "source": [
    "Just (+1) <*> Just 5"
   ]
  },
  {
   "cell_type": "markdown",
   "metadata": {},
   "source": [
    "# More functions"
   ]
  },
  {
   "cell_type": "code",
   "execution_count": 225,
   "metadata": {},
   "outputs": [
    {
     "data": {
      "text/html": [
       "<style>/* Styles used for the Hoogle display in the pager */\n",
       ".hoogle-doc {\n",
       "display: block;\n",
       "padding-bottom: 1.3em;\n",
       "padding-left: 0.4em;\n",
       "}\n",
       ".hoogle-code {\n",
       "display: block;\n",
       "font-family: monospace;\n",
       "white-space: pre;\n",
       "}\n",
       ".hoogle-text {\n",
       "display: block;\n",
       "}\n",
       ".hoogle-name {\n",
       "color: green;\n",
       "font-weight: bold;\n",
       "}\n",
       ".hoogle-head {\n",
       "font-weight: bold;\n",
       "}\n",
       ".hoogle-sub {\n",
       "display: block;\n",
       "margin-left: 0.4em;\n",
       "}\n",
       ".hoogle-package {\n",
       "font-weight: bold;\n",
       "font-style: italic;\n",
       "}\n",
       ".hoogle-module {\n",
       "font-weight: bold;\n",
       "}\n",
       ".hoogle-class {\n",
       "font-weight: bold;\n",
       "}\n",
       ".get-type {\n",
       "color: green;\n",
       "font-weight: bold;\n",
       "font-family: monospace;\n",
       "display: block;\n",
       "white-space: pre-wrap;\n",
       "}\n",
       ".show-type {\n",
       "color: green;\n",
       "font-weight: bold;\n",
       "font-family: monospace;\n",
       "margin-left: 1em;\n",
       "}\n",
       ".mono {\n",
       "font-family: monospace;\n",
       "display: block;\n",
       "}\n",
       ".err-msg {\n",
       "color: red;\n",
       "font-style: italic;\n",
       "font-family: monospace;\n",
       "white-space: pre;\n",
       "display: block;\n",
       "}\n",
       "#unshowable {\n",
       "color: red;\n",
       "font-weight: bold;\n",
       "}\n",
       ".err-msg.in.collapse {\n",
       "padding-top: 0.7em;\n",
       "}\n",
       ".highlight-code {\n",
       "white-space: pre;\n",
       "font-family: monospace;\n",
       "}\n",
       ".suggestion-warning { \n",
       "font-weight: bold;\n",
       "color: rgb(200, 130, 0);\n",
       "}\n",
       ".suggestion-error { \n",
       "font-weight: bold;\n",
       "color: red;\n",
       "}\n",
       ".suggestion-name {\n",
       "font-weight: bold;\n",
       "}\n",
       "</style><div class=\"suggestion-name\" style=\"clear:both;\">Redundant bracket</div><div class=\"suggestion-row\" style=\"float: left;\"><div class=\"suggestion-warning\">Found:</div><div class=\"highlight-code\" id=\"haskell\">let\n",
       "  lt = nt x n\n",
       "  ml = maxTree lt n\n",
       "  lr = nt y ml\n",
       "  mr = maxTree lr ml\n",
       "in (ENode lt (mr + 1, c) lr)</div></div><div class=\"suggestion-row\" style=\"float: left;\"><div class=\"suggestion-warning\">Why Not:</div><div class=\"highlight-code\" id=\"haskell\">let\n",
       "  lt = nt x n\n",
       "  ml = maxTree lt n\n",
       "  lr = nt y ml\n",
       "  mr = maxTree lr ml\n",
       "in ENode lt (mr + 1, c) lr</div></div>"
      ],
      "text/plain": [
       "Line 14: Redundant bracket\n",
       "Found:\n",
       "let\n",
       "  lt = nt x n\n",
       "  ml = maxTree lt n\n",
       "  lr = nt y ml\n",
       "  mr = maxTree lr ml\n",
       "in (ENode lt (mr + 1, c) lr)\n",
       "Why not:\n",
       "let\n",
       "  lt = nt x n\n",
       "  ml = maxTree lt n\n",
       "  lr = nt y ml\n",
       "  mr = maxTree lr ml\n",
       "in ENode lt (mr + 1, c) lr"
      ]
     },
     "metadata": {},
     "output_type": "display_data"
    },
    {
     "data": {
      "text/plain": [
       "10"
      ]
     },
     "metadata": {},
     "output_type": "display_data"
    }
   ],
   "source": [
    "data Etree a = Empty | ENode (Etree a) a (Etree a) deriving Show\n",
    "\n",
    "numberTree :: Etree a -> Etree (Int, a)\n",
    "numberTree t = nt t 0 where\n",
    "    nt :: Etree a -> Int -> Etree (Int, a)\n",
    "    nt (ENode Empty c Empty) n = ENode Empty (n,c) Empty\n",
    "    -- nt (ENode x c y) n = (ENode (nt x (n+1)) (n,c) (nt y (n+1)))\n",
    "    nt (ENode x c y) n = let \n",
    "                        lt = nt x n\n",
    "                        ml = maxTree lt n\n",
    "                        lr = nt y ml\n",
    "                        mr = maxTree lr ml\n",
    "                        in\n",
    "                        (ENode lt (mr + 1, c) lr)\n",
    "\n",
    "\n",
    "maxTree :: Etree (Int, a) -> Int -> Int\n",
    "maxTree Empty n = n\n",
    "maxTree (ENode r (nc,c) l) n = max (max (maxTree r n) (maxTree l n)) nc\n",
    "\n",
    "a = ENode (ENode Empty 2 Empty) 3 (ENode Empty 6 Empty)\n",
    "b = ENode (ENode Empty (6,3) Empty) (2,3) (ENode Empty (10,1) Empty)\n",
    "\n",
    "-- numberTree a\n",
    "maxTree b 0"
   ]
  }
 ],
 "metadata": {
  "kernelspec": {
   "display_name": "Haskell",
   "language": "haskell",
   "name": "haskell"
  },
  "language_info": {
   "codemirror_mode": "ihaskell",
   "file_extension": ".hs",
   "mimetype": "text/x-haskell",
   "name": "haskell",
   "pygments_lexer": "Haskell",
   "version": "9.2.7"
  },
  "orig_nbformat": 4
 },
 "nbformat": 4,
 "nbformat_minor": 2
}
