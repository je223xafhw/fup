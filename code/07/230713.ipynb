{
 "cells": [
  {
   "cell_type": "markdown",
   "metadata": {},
   "source": [
    "## function auf listen"
   ]
  },
  {
   "cell_type": "code",
   "execution_count": 14,
   "metadata": {},
   "outputs": [
    {
     "data": {
      "text/plain": [
       "Just 10"
      ]
     },
     "metadata": {},
     "output_type": "display_data"
    }
   ],
   "source": [
    "maxlist :: Ord a => [a] -> Maybe a\n",
    "maxlist [] = Nothing\n",
    "maxlist [x] = return x\n",
    "maxlist (x:xs) = maxlist xs >>= \\y -> return $ max x y\n",
    "\n",
    "maxlist (10:[1..3])"
   ]
  },
  {
   "cell_type": "markdown",
   "metadata": {},
   "source": [
    "## mit applicative"
   ]
  },
  {
   "cell_type": "code",
   "execution_count": 16,
   "metadata": {},
   "outputs": [
    {
     "data": {
      "text/html": [
       "<style>/* Styles used for the Hoogle display in the pager */\n",
       ".hoogle-doc {\n",
       "display: block;\n",
       "padding-bottom: 1.3em;\n",
       "padding-left: 0.4em;\n",
       "}\n",
       ".hoogle-code {\n",
       "display: block;\n",
       "font-family: monospace;\n",
       "white-space: pre;\n",
       "}\n",
       ".hoogle-text {\n",
       "display: block;\n",
       "}\n",
       ".hoogle-name {\n",
       "color: green;\n",
       "font-weight: bold;\n",
       "}\n",
       ".hoogle-head {\n",
       "font-weight: bold;\n",
       "}\n",
       ".hoogle-sub {\n",
       "display: block;\n",
       "margin-left: 0.4em;\n",
       "}\n",
       ".hoogle-package {\n",
       "font-weight: bold;\n",
       "font-style: italic;\n",
       "}\n",
       ".hoogle-module {\n",
       "font-weight: bold;\n",
       "}\n",
       ".hoogle-class {\n",
       "font-weight: bold;\n",
       "}\n",
       ".get-type {\n",
       "color: green;\n",
       "font-weight: bold;\n",
       "font-family: monospace;\n",
       "display: block;\n",
       "white-space: pre-wrap;\n",
       "}\n",
       ".show-type {\n",
       "color: green;\n",
       "font-weight: bold;\n",
       "font-family: monospace;\n",
       "margin-left: 1em;\n",
       "}\n",
       ".mono {\n",
       "font-family: monospace;\n",
       "display: block;\n",
       "}\n",
       ".err-msg {\n",
       "color: red;\n",
       "font-style: italic;\n",
       "font-family: monospace;\n",
       "white-space: pre;\n",
       "display: block;\n",
       "}\n",
       "#unshowable {\n",
       "color: red;\n",
       "font-weight: bold;\n",
       "}\n",
       ".err-msg.in.collapse {\n",
       "padding-top: 0.7em;\n",
       "}\n",
       ".highlight-code {\n",
       "white-space: pre;\n",
       "font-family: monospace;\n",
       "}\n",
       ".suggestion-warning { \n",
       "font-weight: bold;\n",
       "color: rgb(200, 130, 0);\n",
       "}\n",
       ".suggestion-error { \n",
       "font-weight: bold;\n",
       "color: red;\n",
       "}\n",
       ".suggestion-name {\n",
       "font-weight: bold;\n",
       "}\n",
       "</style><div class=\"suggestion-name\" style=\"clear:both;\">Redundant <$></div><div class=\"suggestion-row\" style=\"float: left;\"><div class=\"suggestion-warning\">Found:</div><div class=\"highlight-code\" id=\"haskell\">max <$> pure x</div></div><div class=\"suggestion-row\" style=\"float: left;\"><div class=\"suggestion-warning\">Why Not:</div><div class=\"highlight-code\" id=\"haskell\">pure (max x)</div></div>"
      ],
      "text/plain": [
       "Line 4: Redundant <$>\n",
       "Found:\n",
       "max <$> pure x\n",
       "Why not:\n",
       "pure (max x)"
      ]
     },
     "metadata": {},
     "output_type": "display_data"
    },
    {
     "data": {
      "text/plain": [
       "Just 10"
      ]
     },
     "metadata": {},
     "output_type": "display_data"
    }
   ],
   "source": [
    "maxlist :: Ord a => [a] -> Maybe a\n",
    "maxlist [] = Nothing\n",
    "maxlist [x] = return x\n",
    "maxlist (x:xs) = max <$> pure x <*> maxlist xs\n",
    "\n",
    "maxlist (10:[1..3])"
   ]
  },
  {
   "cell_type": "markdown",
   "metadata": {},
   "source": [
    "## verallgemeinern"
   ]
  },
  {
   "cell_type": "code",
   "execution_count": 10,
   "metadata": {},
   "outputs": [],
   "source": [
    "import Control.Monad\n",
    "import Control.Applicative"
   ]
  },
  {
   "cell_type": "code",
   "execution_count": 17,
   "metadata": {},
   "outputs": [
    {
     "data": {
      "text/html": [
       "<style>/* Styles used for the Hoogle display in the pager */\n",
       ".hoogle-doc {\n",
       "display: block;\n",
       "padding-bottom: 1.3em;\n",
       "padding-left: 0.4em;\n",
       "}\n",
       ".hoogle-code {\n",
       "display: block;\n",
       "font-family: monospace;\n",
       "white-space: pre;\n",
       "}\n",
       ".hoogle-text {\n",
       "display: block;\n",
       "}\n",
       ".hoogle-name {\n",
       "color: green;\n",
       "font-weight: bold;\n",
       "}\n",
       ".hoogle-head {\n",
       "font-weight: bold;\n",
       "}\n",
       ".hoogle-sub {\n",
       "display: block;\n",
       "margin-left: 0.4em;\n",
       "}\n",
       ".hoogle-package {\n",
       "font-weight: bold;\n",
       "font-style: italic;\n",
       "}\n",
       ".hoogle-module {\n",
       "font-weight: bold;\n",
       "}\n",
       ".hoogle-class {\n",
       "font-weight: bold;\n",
       "}\n",
       ".get-type {\n",
       "color: green;\n",
       "font-weight: bold;\n",
       "font-family: monospace;\n",
       "display: block;\n",
       "white-space: pre-wrap;\n",
       "}\n",
       ".show-type {\n",
       "color: green;\n",
       "font-weight: bold;\n",
       "font-family: monospace;\n",
       "margin-left: 1em;\n",
       "}\n",
       ".mono {\n",
       "font-family: monospace;\n",
       "display: block;\n",
       "}\n",
       ".err-msg {\n",
       "color: red;\n",
       "font-style: italic;\n",
       "font-family: monospace;\n",
       "white-space: pre;\n",
       "display: block;\n",
       "}\n",
       "#unshowable {\n",
       "color: red;\n",
       "font-weight: bold;\n",
       "}\n",
       ".err-msg.in.collapse {\n",
       "padding-top: 0.7em;\n",
       "}\n",
       ".highlight-code {\n",
       "white-space: pre;\n",
       "font-family: monospace;\n",
       "}\n",
       ".suggestion-warning { \n",
       "font-weight: bold;\n",
       "color: rgb(200, 130, 0);\n",
       "}\n",
       ".suggestion-error { \n",
       "font-weight: bold;\n",
       "color: red;\n",
       "}\n",
       ".suggestion-name {\n",
       "font-weight: bold;\n",
       "}\n",
       "</style><div class=\"suggestion-name\" style=\"clear:both;\">Redundant <$></div><div class=\"suggestion-row\" style=\"float: left;\"><div class=\"suggestion-warning\">Found:</div><div class=\"highlight-code\" id=\"haskell\">max <$> pure x</div></div><div class=\"suggestion-row\" style=\"float: left;\"><div class=\"suggestion-warning\">Why Not:</div><div class=\"highlight-code\" id=\"haskell\">pure (max x)</div></div>"
      ],
      "text/plain": [
       "Line 4: Redundant <$>\n",
       "Found:\n",
       "max <$> pure x\n",
       "Why not:\n",
       "pure (max x)"
      ]
     },
     "metadata": {},
     "output_type": "display_data"
    },
    {
     "data": {
      "text/plain": [
       "10"
      ]
     },
     "metadata": {},
     "output_type": "display_data"
    }
   ],
   "source": [
    "maxlist :: (MonadPlus m, Ord a) => [a] -> m a\n",
    "maxlist [] = mzero\n",
    "maxlist [x] = return x\n",
    "maxlist (x:xs) = max <$> pure x <*> maxlist xs\n",
    "\n",
    "maxlist (10:[1..3])"
   ]
  },
  {
   "cell_type": "code",
   "execution_count": 22,
   "metadata": {},
   "outputs": [
    {
     "data": {
      "text/html": [
       "<style>/* Styles used for the Hoogle display in the pager */\n",
       ".hoogle-doc {\n",
       "display: block;\n",
       "padding-bottom: 1.3em;\n",
       "padding-left: 0.4em;\n",
       "}\n",
       ".hoogle-code {\n",
       "display: block;\n",
       "font-family: monospace;\n",
       "white-space: pre;\n",
       "}\n",
       ".hoogle-text {\n",
       "display: block;\n",
       "}\n",
       ".hoogle-name {\n",
       "color: green;\n",
       "font-weight: bold;\n",
       "}\n",
       ".hoogle-head {\n",
       "font-weight: bold;\n",
       "}\n",
       ".hoogle-sub {\n",
       "display: block;\n",
       "margin-left: 0.4em;\n",
       "}\n",
       ".hoogle-package {\n",
       "font-weight: bold;\n",
       "font-style: italic;\n",
       "}\n",
       ".hoogle-module {\n",
       "font-weight: bold;\n",
       "}\n",
       ".hoogle-class {\n",
       "font-weight: bold;\n",
       "}\n",
       ".get-type {\n",
       "color: green;\n",
       "font-weight: bold;\n",
       "font-family: monospace;\n",
       "display: block;\n",
       "white-space: pre-wrap;\n",
       "}\n",
       ".show-type {\n",
       "color: green;\n",
       "font-weight: bold;\n",
       "font-family: monospace;\n",
       "margin-left: 1em;\n",
       "}\n",
       ".mono {\n",
       "font-family: monospace;\n",
       "display: block;\n",
       "}\n",
       ".err-msg {\n",
       "color: red;\n",
       "font-style: italic;\n",
       "font-family: monospace;\n",
       "white-space: pre;\n",
       "display: block;\n",
       "}\n",
       "#unshowable {\n",
       "color: red;\n",
       "font-weight: bold;\n",
       "}\n",
       ".err-msg.in.collapse {\n",
       "padding-top: 0.7em;\n",
       "}\n",
       ".highlight-code {\n",
       "white-space: pre;\n",
       "font-family: monospace;\n",
       "}\n",
       ".suggestion-warning { \n",
       "font-weight: bold;\n",
       "color: rgb(200, 130, 0);\n",
       "}\n",
       ".suggestion-error { \n",
       "font-weight: bold;\n",
       "color: red;\n",
       "}\n",
       ".suggestion-name {\n",
       "font-weight: bold;\n",
       "}\n",
       "</style><div class=\"suggestion-name\" style=\"clear:both;\">Redundant <$></div><div class=\"suggestion-row\" style=\"float: left;\"><div class=\"suggestion-warning\">Found:</div><div class=\"highlight-code\" id=\"haskell\">max <$> pure x</div></div><div class=\"suggestion-row\" style=\"float: left;\"><div class=\"suggestion-warning\">Why Not:</div><div class=\"highlight-code\" id=\"haskell\">pure (max x)</div></div>"
      ],
      "text/plain": [
       "Line 4: Redundant <$>\n",
       "Found:\n",
       "max <$> pure x\n",
       "Why not:\n",
       "pure (max x)"
      ]
     },
     "metadata": {},
     "output_type": "display_data"
    },
    {
     "data": {
      "text/plain": [
       "10"
      ]
     },
     "metadata": {},
     "output_type": "display_data"
    },
    {
     "data": {
      "text/plain": [
       "[1,2,3,4]"
      ]
     },
     "metadata": {},
     "output_type": "display_data"
    }
   ],
   "source": [
    "maxlist :: (Alternative f, Ord a) => [a] -> f a\n",
    "maxlist [] = empty\n",
    "maxlist [x] = pure x\n",
    "maxlist (x:xs) = max <$> pure x <*> maxlist xs\n",
    "\n",
    "maxlist (10:[1..3])\n",
    "\n",
    "maxlist [[1,2,3,4], [1,1,3,4]]"
   ]
  },
  {
   "cell_type": "markdown",
   "metadata": {},
   "source": [
    "## unterscheid zw monade und monoid\n",
    "\n",
    "- monoid sind typen mit kind *              zb [Int], Int, Bool\n",
    "- monade ist typkonstruktorklasse * -> *    zb Maybe, []"
   ]
  },
  {
   "cell_type": "markdown",
   "metadata": {},
   "source": [
    "## meine frage\n",
    "\n",
    "ja also [] ist monade und [a] ist monoid\n",
    "\n",
    "```haskell\n",
    "instance Semigoup [a] where\n",
    "    (<>) = (++)\n",
    "\n",
    "instance Monoid [a] where\n",
    "    mempty = []"
   ]
  },
  {
   "cell_type": "markdown",
   "metadata": {},
   "source": [
    "## partielles maxlist mittels foldr"
   ]
  },
  {
   "cell_type": "code",
   "execution_count": 29,
   "metadata": {},
   "outputs": [
    {
     "data": {
      "text/plain": [
       "10"
      ]
     },
     "metadata": {},
     "output_type": "display_data"
    }
   ],
   "source": [
    "maxlist :: [Int] -> Int\n",
    "maxlist = foldr max (-3000 )\n",
    "\n",
    "maxlist (10:[1..3])"
   ]
  },
  {
   "cell_type": "markdown",
   "metadata": {},
   "source": [
    "```haskell\n",
    "foldr1 :: forall (t :: * -> *) a. Foldable t => (a -> a -> a) -> t a -> a\n",
    "```\n",
    "die idee von foldr1 ist, dass ich bei dem letzten element anfange und dem vorersten aufhöre. somit kann ich mir das element für die leere Liste sparen"
   ]
  },
  {
   "cell_type": "code",
   "execution_count": 28,
   "metadata": {},
   "outputs": [
    {
     "data": {
      "text/html": [
       "<style>/* Styles used for the Hoogle display in the pager */\n",
       ".hoogle-doc {\n",
       "display: block;\n",
       "padding-bottom: 1.3em;\n",
       "padding-left: 0.4em;\n",
       "}\n",
       ".hoogle-code {\n",
       "display: block;\n",
       "font-family: monospace;\n",
       "white-space: pre;\n",
       "}\n",
       ".hoogle-text {\n",
       "display: block;\n",
       "}\n",
       ".hoogle-name {\n",
       "color: green;\n",
       "font-weight: bold;\n",
       "}\n",
       ".hoogle-head {\n",
       "font-weight: bold;\n",
       "}\n",
       ".hoogle-sub {\n",
       "display: block;\n",
       "margin-left: 0.4em;\n",
       "}\n",
       ".hoogle-package {\n",
       "font-weight: bold;\n",
       "font-style: italic;\n",
       "}\n",
       ".hoogle-module {\n",
       "font-weight: bold;\n",
       "}\n",
       ".hoogle-class {\n",
       "font-weight: bold;\n",
       "}\n",
       ".get-type {\n",
       "color: green;\n",
       "font-weight: bold;\n",
       "font-family: monospace;\n",
       "display: block;\n",
       "white-space: pre-wrap;\n",
       "}\n",
       ".show-type {\n",
       "color: green;\n",
       "font-weight: bold;\n",
       "font-family: monospace;\n",
       "margin-left: 1em;\n",
       "}\n",
       ".mono {\n",
       "font-family: monospace;\n",
       "display: block;\n",
       "}\n",
       ".err-msg {\n",
       "color: red;\n",
       "font-style: italic;\n",
       "font-family: monospace;\n",
       "white-space: pre;\n",
       "display: block;\n",
       "}\n",
       "#unshowable {\n",
       "color: red;\n",
       "font-weight: bold;\n",
       "}\n",
       ".err-msg.in.collapse {\n",
       "padding-top: 0.7em;\n",
       "}\n",
       ".highlight-code {\n",
       "white-space: pre;\n",
       "font-family: monospace;\n",
       "}\n",
       ".suggestion-warning { \n",
       "font-weight: bold;\n",
       "color: rgb(200, 130, 0);\n",
       "}\n",
       ".suggestion-error { \n",
       "font-weight: bold;\n",
       "color: red;\n",
       "}\n",
       ".suggestion-name {\n",
       "font-weight: bold;\n",
       "}\n",
       "</style><div class=\"suggestion-name\" style=\"clear:both;\">Use maximum</div><div class=\"suggestion-row\" style=\"float: left;\"><div class=\"suggestion-warning\">Found:</div><div class=\"highlight-code\" id=\"haskell\">foldr1 max</div></div><div class=\"suggestion-row\" style=\"float: left;\"><div class=\"suggestion-warning\">Why Not:</div><div class=\"highlight-code\" id=\"haskell\">maximum</div></div>"
      ],
      "text/plain": [
       "Line 2: Use maximum\n",
       "Found:\n",
       "foldr1 max\n",
       "Why not:\n",
       "maximum"
      ]
     },
     "metadata": {},
     "output_type": "display_data"
    },
    {
     "data": {
      "text/plain": [
       "10"
      ]
     },
     "metadata": {},
     "output_type": "display_data"
    }
   ],
   "source": [
    "maxlist :: [Int] -> Int\n",
    "maxlist = foldr1 max\n",
    "\n",
    "maxlist (10:[1..3])"
   ]
  },
  {
   "cell_type": "code",
   "execution_count": 27,
   "metadata": {},
   "outputs": [
    {
     "data": {
      "text/html": [
       "<style>/* Styles used for the Hoogle display in the pager */\n",
       ".hoogle-doc {\n",
       "display: block;\n",
       "padding-bottom: 1.3em;\n",
       "padding-left: 0.4em;\n",
       "}\n",
       ".hoogle-code {\n",
       "display: block;\n",
       "font-family: monospace;\n",
       "white-space: pre;\n",
       "}\n",
       ".hoogle-text {\n",
       "display: block;\n",
       "}\n",
       ".hoogle-name {\n",
       "color: green;\n",
       "font-weight: bold;\n",
       "}\n",
       ".hoogle-head {\n",
       "font-weight: bold;\n",
       "}\n",
       ".hoogle-sub {\n",
       "display: block;\n",
       "margin-left: 0.4em;\n",
       "}\n",
       ".hoogle-package {\n",
       "font-weight: bold;\n",
       "font-style: italic;\n",
       "}\n",
       ".hoogle-module {\n",
       "font-weight: bold;\n",
       "}\n",
       ".hoogle-class {\n",
       "font-weight: bold;\n",
       "}\n",
       ".get-type {\n",
       "color: green;\n",
       "font-weight: bold;\n",
       "font-family: monospace;\n",
       "display: block;\n",
       "white-space: pre-wrap;\n",
       "}\n",
       ".show-type {\n",
       "color: green;\n",
       "font-weight: bold;\n",
       "font-family: monospace;\n",
       "margin-left: 1em;\n",
       "}\n",
       ".mono {\n",
       "font-family: monospace;\n",
       "display: block;\n",
       "}\n",
       ".err-msg {\n",
       "color: red;\n",
       "font-style: italic;\n",
       "font-family: monospace;\n",
       "white-space: pre;\n",
       "display: block;\n",
       "}\n",
       "#unshowable {\n",
       "color: red;\n",
       "font-weight: bold;\n",
       "}\n",
       ".err-msg.in.collapse {\n",
       "padding-top: 0.7em;\n",
       "}\n",
       ".highlight-code {\n",
       "white-space: pre;\n",
       "font-family: monospace;\n",
       "}\n",
       ".suggestion-warning { \n",
       "font-weight: bold;\n",
       "color: rgb(200, 130, 0);\n",
       "}\n",
       ".suggestion-error { \n",
       "font-weight: bold;\n",
       "color: red;\n",
       "}\n",
       ".suggestion-name {\n",
       "font-weight: bold;\n",
       "}\n",
       "</style><div class=\"suggestion-name\" style=\"clear:both;\">Use maximum</div><div class=\"suggestion-row\" style=\"float: left;\"><div class=\"suggestion-warning\">Found:</div><div class=\"highlight-code\" id=\"haskell\">foldl1 max</div></div><div class=\"suggestion-row\" style=\"float: left;\"><div class=\"suggestion-warning\">Why Not:</div><div class=\"highlight-code\" id=\"haskell\">maximum</div></div>"
      ],
      "text/plain": [
       "Line 2: Use maximum\n",
       "Found:\n",
       "foldl1 max\n",
       "Why not:\n",
       "maximum"
      ]
     },
     "metadata": {},
     "output_type": "display_data"
    },
    {
     "data": {
      "text/plain": [
       "10"
      ]
     },
     "metadata": {},
     "output_type": "display_data"
    }
   ],
   "source": [
    "maxlist :: [Int] -> Int\n",
    "maxlist = foldl1 max\n",
    "\n",
    "maxlist (10:[1..3])"
   ]
  },
  {
   "cell_type": "markdown",
   "metadata": {},
   "source": [
    "# Faltung Wiederholung\n",
    "\n",
    "als beispiel blattmarkierte bäume"
   ]
  },
  {
   "cell_type": "code",
   "execution_count": 30,
   "metadata": {},
   "outputs": [],
   "source": [
    "data Tree a = Leaf a \n",
    "            | Tree a :+: Tree a"
   ]
  },
  {
   "cell_type": "markdown",
   "metadata": {},
   "source": [
    "```haskell\n",
    "(:+:) :: Tree a -> Tree a -> Tree a\n",
    "Leaf  :: a -> Tree a\n",
    "```\n",
    "\n",
    "- was ich nun bei der faltung mache ist, ich ersetze jeden typkonstruktor mit einer funktion\n",
    "- udn dann im tree selber ersetze ich das auch"
   ]
  },
  {
   "cell_type": "code",
   "execution_count": 35,
   "metadata": {},
   "outputs": [],
   "source": [
    "foldTree :: (a -> b) -> (b -> b -> b) -> Tree a -> b\n",
    "foldTree l _ (Leaf a)      = l a\n",
    "foldTree l f (tl :+: tr) = foldTree l f tl `f` foldTree l f tr"
   ]
  },
  {
   "cell_type": "code",
   "execution_count": 37,
   "metadata": {},
   "outputs": [],
   "source": [
    "maxInTree :: Ord a => Tree a -> a \n",
    "maxInTree = foldTree id max"
   ]
  },
  {
   "cell_type": "code",
   "execution_count": 52,
   "metadata": {},
   "outputs": [],
   "source": [
    "testTreeinf :: Int -> Tree Int\n",
    "testTreeinf n = Leaf n :+: testTreeinf (n+1)\n",
    "\n",
    "testTree = Leaf 1 :+: (Leaf 3 :+: Leaf 5)"
   ]
  },
  {
   "cell_type": "code",
   "execution_count": 41,
   "metadata": {},
   "outputs": [],
   "source": [
    "(!!!) :: Tree a -> String -> Tree a\n",
    "(Leaf a) !!! \"\" = Leaf a\n",
    "-- (tl :+: tr) !!! \"\" = (tl :+: tr)\n",
    "t !!! \"\" = t\n",
    "(tl :+: tr) !!! ('l':dirs) = tl  !!! dirs \n",
    "(tl :+: tr) !!! ('r':dirs) = tr  !!! dirs"
   ]
  },
  {
   "cell_type": "markdown",
   "metadata": {},
   "source": [
    "# Funktionale Listen\n",
    "\n",
    "## Show instanz für diesen Typen"
   ]
  },
  {
   "cell_type": "code",
   "execution_count": 43,
   "metadata": {},
   "outputs": [
    {
     "data": {},
     "metadata": {},
     "output_type": "display_data"
    },
    {
     "name": "stdout",
     "output_type": "stream",
     "text": [
      "type Show :: * -> Constraint\n",
      "class Show a where\n",
      "  showsPrec :: Int -> a -> ShowS\n",
      "  show :: a -> String\n",
      "  showList :: [a] -> ShowS\n",
      "  {-# MINIMAL showsPrec | show #-}\n",
      "  \t-- Defined in ‘GHC.Show’\n",
      "instance forall k a (b :: k). Show a => Show (Const a b) -- Defined in ‘Data.Functor.Const’\n",
      "instance (Show a, Show b) => Show (Either a b) -- Defined in ‘Data.Either’\n",
      "instance Show a => Show (ZipList a) -- Defined in ‘Control.Applicative’\n",
      "instance Show IHaskellSysIO.NewlineMode -- Defined in ‘GHC.IO.Handle.Types’\n",
      "instance Show IHaskellSysIO.Newline -- Defined in ‘GHC.IO.Handle.Types’\n",
      "instance Show IHaskellSysIO.Handle -- Defined in ‘GHC.IO.Handle.Types’\n",
      "instance Show IHaskellSysIO.BufferMode -- Defined in ‘GHC.IO.Handle.Types’\n",
      "instance Show IHaskellSysIO.HandlePosn -- Defined in ‘GHC.IO.Handle’\n",
      "instance Show a => Show [a] -- Defined in ‘GHC.Show’\n",
      "instance Show Word -- Defined in ‘GHC.Show’\n",
      "instance Show a => Show (Solo a) -- Defined in ‘GHC.Show’\n",
      "instance Show GHC.Types.RuntimeRep -- Defined in ‘GHC.Show’\n",
      "instance Show Ordering -- Defined in ‘GHC.Show’\n",
      "instance Show a => Show (Maybe a) -- Defined in ‘GHC.Show’\n",
      "instance Show Integer -- Defined in ‘GHC.Show’\n",
      "instance Show Int -- Defined in ‘GHC.Show’\n",
      "instance Show Char -- Defined in ‘GHC.Show’\n",
      "instance Show Bool -- Defined in ‘GHC.Show’\n",
      "instance (Show a, Show b, Show c, Show d, Show e, Show f, Show g, Show h, Show i, Show j, Show k, Show l, Show m, Show n, Show o) => Show (a, b, c, d, e, f, g, h, i, j, k, l, m, n, o)\n",
      "  -- Defined in ‘GHC.Show’\n",
      "instance (Show a, Show b, Show c, Show d, Show e, Show f, Show g, Show h, Show i, Show j, Show k, Show l, Show m, Show n) => Show (a, b, c, d, e, f, g, h, i, j, k, l, m, n) -- Defined in ‘GHC.Show’\n",
      "instance (Show a, Show b, Show c, Show d, Show e, Show f, Show g, Show h, Show i, Show j, Show k, Show l, Show m) => Show (a, b, c, d, e, f, g, h, i, j, k, l, m) -- Defined in ‘GHC.Show’\n",
      "instance (Show a, Show b, Show c, Show d, Show e, Show f, Show g, Show h, Show i, Show j, Show k, Show l) => Show (a, b, c, d, e, f, g, h, i, j, k, l) -- Defined in ‘GHC.Show’\n",
      "instance (Show a, Show b, Show c, Show d, Show e, Show f, Show g, Show h, Show i, Show j, Show k) => Show (a, b, c, d, e, f, g, h, i, j, k) -- Defined in ‘GHC.Show’\n",
      "instance (Show a, Show b, Show c, Show d, Show e, Show f, Show g, Show h, Show i, Show j) => Show (a, b, c, d, e, f, g, h, i, j) -- Defined in ‘GHC.Show’\n",
      "instance (Show a, Show b, Show c, Show d, Show e, Show f, Show g, Show h, Show i) => Show (a, b, c, d, e, f, g, h, i) -- Defined in ‘GHC.Show’\n",
      "instance (Show a, Show b, Show c, Show d, Show e, Show f, Show g, Show h) => Show (a, b, c, d, e, f, g, h) -- Defined in ‘GHC.Show’\n",
      "instance (Show a, Show b, Show c, Show d, Show e, Show f, Show g) => Show (a, b, c, d, e, f, g) -- Defined in ‘GHC.Show’\n",
      "instance (Show a, Show b, Show c, Show d, Show e, Show f) => Show (a, b, c, d, e, f) -- Defined in ‘GHC.Show’\n",
      "instance (Show a, Show b, Show c, Show d, Show e) => Show (a, b, c, d, e) -- Defined in ‘GHC.Show’\n",
      "instance (Show a, Show b, Show c, Show d) => Show (a, b, c, d) -- Defined in ‘GHC.Show’\n",
      "instance (Show a, Show b, Show c) => Show (a, b, c) -- Defined in ‘GHC.Show’\n",
      "instance (Show a, Show b) => Show (a, b) -- Defined in ‘GHC.Show’\n",
      "instance Show () -- Defined in ‘GHC.Show’\n",
      "instance Show IHaskellTH.TypeFamilyHead -- Defined in ‘Language.Haskell.TH.Syntax’\n",
      "instance Show IHaskellTH.Type -- Defined in ‘Language.Haskell.TH.Syntax’\n",
      "instance Show flag => Show (IHaskellTH.TyVarBndr flag) -- Defined in ‘Language.Haskell.TH.Syntax’\n",
      "instance Show IHaskellTH.TySynEqn -- Defined in ‘Language.Haskell.TH.Syntax’\n",
      "instance Show IHaskellTH.TyLit -- Defined in ‘Language.Haskell.TH.Syntax’\n",
      "instance Show IHaskellTH.Stmt -- Defined in ‘Language.Haskell.TH.Syntax’\n",
      "instance Show IHaskellTH.Specificity -- Defined in ‘Language.Haskell.TH.Syntax’\n",
      "instance Show IHaskellTH.SourceUnpackedness -- Defined in ‘Language.Haskell.TH.Syntax’\n",
      "instance Show IHaskellTH.SourceStrictness -- Defined in ‘Language.Haskell.TH.Syntax’\n",
      "instance Show IHaskellTH.Safety -- Defined in ‘Language.Haskell.TH.Syntax’\n",
      "instance Show IHaskellTH.RuleMatch -- Defined in ‘Language.Haskell.TH.Syntax’\n",
      "instance Show IHaskellTH.RuleBndr -- Defined in ‘Language.Haskell.TH.Syntax’\n",
      "instance Show IHaskellTH.Role -- Defined in ‘Language.Haskell.TH.Syntax’\n",
      "instance Show IHaskellTH.Range -- Defined in ‘Language.Haskell.TH.Syntax’\n",
      "instance Show IHaskellTH.Pragma -- Defined in ‘Language.Haskell.TH.Syntax’\n",
      "instance Show IHaskellTH.Phases -- Defined in ‘Language.Haskell.TH.Syntax’\n",
      "instance Show IHaskellTH.PatSynDir -- Defined in ‘Language.Haskell.TH.Syntax’\n",
      "instance Show IHaskellTH.PatSynArgs -- Defined in ‘Language.Haskell.TH.Syntax’\n",
      "instance Show IHaskellTH.Pat -- Defined in ‘Language.Haskell.TH.Syntax’\n",
      "instance Show IHaskellTH.Overlap -- Defined in ‘Language.Haskell.TH.Syntax’\n",
      "instance Show IHaskellTH.NameSpace -- Defined in ‘Language.Haskell.TH.Syntax’\n",
      "instance Show IHaskellTH.Name -- Defined in ‘Language.Haskell.TH.Syntax’\n",
      "instance Show IHaskellTH.ModuleInfo -- Defined in ‘Language.Haskell.TH.Syntax’\n",
      "instance Show IHaskellTH.Match -- Defined in ‘Language.Haskell.TH.Syntax’\n",
      "instance Show IHaskellTH.Loc -- Defined in ‘Language.Haskell.TH.Syntax’\n",
      "instance Show IHaskellTH.Lit -- Defined in ‘Language.Haskell.TH.Syntax’\n",
      "instance Show IHaskellTH.Inline -- Defined in ‘Language.Haskell.TH.Syntax’\n",
      "instance Show IHaskellTH.InjectivityAnn -- Defined in ‘Language.Haskell.TH.Syntax’\n",
      "instance Show IHaskellTH.Info -- Defined in ‘Language.Haskell.TH.Syntax’\n",
      "instance Show IHaskellTH.Guard -- Defined in ‘Language.Haskell.TH.Syntax’\n",
      "instance Show IHaskellTH.FunDep -- Defined in ‘Language.Haskell.TH.Syntax’\n",
      "instance Show IHaskellTH.Foreign -- Defined in ‘Language.Haskell.TH.Syntax’\n",
      "instance Show IHaskellTH.FixityDirection -- Defined in ‘Language.Haskell.TH.Syntax’\n",
      "instance Show IHaskellTH.Fixity -- Defined in ‘Language.Haskell.TH.Syntax’\n",
      "instance Show IHaskellTH.FamilyResultSig -- Defined in ‘Language.Haskell.TH.Syntax’\n",
      "instance Show IHaskellTH.Exp -- Defined in ‘Language.Haskell.TH.Syntax’\n",
      "instance Show IHaskellTH.DocLoc -- Defined in ‘Language.Haskell.TH.Syntax’\n",
      "instance Show IHaskellTH.DerivStrategy -- Defined in ‘Language.Haskell.TH.Syntax’\n",
      "instance Show IHaskellTH.DerivClause -- Defined in ‘Language.Haskell.TH.Syntax’\n",
      "instance Show IHaskellTH.DecidedStrictness -- Defined in ‘Language.Haskell.TH.Syntax’\n",
      "instance Show IHaskellTH.Dec -- Defined in ‘Language.Haskell.TH.Syntax’\n",
      "instance Show IHaskellTH.Con -- Defined in ‘Language.Haskell.TH.Syntax’\n",
      "instance Show IHaskellTH.Clause -- Defined in ‘Language.Haskell.TH.Syntax’\n",
      "instance Show IHaskellTH.Callconv -- Defined in ‘Language.Haskell.TH.Syntax’\n",
      "instance Show IHaskellTH.Body -- Defined in ‘Language.Haskell.TH.Syntax’\n",
      "instance Show IHaskellTH.Bang -- Defined in ‘Language.Haskell.TH.Syntax’\n",
      "instance Show IHaskellTH.AnnTarget -- Defined in ‘Language.Haskell.TH.Syntax’\n",
      "instance Show IHaskellTH.AnnLookup -- Defined in ‘Language.Haskell.TH.Syntax’\n",
      "instance Show Float -- Defined in ‘GHC.Float’\n",
      "instance Show Double -- Defined in ‘GHC.Float’"
     ]
    }
   ],
   "source": [
    ":i Show"
   ]
  },
  {
   "cell_type": "code",
   "execution_count": 44,
   "metadata": {},
   "outputs": [
    {
     "data": {},
     "metadata": {},
     "output_type": "display_data"
    },
    {
     "name": "stdout",
     "output_type": "stream",
     "text": [
      "type ShowS :: *\n",
      "type ShowS = String -> String\n",
      "  \t-- Defined in ‘GHC.Show’"
     ]
    }
   ],
   "source": [
    ":i ShowS"
   ]
  },
  {
   "cell_type": "code",
   "execution_count": 54,
   "metadata": {},
   "outputs": [
    {
     "data": {
      "text/plain": [
       "1:+:3:+:5"
      ]
     },
     "metadata": {},
     "output_type": "display_data"
    }
   ],
   "source": [
    "instance  Show a => Show (Tree a) where\n",
    "    showsPrec p (Leaf x)    = showsPrec p x\n",
    "    -- showsPrec p (tl :+: tr) = showsPrec p tl . (\\s -> \":+:\" ++ s) . showsPrec p tr\n",
    "    showsPrec p (tl :+: tr) = showsPrec p tl . showString \":+:\" . showsPrec p tr\n",
    "\n",
    "testTree"
   ]
  }
 ],
 "metadata": {
  "kernelspec": {
   "display_name": "Haskell",
   "language": "haskell",
   "name": "haskell"
  },
  "language_info": {
   "codemirror_mode": "ihaskell",
   "file_extension": ".hs",
   "mimetype": "text/x-haskell",
   "name": "haskell",
   "pygments_lexer": "Haskell",
   "version": "9.2.7"
  },
  "orig_nbformat": 4
 },
 "nbformat": 4,
 "nbformat_minor": 2
}
