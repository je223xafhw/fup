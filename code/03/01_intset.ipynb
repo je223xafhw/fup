{
 "cells": [
  {
   "attachments": {},
   "cell_type": "markdown",
   "metadata": {},
   "source": [
    "# Still missing:\n",
    "- difference"
   ]
  },
  {
   "cell_type": "code",
   "execution_count": 59,
   "metadata": {},
   "outputs": [
    {
     "data": {
      "text/plain": [
       "False"
      ]
     },
     "metadata": {},
     "output_type": "display_data"
    }
   ],
   "source": [
    "type IntegerSet = Integer -> Bool\n",
    "\n",
    "\n",
    "exampleSet :: IntegerSet\n",
    "exampleSet x = x `elem` [4, 8, 15, 16, 23, 42]\n",
    "\n",
    "exampleSet 3"
   ]
  },
  {
   "attachments": {},
   "cell_type": "markdown",
   "metadata": {},
   "source": [
    "# eigene funktionen"
   ]
  },
  {
   "cell_type": "code",
   "execution_count": 73,
   "metadata": {},
   "outputs": [],
   "source": [
    "empty :: IntegerSet\n",
    "empty x = error (\"Access to undefined index: \" ++ show x)\n",
    "\n",
    "insert :: Integer -> IntegerSet -> IntegerSet\n",
    "-- insert i set j = if j == i then True else set j\n",
    "insert i set j = (j == i) || set j\n",
    "\n",
    "remove :: Integer -> IntegerSet -> IntegerSet\n",
    "-- remove i set j = if j == i then False else set j\n",
    "remove i set j = (j /= i) && set j"
   ]
  },
  {
   "attachments": {},
   "cell_type": "markdown",
   "metadata": {},
   "source": [
    "## Testwerte"
   ]
  },
  {
   "cell_type": "code",
   "execution_count": 74,
   "metadata": {},
   "outputs": [
    {
     "data": {
      "text/plain": [
       "True"
      ]
     },
     "metadata": {},
     "output_type": "display_data"
    },
    {
     "data": {
      "text/plain": [
       "False"
      ]
     },
     "metadata": {},
     "output_type": "display_data"
    },
    {
     "data": {
      "text/plain": [
       "True"
      ]
     },
     "metadata": {},
     "output_type": "display_data"
    }
   ],
   "source": [
    "let a  = empty\n",
    "-- error\n",
    "let a2 = insert 3 a\n",
    "-- \\j -> if j == 3 then True else False\n",
    "let a3 = insert 5 a2\n",
    "-- \\j -> if j == 3 then True else error\n",
    "let a4 = insert 2 a3\n",
    "-- (\\j -> if j == 3 then True else (\\j -> if j == 5 then True else \\j -> if j == 2 then True else empty))\n",
    "let a5 = remove 3 a4\n",
    "-- (\\j -> if j == 3 then False else \\j -> if j == 3 then True else (\\j -> if j == 5 then True else \\j -> if j == 2 then True else empty))\n",
    "a5 5\n",
    "-- a5 2\n",
    "a5 3\n",
    "\n",
    "let b = insert 5 (insert 3 (insert 4 empty))\n",
    "\n",
    "b 4\n"
   ]
  },
  {
   "cell_type": "code",
   "execution_count": 62,
   "metadata": {},
   "outputs": [
    {
     "data": {
      "text/plain": [
       "True"
      ]
     },
     "metadata": {},
     "output_type": "display_data"
    }
   ],
   "source": [
    "isElem :: Integer -> IntegerSet -> Bool\n",
    "isElem x set = set x\n",
    "\n",
    "isElem 5 b"
   ]
  },
  {
   "cell_type": "code",
   "execution_count": 63,
   "metadata": {},
   "outputs": [],
   "source": [
    "-- union ist die vereinigung. dh entweder das element ist in menge1 ODER in menge2\n",
    "union :: IntegerSet -> IntegerSet -> IntegerSet\n",
    "union set1 set2 j = set1 j || set2 j\n",
    "-- union set1 set2 j = set1 j == True || set2 j == True\n",
    "-- union set1 set2 = if set1 j == True then True else (if set1 j == True then True else False)\n",
    "--     | set1 j == True = True\n",
    "--     | set2 j == True = True \n",
    "--     | otherwise = False"
   ]
  },
  {
   "cell_type": "code",
   "execution_count": 75,
   "metadata": {},
   "outputs": [],
   "source": [
    "-- schnittmenge ist wenn ein element in beiden mengen vorhanden ist, also in menge1 UND menge2\n",
    "intersection :: IntegerSet -> IntegerSet -> IntegerSet\n",
    "intersection set1 set2 j = set1 j && set2 j\n"
   ]
  },
  {
   "cell_type": "code",
   "execution_count": 77,
   "metadata": {},
   "outputs": [],
   "source": [
    "-- Die Differenzmenge ist die Menge aller Elemente, die zu A aber nicht zu B gehören\n",
    "difference :: IntegerSet -> IntegerSet -> IntegerSet\n",
    "difference set1 set2 j = set1 j && not (set2 j)"
   ]
  },
  {
   "cell_type": "code",
   "execution_count": null,
   "metadata": {},
   "outputs": [],
   "source": [
    "-- Ist A eine Teilmenge von B, dann heißt die Menge aller Elemente, die zu B, aber nicht zu A gehören, auch Komplement von A bzgl. B:\n",
    "-- complement :: IntegerSet -> IntegerSet\n",
    "-- complement set1 j = \n"
   ]
  },
  {
   "attachments": {},
   "cell_type": "markdown",
   "metadata": {},
   "source": [
    "## 2.\n",
    "- ListToSet geht, da ich einfach die elemente akzeptiere, welche in der liste sind\n",
    "- setToList geht nicht, da ich alle elemente ausprobieren müsste, da ich nicht in das Element hineinschauen kann"
   ]
  },
  {
   "cell_type": "code",
   "execution_count": 79,
   "metadata": {},
   "outputs": [],
   "source": [
    "listToSet :: [Integer] -> IntegerSet\n",
    "listToSet xs j = j `elem` xs"
   ]
  }
 ],
 "metadata": {
  "kernelspec": {
   "display_name": "Haskell",
   "language": "haskell",
   "name": "haskell"
  },
  "language_info": {
   "codemirror_mode": "ihaskell",
   "file_extension": ".hs",
   "mimetype": "text/x-haskell",
   "name": "haskell",
   "pygments_lexer": "Haskell",
   "version": "9.2.7"
  },
  "orig_nbformat": 4
 },
 "nbformat": 4,
 "nbformat_minor": 2
}
