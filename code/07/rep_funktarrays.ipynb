{
 "cells": [
  {
   "cell_type": "code",
   "execution_count": 61,
   "metadata": {},
   "outputs": [],
   "source": [
    "type Array a = Int -> a"
   ]
  },
  {
   "cell_type": "code",
   "execution_count": 60,
   "metadata": {},
   "outputs": [
    {
     "data": {
      "text/plain": [
       "\"moin\""
      ]
     },
     "metadata": {},
     "output_type": "display_data"
    }
   ],
   "source": [
    "emptyArray :: Array a\n",
    "emptyArray i = error(\"null at \" ++ show i)\n",
    "\n",
    "\n",
    "getIndex :: Int -> Array a -> a\n",
    "getIndex n ar = ar n\n",
    "\n",
    "\n",
    "putIndex :: Int -> a -> Array a -> Array a\n",
    "putIndex n x ar = \\y -> if y == n then x else ar y\n",
    "\n",
    "\n",
    "removeIndex :: Int -> Array a -> Array a\n",
    "removeIndex n ar = \\y -> if y == n then emptyArray n else ar y\n",
    "\n",
    "-- getIndex 4 $ removeIndex 2 $ putIndex 2 \"moin\" $ putIndex 4 \"hallo\" emptyArray\n",
    "-- (putIndex 4 \"hi\" $ putIndex 1 \"moin\" $ putIndex 2 \"wasgeht\" emptyArray) 4\n",
    "-- (if index == 4 then hi else (if index == 1 then moin else (if index == 2 then wasgeht else error)))\n",
    "\n",
    "let a = putIndex 1 \"moin\" $ putIndex 2 \"wasgeht\" emptyArray\n",
    "let b = removeIndex 1 a\n",
    "let c = removeIndex 2 a\n",
    "\n",
    "a 1\n",
    "-- (putIndex 1 \"moin\" $ putIndex 2 \"wasgeht\" emptyArray) 1\n",
    "-- b 2\n",
    "-- c 2"
   ]
  },
  {
   "cell_type": "code",
   "execution_count": 75,
   "metadata": {},
   "outputs": [],
   "source": [
    "newtype FList a = FList ([a] -> [a])\n",
    "\n",
    "fromFList :: FList a -> [a]\n",
    "fromFList (FList x) = x []\n",
    "\n",
    "toFList :: [a] -> FList a\n",
    "toFList xs = FList (xs ++)"
   ]
  },
  {
   "cell_type": "code",
   "execution_count": 116,
   "metadata": {},
   "outputs": [],
   "source": []
  }
 ],
 "metadata": {
  "kernelspec": {
   "display_name": "Haskell",
   "language": "haskell",
   "name": "haskell"
  },
  "language_info": {
   "codemirror_mode": "ihaskell",
   "file_extension": ".hs",
   "mimetype": "text/x-haskell",
   "name": "haskell",
   "pygments_lexer": "Haskell",
   "version": "9.2.7"
  },
  "orig_nbformat": 4
 },
 "nbformat": 4,
 "nbformat_minor": 2
}
