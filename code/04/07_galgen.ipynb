{
 "cells": [
  {
   "cell_type": "code",
   "execution_count": 2,
   "metadata": {},
   "outputs": [],
   "source": [
    "import Data.Char\n",
    "\n",
    "hangman :: String -> IO ()\n",
    "hangman s = hangman' s \"\" 0\n",
    "\n",
    "hangman' :: String -> String -> Int -> IO ()\n",
    "hangman' s d n = do\n",
    "    putStr \"Enter a char: \"\n",
    "    i <- getChar\n",
    "    let i' = toLower i\n",
    "    let sec = decodeSecret s (i':d)\n",
    "    putStrLn \"\"\n",
    "    putStrLn (\"Secret \" ++ sec)\n",
    "    if not (checkIfDone sec) then\n",
    "        hangman' s (i':d) (if i' `elem` d then n else n+1)\n",
    "    else \n",
    "        putStrLn (\"Solved in \" ++ show (n + 1) ++ \" tries\")\n",
    "\n",
    "\n",
    "\n",
    "decodeSecret :: String -> String -> String\n",
    "decodeSecret ss xs = [if toLower s `elem` xs then s else '*' | s<-ss]\n",
    "\n",
    "checkIfDone :: String -> Bool\n",
    "checkIfDone s = '*' `notElem` s\n",
    "\n",
    "main :: IO ()\n",
    "main = do\n",
    "    hangman \"hallo\""
   ]
  }
 ],
 "metadata": {
  "kernelspec": {
   "display_name": "Haskell",
   "language": "haskell",
   "name": "haskell"
  },
  "language_info": {
   "codemirror_mode": "ihaskell",
   "file_extension": ".hs",
   "mimetype": "text/x-haskell",
   "name": "haskell",
   "pygments_lexer": "Haskell",
   "version": "9.2.7"
  },
  "orig_nbformat": 4
 },
 "nbformat": 4,
 "nbformat_minor": 2
}
