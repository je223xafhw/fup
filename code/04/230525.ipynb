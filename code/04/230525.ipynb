{
 "cells": [
  {
   "attachments": {},
   "cell_type": "markdown",
   "metadata": {},
   "source": [
    "## Nur eine Typklasse zum aufwärmen\n",
    "\n",
    "Monoid (Körper, nur klein) => $(\\mathbb{M}, \\cdot, 0)$\n",
    "\n",
    "Gesetze für ein Monoid: \n",
    "\n",
    "$1\\cdot x = x; x \\cdot 1 = x; (x \\cdot y) \\cdot z = x (\\cdot y \\cdot z)$"
   ]
  },
  {
   "cell_type": "code",
   "execution_count": 11,
   "metadata": {},
   "outputs": [],
   "source": [
    "class Monoid m where\n",
    "    mempty :: m\n",
    "    mappend :: m -> m -> m\n",
    "\n",
    "instance Monoid Integer where\n",
    "    mempty = 0\n",
    "    mappend = (+)\n",
    "\n",
    "instance Monoid Bool where\n",
    "    mempty = True\n",
    "    mappend = (&&)"
   ]
  },
  {
   "attachments": {},
   "cell_type": "markdown",
   "metadata": {},
   "source": [
    "## IO - interagieren über in und out\n",
    "- print und so ist eigenltich nur ein Seiteneffekt, zb gibt in python print(\"hallo\") = None zurück\n",
    "- und das ist ein problem mit dem lazy prinzip, wieso ausprinten wenn ich gleich None zurückgeben kann?\n",
    "### Anwendung\n",
    "1. Phase: Benutzer gibt Daten ein\n",
    "2. Phase: Benutzer fragt Daten an\n",
    "\n",
    "das funktioniert nicht nacheinander, weil haskell lazy ist\n",
    "\n",
    "Teil1 der Lösung: IO aktionen sind Werte, diese werden zu einer gesamtaktion zusammengesetzt. Die wird dann ausgeführt, wenn sie ganz oben (in der main Funktion) ankommt\n",
    "IO() ist ne \"IO Unit\"\n",
    "```haskell\n",
    "putStr :: String -> IO ()\n",
    "putStrLn :: String -> IO ()\n",
    "print :: Show a => a -> IO ()\n",
    "nl :: IO ()\n",
    "(>>) :: IO () -> IO () -> IO ()\n",
    "```"
   ]
  },
  {
   "cell_type": "code",
   "execution_count": 12,
   "metadata": {},
   "outputs": [
    {
     "data": {
      "text/plain": [
       "Hallo Welt\n",
       "42"
      ]
     },
     "metadata": {},
     "output_type": "display_data"
    }
   ],
   "source": [
    "main = putStr \"Hallo \" >>\n",
    "        putStrLn \"Welt\" >>\n",
    "        print 42\n",
    "\n",
    "main"
   ]
  },
  {
   "cell_type": "code",
   "execution_count": 13,
   "metadata": {},
   "outputs": [
    {
     "data": {
      "text/plain": [
       "Hallo Welt\n",
       "Hallo 42"
      ]
     },
     "metadata": {},
     "output_type": "display_data"
    }
   ],
   "source": [
    "main2 = let ac1 = putStr \"Hallo \" in\n",
    "        ac1 >>\n",
    "        putStrLn \"Welt\" >>\n",
    "        ac1 >>\n",
    "        print 42\n",
    "\n",
    "main2"
   ]
  },
  {
   "attachments": {},
   "cell_type": "markdown",
   "metadata": {},
   "source": [
    "---\n",
    "\n",
    "Das ist dasselbe\n",
    "```haskell\n",
    "let x = 3 in x + 2\n",
    "x = 2 where x = 3\n",
    "```\n",
    "\n",
    "---"
   ]
  },
  {
   "attachments": {},
   "cell_type": "markdown",
   "metadata": {},
   "source": [
    "```haskell\n",
    "let x = getLine in print x\n",
    "-- DAS GEHT NICHT\n",
    "```"
   ]
  },
  {
   "attachments": {},
   "cell_type": "markdown",
   "metadata": {},
   "source": [
    "```haskell\n",
    "getLine >>= putStrLn \n",
    "```\n",
    "Wenn ich das benutzen will, dann muss ich das in einer funktion zwischenspeichern\n",
    "```haskell\n",
    "getLine >>= (\\t -> putStrLn t >> putStrLn t)\n",
    "main3 = getLine >>= \\t1 -> putStrLn t1 >>\n",
    "        getLine >>= \\t2 -> putStrLn t2 >>\n",
    "        if t1 == t1 then putStrLn \"gleich\" else putStrLn \"ungleich\" >>\n",
    "        putStrLn t1 ++ t2\n",
    "```"
   ]
  },
  {
   "cell_type": "code",
   "execution_count": 14,
   "metadata": {},
   "outputs": [],
   "source": [
    "-- getChar :: IO Char\n",
    "getLine' :: IO String\n",
    "getLine' = getChar >>= \\c -> \n",
    "        if c == '\\n' then return \"\"\n",
    "        else getLine' >>= \\cs -> return (c:cs)"
   ]
  },
  {
   "attachments": {},
   "cell_type": "markdown",
   "metadata": {},
   "source": [
    "main3 in python:\n",
    "```python\n",
    "def main3():\n",
    "    t1 = input()\n",
    "    print(t1)\n",
    "    t2 = input()\n",
    "    ...\n",
    "```"
   ]
  },
  {
   "cell_type": "code",
   "execution_count": 15,
   "metadata": {},
   "outputs": [],
   "source": [
    "main = do\n",
    "    t1 <- getLine\n",
    "    putStrLn t1\n",
    "    t2 <- getLine\n",
    "    putStrLn t2\n",
    "    "
   ]
  },
  {
   "attachments": {},
   "cell_type": "markdown",
   "metadata": {},
   "source": [
    "für die Prüfung den Bind operator merken:\n",
    "```haskell\n",
    "(>>=) :: IO a -> (a -> IO b) -> IO b\n",
    "```\n",
    "\n",
    "## Mehrere Möglichkeiten des Binds\n",
    "```haskell\n",
    "-- 1.\n",
    "return x >>= f = f x\n",
    "-- mit:\n",
    "x :: b\n",
    "return x :: IO b\n",
    "f :: (b -> IO a)\n",
    "-- 2. \n",
    "action >>= return = action\n",
    "-- mit\n",
    "action :: IO a\n",
    "action >>= return :: IO a\n",
    "return :: (a -> IO a)\n",
    "-- 3.\n",
    "(act >>= f) >>>= g = act >>= (\\res -> f res >>= g)\n",
    "```\n"
   ]
  },
  {
   "attachments": {},
   "cell_type": "markdown",
   "metadata": {},
   "source": [
    "## Alle Datentypen, für die es eine map-funktion gibt\n",
    "Funktor ist keine typklasse, sonder eine Typ konstruktor klasse\n",
    "dh alle instanzen davon sind keine Typen, sondern Konstruktoren mit Stelligkeit 1\n",
    "\n",
    "- Typ: `Int, Float, (), [Int], [[(Int, (), Bool)]]` alles `Kind *`\n",
    "- Typkonstruktor mit Stelligkeit 1: `[], Maybe, Tree, Either` alles `Kind * -> *`\n",
    "- Typkonstruktor mit Stelligkeit 2: `Either, (->), (,)` mit `Kind * -> * -> *`\n",
    "- `Either Int` ist eine partielle Applikation des zweistelligen Typkonstruktors Either auf den Typ Int und hat Kind * -> *\n",
    "\n",
    "- Typklassen abstrahieren über Typen: `Eq, Num, Show`\n",
    "- Typkonstruktorklassen abstrahieren über Typkonstruktoren einer bestimmten Stelligkeit (oder partielle Applikationen hörerer Stelligkeit)"
   ]
  },
  {
   "cell_type": "code",
   "execution_count": 16,
   "metadata": {},
   "outputs": [
    {
     "ename": "",
     "evalue": "",
     "output_type": "error",
     "traceback": [
      "<interactive>:3:18: error: Not in scope: type constructor or class ‘Tree’"
     ]
    }
   ],
   "source": [
    "class Functor f where\n",
    "    fmap :: (a -> b) -> f a -> f b\n",
    "\n",
    "instance Functor Tree where\n",
    "    fmap = mapTree\n",
    "\n",
    "instance Functor [] where\n",
    "    fmap = map\n",
    "\n",
    "instance Functor Maybe where\n",
    "    fmap _ Nothing = Nothing\n",
    "    fmap f (Just x) = Just (f x)\n",
    "\n"
   ]
  }
 ],
 "metadata": {
  "kernelspec": {
   "display_name": "Haskell",
   "language": "haskell",
   "name": "haskell"
  },
  "language_info": {
   "codemirror_mode": "ihaskell",
   "file_extension": ".hs",
   "mimetype": "text/x-haskell",
   "name": "haskell",
   "pygments_lexer": "Haskell",
   "version": "9.2.7"
  },
  "orig_nbformat": 4
 },
 "nbformat": 4,
 "nbformat_minor": 2
}
