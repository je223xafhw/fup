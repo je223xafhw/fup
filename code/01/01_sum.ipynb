{
 "cells": [
  {
   "attachments": {},
   "cell_type": "markdown",
   "metadata": {},
   "source": [
    "# Aufgabe 1 \n",
    "Summe natürlicher Zahlen\n"
   ]
  },
  {
   "attachments": {},
   "cell_type": "markdown",
   "metadata": {},
   "source": [
    "## Aufgabe 1.1\n",
    "Gaußsche Summenformel"
   ]
  },
  {
   "cell_type": "code",
   "execution_count": 8,
   "metadata": {},
   "outputs": [],
   "source": [
    "intSum1 :: Int -> Int\n",
    "intSum1 0 = 0\n",
    "intSum1 1 = 1\n",
    "intSum1 n = (n*n + n) `div` 2"
   ]
  },
  {
   "attachments": {},
   "cell_type": "markdown",
   "metadata": {},
   "source": [
    "## Aufgabe 1.2\n",
    "Mit Rekursion"
   ]
  },
  {
   "cell_type": "code",
   "execution_count": 9,
   "metadata": {},
   "outputs": [],
   "source": [
    "intSum2 :: Int -> Int\n",
    "intSum2 0 = 0\n",
    "intSum2 1 = 1\n",
    "intSum2 n = n + intSum2 (n-1)"
   ]
  },
  {
   "attachments": {},
   "cell_type": "markdown",
   "metadata": {},
   "source": [
    "## Aufgabe 1.3\n",
    "\n",
    "lokale Hilfsfunktion\n",
    "\n",
    "gib `n` rein, `r` ist zwischenergebnis\n",
    "\n",
    "**Ablauf:**\n",
    "- reingeben 5\n",
    "- intSum3 = intSum3' 5\n",
    "- intsum3'\n",
    "```\n",
    "5+0 | r = 5\n",
    "4+5 | r = 9\n",
    "....\n",
    "0 + 15 | r = 15\n",
    "wenn: n=0 -> Rückgabe: r\n",
    "```"
   ]
  },
  {
   "cell_type": "code",
   "execution_count": 10,
   "metadata": {},
   "outputs": [],
   "source": [
    "intSum3 :: Int -> Int\n",
    "-- intSum3 0 = 0\n",
    "-- intSum3 1 = 1\n",
    "intSum3 n = intSum3' n 0\n",
    "    where\n",
    "        intSum3' :: Int -> Int -> Int\n",
    "        intSum3' 0 r = r\n",
    "        intSum3' n r =  intSum3' (n-1)  (r+n)"
   ]
  },
  {
   "cell_type": "code",
   "execution_count": 11,
   "metadata": {},
   "outputs": [
    {
     "data": {
      "text/plain": [
       "55"
      ]
     },
     "metadata": {},
     "output_type": "display_data"
    },
    {
     "data": {
      "text/plain": [
       "55"
      ]
     },
     "metadata": {},
     "output_type": "display_data"
    },
    {
     "data": {
      "text/plain": [
       "55"
      ]
     },
     "metadata": {},
     "output_type": "display_data"
    }
   ],
   "source": [
    " print (intSum1 10)\n",
    " print (intSum2 10)\n",
    " print (intSum3 10)"
   ]
  }
 ],
 "metadata": {
  "kernelspec": {
   "display_name": "Haskell",
   "language": "haskell",
   "name": "haskell"
  },
  "language_info": {
   "codemirror_mode": "ihaskell",
   "file_extension": ".hs",
   "mimetype": "text/x-haskell",
   "name": "haskell",
   "pygments_lexer": "Haskell",
   "version": "9.2.7"
  },
  "orig_nbformat": 4
 },
 "nbformat": 4,
 "nbformat_minor": 2
}
