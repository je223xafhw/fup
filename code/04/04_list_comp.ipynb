{
 "cells": [
  {
   "cell_type": "code",
   "execution_count": 34,
   "metadata": {},
   "outputs": [
    {
     "data": {
      "text/plain": [
       "[[3],[5],[7],[9],[11]]"
      ]
     },
     "metadata": {},
     "output_type": "display_data"
    }
   ],
   "source": [
    "[[2*i+1] | i<-[1..5]]"
   ]
  },
  {
   "cell_type": "code",
   "execution_count": 35,
   "metadata": {},
   "outputs": [
    {
     "data": {
      "text/plain": [
       "[(5,False),(20,True),(25,False)]"
      ]
     },
     "metadata": {},
     "output_type": "display_data"
    }
   ],
   "source": [
    "[(i*5, even i) | i<-[1..5], i /= 2, i /= 3 ]"
   ]
  },
  {
   "cell_type": "code",
   "execution_count": 43,
   "metadata": {},
   "outputs": [
    {
     "data": {
      "text/plain": [
       "[Just 1,Just 9,Just 25]"
      ]
     },
     "metadata": {},
     "output_type": "display_data"
    }
   ],
   "source": [
    "[Just (i*i) | i<-[1..5], odd i]"
   ]
  },
  {
   "cell_type": "code",
   "execution_count": 60,
   "metadata": {},
   "outputs": [
    {
     "data": {
      "text/plain": [
       "[(1,5),(1,4),(1,3),(1,2),(2,5),(2,4),(2,3),(3,5),(3,4),(4,5)]"
      ]
     },
     "metadata": {},
     "output_type": "display_data"
    }
   ],
   "source": [
    "-- [(1,5),(1,4),(1,3),(1,2),\n",
    "--  (2,5),(2,4),(2,3),\n",
    "--  (3,5),(3,4),\n",
    "--  (4,5)]\n",
    "[(i, j) | i<-[1..5], j<-[5,4..i+1]]"
   ]
  },
  {
   "cell_type": "code",
   "execution_count": 65,
   "metadata": {},
   "outputs": [],
   "source": [
    "-- map :: forall a b. (a -> b) -> [a] -> [b]\n",
    "lmap :: (a -> b) -> [a] -> [b]\n",
    "lmap f xs = [f i | i<-xs]"
   ]
  },
  {
   "cell_type": "code",
   "execution_count": 84,
   "metadata": {},
   "outputs": [
    {
     "data": {
      "text/plain": [
       "Just 5"
      ]
     },
     "metadata": {},
     "output_type": "display_data"
    }
   ],
   "source": [
    "llistToMaybe :: [a] -> Maybe a\n",
    "llistToMaybe [] = Nothing\n",
    "llistToMaybe (x:xs) = Just x\n",
    "\n",
    "\n",
    "-- lookup :: forall a b. Eq a => a -> [(a, b)] -> Maybe b\n",
    "llookup :: Eq a => a -> [(a, b)] -> Maybe b\n",
    "llookup x xs = llistToMaybe [b | (a,b)<-xs, a==x]\n",
    "\n",
    "t = [(2,3), (4,5)]\n",
    "llookup 4 t"
   ]
  },
  {
   "cell_type": "code",
   "execution_count": 109,
   "metadata": {},
   "outputs": [
    {
     "data": {
      "text/plain": [
       "[(1,1,1),(1,1,2),(1,1,3),(1,2,2),(1,2,3),(1,3,3),(2,2,2),(2,2,3),(2,3,3),(3,3,3)]"
      ]
     },
     "metadata": {},
     "output_type": "display_data"
    }
   ],
   "source": [
    "tripleLstGen :: Int -> [(Int, Int, Int)]\n",
    "tripleLstGen x = [(i,j,k) | i <- [1..x], j <- [1..x], k <- [1..x], k >=j, j>=i]\n",
    "\n",
    "tripleLstGen 3"
   ]
  },
  {
   "cell_type": "code",
   "execution_count": 26,
   "metadata": {},
   "outputs": [
    {
     "data": {
      "text/plain": [
       "\"Hello World its me \""
      ]
     },
     "metadata": {},
     "output_type": "display_data"
    }
   ],
   "source": [
    "unwords :: [String] -> String\n",
    "unwords [] = \"\"\n",
    "unwords xs = unwords' xs \"\" where \n",
    "    unwords' :: [String] -> String -> String\n",
    "    unwords' [] s = s\n",
    "    unwords' (x:xs) s = x ++ \" \" ++ unwords' xs s\n",
    "\n",
    "unwords2 :: [String] -> String\n",
    "unwords2 [] = \"\"\n",
    "unwords2 (x:xs) = x ++ \" \" ++ unwords2 xs\n",
    "\n",
    "unwords3 :: [String] -> String\n",
    "-- unwords3 xs = map (++ \" \") xs\n",
    "-- unwords3 xs = foldl (\\acc x -> acc ++ x ++ \" \") [] xs\n",
    "unwords3 = foldr (\\x acc -> x ++ \" \" ++ acc) []\n",
    "\n",
    "unwords3 [\"Hello\", \"World\", \"its\", \"me\"]"
   ]
  }
 ],
 "metadata": {
  "kernelspec": {
   "display_name": "Haskell",
   "language": "haskell",
   "name": "haskell"
  },
  "language_info": {
   "codemirror_mode": "ihaskell",
   "file_extension": ".hs",
   "mimetype": "text/x-haskell",
   "name": "haskell",
   "pygments_lexer": "Haskell",
   "version": "9.2.7"
  },
  "orig_nbformat": 4
 },
 "nbformat": 4,
 "nbformat_minor": 2
}
