{
 "cells": [
  {
   "attachments": {},
   "cell_type": "markdown",
   "metadata": {},
   "source": [
    "## 3\n",
    "```haskell\n",
    "    (xs >>= f) >>= g   == xs >>= (\\x -> f x) >>= g\n",
    "case xs of\n",
    "    [] -> ([] >>= f) >>= g \n",
    "=   [] >>= g\n",
    "=   []\n",
    "=   [] >>= \\x -> (f >>= g)\n",
    "\n",
    "    (x:xs) >>= f >>= g\n",
    "    f = (\\x -> f x)\n",
    "    g = (\\y -> g y)\n",
    "    -- linke seite\n",
    "    xs >>= `(f x ++ (xs >>= f))` >>= g\n",
    "    -- rechte seite\n",
    "    xs >>= (\\x -> f x) >>= g\n",
    "    xs >>= \\x -> `f x ++ (xs >>= f)` >>= g \n",
    "    \n",
    "    für alle xs annehmen dass (xs >>= f) = xs >>= (\\x -> f x >>= g)\n",
    "\n"
   ]
  },
  {
   "cell_type": "code",
   "execution_count": 25,
   "metadata": {},
   "outputs": [
    {
     "data": {
      "text/html": [
       "<style>/* Styles used for the Hoogle display in the pager */\n",
       ".hoogle-doc {\n",
       "display: block;\n",
       "padding-bottom: 1.3em;\n",
       "padding-left: 0.4em;\n",
       "}\n",
       ".hoogle-code {\n",
       "display: block;\n",
       "font-family: monospace;\n",
       "white-space: pre;\n",
       "}\n",
       ".hoogle-text {\n",
       "display: block;\n",
       "}\n",
       ".hoogle-name {\n",
       "color: green;\n",
       "font-weight: bold;\n",
       "}\n",
       ".hoogle-head {\n",
       "font-weight: bold;\n",
       "}\n",
       ".hoogle-sub {\n",
       "display: block;\n",
       "margin-left: 0.4em;\n",
       "}\n",
       ".hoogle-package {\n",
       "font-weight: bold;\n",
       "font-style: italic;\n",
       "}\n",
       ".hoogle-module {\n",
       "font-weight: bold;\n",
       "}\n",
       ".hoogle-class {\n",
       "font-weight: bold;\n",
       "}\n",
       ".get-type {\n",
       "color: green;\n",
       "font-weight: bold;\n",
       "font-family: monospace;\n",
       "display: block;\n",
       "white-space: pre-wrap;\n",
       "}\n",
       ".show-type {\n",
       "color: green;\n",
       "font-weight: bold;\n",
       "font-family: monospace;\n",
       "margin-left: 1em;\n",
       "}\n",
       ".mono {\n",
       "font-family: monospace;\n",
       "display: block;\n",
       "}\n",
       ".err-msg {\n",
       "color: red;\n",
       "font-style: italic;\n",
       "font-family: monospace;\n",
       "white-space: pre;\n",
       "display: block;\n",
       "}\n",
       "#unshowable {\n",
       "color: red;\n",
       "font-weight: bold;\n",
       "}\n",
       ".err-msg.in.collapse {\n",
       "padding-top: 0.7em;\n",
       "}\n",
       ".highlight-code {\n",
       "white-space: pre;\n",
       "font-family: monospace;\n",
       "}\n",
       ".suggestion-warning { \n",
       "font-weight: bold;\n",
       "color: rgb(200, 130, 0);\n",
       "}\n",
       ".suggestion-error { \n",
       "font-weight: bold;\n",
       "color: red;\n",
       "}\n",
       ".suggestion-name {\n",
       "font-weight: bold;\n",
       "}\n",
       "</style><div class=\"suggestion-name\" style=\"clear:both;\">Redundant return</div><div class=\"suggestion-row\" style=\"float: left;\"><div class=\"suggestion-warning\">Found:</div><div class=\"highlight-code\" id=\"haskell\">do x <- [2, 3]\n",
       "   return x</div></div><div class=\"suggestion-row\" style=\"float: left;\"><div class=\"suggestion-warning\">Why Not:</div><div class=\"highlight-code\" id=\"haskell\">do [2, 3]</div></div>"
      ],
      "text/plain": [
       "Line 1: Redundant return\n",
       "Found:\n",
       "do x <- [2, 3]\n",
       "   return x\n",
       "Why not:\n",
       "do [2, 3]"
      ]
     },
     "metadata": {},
     "output_type": "display_data"
    },
    {
     "data": {
      "text/plain": [
       "[2,3]"
      ]
     },
     "metadata": {},
     "output_type": "display_data"
    }
   ],
   "source": [
    "main = do\n",
    "    x <- [2,3]\n",
    "    return x\n",
    "\n",
    "main"
   ]
  },
  {
   "attachments": {},
   "cell_type": "markdown",
   "metadata": {},
   "source": [
    "```haskell\n",
    "\n",
    "(xs `mplus` ys) >>= return = (xs >>= return) `mplus` (ys >>= return) \n",
    "\n",
    "(a + b) * c = a c + b c\n",
    "\n",
    "-- linke seite\n",
    "    (xs `mplus` ys) >>= return \n",
    "               xsys >>= return == xsys\n",
    "==  (xs `mplus` ys)\n",
    "\n",
    "\n",
    "-- rechte seite\n",
    "    (xs >>= return) `mplus` (ys >>= return)\n",
    "==  (xs `mplus` ys) == xs ++ ys == xsys\n"
   ]
  }
 ],
 "metadata": {
  "kernelspec": {
   "display_name": "Haskell",
   "language": "haskell",
   "name": "haskell"
  },
  "language_info": {
   "codemirror_mode": "ihaskell",
   "file_extension": ".hs",
   "mimetype": "text/x-haskell",
   "name": "haskell",
   "pygments_lexer": "Haskell",
   "version": "9.2.7"
  },
  "orig_nbformat": 4
 },
 "nbformat": 4,
 "nbformat_minor": 2
}
