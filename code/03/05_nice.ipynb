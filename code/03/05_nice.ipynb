{
 "cells": [
  {
   "attachments": {},
   "cell_type": "markdown",
   "metadata": {},
   "source": [
    "Here I assume $0\\in N$. If you disagree start with 105.\n",
    "\n",
    "Let $S$ be the sequence of numbers of the form $3^i 5^j7^k$. Our task is to generate these numbers in order. Apart from 1 each number added is of the form $3x*5y*7z$  where $x,y,z$ are previous numbers in the sequence. We can generate 𝑆 by shifting $x,y,z$ along the sequence.\n",
    "\n",
    "So, first put 1 into $S$, and set $x,y,z$ equal to 1.\n",
    "\n",
    "Now repeat: Take the minimum value 𝑚 of $3⋅𝑥, 5⋅𝑦, 7⋅𝑧$, and add 𝑚 to the sequence 𝑆. The $x,y,z$f or which the minimum was taken are shifted to the next element of $S$. This might be more than one, or even all three."
   ]
  },
  {
   "cell_type": "code",
   "execution_count": null,
   "metadata": {
    "vscode": {
     "languageId": "haskell"
    }
   },
   "outputs": [],
   "source": [
    "nice :: [Integer]\n",
    "nice n = sieve [1..]\n",
    "\n",
    "sieve :: [Integer] -> [Integer]\n",
    "sieve x:xs = \\j if j == "
   ]
  },
  {
   "cell_type": "code",
   "execution_count": null,
   "metadata": {
    "vscode": {
     "languageId": "haskell"
    }
   },
   "outputs": [],
   "source": []
  }
 ],
 "metadata": {
  "language_info": {
   "name": "python"
  },
  "orig_nbformat": 4
 },
 "nbformat": 4,
 "nbformat_minor": 2
}
