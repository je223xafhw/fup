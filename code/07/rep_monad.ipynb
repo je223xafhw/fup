{
 "cells": [
  {
   "cell_type": "code",
   "execution_count": 2,
   "metadata": {},
   "outputs": [],
   "source": [
    "class MyMonad m where\n",
    "    (>>==) :: m a -> (a -> m b) -> m b\n",
    "    return :: a -> m a\n",
    "\n",
    "class MyApplicative f where\n",
    "    pure :: a -> f a\n",
    "    (<**>) :: f (a -> b) -> f a -> f b\n",
    "\n",
    "class MyFunctor f where\n",
    "    fmap :: (a -> b) -> f a -> f b\n",
    "    "
   ]
  },
  {
   "cell_type": "markdown",
   "metadata": {},
   "source": [
    "# for Either"
   ]
  },
  {
   "cell_type": "code",
   "execution_count": 3,
   "metadata": {},
   "outputs": [],
   "source": [
    "-- data Either a b = Left a | Right b\n",
    "\n",
    "instance MyFunctor (Either a) where\n",
    "    fmap :: (b -> c) -> Either a b -> Either a c\n",
    "    fmap f (Right x) = Right $ f x\n",
    "    fmap f (Left x) = Left x\n",
    "\n",
    "\n",
    "instance MyApplicative (Either a) where\n",
    "    pure :: b -> Either a b\n",
    "    pure = Right\n",
    "    \n",
    "    (<**>) :: Either a (b -> c) -> Either a b -> Either a c\n",
    "    _ <**> Left x = Left x\n",
    "    Left f <**> _ = Left f\n",
    "    Right f <**> Right x = Right $ f x\n",
    "\n",
    "instance MyMonad (Either a) where\n",
    "    return :: b -> Either a b\n",
    "    return = pure\n",
    "\n",
    "    (>>==) :: Either a b -> (b -> Either a c) -> Either a c\n",
    "    Left x >>== f = Left x\n",
    "    Right x >>== f = f x\n",
    "\n",
    "-- fmap (1+) (Left 3)\n",
    "\n",
    "-- Left (+1) <**> Right 2\n",
    "\n"
   ]
  },
  {
   "cell_type": "markdown",
   "metadata": {},
   "source": [
    "# For [ ]"
   ]
  },
  {
   "cell_type": "code",
   "execution_count": 4,
   "metadata": {},
   "outputs": [],
   "source": [
    "instance MyFunctor [] where\n",
    "    fmap :: (a -> b) -> [a] -> [b]\n",
    "    fmap = map\n",
    "\n",
    "instance MyApplicative [] where\n",
    "    pure :: a -> [a]\n",
    "    pure x = [x]\n",
    "\n",
    "    (<**>) :: [a -> b] -> [a] -> [b]\n",
    "    [] <**> _ = []\n",
    "    -- (f:fs) <**> xs = map f xs ++ fs <**> xs\n",
    "    (f:fs) <**> xs = [f x | x <- xs, f <- fs]\n",
    "\n",
    "\n",
    "\n",
    "instance MyMonad [] where\n",
    "    return :: a -> [a]\n",
    "    return = pure\n",
    "\n",
    "    (>>==) :: [a] -> (a -> [b]) -> [b]\n",
    "    [] >>== _ = []\n",
    "    (x:xs) >>== f = f x ++ (xs >>== f)"
   ]
  },
  {
   "cell_type": "markdown",
   "metadata": {},
   "source": [
    "# For (,)"
   ]
  },
  {
   "cell_type": "code",
   "execution_count": 5,
   "metadata": {},
   "outputs": [],
   "source": [
    "instance MyFunctor ((,) a) where\n",
    "    fmap :: (b -> c) -> (a,b) -> (a,c)\n",
    "    fmap f (a,b) = (a, f b)\n",
    "\n",
    "instance Monoid a => MyApplicative ((,) a) where\n",
    "    pure :: b -> (a,b)\n",
    "    pure b = (mempty,b)\n",
    "\n",
    "    (<**>) :: (a, b -> c) -> (a,b) -> (a,c)\n",
    "    (x, f) <**> (y, n) = (x <> y, f n)\n",
    "\n",
    "instance Monoid a => MyMonad ((,) a) where \n",
    "    return = pure\n",
    "    -- (>>==) :: (a,b) -> (b -> (a,c)) -> (a,c)\n",
    "    -- (a,b) >>== f = \n"
   ]
  },
  {
   "cell_type": "markdown",
   "metadata": {},
   "source": [
    "# For (->)"
   ]
  },
  {
   "cell_type": "code",
   "execution_count": 6,
   "metadata": {},
   "outputs": [
    {
     "data": {
      "text/html": [
       "<style>/* Styles used for the Hoogle display in the pager */\n",
       ".hoogle-doc {\n",
       "display: block;\n",
       "padding-bottom: 1.3em;\n",
       "padding-left: 0.4em;\n",
       "}\n",
       ".hoogle-code {\n",
       "display: block;\n",
       "font-family: monospace;\n",
       "white-space: pre;\n",
       "}\n",
       ".hoogle-text {\n",
       "display: block;\n",
       "}\n",
       ".hoogle-name {\n",
       "color: green;\n",
       "font-weight: bold;\n",
       "}\n",
       ".hoogle-head {\n",
       "font-weight: bold;\n",
       "}\n",
       ".hoogle-sub {\n",
       "display: block;\n",
       "margin-left: 0.4em;\n",
       "}\n",
       ".hoogle-package {\n",
       "font-weight: bold;\n",
       "font-style: italic;\n",
       "}\n",
       ".hoogle-module {\n",
       "font-weight: bold;\n",
       "}\n",
       ".hoogle-class {\n",
       "font-weight: bold;\n",
       "}\n",
       ".get-type {\n",
       "color: green;\n",
       "font-weight: bold;\n",
       "font-family: monospace;\n",
       "display: block;\n",
       "white-space: pre-wrap;\n",
       "}\n",
       ".show-type {\n",
       "color: green;\n",
       "font-weight: bold;\n",
       "font-family: monospace;\n",
       "margin-left: 1em;\n",
       "}\n",
       ".mono {\n",
       "font-family: monospace;\n",
       "display: block;\n",
       "}\n",
       ".err-msg {\n",
       "color: red;\n",
       "font-style: italic;\n",
       "font-family: monospace;\n",
       "white-space: pre;\n",
       "display: block;\n",
       "}\n",
       "#unshowable {\n",
       "color: red;\n",
       "font-weight: bold;\n",
       "}\n",
       ".err-msg.in.collapse {\n",
       "padding-top: 0.7em;\n",
       "}\n",
       ".highlight-code {\n",
       "white-space: pre;\n",
       "font-family: monospace;\n",
       "}\n",
       ".suggestion-warning { \n",
       "font-weight: bold;\n",
       "color: rgb(200, 130, 0);\n",
       "}\n",
       ".suggestion-error { \n",
       "font-weight: bold;\n",
       "color: red;\n",
       "}\n",
       ".suggestion-name {\n",
       "font-weight: bold;\n",
       "}\n",
       "</style><div class=\"suggestion-name\" style=\"clear:both;\">Redundant lambda</div><div class=\"suggestion-row\" style=\"float: left;\"><div class=\"suggestion-warning\">Found:</div><div class=\"highlight-code\" id=\"haskell\">pure x = \\ y -> x</div></div><div class=\"suggestion-row\" style=\"float: left;\"><div class=\"suggestion-warning\">Why Not:</div><div class=\"highlight-code\" id=\"haskell\">pure x y = x</div></div><div class=\"suggestion-name\" style=\"clear:both;\">Use const</div><div class=\"suggestion-row\" style=\"float: left;\"><div class=\"suggestion-warning\">Found:</div><div class=\"highlight-code\" id=\"haskell\">\\ y -> x</div></div><div class=\"suggestion-row\" style=\"float: left;\"><div class=\"suggestion-warning\">Why Not:</div><div class=\"highlight-code\" id=\"haskell\">const x</div></div>"
      ],
      "text/plain": [
       "Line 8: Redundant lambda\n",
       "Found:\n",
       "pure x = \\ y -> x\n",
       "Why not:\n",
       "pure x y = xLine 8: Use const\n",
       "Found:\n",
       "\\ y -> x\n",
       "Why not:\n",
       "const x"
      ]
     },
     "metadata": {},
     "output_type": "display_data"
    }
   ],
   "source": [
    "instance MyFunctor ((->) a) where\n",
    "    -- fmap :: (b -> c) -> ((->) a b) -> ((->) a c)\n",
    "    fmap :: (b -> c) -> (a -> b) -> (a -> c)\n",
    "    fmap = (.)\n",
    "\n",
    "instance MyApplicative ((->) r) where\n",
    "    pure :: a -> (r -> a)\n",
    "    pure x = \\y -> x\n",
    "\n",
    "    (<**>) :: (r -> (a -> b)) -> (r -> a) -> (r -> b)\n",
    "    f <**> g = \\r -> f r (g r)\n",
    "\n",
    "instance MyMonad ((->) r) where\n",
    "    return = pure\n",
    "    \n",
    "    (>>==) :: (r -> a) -> (a -> (r -> b)) -> (r -> b)\n",
    "    f >>== g = \\r -> (g $ f r) r"
   ]
  }
 ],
 "metadata": {
  "kernelspec": {
   "display_name": "Haskell",
   "language": "haskell",
   "name": "haskell"
  },
  "language_info": {
   "codemirror_mode": "ihaskell",
   "file_extension": ".hs",
   "mimetype": "text/x-haskell",
   "name": "haskell",
   "pygments_lexer": "Haskell",
   "version": "9.2.7"
  },
  "orig_nbformat": 4
 },
 "nbformat": 4,
 "nbformat_minor": 2
}
