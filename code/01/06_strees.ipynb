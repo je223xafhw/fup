{
 "cells": [
  {
   "attachments": {},
   "cell_type": "markdown",
   "metadata": {},
   "source": [
    "# Aufgabe 6\n",
    "- eine node muss einen pre und einen successor haben\n",
    "- damit node aufbau: n n n \n",
    "- aber muss auch baum links und rechts sein, daher brauchen wir eine struktur welche einen baum links und rechts haben kann"
   ]
  },
  {
   "cell_type": "code",
   "execution_count": 4,
   "metadata": {},
   "outputs": [],
   "source": [
    "data SearchTree a = Empty | Leaf Int | Node (SearchTree a) Int (SearchTree a) deriving (Show, Eq) \n",
    "let tree = Node (Node (Leaf 1) 2 (Node (Leaf 2) 3 (Leaf 4))) 4 (Node (Leaf 5) 6 Empty)\n"
   ]
  },
  {
   "cell_type": "markdown",
   "metadata": {},
   "source": [
    "- wenn sie empty ist, dann muss ich die zahl an der rechten stelle einfügen und den ganzen tree zurückgeben\n",
    "- wenn die rechte seite der rechten node nicht empty ist, dann rufe die gleiche funktion wieder auf, unzwar mit den parametern der rechten node\n",
    "\n",
    "\n",
    "```\n",
    "where insert' :: Node -> Int -> Node\n",
    "          insert' a x\n",
    "            | x > a = Node left a (insert x right)\n",
    "            | x < a = Node (insert x left) a right \n",
    "```\n",
    "\n",
    "```\n",
    "        4\n",
    "      /   \\\n",
    "    3       5\n",
    "\n",
    "=> 8\n",
    "        4\n",
    "      /   \\\n",
    "    3       5\n",
    "          /   \\\n",
    "         _      8\n",
    "```"
   ]
  },
  {
   "cell_type": "code",
   "execution_count": 77,
   "metadata": {},
   "outputs": [
    {
     "data": {
      "text/plain": [
       "Node (Node (Leaf 1) 2 (Node (Leaf 2) 3 (Leaf 4))) 4 (Node (Leaf 5) 6 Empty)"
      ]
     },
     "metadata": {},
     "output_type": "display_data"
    }
   ],
   "source": [
    "insert :: Int -> SearchTree a  -> SearchTree a\n",
    "insert a Empty  = Leaf a -- 3 Empty => (Leaf 3)\n",
    "insert 0 a = a -- 0 tree => tree\n",
    "insert x (Leaf a) -- abbruchbedingung:: wenn da eine leaf ist, dann soll er da die Zahl einfügen, als Node\n",
    "    | x > a =  Node Empty a (Leaf x)\n",
    "    | otherwise =  Node Empty x (Leaf a)\n",
    "\n",
    "-- wenn du eine zahl und eine Node bekommst\n",
    "insert n node = n `insert'` node where\n",
    "    -- gib an diese hilfsfunktion: \n",
    "    -- 1. die zahl die angepinnt werden soll\n",
    "    -- 2. die linke node als tree\n",
    "    -- 3. die mittlere zahl\n",
    "    -- 4. die rechte node als tree\n",
    "    insert' :: Int -> SearchTree a -> SearchTree a\n",
    "    -- 3 fälle:\n",
    "    -- 1. linke node is Empty (kann nicht)\n",
    "    -- 2. rechte node is Empty (abbruch)\n",
    "    -- 3. rechte ist ne volle node (rekursionsbedingung)\n",
    "    -- 4. zahl kann nicht gematched werden\n",
    "    insert' n (Node aa a ab)\n",
    "        | a == n = (Node aa a ab) \n",
    "        | a < n = Node aa a (n `insert` ab)\n",
    "        | a > n = Node (n `insert` aa) a ab\n",
    "\n",
    "-- let tree2 = Node (Node (Leaf 1) 2 (Leaf 3)) 4 Empty\n",
    "let tree2 = Node (Leaf 3) 4 (Leaf 5)\n",
    "print (4 `insert` tree)"
   ]
  },
  {
   "cell_type": "code",
   "execution_count": 68,
   "metadata": {},
   "outputs": [
    {
     "data": {
      "text/plain": [
       "False"
      ]
     },
     "metadata": {},
     "output_type": "display_data"
    }
   ],
   "source": [
    "toList :: SearchTree a -> [Int]\n",
    "toList Empty = []\n",
    "toList (Leaf n) = [n]\n",
    "toList (Node aa a ab) = toList aa ++ [a] ++ toList ab\n",
    "\n",
    "-- generate a list from the tree and look if the number is in there\n",
    "isElem :: Int -> SearchTree a -> Bool\n",
    "isElem n t = n `elem` toList t\n",
    "-- isElem n t = not (null [x | x <- toList t, x == n])\n",
    "\n",
    "print(isElem 6 tree2)"
   ]
  }
 ],
 "metadata": {
  "kernelspec": {
   "display_name": "Haskell",
   "language": "haskell",
   "name": "haskell"
  },
  "language_info": {
   "codemirror_mode": "ihaskell",
   "file_extension": ".hs",
   "mimetype": "text/x-haskell",
   "name": "haskell",
   "pygments_lexer": "Haskell",
   "version": "9.2.7"
  },
  "orig_nbformat": 4
 },
 "nbformat": 4,
 "nbformat_minor": 2
}
