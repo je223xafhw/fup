{
 "cells": [
  {
   "cell_type": "code",
   "execution_count": 52,
   "metadata": {},
   "outputs": [],
   "source": [
    "import Prelude hiding (concat, append, foldr)"
   ]
  },
  {
   "cell_type": "code",
   "execution_count": 53,
   "metadata": {},
   "outputs": [],
   "source": [
    "newtype FList a = FList ([a] -> [a])\n",
    "\n",
    "instance Semigroup (FList a) where\n",
    "  (<>) :: FList a -> FList a -> FList a\n",
    "  FList xs <> FList ys = FList (xs . ys)\n",
    "\n",
    "instance Monoid (FList a) where\n",
    "  mempty :: FList a\n",
    "  mempty = toFList []\n",
    "\n",
    "instance Show a => Show (FList a) where\n",
    "  show xs = show $ fromFList xs\n",
    "\n",
    "\n",
    "toFList :: [a] -> FList a\n",
    "toFList xs = FList (xs ++)\n",
    "\n",
    "fromFList :: FList a -> [a]\n",
    "fromFList (FList fl) = fl []"
   ]
  },
  {
   "cell_type": "code",
   "execution_count": 54,
   "metadata": {},
   "outputs": [
    {
     "data": {
      "text/plain": [
       "[3]"
      ]
     },
     "metadata": {},
     "output_type": "display_data"
    }
   ],
   "source": [
    "singleton :: a -> FList a\n",
    "singleton x = toFList [x]\n",
    "\n",
    "flistTest = toFList [1,2,3] \n",
    "flistTest2 = toFList [9,10,11] \n",
    "singleton 3"
   ]
  },
  {
   "cell_type": "code",
   "execution_count": 55,
   "metadata": {},
   "outputs": [
    {
     "data": {
      "text/plain": [
       "[4,1,2,3]"
      ]
     },
     "metadata": {},
     "output_type": "display_data"
    }
   ],
   "source": [
    "cons :: a -> FList a -> FList a\n",
    "cons x xs = singleton x <> xs\n",
    "\n",
    "cons 4 flistTest"
   ]
  },
  {
   "cell_type": "code",
   "execution_count": 56,
   "metadata": {},
   "outputs": [
    {
     "data": {
      "text/plain": [
       "[1,2,3,4]"
      ]
     },
     "metadata": {},
     "output_type": "display_data"
    }
   ],
   "source": [
    "snoc :: FList a -> a -> FList a\n",
    "snoc xs x = xs <> singleton x\n",
    "\n",
    "snoc flistTest 4"
   ]
  },
  {
   "cell_type": "code",
   "execution_count": 57,
   "metadata": {},
   "outputs": [
    {
     "data": {
      "text/plain": [
       "[1,2,3,9,10,11]"
      ]
     },
     "metadata": {},
     "output_type": "display_data"
    }
   ],
   "source": [
    "append :: FList a -> FList a -> FList a\n",
    "append = (<>)\n",
    "\n",
    "append flistTest flistTest2"
   ]
  },
  {
   "cell_type": "code",
   "execution_count": 58,
   "metadata": {},
   "outputs": [
    {
     "data": {
      "text/html": [
       "<style>/* Styles used for the Hoogle display in the pager */\n",
       ".hoogle-doc {\n",
       "display: block;\n",
       "padding-bottom: 1.3em;\n",
       "padding-left: 0.4em;\n",
       "}\n",
       ".hoogle-code {\n",
       "display: block;\n",
       "font-family: monospace;\n",
       "white-space: pre;\n",
       "}\n",
       ".hoogle-text {\n",
       "display: block;\n",
       "}\n",
       ".hoogle-name {\n",
       "color: green;\n",
       "font-weight: bold;\n",
       "}\n",
       ".hoogle-head {\n",
       "font-weight: bold;\n",
       "}\n",
       ".hoogle-sub {\n",
       "display: block;\n",
       "margin-left: 0.4em;\n",
       "}\n",
       ".hoogle-package {\n",
       "font-weight: bold;\n",
       "font-style: italic;\n",
       "}\n",
       ".hoogle-module {\n",
       "font-weight: bold;\n",
       "}\n",
       ".hoogle-class {\n",
       "font-weight: bold;\n",
       "}\n",
       ".get-type {\n",
       "color: green;\n",
       "font-weight: bold;\n",
       "font-family: monospace;\n",
       "display: block;\n",
       "white-space: pre-wrap;\n",
       "}\n",
       ".show-type {\n",
       "color: green;\n",
       "font-weight: bold;\n",
       "font-family: monospace;\n",
       "margin-left: 1em;\n",
       "}\n",
       ".mono {\n",
       "font-family: monospace;\n",
       "display: block;\n",
       "}\n",
       ".err-msg {\n",
       "color: red;\n",
       "font-style: italic;\n",
       "font-family: monospace;\n",
       "white-space: pre;\n",
       "display: block;\n",
       "}\n",
       "#unshowable {\n",
       "color: red;\n",
       "font-weight: bold;\n",
       "}\n",
       ".err-msg.in.collapse {\n",
       "padding-top: 0.7em;\n",
       "}\n",
       ".highlight-code {\n",
       "white-space: pre;\n",
       "font-family: monospace;\n",
       "}\n",
       ".suggestion-warning { \n",
       "font-weight: bold;\n",
       "color: rgb(200, 130, 0);\n",
       "}\n",
       ".suggestion-error { \n",
       "font-weight: bold;\n",
       "color: red;\n",
       "}\n",
       ".suggestion-name {\n",
       "font-weight: bold;\n",
       "}\n",
       "</style><div class=\"suggestion-name\" style=\"clear:both;\">Use ++</div><div class=\"suggestion-row\" style=\"float: left;\"><div class=\"suggestion-warning\">Found:</div><div class=\"highlight-code\" id=\"haskell\">concat [flistTest, flistTest2]</div></div><div class=\"suggestion-row\" style=\"float: left;\"><div class=\"suggestion-warning\">Why Not:</div><div class=\"highlight-code\" id=\"haskell\">flistTest ++ flistTest2</div></div>"
      ],
      "text/plain": [
       "Line 4: Use ++\n",
       "Found:\n",
       "concat [flistTest, flistTest2]\n",
       "Why not:\n",
       "flistTest ++ flistTest2"
      ]
     },
     "metadata": {},
     "output_type": "display_data"
    },
    {
     "data": {
      "text/plain": [
       "[1,2,3,9,10,11]"
      ]
     },
     "metadata": {},
     "output_type": "display_data"
    }
   ],
   "source": [
    "concat :: [FList a] -> FList a\n",
    "concat xs = toFList [ z | x <- xs, z <- fromFList x]\n",
    "\n",
    "concat [flistTest, flistTest2]"
   ]
  },
  {
   "cell_type": "code",
   "execution_count": 59,
   "metadata": {},
   "outputs": [
    {
     "data": {
      "text/plain": [
       "1"
      ]
     },
     "metadata": {},
     "output_type": "display_data"
    },
    {
     "data": {
      "text/plain": [
       "9"
      ]
     },
     "metadata": {},
     "output_type": "display_data"
    }
   ],
   "source": [
    "head :: FList a -> a\n",
    "head x = fromFList x !! 0\n",
    "\n",
    "head flistTest\n",
    "head flistTest2"
   ]
  },
  {
   "cell_type": "code",
   "execution_count": 60,
   "metadata": {},
   "outputs": [],
   "source": [
    "tail :: FList a -> FList a\n",
    "tail fs = toFList (case fromFList fs of\n",
    "                     [] -> []\n",
    "                     (_:xs) -> xs)"
   ]
  },
  {
   "cell_type": "code",
   "execution_count": 61,
   "metadata": {},
   "outputs": [],
   "source": [
    "tail :: FList a -> FList a\n",
    "tail = toFList . drop 1 . fromFList"
   ]
  },
  {
   "cell_type": "code",
   "execution_count": 62,
   "metadata": {},
   "outputs": [
    {
     "data": {
      "text/plain": [
       "11"
      ]
     },
     "metadata": {},
     "output_type": "display_data"
    }
   ],
   "source": [
    "foldr :: (a -> b -> b) -> b -> FList a -> b\n",
    "foldr f n list =  foldr' f n (fromFList list) where\n",
    "        foldr' :: (a -> b -> b) -> b -> [a] -> b\n",
    "        foldr' _ n [] = n\n",
    "        foldr' f n xs = foldr' f (f (last xs) n) (init xs)\n",
    "\n",
    "foldr (-) 0 (toFList [10, 2, 3])"
   ]
  },
  {
   "cell_type": "code",
   "execution_count": 63,
   "metadata": {},
   "outputs": [
    {
     "data": {
      "text/plain": [
       "[3,2,1]"
      ]
     },
     "metadata": {},
     "output_type": "display_data"
    }
   ],
   "source": [
    "reverse :: [a] -> [a]\n",
    "reverse xs = fromFList $ reverse' xs $ toFList [] where\n",
    "    reverse' :: [a] -> FList a -> FList a\n",
    "    reverse' [] ys = ys\n",
    "    reverse' (x:xs) ys = reverse' xs $ cons x ys\n",
    "\n",
    "reverse [1,2,3]"
   ]
  },
  {
   "cell_type": "code",
   "execution_count": 64,
   "metadata": {},
   "outputs": [
    {
     "data": {
      "text/plain": [
       "[3,2,1]"
      ]
     },
     "metadata": {},
     "output_type": "display_data"
    }
   ],
   "source": [
    "reverse :: [a] -> [a]\n",
    "reverse xs = fromFList $ reverse' (toFList xs) $ toFList [] where\n",
    "    reverse' :: FList a -> FList a -> FList a\n",
    "    reverse' xs ys = case fromFList xs of \n",
    "        [] -> ys\n",
    "        _ -> reverse' (tail xs) $ cons (head xs) ys\n",
    "\n",
    "reverse [1,2,3]\n"
   ]
  }
 ],
 "metadata": {
  "kernelspec": {
   "display_name": "Haskell",
   "language": "haskell",
   "name": "haskell"
  },
  "language_info": {
   "codemirror_mode": "ihaskell",
   "file_extension": ".hs",
   "mimetype": "text/x-haskell",
   "name": "haskell",
   "pygments_lexer": "Haskell",
   "version": "9.2.7"
  },
  "orig_nbformat": 4
 },
 "nbformat": 4,
 "nbformat_minor": 2
}
