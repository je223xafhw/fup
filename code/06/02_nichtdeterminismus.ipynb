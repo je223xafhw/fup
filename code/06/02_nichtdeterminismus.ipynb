{
 "cells": [
  {
   "cell_type": "code",
   "execution_count": 2,
   "metadata": {},
   "outputs": [],
   "source": [
    "import Control.Monad (MonadPlus)\n",
    "\n",
    "permutations :: MonadPlus mp => [a] -> mp [a]\n",
    "permutations = undefined\n",
    "\n",
    "insert :: MonadPlus mp => e -> [e] -> mp [e]\n",
    "insert = undefined"
   ]
  }
 ],
 "metadata": {
  "kernelspec": {
   "display_name": "Haskell",
   "language": "haskell",
   "name": "haskell"
  },
  "language_info": {
   "codemirror_mode": "ihaskell",
   "file_extension": ".hs",
   "mimetype": "text/x-haskell",
   "name": "haskell",
   "pygments_lexer": "Haskell",
   "version": "9.2.7"
  },
  "orig_nbformat": 4
 },
 "nbformat": 4,
 "nbformat_minor": 2
}
