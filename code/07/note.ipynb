{
 "cells": [
  {
   "cell_type": "markdown",
   "metadata": {},
   "source": [
    "```haskell\n",
    "data Sum = Sum Int\n",
    "\n",
    "```\n",
    "- das erste Sum ist ein Typ\n",
    "- das zweite ist ein Typkonstruktor\n",
    "- das Int ist ein Typ\n",
    "\n",
    "```haskell \n",
    "data Maybe a = Just a | Nothing\n",
    "```\n",
    "\n",
    "- Maybe Typkonstruktor\n",
    "- Just ist ein Typkontruktor\n",
    "- Nothing ist auch ein Typkonstruktor"
   ]
  },
  {
   "cell_type": "code",
   "execution_count": null,
   "metadata": {},
   "outputs": [],
   "source": []
  }
 ],
 "metadata": {
  "language_info": {
   "name": "python"
  },
  "orig_nbformat": 4
 },
 "nbformat": 4,
 "nbformat_minor": 2
}
