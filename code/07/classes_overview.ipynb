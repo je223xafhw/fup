{
 "cells": [
  {
   "cell_type": "markdown",
   "metadata": {},
   "source": [
    "# Functor"
   ]
  },
  {
   "cell_type": "markdown",
   "metadata": {},
   "source": [
    "## Function"
   ]
  },
  {
   "cell_type": "markdown",
   "metadata": {},
   "source": [
    "**<$> fmap**\n",
    "```haskell\n",
    "fmap :: (a-> b) -> f a -> f b\n"
   ]
  },
  {
   "cell_type": "markdown",
   "metadata": {},
   "source": [
    "## Laws"
   ]
  },
  {
   "cell_type": "markdown",
   "metadata": {},
   "source": [
    "**Identity**\n",
    "```haskell\n",
    "fmap id == id\n",
    "```\n",
    "**Composition**\n",
    "```haskell\n",
    "fmap (f . g) == fmap f . fmap g\n",
    "```"
   ]
  },
  {
   "cell_type": "markdown",
   "metadata": {},
   "source": [
    "# Applicative"
   ]
  },
  {
   "cell_type": "markdown",
   "metadata": {},
   "source": [
    "## Functions"
   ]
  },
  {
   "cell_type": "markdown",
   "metadata": {},
   "source": [
    "**(seq. App)**\n",
    "\n",
    "```haskell\n",
    "<*> :: f (a -> b) f a -> f b\n",
    "\n",
    "pure :: a -> f a"
   ]
  },
  {
   "cell_type": "markdown",
   "metadata": {},
   "source": [
    "## Laws"
   ]
  },
  {
   "cell_type": "markdown",
   "metadata": {},
   "source": [
    "**Identity**\n",
    "\n",
    "```haskell\n",
    "pure id <*> v == v\n",
    "```\n",
    "\n",
    "**Composition**\n",
    "```haskell\n",
    "pure (.) <*> u <*> v <*> w == u <*> (v <*> w)\n",
    "== (.) <$> u <*> v <*> w == u <*> (v <*> w)\n",
    " ```\n",
    "**Homorphism**\n",
    "\n",
    "```haskell\n",
    "pure f <*> pure x == pure f x\n",
    "```\n",
    "\n",
    "**Interchange (Associativity)**\n",
    "```haskell\n",
    "u <*> pure y == pure ($ y) <*> u"
   ]
  },
  {
   "cell_type": "markdown",
   "metadata": {},
   "source": [
    "# Monad"
   ]
  },
  {
   "cell_type": "markdown",
   "metadata": {},
   "source": [
    "## Functions"
   ]
  },
  {
   "cell_type": "markdown",
   "metadata": {},
   "source": [
    "```haskell\n",
    "return :: a -> m a\n",
    "bind   :: m a -> (a -> m b) -> m b\n",
    ">>     :: m a -> m b -> m b\n",
    "\n",
    "mappend"
   ]
  },
  {
   "cell_type": "markdown",
   "metadata": {},
   "source": [
    "## Laws"
   ]
  },
  {
   "cell_type": "markdown",
   "metadata": {},
   "source": [
    "**Left Identity**\n",
    "```haskell \n",
    "return a >>= k == k a\n",
    "```\n",
    "\n",
    "**Right Identity**\n",
    "```haskell \n",
    "m >>= return == m\n",
    "```\n",
    "\n",
    "**Associativity**\n",
    "```haskell \n",
    "m >>= (\\x -> k x >>= h) == (m >>= k) >>= h\n",
    "```\n"
   ]
  },
  {
   "cell_type": "markdown",
   "metadata": {},
   "source": [
    "# MonadPlus"
   ]
  },
  {
   "cell_type": "code",
   "execution_count": null,
   "metadata": {},
   "outputs": [],
   "source": [
    "## Functions"
   ]
  },
  {
   "cell_type": "code",
   "execution_count": null,
   "metadata": {},
   "outputs": [],
   "source": [
    "```haskell\n",
    "mzero\n",
    "mplus"
   ]
  },
  {
   "cell_type": "markdown",
   "metadata": {},
   "source": [
    "# Alternative"
   ]
  },
  {
   "cell_type": "markdown",
   "metadata": {},
   "source": [
    "## Functions"
   ]
  },
  {
   "cell_type": "markdown",
   "metadata": {},
   "source": [
    "```haskell\n",
    "<|> :: \n",
    "empty :: "
   ]
  },
  {
   "cell_type": "markdown",
   "metadata": {},
   "source": []
  }
 ],
 "metadata": {
  "kernelspec": {
   "display_name": "Haskell",
   "language": "haskell",
   "name": "haskell"
  },
  "language_info": {
   "codemirror_mode": "ihaskell",
   "file_extension": ".hs",
   "mimetype": "text/x-haskell",
   "name": "haskell",
   "pygments_lexer": "Haskell",
   "version": "9.2.7"
  },
  "orig_nbformat": 4
 },
 "nbformat": 4,
 "nbformat_minor": 2
}
