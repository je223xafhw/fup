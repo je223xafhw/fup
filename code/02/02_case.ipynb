{
 "cells": [
  {
   "attachments": {},
   "cell_type": "markdown",
   "metadata": {},
   "source": [
    "# Aufgabe 2"
   ]
  },
  {
   "attachments": {},
   "cell_type": "markdown",
   "metadata": {},
   "source": [
    "## Pattern Matching"
   ]
  },
  {
   "cell_type": "code",
   "execution_count": null,
   "metadata": {},
   "outputs": [],
   "source": [
    "fromMaybeP :: a -> Maybe a -> a\n",
    "fromMaybeP n \n",
    "    | n /= Nothing = Just n\n",
    "    | otherwise = n"
   ]
  },
  {
   "cell_type": "code",
   "execution_count": null,
   "metadata": {},
   "outputs": [],
   "source": [
    "catMaybesP :: [Maybe a] -> [a]\n",
    "catMaybesP (x:xs) \n",
    "    | (x:xs) == [] = []\n",
    "    | "
   ]
  },
  {
   "cell_type": "code",
   "execution_count": null,
   "metadata": {},
   "outputs": [],
   "source": [
    "maybeP :: b -> (a -> b) -> Maybe a -> b\n",
    "myabeP n f a \n",
    "    | a == Nothing = n\n",
    "    | Just a = f (Just a)\n",
    "    | otherwise = error \"muss just sein\"\n",
    "\n",
    "maybeP 1 (+1) 2"
   ]
  },
  {
   "attachments": {},
   "cell_type": "markdown",
   "metadata": {},
   "source": [
    "## Case"
   ]
  }
 ],
 "metadata": {
  "kernelspec": {
   "display_name": "Haskell",
   "language": "haskell",
   "name": "haskell"
  },
  "language_info": {
   "name": "haskell"
  },
  "orig_nbformat": 4
 },
 "nbformat": 4,
 "nbformat_minor": 2
}
