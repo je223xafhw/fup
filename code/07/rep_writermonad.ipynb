{
 "cells": [
  {
   "cell_type": "code",
   "execution_count": 12,
   "metadata": {},
   "outputs": [],
   "source": [
    "class (Monoid w, Monad m) => MonadWriter w m where\n",
    "    tell :: w -> m ()\n",
    "\n",
    "newtype Writer w a = Writer { runWriter :: (a, w)}"
   ]
  },
  {
   "cell_type": "code",
   "execution_count": 26,
   "metadata": {},
   "outputs": [],
   "source": [
    "instance Functor (Writer w) where\n",
    "    fmap :: (a -> b) -> Writer w a -> Writer w b\n",
    "    fmap f (Writer (a, w)) = Writer (f a, w)\n",
    "\n",
    "\n",
    "instance Monoid w => Applicative (Writer w) where\n",
    "    pure :: a -> Writer w a\n",
    "    pure a = Writer (a, mempty)\n",
    "\n",
    "    (<*>) :: Writer w (a -> b) -> Writer w a -> Writer w b\n",
    "    Writer (f, w) <*> Writer (a, w1) = Writer (f a, w <> w1)\n",
    "\n",
    "instance Monoid w => Monad (Writer w) where\n",
    "    return :: a -> Writer w a\n",
    "    return = pure\n",
    "\n",
    "    (>>=) :: Writer w a -> (a -> Writer w b) -> Writer w b\n",
    "    Writer (a, w) >>= f = f a\n",
    "\n",
    "instance Monoid w => MonadWriter w (Writer w) where\n",
    "    tell :: w -> Writer w ()\n",
    "    tell w = Writer ((), w)\n"
   ]
  }
 ],
 "metadata": {
  "kernelspec": {
   "display_name": "Haskell",
   "language": "haskell",
   "name": "haskell"
  },
  "language_info": {
   "codemirror_mode": "ihaskell",
   "file_extension": ".hs",
   "mimetype": "text/x-haskell",
   "name": "haskell",
   "pygments_lexer": "Haskell",
   "version": "9.2.7"
  },
  "orig_nbformat": 4
 },
 "nbformat": 4,
 "nbformat_minor": 2
}
