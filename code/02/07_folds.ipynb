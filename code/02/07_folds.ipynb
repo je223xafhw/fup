{
 "cells": [
  {
   "attachments": {},
   "cell_type": "markdown",
   "metadata": {},
   "source": [
    "Welche Funktionen werden durch folgende Ausdrücke definiert (umgangssprachlich)?\n",
    "\n",
    "`foldr :: (a -> b -> b) -> b -> [a] -> b`\n",
    "\n",
    "`foldl :: (b -> a -> b) -> b -> [a] -> b`\n",
    "\n",
    "- foldr (:) []: kopieren von werten aus einer liste, wobei die leere Liste, eine leere Liste bleibt\n",
    "- foldl (*) 1: multiplizieren aller werte eines arrays, anfangswert 1\n",
    "- foldr (-) 1: subtrahieren aller werte, von rechts an, endwert -1\n",
    "- foldl (-) 1: subtrahieren aller werte, von links an, endwert -1"
   ]
  },
  {
   "attachments": {},
   "cell_type": "markdown",
   "metadata": {},
   "source": [
    "# foldr\n",
    "\n",
    "- ich gebe zu foldr eine funktion rein, die hat 2 parameter: \n",
    "  - den aktuellen wert, welcher in der liste gerade konkateniert wird und einen akkumulator\n",
    "  - dh wenn ich foldr `(\\x n -> n + 1)` mache, werde ich n jedes mal inkrementieren"
   ]
  },
  {
   "cell_type": "code",
   "execution_count": 19,
   "metadata": {},
   "outputs": [],
   "source": [
    "length:: [a] -> Int\n",
    "length = foldr add1 0 where\n",
    "    add1 _ n = n + 1\n",
    "\n",
    "-- sum1:: [Int] -> Int\n",
    "-- -- sum1 = foldr (\\x y -> (x+y)) 0\n",
    "-- -- sum1 = foldr (\\x -> (x+)) 0\n",
    "-- sum1 = foldr (+) 0\n"
   ]
  },
  {
   "attachments": {},
   "cell_type": "markdown",
   "metadata": {},
   "source": [
    "da die listen nur miteinander konkateniert werden müssen, reicht ein einfacher aufruf von foldr mit dem `:` operator"
   ]
  },
  {
   "cell_type": "code",
   "execution_count": 24,
   "metadata": {},
   "outputs": [],
   "source": [
    "\n",
    "(++) :: [a] -> [a] -> [a]\n",
    "(++) = foldr (:)"
   ]
  },
  {
   "attachments": {},
   "cell_type": "markdown",
   "metadata": {},
   "source": [
    "concat nutzt die `++` function und wendet diese auf jedes element der restlichen listen an. Dabei ist wichtig, dass die erste liste der anfangspunkt der funktion ist"
   ]
  },
  {
   "cell_type": "code",
   "execution_count": 63,
   "metadata": {},
   "outputs": [
    {
     "data": {
      "text/html": [
       "<style>/* Styles used for the Hoogle display in the pager */\n",
       ".hoogle-doc {\n",
       "display: block;\n",
       "padding-bottom: 1.3em;\n",
       "padding-left: 0.4em;\n",
       "}\n",
       ".hoogle-code {\n",
       "display: block;\n",
       "font-family: monospace;\n",
       "white-space: pre;\n",
       "}\n",
       ".hoogle-text {\n",
       "display: block;\n",
       "}\n",
       ".hoogle-name {\n",
       "color: green;\n",
       "font-weight: bold;\n",
       "}\n",
       ".hoogle-head {\n",
       "font-weight: bold;\n",
       "}\n",
       ".hoogle-sub {\n",
       "display: block;\n",
       "margin-left: 0.4em;\n",
       "}\n",
       ".hoogle-package {\n",
       "font-weight: bold;\n",
       "font-style: italic;\n",
       "}\n",
       ".hoogle-module {\n",
       "font-weight: bold;\n",
       "}\n",
       ".hoogle-class {\n",
       "font-weight: bold;\n",
       "}\n",
       ".get-type {\n",
       "color: green;\n",
       "font-weight: bold;\n",
       "font-family: monospace;\n",
       "display: block;\n",
       "white-space: pre-wrap;\n",
       "}\n",
       ".show-type {\n",
       "color: green;\n",
       "font-weight: bold;\n",
       "font-family: monospace;\n",
       "margin-left: 1em;\n",
       "}\n",
       ".mono {\n",
       "font-family: monospace;\n",
       "display: block;\n",
       "}\n",
       ".err-msg {\n",
       "color: red;\n",
       "font-style: italic;\n",
       "font-family: monospace;\n",
       "white-space: pre;\n",
       "display: block;\n",
       "}\n",
       "#unshowable {\n",
       "color: red;\n",
       "font-weight: bold;\n",
       "}\n",
       ".err-msg.in.collapse {\n",
       "padding-top: 0.7em;\n",
       "}\n",
       ".highlight-code {\n",
       "white-space: pre;\n",
       "font-family: monospace;\n",
       "}\n",
       ".suggestion-warning { \n",
       "font-weight: bold;\n",
       "color: rgb(200, 130, 0);\n",
       "}\n",
       ".suggestion-error { \n",
       "font-weight: bold;\n",
       "color: red;\n",
       "}\n",
       ".suggestion-name {\n",
       "font-weight: bold;\n",
       "}\n",
       "</style><div class=\"suggestion-name\" style=\"clear:both;\">Use ++</div><div class=\"suggestion-row\" style=\"float: left;\"><div class=\"suggestion-warning\">Found:</div><div class=\"highlight-code\" id=\"haskell\">concat [[1, 2, 3], [1, 2, 3]]</div></div><div class=\"suggestion-row\" style=\"float: left;\"><div class=\"suggestion-warning\">Why Not:</div><div class=\"highlight-code\" id=\"haskell\">[1, 2, 3] ++ [1, 2, 3]</div></div>"
      ],
      "text/plain": [
       "Line 8: Use ++\n",
       "Found:\n",
       "concat [[1, 2, 3], [1, 2, 3]]\n",
       "Why not:\n",
       "[1, 2, 3] ++ [1, 2, 3]"
      ]
     },
     "metadata": {},
     "output_type": "display_data"
    },
    {
     "data": {
      "text/plain": [
       "[1,2,3,1,2,3]"
      ]
     },
     "metadata": {},
     "output_type": "display_data"
    }
   ],
   "source": [
    "concat :: [[a]] -> [a]\n",
    "concat [] = []\n",
    "-- concat (x:xs) = foldr (\\xs res -> xs++res) x xs\n",
    "-- concat (x:xs) = foldr (\\xs -> (xs++)) x xs\n",
    "concat (x:xs) = foldr (++) x xs\n",
    "\n",
    "concat [[1,2,3],[1,2,3]]"
   ]
  },
  {
   "attachments": {},
   "cell_type": "markdown",
   "metadata": {},
   "source": [
    "- map ruft eine funktion für jedes Element einer Liste auf. Hierbei ist es recht einfach, da jedes Element einmal in der Lambda funktion aufgerufen und auf f angewendet wird. Im Anschluss wird es an die restlichen Elemente angebunden. Da wir mit foldr arbeiten, wird es von der rechten seite aus konkateniert\n",
    "- bei dem Aufruf mit foldl, werden nur Akkumulator und Element vertauscht"
   ]
  },
  {
   "cell_type": "code",
   "execution_count": 66,
   "metadata": {},
   "outputs": [
    {
     "data": {
      "text/html": [
       "<style>/* Styles used for the Hoogle display in the pager */\n",
       ".hoogle-doc {\n",
       "display: block;\n",
       "padding-bottom: 1.3em;\n",
       "padding-left: 0.4em;\n",
       "}\n",
       ".hoogle-code {\n",
       "display: block;\n",
       "font-family: monospace;\n",
       "white-space: pre;\n",
       "}\n",
       ".hoogle-text {\n",
       "display: block;\n",
       "}\n",
       ".hoogle-name {\n",
       "color: green;\n",
       "font-weight: bold;\n",
       "}\n",
       ".hoogle-head {\n",
       "font-weight: bold;\n",
       "}\n",
       ".hoogle-sub {\n",
       "display: block;\n",
       "margin-left: 0.4em;\n",
       "}\n",
       ".hoogle-package {\n",
       "font-weight: bold;\n",
       "font-style: italic;\n",
       "}\n",
       ".hoogle-module {\n",
       "font-weight: bold;\n",
       "}\n",
       ".hoogle-class {\n",
       "font-weight: bold;\n",
       "}\n",
       ".get-type {\n",
       "color: green;\n",
       "font-weight: bold;\n",
       "font-family: monospace;\n",
       "display: block;\n",
       "white-space: pre-wrap;\n",
       "}\n",
       ".show-type {\n",
       "color: green;\n",
       "font-weight: bold;\n",
       "font-family: monospace;\n",
       "margin-left: 1em;\n",
       "}\n",
       ".mono {\n",
       "font-family: monospace;\n",
       "display: block;\n",
       "}\n",
       ".err-msg {\n",
       "color: red;\n",
       "font-style: italic;\n",
       "font-family: monospace;\n",
       "white-space: pre;\n",
       "display: block;\n",
       "}\n",
       "#unshowable {\n",
       "color: red;\n",
       "font-weight: bold;\n",
       "}\n",
       ".err-msg.in.collapse {\n",
       "padding-top: 0.7em;\n",
       "}\n",
       ".highlight-code {\n",
       "white-space: pre;\n",
       "font-family: monospace;\n",
       "}\n",
       ".suggestion-warning { \n",
       "font-weight: bold;\n",
       "color: rgb(200, 130, 0);\n",
       "}\n",
       ".suggestion-error { \n",
       "font-weight: bold;\n",
       "color: red;\n",
       "}\n",
       ".suggestion-name {\n",
       "font-weight: bold;\n",
       "}\n",
       "</style><div class=\"suggestion-name\" style=\"clear:both;\">Use map</div><div class=\"suggestion-row\" style=\"float: left;\"><div class=\"suggestion-warning\">Found:</div><div class=\"highlight-code\" id=\"haskell\">foldr (\\ x acc -> f x : acc) []</div></div><div class=\"suggestion-row\" style=\"float: left;\"><div class=\"suggestion-warning\">Why Not:</div><div class=\"highlight-code\" id=\"haskell\">map (\\ x -> f x)</div></div>"
      ],
      "text/plain": [
       "Line 3: Use map\n",
       "Found:\n",
       "foldr (\\ x acc -> f x : acc) []\n",
       "Why not:\n",
       "map (\\ x -> f x)"
      ]
     },
     "metadata": {},
     "output_type": "display_data"
    },
    {
     "data": {
      "text/plain": [
       "[4,3,2]"
      ]
     },
     "metadata": {},
     "output_type": "display_data"
    }
   ],
   "source": [
    "mapR :: (a -> b) -> [a] -> [b]\n",
    "mapR f [] = []\n",
    "mapR f xs = foldr (\\x acc -> f x : acc) [] xs\n",
    "\n",
    "mapL :: (a -> b) -> [a] -> [b]\n",
    "mapL f [] = []\n",
    "mapL f xs = foldl (\\acc x -> f x : acc) [] xs\n",
    "\n",
    "mapL (+1) [1,2,3]"
   ]
  },
  {
   "attachments": {},
   "cell_type": "markdown",
   "metadata": {},
   "source": [
    "- Die filter funktion fügt ein element nur dann einer liste hinzu, wenn eine angegebene Bedingung erfüllt ist. Daher wird hier jedes Element auf F angewendet und im Anschluss an den Akkumulator angebunden, oder nicht\n",
    "- auch hier werden für den Aufruf mit foldl nur der akkumulator und die aktuelle Liste vertauscht"
   ]
  },
  {
   "cell_type": "code",
   "execution_count": 69,
   "metadata": {},
   "outputs": [
    {
     "data": {
      "text/plain": [
       "[2,1]"
      ]
     },
     "metadata": {},
     "output_type": "display_data"
    }
   ],
   "source": [
    "filterR :: (a -> Bool) -> [a] -> [a]\n",
    "filterR _ [] = []\n",
    "filterR f xs = foldr (\\x acc -> if f x then x : acc  else acc) [] xs\n",
    "\n",
    "filterL :: (a -> Bool) -> [a] -> [a]\n",
    "filterL _ [] = []\n",
    "filterL f xs = foldl (\\acc x -> if f x then x : acc  else acc) [] xs\n",
    "\n",
    "\n",
    "filterL (<3) [1,2,3,4]"
   ]
  },
  {
   "attachments": {},
   "cell_type": "markdown",
   "metadata": {},
   "source": [
    "- concatMap : iteriere durch jedes element der liste, wende darauf `f` an. Daraus erhält man eine liste, welche an alle anderen Elemente gehängt werden muss\n",
    "- richtiger ist foldl, da dann die liste in der richtigen Reihenfolge zugewiesen wird"
   ]
  },
  {
   "cell_type": "code",
   "execution_count": 5,
   "metadata": {},
   "outputs": [
    {
     "data": {
      "text/plain": [
       "[1,2,3,4,5,6]"
      ]
     },
     "metadata": {},
     "output_type": "display_data"
    }
   ],
   "source": [
    "concatMap :: (a -> [b]) -> [a] -> [b]\n",
    "concatMap _ [] = []\n",
    "concatMap f xs = foldl (\\acc x -> acc ++ f x) [] xs\n",
    "-- concatMap f xs = foldr (\\x acc -> acc ++ f x) [] xs\n",
    "\n",
    "concatMap (\\x -> [x,x+1]) [1,3,5]"
   ]
  },
  {
   "attachments": {},
   "cell_type": "markdown",
   "metadata": {},
   "source": [
    "- nub: entfernt duplicate aus einer Liste\n",
    "- auch hier können beide genutzt werden, foldr macht ebenfalls die reverse Liste"
   ]
  },
  {
   "cell_type": "code",
   "execution_count": 9,
   "metadata": {},
   "outputs": [
    {
     "data": {
      "text/plain": [
       "[1,2,3,4,5]"
      ]
     },
     "metadata": {},
     "output_type": "display_data"
    }
   ],
   "source": [
    "nub:: [Int] -> [Int]\n",
    "nub [] = []\n",
    "nub xs = foldl (\\acc x -> if x `elem` acc then acc else acc++[x]) [] xs\n",
    "-- nub xs = foldr (\\x acc -> if x `elem` acc then acc else acc++[x]) [] xs\n",
    "\n",
    "nub [1,2,3,2,1,4,5]"
   ]
  },
  {
   "attachments": {},
   "cell_type": "markdown",
   "metadata": {},
   "source": [
    "- reverse kann nur mit foldl aufgerufen werden, da der aktuelle wert hinten an die Liste angefügt werden muss und nicht vorne"
   ]
  },
  {
   "cell_type": "code",
   "execution_count": 2,
   "metadata": {},
   "outputs": [
    {
     "data": {
      "text/html": [
       "<style>/* Styles used for the Hoogle display in the pager */\n",
       ".hoogle-doc {\n",
       "display: block;\n",
       "padding-bottom: 1.3em;\n",
       "padding-left: 0.4em;\n",
       "}\n",
       ".hoogle-code {\n",
       "display: block;\n",
       "font-family: monospace;\n",
       "white-space: pre;\n",
       "}\n",
       ".hoogle-text {\n",
       "display: block;\n",
       "}\n",
       ".hoogle-name {\n",
       "color: green;\n",
       "font-weight: bold;\n",
       "}\n",
       ".hoogle-head {\n",
       "font-weight: bold;\n",
       "}\n",
       ".hoogle-sub {\n",
       "display: block;\n",
       "margin-left: 0.4em;\n",
       "}\n",
       ".hoogle-package {\n",
       "font-weight: bold;\n",
       "font-style: italic;\n",
       "}\n",
       ".hoogle-module {\n",
       "font-weight: bold;\n",
       "}\n",
       ".hoogle-class {\n",
       "font-weight: bold;\n",
       "}\n",
       ".get-type {\n",
       "color: green;\n",
       "font-weight: bold;\n",
       "font-family: monospace;\n",
       "display: block;\n",
       "white-space: pre-wrap;\n",
       "}\n",
       ".show-type {\n",
       "color: green;\n",
       "font-weight: bold;\n",
       "font-family: monospace;\n",
       "margin-left: 1em;\n",
       "}\n",
       ".mono {\n",
       "font-family: monospace;\n",
       "display: block;\n",
       "}\n",
       ".err-msg {\n",
       "color: red;\n",
       "font-style: italic;\n",
       "font-family: monospace;\n",
       "white-space: pre;\n",
       "display: block;\n",
       "}\n",
       "#unshowable {\n",
       "color: red;\n",
       "font-weight: bold;\n",
       "}\n",
       ".err-msg.in.collapse {\n",
       "padding-top: 0.7em;\n",
       "}\n",
       ".highlight-code {\n",
       "white-space: pre;\n",
       "font-family: monospace;\n",
       "}\n",
       ".suggestion-warning { \n",
       "font-weight: bold;\n",
       "color: rgb(200, 130, 0);\n",
       "}\n",
       ".suggestion-error { \n",
       "font-weight: bold;\n",
       "color: red;\n",
       "}\n",
       ".suggestion-name {\n",
       "font-weight: bold;\n",
       "}\n",
       "</style><div class=\"suggestion-name\" style=\"clear:both;\">Avoid lambda</div><div class=\"suggestion-row\" style=\"float: left;\"><div class=\"suggestion-warning\">Found:</div><div class=\"highlight-code\" id=\"haskell\">\\ x acc -> acc : x</div></div><div class=\"suggestion-row\" style=\"float: left;\"><div class=\"suggestion-warning\">Why Not:</div><div class=\"highlight-code\" id=\"haskell\">flip (:)</div></div>"
      ],
      "text/plain": [
       "Line 4: Avoid lambda\n",
       "Found:\n",
       "\\ x acc -> acc : x\n",
       "Why not:\n",
       "flip (:)"
      ]
     },
     "metadata": {},
     "output_type": "display_data"
    },
    {
     "data": {
      "text/plain": [
       "[3,2,1]"
      ]
     },
     "metadata": {},
     "output_type": "display_data"
    }
   ],
   "source": [
    "reverse :: [a] -> [a]\n",
    "reverse [] = []\n",
    "-- reverse xs = foldr (\\acc x -> acc:x) [] xs\n",
    "reverse xs = foldl (\\x acc -> acc:x) [] xs\n",
    "\n",
    "reverse [1,2,3]"
   ]
  },
  {
   "attachments": {},
   "cell_type": "markdown",
   "metadata": {},
   "source": [
    "- unzip nimmt einfach die elemente und splittet das auf und fügt die zu den zugehörigen elementen zu"
   ]
  },
  {
   "cell_type": "code",
   "execution_count": 15,
   "metadata": {},
   "outputs": [
    {
     "data": {
      "text/plain": [
       "([1,3,5],[2,4,6])"
      ]
     },
     "metadata": {},
     "output_type": "display_data"
    }
   ],
   "source": [
    "unzip :: [(a, b)] -> ([a], [b])\n",
    "unzip [] = ([],[])\n",
    "unzip ls = foldl (\\(xs, ys) (x,y)  -> (xs++[x], ys++[y])) ([],[]) ls\n",
    "-- unzip ls = foldr (\\(x,y) (xs, ys) -> (x:xs, y:ys)) ([],[]) ls\n",
    "\n",
    "unzip [(1,2), (3,4), (5,6)]"
   ]
  }
 ],
 "metadata": {
  "kernelspec": {
   "display_name": "Haskell",
   "language": "haskell",
   "name": "haskell"
  },
  "language_info": {
   "codemirror_mode": "ihaskell",
   "file_extension": ".hs",
   "mimetype": "text/x-haskell",
   "name": "haskell",
   "pygments_lexer": "Haskell",
   "version": "9.2.7"
  },
  "orig_nbformat": 4
 },
 "nbformat": 4,
 "nbformat_minor": 2
}
