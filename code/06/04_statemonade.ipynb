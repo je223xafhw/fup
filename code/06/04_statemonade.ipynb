{
 "cells": [
  {
   "cell_type": "code",
   "execution_count": 1,
   "metadata": {},
   "outputs": [],
   "source": [
    "data Exp = Num Int\n",
    "         | Exp :+: Exp\n",
    "         | Exp :/: Exp\n",
    "         | Var String\n",
    "         | Let String Int Exp\n",
    "\n",
    "type Env a b = a -> Maybe b\n",
    "\n",
    "type ExpEnv = Env String Int\n",
    "\n",
    "insert :: Eq a => a -> b -> Env a b -> Env a b\n",
    "insert k v env k' = if k == k' then Just v else env k'"
   ]
  },
  {
   "cell_type": "code",
   "execution_count": 2,
   "metadata": {},
   "outputs": [],
   "source": [
    "eval :: Exp -> Maybe Int\n",
    "eval (Num n)     = Just n\n",
    "eval (Var i)     = Just 0\n",
    "eval (e1 :+: e2) = (+) <$> eval e1 <*> eval e2\n",
    "eval (e1 :/: e2) = eval e2 >>= \\e2' -> case e2' of \n",
    "    0 -> Nothing\n",
    "    _ -> div <$> eval e1 <*> Just e2'\n",
    "eval (Let x n e) = Just 0"
   ]
  },
  {
   "cell_type": "code",
   "execution_count": 3,
   "metadata": {},
   "outputs": [
    {
     "data": {
      "text/plain": [
       "Just 0"
      ]
     },
     "metadata": {},
     "output_type": "display_data"
    }
   ],
   "source": [
    "eval $ Let \"x\" 3 $ Var \"x\" :+: Num 3"
   ]
  },
  {
   "cell_type": "code",
   "execution_count": 12,
   "metadata": {},
   "outputs": [],
   "source": [
    "newtype State s a = ST (s -> (a,s))\n",
    "\n",
    "-- get liefert immer das s von dem state aber nur im monad kontext do oder bind\n",
    "get :: State s s\n",
    "get = ST  $ \\s -> (s,s)\n",
    "\n",
    "put:: s -> State s ()\n",
    "put ns = ST $ const ((), ns)\n",
    "\n",
    "runState :: s -> State s a -> a\n",
    "runState init (ST sf) = fst $ sf init"
   ]
  },
  {
   "cell_type": "code",
   "execution_count": 13,
   "metadata": {},
   "outputs": [
    {
     "data": {
      "text/html": [
       "<style>/* Styles used for the Hoogle display in the pager */\n",
       ".hoogle-doc {\n",
       "display: block;\n",
       "padding-bottom: 1.3em;\n",
       "padding-left: 0.4em;\n",
       "}\n",
       ".hoogle-code {\n",
       "display: block;\n",
       "font-family: monospace;\n",
       "white-space: pre;\n",
       "}\n",
       ".hoogle-text {\n",
       "display: block;\n",
       "}\n",
       ".hoogle-name {\n",
       "color: green;\n",
       "font-weight: bold;\n",
       "}\n",
       ".hoogle-head {\n",
       "font-weight: bold;\n",
       "}\n",
       ".hoogle-sub {\n",
       "display: block;\n",
       "margin-left: 0.4em;\n",
       "}\n",
       ".hoogle-package {\n",
       "font-weight: bold;\n",
       "font-style: italic;\n",
       "}\n",
       ".hoogle-module {\n",
       "font-weight: bold;\n",
       "}\n",
       ".hoogle-class {\n",
       "font-weight: bold;\n",
       "}\n",
       ".get-type {\n",
       "color: green;\n",
       "font-weight: bold;\n",
       "font-family: monospace;\n",
       "display: block;\n",
       "white-space: pre-wrap;\n",
       "}\n",
       ".show-type {\n",
       "color: green;\n",
       "font-weight: bold;\n",
       "font-family: monospace;\n",
       "margin-left: 1em;\n",
       "}\n",
       ".mono {\n",
       "font-family: monospace;\n",
       "display: block;\n",
       "}\n",
       ".err-msg {\n",
       "color: red;\n",
       "font-style: italic;\n",
       "font-family: monospace;\n",
       "white-space: pre;\n",
       "display: block;\n",
       "}\n",
       "#unshowable {\n",
       "color: red;\n",
       "font-weight: bold;\n",
       "}\n",
       ".err-msg.in.collapse {\n",
       "padding-top: 0.7em;\n",
       "}\n",
       ".highlight-code {\n",
       "white-space: pre;\n",
       "font-family: monospace;\n",
       "}\n",
       ".suggestion-warning { \n",
       "font-weight: bold;\n",
       "color: rgb(200, 130, 0);\n",
       "}\n",
       ".suggestion-error { \n",
       "font-weight: bold;\n",
       "color: red;\n",
       "}\n",
       ".suggestion-name {\n",
       "font-weight: bold;\n",
       "}\n",
       "</style><div class=\"suggestion-name\" style=\"clear:both;\">Use tuple-section</div><div class=\"suggestion-row\" style=\"float: left;\"><div class=\"suggestion-warning\">Found:</div><div class=\"highlight-code\" id=\"haskell\">\\ s -> (x, s)</div></div><div class=\"suggestion-row\" style=\"float: left;\"><div class=\"suggestion-warning\">Why Not:</div><div class=\"highlight-code\" id=\"haskell\">(x,)</div></div>"
      ],
      "text/plain": [
       "Line 20: Use tuple-section\n",
       "Found:\n",
       "\\ s -> (x, s)\n",
       "Why not:\n",
       "(x,)"
      ]
     },
     "metadata": {},
     "output_type": "display_data"
    }
   ],
   "source": [
    "instance Applicative (State s) where\n",
    "\n",
    "  pure = return\n",
    "  \n",
    "  --(<*>) :: State s (a -> b) -> State s a -> State s b\n",
    "  ST sf <*> ST sa = ST $ \\s ->\n",
    "     let (f,s1) = sf s\n",
    "         (x,s2) = sa s1 in\n",
    "       (f x, s2)\n",
    "  \n",
    "instance Functor (State s) where\n",
    "\n",
    "  fmap f (ST sf) = ST $ \\s ->\n",
    "     let (x,s1) = sf s in\n",
    "        (f x, s1)\n",
    "  \n",
    "instance Monad (State s) where\n",
    "\n",
    "  -- return :: a -> State s a\n",
    "  return x = ST (\\s -> (x,s))\n",
    "\n",
    "  -- (>>=) :: State s a -> (a -> State s b) -> State s b\n",
    "  st_sf >>= f = ST $ \\s -> \n",
    "     let ST sf = st_sf\n",
    "         (x, s1) = sf s\n",
    "         ST sg = f x in\n",
    "       sg s1"
   ]
  },
  {
   "cell_type": "code",
   "execution_count": 21,
   "metadata": {},
   "outputs": [
    {
     "data": {
      "text/html": [
       "<style>/* Styles used for the Hoogle display in the pager */\n",
       ".hoogle-doc {\n",
       "display: block;\n",
       "padding-bottom: 1.3em;\n",
       "padding-left: 0.4em;\n",
       "}\n",
       ".hoogle-code {\n",
       "display: block;\n",
       "font-family: monospace;\n",
       "white-space: pre;\n",
       "}\n",
       ".hoogle-text {\n",
       "display: block;\n",
       "}\n",
       ".hoogle-name {\n",
       "color: green;\n",
       "font-weight: bold;\n",
       "}\n",
       ".hoogle-head {\n",
       "font-weight: bold;\n",
       "}\n",
       ".hoogle-sub {\n",
       "display: block;\n",
       "margin-left: 0.4em;\n",
       "}\n",
       ".hoogle-package {\n",
       "font-weight: bold;\n",
       "font-style: italic;\n",
       "}\n",
       ".hoogle-module {\n",
       "font-weight: bold;\n",
       "}\n",
       ".hoogle-class {\n",
       "font-weight: bold;\n",
       "}\n",
       ".get-type {\n",
       "color: green;\n",
       "font-weight: bold;\n",
       "font-family: monospace;\n",
       "display: block;\n",
       "white-space: pre-wrap;\n",
       "}\n",
       ".show-type {\n",
       "color: green;\n",
       "font-weight: bold;\n",
       "font-family: monospace;\n",
       "margin-left: 1em;\n",
       "}\n",
       ".mono {\n",
       "font-family: monospace;\n",
       "display: block;\n",
       "}\n",
       ".err-msg {\n",
       "color: red;\n",
       "font-style: italic;\n",
       "font-family: monospace;\n",
       "white-space: pre;\n",
       "display: block;\n",
       "}\n",
       "#unshowable {\n",
       "color: red;\n",
       "font-weight: bold;\n",
       "}\n",
       ".err-msg.in.collapse {\n",
       "padding-top: 0.7em;\n",
       "}\n",
       ".highlight-code {\n",
       "white-space: pre;\n",
       "font-family: monospace;\n",
       "}\n",
       ".suggestion-warning { \n",
       "font-weight: bold;\n",
       "color: rgb(200, 130, 0);\n",
       "}\n",
       ".suggestion-error { \n",
       "font-weight: bold;\n",
       "color: red;\n",
       "}\n",
       ".suggestion-name {\n",
       "font-weight: bold;\n",
       "}\n",
       "</style><div class=\"suggestion-name\" style=\"clear:both;\">Redundant bracket</div><div class=\"suggestion-row\" style=\"float: left;\"><div class=\"suggestion-warning\">Found:</div><div class=\"highlight-code\" id=\"haskell\">(Let \"x\" 42 (Var \"x\") :+: Var \"x1\")</div></div><div class=\"suggestion-row\" style=\"float: left;\"><div class=\"suggestion-warning\">Why Not:</div><div class=\"highlight-code\" id=\"haskell\">Let \"x\" 42 (Var \"x\") :+: Var \"x1\"</div></div><div class=\"suggestion-name\" style=\"clear:both;\">Redundant bracket</div><div class=\"suggestion-row\" style=\"float: left;\"><div class=\"suggestion-warning\">Found:</div><div class=\"highlight-code\" id=\"haskell\">(Let \"y\" 42 (Var \"y\") :+: Var \"y\")</div></div><div class=\"suggestion-row\" style=\"float: left;\"><div class=\"suggestion-warning\">Why Not:</div><div class=\"highlight-code\" id=\"haskell\">Let \"y\" 42 (Var \"y\") :+: Var \"y\"</div></div><div class=\"suggestion-name\" style=\"clear:both;\">Redundant bracket</div><div class=\"suggestion-row\" style=\"float: left;\"><div class=\"suggestion-warning\">Found:</div><div class=\"highlight-code\" id=\"haskell\">(Let \"y\" 42 (Var \"y\") :/: Num 0)</div></div><div class=\"suggestion-row\" style=\"float: left;\"><div class=\"suggestion-warning\">Why Not:</div><div class=\"highlight-code\" id=\"haskell\">Let \"y\" 42 (Var \"y\") :/: Num 0</div></div>"
      ],
      "text/plain": [
       "Line 28: Redundant bracket\n",
       "Found:\n",
       "(Let \"x\" 42 (Var \"x\") :+: Var \"x1\")\n",
       "Why not:\n",
       "Let \"x\" 42 (Var \"x\") :+: Var \"x1\"Line 31: Redundant bracket\n",
       "Found:\n",
       "(Let \"y\" 42 (Var \"y\") :+: Var \"y\")\n",
       "Why not:\n",
       "Let \"y\" 42 (Var \"y\") :+: Var \"y\"Line 34: Redundant bracket\n",
       "Found:\n",
       "(Let \"y\" 42 (Var \"y\") :/: Num 0)\n",
       "Why not:\n",
       "Let \"y\" 42 (Var \"y\") :/: Num 0"
      ]
     },
     "metadata": {},
     "output_type": "display_data"
    },
    {
     "data": {
      "text/plain": [
       "Just 43"
      ]
     },
     "metadata": {},
     "output_type": "display_data"
    },
    {
     "data": {
      "text/plain": [
       "Nothing"
      ]
     },
     "metadata": {},
     "output_type": "display_data"
    },
    {
     "data": {
      "text/plain": [
       "Nothing"
      ]
     },
     "metadata": {},
     "output_type": "display_data"
    }
   ],
   "source": [
    "evalState :: Exp -> State ExpEnv (Maybe Int)\n",
    "evalState (Num n)     = pure (Just n)\n",
    "evalState (Var i)     = do\n",
    "                        env <- get\n",
    "                        return $ env i\n",
    "evalState (e1 :+: e2) = do\n",
    "                        res1 <- evalState e1\n",
    "                        res2 <- evalState e2\n",
    "                        return  $ (+) <$> res1 <*> res2\n",
    "evalState (e1 :/: e2) = do\n",
    "                        e' <- evalState e2\n",
    "                        case e' of\n",
    "                            Just 0 -> return Nothing\n",
    "                            _ -> do\n",
    "                                e1' <- evalState e1\n",
    "                                return $ div <$> e1' <*> e'\n",
    "\n",
    "evalState (Let x n e) = do\n",
    "                        env <- get\n",
    "                        let env' = insert x n env\n",
    "                        put env'\n",
    "                        x <- evalState e\n",
    "                        put env\n",
    "                        return x\n",
    "\n",
    "\n",
    "e1 :: Exp\n",
    "e1 = (Let \"x\" 42 (Var \"x\") :+: Var \"x1\")\n",
    " \n",
    "e2 :: Exp\n",
    "e2 = (Let \"y\" 42 (Var \"y\") :+: Var \"y\")\n",
    " \n",
    "e3 :: Exp\n",
    "e3 = (Let \"y\" 42 (Var \"y\") :/: Num 0)\n",
    "\n",
    "\n",
    "testEnv :: ExpEnv\n",
    "testEnv = insert \"x1\" 1 (insert \"y1\" 2 (const Nothing))\n",
    "\n",
    "runState testEnv $ evalState e1\n",
    "runState testEnv $ evalState e2\n",
    "runState testEnv $ evalState e3\n"
   ]
  },
  {
   "cell_type": "code",
   "execution_count": null,
   "metadata": {},
   "outputs": [],
   "source": [
    "{-# LANGUAGE LambdaCase #-}\n",
    "\n",
    "evalState :: Exp -> State ExpEnv (Maybe Int)\n",
    "evalState (Num n)     = pure (Just n)\n",
    "evalState (Var i)     = get >>= \\env -> return $ env i\n",
    "evalState (e1 :+: e2) = evalState e1 >>= \\res1 -> evalState e2 >>= \\res2 -> return  $ (+) <$> res1 <*> res2\n",
    "evalState (e1 :/: e2) = evalState e2 >>= \\case \n",
    "                                    Just 0 -> return Nothing\n",
    "                                    e2' -> evalState e1 >>= \\e1' -> return $ div <$> e1' <*> e2'"
   ]
  },
  {
   "cell_type": "code",
   "execution_count": null,
   "metadata": {},
   "outputs": [
    {
     "data": {
      "text/plain": [
       "Ergebnis: Just 84"
      ]
     },
     "metadata": {},
     "output_type": "display_data"
    }
   ],
   "source": [
    "main = do\n",
    "    let exp = Let \"x\" 42 (Var \"x\") :+: Var \"x\"\n",
    "    let (result, finalState) = runState (evalState exp) $ const Nothing\n",
    "    putStrLn $ \"Ergebnis: \" ++ show result\n",
    "\n",
    "main"
   ]
  }
 ],
 "metadata": {
  "kernelspec": {
   "display_name": "Haskell",
   "language": "haskell",
   "name": "haskell"
  },
  "language_info": {
   "codemirror_mode": "ihaskell",
   "file_extension": ".hs",
   "mimetype": "text/x-haskell",
   "name": "haskell",
   "pygments_lexer": "Haskell",
   "version": "9.2.7"
  },
  "orig_nbformat": 4
 },
 "nbformat": 4,
 "nbformat_minor": 2
}
