{
 "cells": [
  {
   "cell_type": "code",
   "execution_count": 104,
   "metadata": {},
   "outputs": [],
   "source": [
    "data Rank = R2 | R3 | R4 | R5 | R6 | R7 | R8 | R9 | R10 | RJ | RQ | RK | RA deriving (Show, Eq)\n",
    "data Suit = Diamonds | Hearts | Spades | Clubs deriving (Show, Eq)\n",
    "\n",
    "data Card = Card Suit Rank\n"
   ]
  },
  {
   "cell_type": "code",
   "execution_count": 105,
   "metadata": {},
   "outputs": [],
   "source": [
    "{-# LANGUAGE UndecidableInstances, AllowAmbiguousTypes #-}\n",
    "\n",
    "instance Show a => Show Card where\n",
    "    show :: Card -> String\n",
    "    show (Card s r) = [show r !! 1] ++ \" of \" ++ show s"
   ]
  },
  {
   "cell_type": "code",
   "execution_count": 106,
   "metadata": {},
   "outputs": [
    {
     "data": {
      "text/plain": [
       "2 of Diamonds"
      ]
     },
     "metadata": {},
     "output_type": "display_data"
    }
   ],
   "source": [
    "c1 = Card Diamonds R2\n",
    "\n",
    "c1"
   ]
  },
  {
   "cell_type": "code",
   "execution_count": 107,
   "metadata": {},
   "outputs": [],
   "source": [
    "getCardValue :: Card -> Int \n",
    "getCardValue (Card s r) = case r of \n",
    "                        R2 -> 2\n",
    "                        R3 -> 3\n",
    "                        R4 -> 4\n",
    "                        R5 -> 5\n",
    "                        R6 -> 6\n",
    "                        R7 -> 7\n",
    "                        R8 -> 8\n",
    "                        R9 -> 9\n",
    "                        R10 -> 10\n",
    "                        RJ -> 10\n",
    "                        RQ -> 10\n",
    "                        RK -> 10\n",
    "                        RA -> 11\n",
    "                        "
   ]
  },
  {
   "cell_type": "code",
   "execution_count": 108,
   "metadata": {},
   "outputs": [
    {
     "data": {
      "text/plain": [
       "2"
      ]
     },
     "metadata": {},
     "output_type": "display_data"
    }
   ],
   "source": [
    "getCardValue c1\n"
   ]
  },
  {
   "cell_type": "code",
   "execution_count": 165,
   "metadata": {},
   "outputs": [],
   "source": [
    "data Hand = Empty | Hand Card [Card]\n",
    "\n",
    "instance Show a => Show Hand where\n",
    "    show :: Hand -> String\n",
    "    show Empty = \"Empty\"\n",
    "    show (Hand c cs) = show c ++ \" \" ++ show cs\n"
   ]
  },
  {
   "cell_type": "markdown",
   "metadata": {},
   "source": []
  },
  {
   "cell_type": "code",
   "execution_count": 166,
   "metadata": {},
   "outputs": [],
   "source": [
    "(<+>) :: Hand -> Hand -> Hand\n",
    "Empty <+> Empty = Empty\n",
    "Empty <+> x = x\n",
    "x <+> Empty = x\n",
    "Hand c1 xs <+> Hand c2 ys = Hand c2 $ [c1] ++ xs ++ ys"
   ]
  },
  {
   "cell_type": "code",
   "execution_count": 167,
   "metadata": {},
   "outputs": [
    {
     "data": {
      "text/plain": [
       "2 of Diamonds [3 of Diamonds,4 of Diamonds,5 of Diamonds,6 of Diamonds,7 of Diamonds,8 of Diamonds,9 of Diamonds,1 of Diamonds,J of Diamonds,Q of Diamonds,K of Diamonds,A of Diamonds,2 of Hearts,3 of Hearts,4 of Hearts,5 of Hearts,6 of Hearts,7 of Hearts,8 of Hearts,9 of Hearts,1 of Hearts,J of Hearts,Q of Hearts,K of Hearts,A of Hearts,2 of Spades,3 of Spades,4 of Spades,5 of Spades,6 of Spades,7 of Spades,8 of Spades,9 of Spades,1 of Spades,J of Spades,Q of Spades,K of Spades,A of Spades,2 of Clubs,3 of Clubs,4 of Clubs,5 of Clubs,6 of Clubs,7 of Clubs,8 of Clubs,9 of Clubs,1 of Clubs,J of Clubs,Q of Clubs,K of Clubs,A of Clubs]"
      ]
     },
     "metadata": {},
     "output_type": "display_data"
    }
   ],
   "source": [
    "fullDeck :: Hand\n",
    "fullDeck = Hand (head all) (tail all) where \n",
    "    all = [Card s r | s <- [Diamonds, Hearts, Spades, Clubs], r <- [R2, R3, R4, R5, R6, R7, R8, R9, R10, RJ, RQ, RK, RA]]\n",
    "\n",
    "fullDeck"
   ]
  },
  {
   "cell_type": "code",
   "execution_count": 168,
   "metadata": {},
   "outputs": [
    {
     "data": {
      "text/plain": [
       "4"
      ]
     },
     "metadata": {},
     "output_type": "display_data"
    }
   ],
   "source": [
    "checkIfAce :: Card -> Int\n",
    "checkIfAce (Card s r) \n",
    "            | r == RA = 1\n",
    "            | otherwise = 0\n",
    "\n",
    "numOfAces :: Hand -> Int\n",
    "numOfAces (Hand c1 cs) = checkIfAce c1 + sum [checkIfAce x | x <- cs]\n",
    "\n",
    "numOfAces fullDeck"
   ]
  },
  {
   "cell_type": "code",
   "execution_count": 172,
   "metadata": {},
   "outputs": [
    {
     "data": {
      "text/plain": [
       "200"
      ]
     },
     "metadata": {},
     "output_type": "display_data"
    }
   ],
   "source": [
    "getValue :: Hand -> Int\n",
    "getValue Empty = 0\n",
    "getValue (Hand c cs) = gv (getCardValue c + sum [getCardValue c | c <- cs])  (numOfAces (Hand c cs)) where\n",
    "            gv :: Int -> Int -> Int\n",
    "            gv fullvalue aces\n",
    "                | fullvalue <= 21 = fullvalue\n",
    "                | fullvalue > 21 = fullvalue - gv (fullvalue - 10) (aces -1)\n",
    "\n",
    "getValue fullDeck"
   ]
  },
  {
   "cell_type": "code",
   "execution_count": 173,
   "metadata": {},
   "outputs": [
    {
     "data": {
      "text/plain": [
       "A of Spades [3 of Clubs,2 of Spades,A of Spades,A of Clubs,A of Diamonds,A of Hearts,3 of Clubs,1 of Diamonds]"
      ]
     },
     "metadata": {},
     "output_type": "display_data"
    },
    {
     "data": {
      "text/plain": [
       "20"
      ]
     },
     "metadata": {},
     "output_type": "display_data"
    }
   ],
   "source": [
    "let card = Card Clubs R3\n",
    "let card2 = Card Spades R2\n",
    "let card3 = Card Spades RA\n",
    "let card5 = Card Clubs RA\n",
    "let card6 = Card Diamonds RA\n",
    "let card7 = Card Hearts RA\n",
    "let hand = Hand card [card2, card3, card5, card6, card7]\n",
    "\n",
    "let card4 = Card Diamonds R10\n",
    "print(hand <+> Hand card3 [card, card4])\n",
    "\n",
    "getValue hand"
   ]
  }
 ],
 "metadata": {
  "kernelspec": {
   "display_name": "Haskell",
   "language": "haskell",
   "name": "haskell"
  },
  "language_info": {
   "codemirror_mode": "ihaskell",
   "file_extension": ".hs",
   "mimetype": "text/x-haskell",
   "name": "haskell",
   "pygments_lexer": "Haskell",
   "version": "9.2.7"
  },
  "orig_nbformat": 4
 },
 "nbformat": 4,
 "nbformat_minor": 2
}
