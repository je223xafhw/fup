{
 "cells": [
  {
   "cell_type": "code",
   "execution_count": 61,
   "metadata": {},
   "outputs": [
    {
     "data": {
      "text/plain": [
       "False"
      ]
     },
     "metadata": {},
     "output_type": "display_data"
    }
   ],
   "source": [
    "type IntegerSet = Integer -> Bool\n",
    "\n",
    "exampleSet :: IntegerSet\n",
    "exampleSet x = x `elem` [4, 8, 15, 16, 23, 42]\n",
    "\n",
    "exampleSet 3"
   ]
  },
  {
   "attachments": {},
   "cell_type": "markdown",
   "metadata": {},
   "source": [
    "# eigene funktionen"
   ]
  },
  {
   "cell_type": "code",
   "execution_count": 62,
   "metadata": {},
   "outputs": [
    {
     "data": {
      "text/plain": [
       "True"
      ]
     },
     "metadata": {},
     "output_type": "display_data"
    },
    {
     "data": {
      "text/plain": [
       "True"
      ]
     },
     "metadata": {},
     "output_type": "display_data"
    },
    {
     "data": {
      "text/plain": [
       "False"
      ]
     },
     "metadata": {},
     "output_type": "display_data"
    }
   ],
   "source": [
    "empty :: IntegerSet\n",
    "empty x = error (\"Access to undefined index: \" ++ show x)\n",
    "\n",
    "insert :: Integer -> IntegerSet -> IntegerSet\n",
    "insert i set = \\j -> if j == i then True else False\n",
    "\n",
    "remove :: Integer -> IntegerSet -> IntegerSet\n",
    "remove i set = \\j -> if j == i then False else True\n",
    "\n",
    "\n",
    "\n",
    "let a  = empty\n",
    "-- error\n",
    "let a2 = insert 3 a\n",
    "-- \\j -> if j == 3 then True else False\n",
    "let a3 = insert 5 a2\n",
    "-- \\j -> if j == 3 then True else error\n",
    "let a4 = insert 2 a3\n",
    "-- (\\j -> if j == 3 then True else (\\j -> if j == 5 then True else \\j -> if j == 2 then True else empty))\n",
    "let a5 = remove 3 a4\n",
    "-- (\\j -> if j == 3 then False else \\j -> if j == 3 then True else (\\j -> if j == 5 then True else \\j -> if j == 2 then True else empty))\n",
    "a5 5\n",
    "a5 2\n",
    "a5 3"
   ]
  },
  {
   "cell_type": "code",
   "execution_count": 66,
   "metadata": {},
   "outputs": [
    {
     "data": {
      "text/plain": [
       "False"
      ]
     },
     "metadata": {},
     "output_type": "display_data"
    }
   ],
   "source": [
    "isElem :: Integer -> IntegerSet -> Bool\n",
    "isElem x set = set x\n",
    "\n",
    "isElem 3 a5"
   ]
  },
  {
   "cell_type": "code",
   "execution_count": null,
   "metadata": {},
   "outputs": [],
   "source": [
    "-- union :: IntegerSet -> IntegerSet -> IntegerSet\n",
    "-- union set1 set2 = "
   ]
  }
 ],
 "metadata": {
  "kernelspec": {
   "display_name": "Haskell",
   "language": "haskell",
   "name": "haskell"
  },
  "language_info": {
   "codemirror_mode": "ihaskell",
   "file_extension": ".hs",
   "mimetype": "text/x-haskell",
   "name": "haskell",
   "pygments_lexer": "Haskell",
   "version": "9.2.7"
  },
  "orig_nbformat": 4
 },
 "nbformat": 4,
 "nbformat_minor": 2
}
