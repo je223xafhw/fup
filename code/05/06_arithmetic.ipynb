{
 "cells": [
  {
   "cell_type": "code",
   "execution_count": 1,
   "metadata": {},
   "outputs": [],
   "source": [
    "data Exp = Num Int\n",
    "         | Exp :+: Exp\n",
    "         | Exp :/: Exp\n",
    "         | Var String"
   ]
  },
  {
   "cell_type": "code",
   "execution_count": 20,
   "metadata": {},
   "outputs": [],
   "source": [
    "newtype Env a b = Env (a -> Maybe b)\n",
    "newtype ExprEnv = EE (Env String Int)\n",
    "\n",
    "add :: Eq a => a -> b -> Env a b -> Env a b\n",
    "add k v (Env env) = Env $ \\k' -> if k == k' then Just v else env k'"
   ]
  },
  {
   "attachments": {},
   "cell_type": "markdown",
   "metadata": {},
   "source": [
    "```haskell\n",
    "evalWithEnv :: ExprEnv -> Exp -> Maybe Int\n",
    "evalWithEnv = undefined"
   ]
  },
  {
   "attachments": {},
   "cell_type": "markdown",
   "metadata": {},
   "source": [
    "- Die Funktion mit Applicative muss mit `seqApp` also `<*>` implementiert werden\n",
    "- Die Funktion für Monad hingegen mit `bind`, also `>>=`\n",
    "\n",
    "```haskell\n",
    "seqAp :: f (a -> b) -> f a -> f b\n",
    "bind :: m a -> (a -> m b) -> m b"
   ]
  },
  {
   "attachments": {},
   "cell_type": "markdown",
   "metadata": {},
   "source": [
    "# Funktion um aus einem Env object ein Maybe Objekt zu machen"
   ]
  },
  {
   "cell_type": "code",
   "execution_count": 25,
   "metadata": {},
   "outputs": [],
   "source": [
    "matchEE :: Env String Int -> String -> Maybe Int\n",
    "matchEE (Env env) = env"
   ]
  },
  {
   "attachments": {},
   "cell_type": "markdown",
   "metadata": {},
   "source": [
    "# Funktion mit bind"
   ]
  },
  {
   "cell_type": "code",
   "execution_count": 37,
   "metadata": {},
   "outputs": [],
   "source": [
    "evalWithEnv :: ExprEnv -> Exp -> Maybe Int\n",
    "evalWithEnv (EE ee) (Num e) = Just e\n",
    "evalWithEnv (EE ee) (Var e) = matchEE ee e\n",
    "evalWithEnv (EE ee) (l :+: r) = do \n",
    "    ll <- evalWithEnv (EE ee) l\n",
    "    rr <- evalWithEnv (EE ee) r\n",
    "    return (ll + rr)\n",
    "evalWithEnv (EE ee) (l :/: r) = do \n",
    "    ll <- evalWithEnv (EE ee) l\n",
    "    case ll of\n",
    "        0 -> Nothing\n",
    "        other -> do\n",
    "            rr <- evalWithEnv (EE ee) r\n",
    "            return (ll `div` rr)"
   ]
  },
  {
   "cell_type": "code",
   "execution_count": 39,
   "metadata": {},
   "outputs": [],
   "source": [
    "evalWithEnv :: ExprEnv -> Exp -> Maybe Int\n",
    "evalWithEnv (EE ee) (Num e) = Just e\n",
    "evalWithEnv (EE ee) (Var e) = matchEE ee e\n",
    "evalWithEnv (EE ee) (l :+: r) = evalWithEnv (EE ee) l >>= \\ll -> evalWithEnv (EE ee) r >>= \\rr -> return (ll + rr)\n",
    "evalWithEnv (EE ee) (l :/: r) = evalWithEnv (EE ee) l >>= \\ll -> if ll == 0 then Nothing else evalWithEnv (EE ee) r >>= \\rr -> return (ll `div` rr)"
   ]
  },
  {
   "attachments": {},
   "cell_type": "markdown",
   "metadata": {},
   "source": [
    "# Funktion mit pure\n",
    "\n",
    "```haskell \n",
    "(pure (+) <*> eval e1) <*> eval e2\n",
    "(+) <$> eval e1 <*> eval e2\n",
    "\n",
    "pure (flip div) <*> mv2 <*> eval e1\n",
    "(flip div) <$> mv2 <*> eval e1"
   ]
  },
  {
   "cell_type": "code",
   "execution_count": 45,
   "metadata": {},
   "outputs": [],
   "source": [
    "evalWithEnv :: ExprEnv -> Exp -> Maybe Int\n",
    "evalWithEnv (EE ee) (Num e) = Just e\n",
    "evalWithEnv (EE ee) (Var e) = matchEE ee e\n",
    "evalWithEnv (EE ee) (l :+: r) = (+) <$> evalWithEnv (EE ee) l <*> evalWithEnv (EE ee) r\n",
    "evalWithEnv (EE ee) (l :/: r) = flip div <$> evalWithEnv (EE ee) r <*> if evalWithEnv (EE ee) l == Just 0 then Nothing else evalWithEnv (EE ee) l "
   ]
  },
  {
   "attachments": {},
   "cell_type": "markdown",
   "metadata": {},
   "source": [
    "# Funktor instanzen"
   ]
  },
  {
   "cell_type": "code",
   "execution_count": 48,
   "metadata": {},
   "outputs": [
    {
     "data": {
      "text/html": [
       "<style>/* Styles used for the Hoogle display in the pager */\n",
       ".hoogle-doc {\n",
       "display: block;\n",
       "padding-bottom: 1.3em;\n",
       "padding-left: 0.4em;\n",
       "}\n",
       ".hoogle-code {\n",
       "display: block;\n",
       "font-family: monospace;\n",
       "white-space: pre;\n",
       "}\n",
       ".hoogle-text {\n",
       "display: block;\n",
       "}\n",
       ".hoogle-name {\n",
       "color: green;\n",
       "font-weight: bold;\n",
       "}\n",
       ".hoogle-head {\n",
       "font-weight: bold;\n",
       "}\n",
       ".hoogle-sub {\n",
       "display: block;\n",
       "margin-left: 0.4em;\n",
       "}\n",
       ".hoogle-package {\n",
       "font-weight: bold;\n",
       "font-style: italic;\n",
       "}\n",
       ".hoogle-module {\n",
       "font-weight: bold;\n",
       "}\n",
       ".hoogle-class {\n",
       "font-weight: bold;\n",
       "}\n",
       ".get-type {\n",
       "color: green;\n",
       "font-weight: bold;\n",
       "font-family: monospace;\n",
       "display: block;\n",
       "white-space: pre-wrap;\n",
       "}\n",
       ".show-type {\n",
       "color: green;\n",
       "font-weight: bold;\n",
       "font-family: monospace;\n",
       "margin-left: 1em;\n",
       "}\n",
       ".mono {\n",
       "font-family: monospace;\n",
       "display: block;\n",
       "}\n",
       ".err-msg {\n",
       "color: red;\n",
       "font-style: italic;\n",
       "font-family: monospace;\n",
       "white-space: pre;\n",
       "display: block;\n",
       "}\n",
       "#unshowable {\n",
       "color: red;\n",
       "font-weight: bold;\n",
       "}\n",
       ".err-msg.in.collapse {\n",
       "padding-top: 0.7em;\n",
       "}\n",
       ".highlight-code {\n",
       "white-space: pre;\n",
       "font-family: monospace;\n",
       "}\n",
       ".suggestion-warning { \n",
       "font-weight: bold;\n",
       "color: rgb(200, 130, 0);\n",
       "}\n",
       ".suggestion-error { \n",
       "font-weight: bold;\n",
       "color: red;\n",
       "}\n",
       ".suggestion-name {\n",
       "font-weight: bold;\n",
       "}\n",
       "</style><span class='get-type'>Exp :: *</span>"
      ],
      "text/plain": [
       "Exp :: *"
      ]
     },
     "metadata": {},
     "output_type": "display_data"
    }
   ],
   "source": [
    ":k Exp"
   ]
  },
  {
   "attachments": {},
   "cell_type": "markdown",
   "metadata": {},
   "source": [
    "Da Exp vom Kind * ist, kann keine Funktor instanz davon erstellt werden"
   ]
  },
  {
   "cell_type": "code",
   "execution_count": 51,
   "metadata": {},
   "outputs": [
    {
     "data": {
      "text/html": [
       "<style>/* Styles used for the Hoogle display in the pager */\n",
       ".hoogle-doc {\n",
       "display: block;\n",
       "padding-bottom: 1.3em;\n",
       "padding-left: 0.4em;\n",
       "}\n",
       ".hoogle-code {\n",
       "display: block;\n",
       "font-family: monospace;\n",
       "white-space: pre;\n",
       "}\n",
       ".hoogle-text {\n",
       "display: block;\n",
       "}\n",
       ".hoogle-name {\n",
       "color: green;\n",
       "font-weight: bold;\n",
       "}\n",
       ".hoogle-head {\n",
       "font-weight: bold;\n",
       "}\n",
       ".hoogle-sub {\n",
       "display: block;\n",
       "margin-left: 0.4em;\n",
       "}\n",
       ".hoogle-package {\n",
       "font-weight: bold;\n",
       "font-style: italic;\n",
       "}\n",
       ".hoogle-module {\n",
       "font-weight: bold;\n",
       "}\n",
       ".hoogle-class {\n",
       "font-weight: bold;\n",
       "}\n",
       ".get-type {\n",
       "color: green;\n",
       "font-weight: bold;\n",
       "font-family: monospace;\n",
       "display: block;\n",
       "white-space: pre-wrap;\n",
       "}\n",
       ".show-type {\n",
       "color: green;\n",
       "font-weight: bold;\n",
       "font-family: monospace;\n",
       "margin-left: 1em;\n",
       "}\n",
       ".mono {\n",
       "font-family: monospace;\n",
       "display: block;\n",
       "}\n",
       ".err-msg {\n",
       "color: red;\n",
       "font-style: italic;\n",
       "font-family: monospace;\n",
       "white-space: pre;\n",
       "display: block;\n",
       "}\n",
       "#unshowable {\n",
       "color: red;\n",
       "font-weight: bold;\n",
       "}\n",
       ".err-msg.in.collapse {\n",
       "padding-top: 0.7em;\n",
       "}\n",
       ".highlight-code {\n",
       "white-space: pre;\n",
       "font-family: monospace;\n",
       "}\n",
       ".suggestion-warning { \n",
       "font-weight: bold;\n",
       "color: rgb(200, 130, 0);\n",
       "}\n",
       ".suggestion-error { \n",
       "font-weight: bold;\n",
       "color: red;\n",
       "}\n",
       ".suggestion-name {\n",
       "font-weight: bold;\n",
       "}\n",
       "</style><span class='get-type'>Env Int :: * -> *</span>"
      ],
      "text/plain": [
       "Env Int :: * -> *"
      ]
     },
     "metadata": {},
     "output_type": "display_data"
    }
   ],
   "source": [
    ":k Env Int"
   ]
  },
  {
   "attachments": {},
   "cell_type": "markdown",
   "metadata": {},
   "source": [
    "Env a ist vom Kind * -> *, das heisst dies sollte möglich sein"
   ]
  },
  {
   "cell_type": "code",
   "execution_count": 108,
   "metadata": {},
   "outputs": [
    {
     "data": {
      "text/html": [
       "<style>/* Styles used for the Hoogle display in the pager */\n",
       ".hoogle-doc {\n",
       "display: block;\n",
       "padding-bottom: 1.3em;\n",
       "padding-left: 0.4em;\n",
       "}\n",
       ".hoogle-code {\n",
       "display: block;\n",
       "font-family: monospace;\n",
       "white-space: pre;\n",
       "}\n",
       ".hoogle-text {\n",
       "display: block;\n",
       "}\n",
       ".hoogle-name {\n",
       "color: green;\n",
       "font-weight: bold;\n",
       "}\n",
       ".hoogle-head {\n",
       "font-weight: bold;\n",
       "}\n",
       ".hoogle-sub {\n",
       "display: block;\n",
       "margin-left: 0.4em;\n",
       "}\n",
       ".hoogle-package {\n",
       "font-weight: bold;\n",
       "font-style: italic;\n",
       "}\n",
       ".hoogle-module {\n",
       "font-weight: bold;\n",
       "}\n",
       ".hoogle-class {\n",
       "font-weight: bold;\n",
       "}\n",
       ".get-type {\n",
       "color: green;\n",
       "font-weight: bold;\n",
       "font-family: monospace;\n",
       "display: block;\n",
       "white-space: pre-wrap;\n",
       "}\n",
       ".show-type {\n",
       "color: green;\n",
       "font-weight: bold;\n",
       "font-family: monospace;\n",
       "margin-left: 1em;\n",
       "}\n",
       ".mono {\n",
       "font-family: monospace;\n",
       "display: block;\n",
       "}\n",
       ".err-msg {\n",
       "color: red;\n",
       "font-style: italic;\n",
       "font-family: monospace;\n",
       "white-space: pre;\n",
       "display: block;\n",
       "}\n",
       "#unshowable {\n",
       "color: red;\n",
       "font-weight: bold;\n",
       "}\n",
       ".err-msg.in.collapse {\n",
       "padding-top: 0.7em;\n",
       "}\n",
       ".highlight-code {\n",
       "white-space: pre;\n",
       "font-family: monospace;\n",
       "}\n",
       ".suggestion-warning { \n",
       "font-weight: bold;\n",
       "color: rgb(200, 130, 0);\n",
       "}\n",
       ".suggestion-error { \n",
       "font-weight: bold;\n",
       "color: red;\n",
       "}\n",
       ".suggestion-name {\n",
       "font-weight: bold;\n",
       "}\n",
       "</style><div class=\"suggestion-name\" style=\"clear:both;\">Avoid lambda</div><div class=\"suggestion-row\" style=\"float: left;\"><div class=\"suggestion-warning\">Found:</div><div class=\"highlight-code\" id=\"haskell\">\\ b -> Just $ f $ a b</div></div><div class=\"suggestion-row\" style=\"float: left;\"><div class=\"suggestion-warning\">Why Not:</div><div class=\"highlight-code\" id=\"haskell\">Just . f . a</div></div>"
      ],
      "text/plain": [
       "Line 6: Avoid lambda\n",
       "Found:\n",
       "\\ b -> Just $ f $ a b\n",
       "Why not:\n",
       "Just . f . a"
      ]
     },
     "metadata": {},
     "output_type": "display_data"
    },
    {
     "ename": "",
     "evalue": "",
     "output_type": "error",
     "traceback": [
      "<interactive>:6:44: error:\n    • Couldn't match expected type ‘b’ with actual type ‘Maybe b’\n      ‘b’ is a rigid type variable bound by\n        the type signature for:\n          fmap :: forall b c. (b -> c) -> Env a b -> Env a c\n        at <interactive>:5:13-42\n    • In the second argument of ‘($)’, namely ‘a b’\n      In the second argument of ‘($)’, namely ‘f $ a b’\n      In the expression: Just $ f $ a b\n    • Relevant bindings include\n        a :: a -> Maybe b (bound at <interactive>:6:17)\n        f :: b -> c (bound at <interactive>:6:10)\n        fmap :: (b -> c) -> Env a b -> Env a c (bound at <interactive>:6:5)"
     ]
    }
   ],
   "source": [
    "-- DAS HIER GEHT NICHT, DA ICH DEN WERT AUS DEM JUST RAUSHOLEN MUSS. UND DAS GEHT NUNMAL NUR MIT DEM CASE\n",
    "instance Functor (Env a) where \n",
    "    -- b :: a\n",
    "    -- a :: a -> Maybe b\n",
    "    -- f :: b -> c\n",
    "    fmap :: (b -> c) -> Env a b -> Env a c\n",
    "    fmap f (Env a) = Env (\\b -> Just $ f $ a b)"
   ]
  },
  {
   "cell_type": "code",
   "execution_count": 105,
   "metadata": {},
   "outputs": [],
   "source": [
    "instance Functor (Env a) where \n",
    "    -- b :: a\n",
    "    -- a :: a -> Maybe b\n",
    "    -- f :: b -> c\n",
    "    fmap :: (b -> c) -> Env a b -> Env a c\n",
    "    fmap f (Env a) = Env (\\b -> \n",
    "        case a b of \n",
    "            Just x -> Just $ f x\n",
    "            other -> Nothing)"
   ]
  }
 ],
 "metadata": {
  "kernelspec": {
   "display_name": "Haskell",
   "language": "haskell",
   "name": "haskell"
  },
  "language_info": {
   "codemirror_mode": "ihaskell",
   "file_extension": ".hs",
   "mimetype": "text/x-haskell",
   "name": "haskell",
   "pygments_lexer": "Haskell",
   "version": "9.2.7"
  },
  "orig_nbformat": 4
 },
 "nbformat": 4,
 "nbformat_minor": 2
}
