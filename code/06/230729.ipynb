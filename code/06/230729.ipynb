{
 "cells": [
  {
   "attachments": {},
   "cell_type": "markdown",
   "metadata": {},
   "source": [
    "# Gesetze von Monaden\n",
    "\n",
    "```haskell\n",
    "\n",
    "return x >>= f      == f x\n",
    "akt >>= return      == akt\n",
    "(akt >>= f) >>= g   == akt >>= \\x -> f x >>= g"
   ]
  },
  {
   "attachments": {},
   "cell_type": "markdown",
   "metadata": {},
   "source": [
    "## Für die KLausur dann\n",
    "- erstelle <*> mit bind oder sowas\n",
    "- AUSWENDIG LERNEN!!\n",
    "\n",
    "\n",
    "```\n",
    "Functor\n",
    "   ^\n",
    "   |\n",
    "Applicative\n",
    "   ^\n",
    "   |\n",
    "Monad"
   ]
  },
  {
   "attachments": {},
   "cell_type": "markdown",
   "metadata": {},
   "source": [
    "# Applicative für die Liste"
   ]
  },
  {
   "attachments": {},
   "cell_type": "markdown",
   "metadata": {},
   "source": [
    "```haskell\n",
    "instance Applicative [] where\n",
    "    pure :: a -> [a]\n",
    "    pure x = [x]\n",
    "\n",
    "    (<*>) :: [a -> b] -> [a] -> [b]\n",
    "    [] <*> xs = []\n",
    "    (f:fs) <*> xs = fmap f xs ++ (fs <*> xs)\n",
    "\n",
    "instance Monad [] where\n",
    "    return :: a -> [a]\n",
    "    return = pure\n",
    "\n",
    "    (>>=) :: [a] -> (a -> [b]) -> [b]\n",
    "    [] >>= f = []\n",
    "    (x:xs) >>= f = f x ++ (xs >>= f)"
   ]
  },
  {
   "attachments": {},
   "cell_type": "markdown",
   "metadata": {},
   "source": [
    "# Monad gesetze \n",
    "## 1\n",
    "```haskell\n",
    "    return x >>= f == fx\n",
    "= [x] >>= f\n",
    "= f x ++ ([] >>= f)\n",
    "= f x ++ []\n",
    "= f x\n",
    "```\n",
    "\n",
    "## 2\n",
    "- mit fallunterscheidung, da xs auch die leere liste sein kann\n",
    "- und dann mit struktureller induktion mit Annahme für Teilliste\n",
    "```haskell\n",
    "    xs >>= return == xs\n",
    "case xs of\n",
    "    [] -> xs >>= return\n",
    "=   [] >>= return\n",
    "=   = xs\n",
    "    (x:xs) >>= return\n",
    "= return x ++ (xs >>= return)\n",
    "= [x] ++ xs\n",
    "```\n",
    "\n",
    "## 3\n",
    "```haskell\n",
    "    (xs >>= f) >>= g   == xs >>= \\x -> f x >>= g\n",
    "case xs of\n",
    "    [] -> ([] >>= f) >>= g \n",
    "=   [] >>= g\n",
    "=   []\n",
    "=   [] >>= \\x -> (f >>= g)\n",
    "\n",
    "    (x:xs) -> "
   ]
  },
  {
   "attachments": {},
   "cell_type": "markdown",
   "metadata": {},
   "source": [
    "```haskell\n",
    "(>>) :: Monad m => m a -> m b -> m b\n",
    "a1 >> a2 = a1 >>= \\_ - a2"
   ]
  },
  {
   "attachments": {},
   "cell_type": "markdown",
   "metadata": {},
   "source": [
    "---\n",
    "\n",
    "# jezt machen wir was mit bind"
   ]
  },
  {
   "cell_type": "code",
   "execution_count": 2,
   "metadata": {},
   "outputs": [
    {
     "data": {
      "text/plain": [
       "[1,2,2,3,3,4]"
      ]
     },
     "metadata": {},
     "output_type": "display_data"
    }
   ],
   "source": [
    "list = [1,2,3] >>= \\x -> [x , x+1]\n",
    "\n",
    "list"
   ]
  },
  {
   "cell_type": "code",
   "execution_count": 3,
   "metadata": {},
   "outputs": [
    {
     "data": {
      "text/plain": [
       "[1,2,2,3,3,4]"
      ]
     },
     "metadata": {},
     "output_type": "display_data"
    }
   ],
   "source": [
    "list = do\n",
    "    x <- [1,2,3]\n",
    "    [x, x + 1]\n",
    "\n",
    "list"
   ]
  },
  {
   "cell_type": "code",
   "execution_count": 4,
   "metadata": {},
   "outputs": [
    {
     "data": {
      "text/plain": [
       "[(1,3),(1,4),(1,5),(2,3),(2,4),(2,5),(3,3),(3,4),(3,5),(4,3),(4,4),(4,5)]"
      ]
     },
     "metadata": {},
     "output_type": "display_data"
    }
   ],
   "source": [
    "list = [1,2,3,4] >>= \\x -> [3,4,5] >>= \\y -> return (x,y)\n",
    "\n",
    "list"
   ]
  },
  {
   "cell_type": "code",
   "execution_count": 5,
   "metadata": {},
   "outputs": [
    {
     "data": {
      "text/plain": [
       "[(1,3),(1,4),(1,5),(2,3),(2,4),(2,5),(3,3),(3,4),(3,5),(4,3),(4,4),(4,5)]"
      ]
     },
     "metadata": {},
     "output_type": "display_data"
    }
   ],
   "source": [
    "list = do\n",
    "    x <- [1,2,3,4]\n",
    "    y <- [3,4,5]\n",
    "    return (x,y)\n",
    "    \n",
    "list"
   ]
  },
  {
   "cell_type": "code",
   "execution_count": 6,
   "metadata": {},
   "outputs": [
    {
     "data": {
      "text/plain": [
       "[(1,3),(1,4),(1,5),(2,3),(2,4),(2,5),(3,3),(3,4),(3,5),(4,3),(4,4),(4,5)]"
      ]
     },
     "metadata": {},
     "output_type": "display_data"
    }
   ],
   "source": [
    "list = [ (x,y) | x <- [1,2,3,4], y <- [3,4,5] ]\n",
    "\n",
    "list"
   ]
  },
  {
   "cell_type": "code",
   "execution_count": 7,
   "metadata": {},
   "outputs": [],
   "source": [
    "list = do\n",
    "    x <- [1,2,3,4]\n",
    "    y <- [3,4,5]\n",
    "    if x /= y then\n",
    "        return (x,y)\n",
    "    else \n",
    "        []"
   ]
  },
  {
   "attachments": {},
   "cell_type": "markdown",
   "metadata": {},
   "source": [
    "## das jetzt mit einer externen funktion"
   ]
  },
  {
   "cell_type": "code",
   "execution_count": 8,
   "metadata": {},
   "outputs": [
    {
     "data": {
      "text/plain": [
       "[(1,3),(1,4),(1,5),(2,3),(2,4),(2,5),(3,4),(3,5),(4,3),(4,5)]"
      ]
     },
     "metadata": {},
     "output_type": "display_data"
    }
   ],
   "source": [
    "list = do\n",
    "    x <- [1,2,3,4]\n",
    "    y <- [3,4,5]\n",
    "    guardList (x/=y)\n",
    "    return (x,y)\n",
    "\n",
    "guardList :: Bool -> [()]\n",
    "guardList True = return ()\n",
    "guardList False = []\n",
    "\n",
    "list"
   ]
  },
  {
   "attachments": {},
   "cell_type": "markdown",
   "metadata": {},
   "source": [
    "## wir schauen das guard mal an"
   ]
  },
  {
   "cell_type": "code",
   "execution_count": 9,
   "metadata": {},
   "outputs": [
    {
     "data": {
      "text/html": [
       "<style>/* Styles used for the Hoogle display in the pager */\n",
       ".hoogle-doc {\n",
       "display: block;\n",
       "padding-bottom: 1.3em;\n",
       "padding-left: 0.4em;\n",
       "}\n",
       ".hoogle-code {\n",
       "display: block;\n",
       "font-family: monospace;\n",
       "white-space: pre;\n",
       "}\n",
       ".hoogle-text {\n",
       "display: block;\n",
       "}\n",
       ".hoogle-name {\n",
       "color: green;\n",
       "font-weight: bold;\n",
       "}\n",
       ".hoogle-head {\n",
       "font-weight: bold;\n",
       "}\n",
       ".hoogle-sub {\n",
       "display: block;\n",
       "margin-left: 0.4em;\n",
       "}\n",
       ".hoogle-package {\n",
       "font-weight: bold;\n",
       "font-style: italic;\n",
       "}\n",
       ".hoogle-module {\n",
       "font-weight: bold;\n",
       "}\n",
       ".hoogle-class {\n",
       "font-weight: bold;\n",
       "}\n",
       ".get-type {\n",
       "color: green;\n",
       "font-weight: bold;\n",
       "font-family: monospace;\n",
       "display: block;\n",
       "white-space: pre-wrap;\n",
       "}\n",
       ".show-type {\n",
       "color: green;\n",
       "font-weight: bold;\n",
       "font-family: monospace;\n",
       "margin-left: 1em;\n",
       "}\n",
       ".mono {\n",
       "font-family: monospace;\n",
       "display: block;\n",
       "}\n",
       ".err-msg {\n",
       "color: red;\n",
       "font-style: italic;\n",
       "font-family: monospace;\n",
       "white-space: pre;\n",
       "display: block;\n",
       "}\n",
       "#unshowable {\n",
       "color: red;\n",
       "font-weight: bold;\n",
       "}\n",
       ".err-msg.in.collapse {\n",
       "padding-top: 0.7em;\n",
       "}\n",
       ".highlight-code {\n",
       "white-space: pre;\n",
       "font-family: monospace;\n",
       "}\n",
       ".suggestion-warning { \n",
       "font-weight: bold;\n",
       "color: rgb(200, 130, 0);\n",
       "}\n",
       ".suggestion-error { \n",
       "font-weight: bold;\n",
       "color: red;\n",
       "}\n",
       ".suggestion-name {\n",
       "font-weight: bold;\n",
       "}\n",
       "</style><span class='get-type'>guard :: forall (f :: * -> *). Alternative f => Bool -> f ()</span>"
      ],
      "text/plain": [
       "guard :: forall (f :: * -> *). Alternative f => Bool -> f ()"
      ]
     },
     "metadata": {},
     "output_type": "display_data"
    }
   ],
   "source": [
    "import Control.Monad\n",
    "\n",
    ":t guard"
   ]
  },
  {
   "attachments": {},
   "cell_type": "markdown",
   "metadata": {},
   "source": [
    "## festellungen\n",
    "1. Listen sind Monaden mit return und (>>=)\n",
    "2. Listen sind auch Monoide mit mempty ([]) und mappend (++)\n",
    "3. beides ist in der Klasse MonadPlus zusammengeführt\n",
    "\n",
    "```haskell\n",
    "class Monad m => MonadPlus m where\n",
    "    mzero :: m ()\n",
    "\n",
    "    mplus :: m a -> m a -> m a\n",
    "\n",
    "instance MonadPlus [] where\n",
    "    mzero = []\n",
    "    mplus = (++)\n",
    "\n",
    "guard :: MonadPlus m => Bool -> m ()\n",
    "guard True  = return ()\n",
    "guard False = mzero"
   ]
  },
  {
   "attachments": {},
   "cell_type": "markdown",
   "metadata": {},
   "source": [
    "## Bild von oben erweitern\n",
    "\n",
    "```\n",
    "    Funktor\n",
    "       |\n",
    "  Applicative -\n",
    "       |        \\\n",
    "     Monad    Alternative\n",
    "        \\     /\n",
    "        MonadPlus\n",
    "```\n"
   ]
  },
  {
   "cell_type": "code",
   "execution_count": 10,
   "metadata": {},
   "outputs": [
    {
     "data": {},
     "metadata": {},
     "output_type": "display_data"
    },
    {
     "name": "stdout",
     "output_type": "stream",
     "text": [
      "type Alternative :: (* -> *) -> Constraint\n",
      "class Applicative f => Alternative f where\n",
      "  empty :: f a\n",
      "  (<|>) :: f a -> f a -> f a\n",
      "  some :: f a -> f [a]\n",
      "  many :: f a -> f [a]\n",
      "  {-# MINIMAL empty, (<|>) #-}\n",
      "  \t-- Defined in ‘GHC.Base’\n",
      "instance Alternative ZipList -- Defined in ‘Control.Applicative’\n",
      "instance MonadPlus m => Alternative (WrappedMonad m) -- Defined in ‘Control.Applicative’\n",
      "instance (Control.Arrow.ArrowZero a, Control.Arrow.ArrowPlus a) => Alternative (WrappedArrow a b) -- Defined in ‘Control.Applicative’\n",
      "instance Alternative [] -- Defined in ‘GHC.Base’\n",
      "instance Alternative Maybe -- Defined in ‘GHC.Base’\n",
      "instance Alternative IO -- Defined in ‘GHC.Base’"
     ]
    }
   ],
   "source": [
    "import Control.Applicative\n",
    "\n",
    ":i Alternative"
   ]
  },
  {
   "attachments": {},
   "cell_type": "markdown",
   "metadata": {},
   "source": [
    "## zu meiner frage wegen der verwirrung um Funktor ohne ein neutrales element\n",
    "\n",
    "- ein Kontenmarkierter baum als Funtor ist einfaach\n",
    "- applicative ist nicht möglich und Monade auch nicht"
   ]
  },
  {
   "attachments": {},
   "cell_type": "markdown",
   "metadata": {},
   "source": [
    "---\n",
    "\n",
    "## Monad Instanz für Maybe\n",
    "\n",
    "```haskell\n",
    "\n",
    "return = Just\n",
    "Nothing >>= _ = Nothing\n",
    "(Just x) >>= f = f x\n",
    "\n",
    "instance MonadPlus Maybe where\n",
    "    mzero = Nothing\n",
    "    mplus Nothing my = my\n",
    "    mplus (Just x) my = Just x\n",
    "\n",
    "```\n",
    "Das `Just x` ist irgendwie seltsam\n",
    "\n",
    "## Noch ein Gesetz für MonadPlus\n",
    "was auf jeden fall gilt sind die Monoid gesetze\n",
    "```haskell\n",
    "mzero `mplus` a = a\n",
    "a `mplus` mzero = a\n",
    "(a `mplus` b) `mplus` c = a `mplus` (b `mplus` c)\n",
    "```\n",
    "jetzt noch ein distributivgesetz `x * (y + z) = xy + xz`\n",
    "```haskell\n",
    "(a `mplus` b) >>= f = a >>= f `mplus` b >>= f\n",
    "```\n",
    "Gesetze  gelten für die Listeninstanze\n",
    "\n",
    "### einmal versuchen"
   ]
  },
  {
   "cell_type": "code",
   "execution_count": 11,
   "metadata": {},
   "outputs": [
    {
     "data": {
      "text/plain": [
       "[2,3,4,5]"
      ]
     },
     "metadata": {},
     "output_type": "display_data"
    }
   ],
   "source": [
    "[1,2] `mplus` [3,4] >>= \\x -> return (x+1)"
   ]
  },
  {
   "cell_type": "code",
   "execution_count": 12,
   "metadata": {},
   "outputs": [
    {
     "data": {
      "text/plain": [
       "[2,3,4,5]"
      ]
     },
     "metadata": {},
     "output_type": "display_data"
    }
   ],
   "source": [
    "([1,2] >>= \\x -> return (x+1)) `mplus` ([3,4] >>= \\x -> return (x+1))"
   ]
  },
  {
   "attachments": {},
   "cell_type": "markdown",
   "metadata": {},
   "source": [
    "## gegenbeispiel von der Maybe instanz, dass die gesetze nicht gelten\n",
    "\n",
    "```haskell\n",
    "    Just False `mplus` Just True >>= guard\n",
    "=   Just False >>= guard\n",
    "=   mzero\n",
    "=   Nothing"
   ]
  },
  {
   "attachments": {},
   "cell_type": "markdown",
   "metadata": {},
   "source": [
    "ABER\n",
    "\n",
    "```haskell\n",
    "    Just False >>= guard `mplus` Just True >>= guard\n",
    "=   Nothing              `mplus` Just ()\n",
    "=   Just ()"
   ]
  },
  {
   "attachments": {},
   "cell_type": "markdown",
   "metadata": {},
   "source": [
    "## Distributivgesetz gilt für Alternative und hier erfúllt die Maybe-Instanz das Distributivgesetz\n",
    "Dies zeit den Unterschied in der Ausdrucksstärke zwischen Monad und Applicative\n",
    "\n",
    "Alternative\n",
    "```haskell\n",
    "( cf <|> cg ) <*> cx = cf <*> cx <|> cg <*> cx\n",
    "cx <*> ( cf <|> cg ) = cf <*> cx <|> cg <*> cx"
   ]
  },
  {
   "attachments": {},
   "cell_type": "markdown",
   "metadata": {},
   "source": [
    "---\n",
    "\n",
    "# Jetzt schreiben wir ein Programm"
   ]
  },
  {
   "cell_type": "code",
   "execution_count": 13,
   "metadata": {},
   "outputs": [],
   "source": [
    "data Tree a = Node (Tree a) a (Tree a)\n",
    "                | Empty\n",
    "        deriving (Show)"
   ]
  },
  {
   "cell_type": "code",
   "execution_count": 14,
   "metadata": {},
   "outputs": [
    {
     "data": {
      "text/plain": [
       "Node (Node Empty (0,42) Empty) (1,73) (Node Empty (2,55) Empty)"
      ]
     },
     "metadata": {},
     "output_type": "display_data"
    }
   ],
   "source": [
    "testTree = Node (Node Empty 42 Empty) 73 (Node Empty 55 Empty)\n",
    "\n",
    "\n",
    "-- numberTree soll liefern: Node (Node Empty (1, 42) Empty) (2, 73) (Node Empty (3,55) Empty))\n",
    "numberTree :: Tree a -> Tree (Int, a)\n",
    "numberTree t = fst $ help t 0 where\n",
    "    help :: Tree a -> Int -> (Tree (Int, a), Int)\n",
    "    help Empty x    = (Empty, x)\n",
    "    help  (Node l c r) x = \n",
    "        let (l', x1) = help l x \n",
    "            (r', x2) = help r $ x1 + 1\n",
    "        in\n",
    "            (Node l' (x1,c) r', x2)\n",
    "\n",
    "numberTree testTree"
   ]
  },
  {
   "attachments": {},
   "cell_type": "markdown",
   "metadata": {},
   "source": [
    "## jetzt die state monade, welche dann eine globale variable einfach in das bind reinpackt\n"
   ]
  },
  {
   "cell_type": "code",
   "execution_count": 18,
   "metadata": {},
   "outputs": [
    {
     "data": {
      "text/html": [
       "<style>/* Styles used for the Hoogle display in the pager */\n",
       ".hoogle-doc {\n",
       "display: block;\n",
       "padding-bottom: 1.3em;\n",
       "padding-left: 0.4em;\n",
       "}\n",
       ".hoogle-code {\n",
       "display: block;\n",
       "font-family: monospace;\n",
       "white-space: pre;\n",
       "}\n",
       ".hoogle-text {\n",
       "display: block;\n",
       "}\n",
       ".hoogle-name {\n",
       "color: green;\n",
       "font-weight: bold;\n",
       "}\n",
       ".hoogle-head {\n",
       "font-weight: bold;\n",
       "}\n",
       ".hoogle-sub {\n",
       "display: block;\n",
       "margin-left: 0.4em;\n",
       "}\n",
       ".hoogle-package {\n",
       "font-weight: bold;\n",
       "font-style: italic;\n",
       "}\n",
       ".hoogle-module {\n",
       "font-weight: bold;\n",
       "}\n",
       ".hoogle-class {\n",
       "font-weight: bold;\n",
       "}\n",
       ".get-type {\n",
       "color: green;\n",
       "font-weight: bold;\n",
       "font-family: monospace;\n",
       "display: block;\n",
       "white-space: pre-wrap;\n",
       "}\n",
       ".show-type {\n",
       "color: green;\n",
       "font-weight: bold;\n",
       "font-family: monospace;\n",
       "margin-left: 1em;\n",
       "}\n",
       ".mono {\n",
       "font-family: monospace;\n",
       "display: block;\n",
       "}\n",
       ".err-msg {\n",
       "color: red;\n",
       "font-style: italic;\n",
       "font-family: monospace;\n",
       "white-space: pre;\n",
       "display: block;\n",
       "}\n",
       "#unshowable {\n",
       "color: red;\n",
       "font-weight: bold;\n",
       "}\n",
       ".err-msg.in.collapse {\n",
       "padding-top: 0.7em;\n",
       "}\n",
       ".highlight-code {\n",
       "white-space: pre;\n",
       "font-family: monospace;\n",
       "}\n",
       ".suggestion-warning { \n",
       "font-weight: bold;\n",
       "color: rgb(200, 130, 0);\n",
       "}\n",
       ".suggestion-error { \n",
       "font-weight: bold;\n",
       "color: red;\n",
       "}\n",
       ".suggestion-name {\n",
       "font-weight: bold;\n",
       "}\n",
       "</style><div class=\"suggestion-name\" style=\"clear:both;\">Use tuple-section</div><div class=\"suggestion-row\" style=\"float: left;\"><div class=\"suggestion-warning\">Found:</div><div class=\"highlight-code\" id=\"haskell\">\\ s -> (x, s)</div></div><div class=\"suggestion-row\" style=\"float: left;\"><div class=\"suggestion-warning\">Why Not:</div><div class=\"highlight-code\" id=\"haskell\">(x,)</div></div><div class=\"suggestion-name\" style=\"clear:both;\">Use const</div><div class=\"suggestion-row\" style=\"float: left;\"><div class=\"suggestion-warning\">Found:</div><div class=\"highlight-code\" id=\"haskell\">\\ _ -> ((), ns)</div></div><div class=\"suggestion-row\" style=\"float: left;\"><div class=\"suggestion-warning\">Why Not:</div><div class=\"highlight-code\" id=\"haskell\">const ((), ns)</div></div>"
      ],
      "text/plain": [
       "Line 23: Use tuple-section\n",
       "Found:\n",
       "\\ s -> (x, s)\n",
       "Why not:\n",
       "(x,)Line 35: Use const\n",
       "Found:\n",
       "\\ _ -> ((), ns)\n",
       "Why not:\n",
       "const ((), ns)"
      ]
     },
     "metadata": {},
     "output_type": "display_data"
    },
    {
     "data": {
      "text/plain": [
       "Node (Node Empty (0,42) Empty) (1,73) (Node Empty (2,55) Empty)"
      ]
     },
     "metadata": {},
     "output_type": "display_data"
    }
   ],
   "source": [
    "newtype State a = St (Int -> (a,Int))\n",
    "\n",
    "numberTree t = runState 0 $ help t where \n",
    "    help :: Tree a -> State (Tree (Int, a))\n",
    "    help Empty = return Empty\n",
    "    help (Node l c r) = do\n",
    "        l' <- help l\n",
    "        n <- get\n",
    "        put $ n+1\n",
    "        r' <- help r\n",
    "        return (Node l' (n, c) r')\n",
    "\n",
    "\n",
    "instance Applicative State where\n",
    "    pure = return\n",
    "    (<*>) = ap\n",
    "\n",
    "instance Functor State where\n",
    "    fmap = (<$>)\n",
    "\n",
    "instance Monad State where\n",
    "    return :: a -> State a\n",
    "    return x = St $ \\s -> (x, s)\n",
    "\n",
    "    (>>=) :: State a -> (a -> State b) -> State b\n",
    "    St sf >>= f = St $ \\s -> \n",
    "        let (x,s1) = sf s\n",
    "            St sg = f x in \n",
    "          sg s1\n",
    "\n",
    "get :: State Int\n",
    "get = St $ \\s -> (s,s)\n",
    "\n",
    "put :: Int -> State ()\n",
    "put ns = St $ \\_ -> ((), ns)\n",
    "\n",
    "runState :: Int -> State a -> a\n",
    "runState init (St sf) = \n",
    "    let (res, s_fin) = sf init in\n",
    "        res\n",
    "\n",
    "numberTree testTree"
   ]
  }
 ],
 "metadata": {
  "kernelspec": {
   "display_name": "Haskell",
   "language": "haskell",
   "name": "haskell"
  },
  "language_info": {
   "codemirror_mode": "ihaskell",
   "file_extension": ".hs",
   "mimetype": "text/x-haskell",
   "name": "haskell",
   "pygments_lexer": "Haskell",
   "version": "9.2.7"
  },
  "orig_nbformat": 4
 },
 "nbformat": 4,
 "nbformat_minor": 2
}
