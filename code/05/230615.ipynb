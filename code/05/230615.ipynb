{
 "cells": [
  {
   "cell_type": "code",
   "execution_count": 7,
   "metadata": {},
   "outputs": [],
   "source": [
    "main = putStr \"Age? \" >> getLine >>= \\a -> if read a > 40 then putStrLn \"too old\" else putStrLn \"nice!\"\n",
    "\n",
    "main2 = do\n",
    "    putStr \"Age? \"\n",
    "    a <- getLine\n",
    "    if read a > 40 then \n",
    "        putStrLn \"too old\" \n",
    "    else \n",
    "        putStrLn \"nice!\""
   ]
  },
  {
   "attachments": {},
   "cell_type": "markdown",
   "metadata": {},
   "source": [
    "`(IO (), >>, return ())` ist ein Monoid\n",
    "aber `IO String` ist \n",
    "```haskell\n",
    "return () >> act = act\n",
    "act >> return () = act\n",
    "```\n",
    "\n",
    "`(IO, >>=, return())` ist eine Monade (da der bind operator noch einen wert zurück gibt, also eine funktion ist)\n",
    "```haskell \n",
    ">>=     :: IO a -> (a -> IO b) -> IO b\n",
    "return  :: a -> IO a\n",
    "return x >>= f    = f x\n",
    "act >>= return    = act\n",
    "(act >>= f) >>= g = act >>= (\\x -> fx) >>= g\n",
    "```"
   ]
  },
  {
   "attachments": {},
   "cell_type": "markdown",
   "metadata": {},
   "source": [
    "\n",
    "Frage: ist (Maybe, +1, Nothing) eine Monade?\n",
    "Nein, weil die funktion in der Mitte vom Typ IO a -> usw (siehe >>=) sein muss"
   ]
  },
  {
   "attachments": {},
   "cell_type": "markdown",
   "metadata": {},
   "source": [
    "## Zeigen, dass Monaden gebraucht werden"
   ]
  },
  {
   "cell_type": "code",
   "execution_count": 8,
   "metadata": {},
   "outputs": [],
   "source": [
    "data Exp = Num Int\n",
    "    | Exp :+: Exp\n",
    "    | Exp :/: Exp\n",
    "    deriving Show\n",
    "\n",
    "e1 = Num 42 :+: Num 31\n",
    "e2 = e1 :/: (e1 :+: Num (-73))\n",
    "\n",
    "eval :: Exp -> Maybe Int\n",
    "eval (Num n) = Just n\n",
    "eval (e1 :+: e2) = \n",
    "    case eval e1 of\n",
    "        Just v1 -> case eval e2 of \n",
    "            Just v2 -> Just (v1 + v2)\n",
    "            Nothing -> Nothing\n",
    "        Nothing -> Nothing\n",
    "eval (e1 :/: e2) = \n",
    "    case eval e2 of\n",
    "        Just 0 -> Nothing\n",
    "        Just v2-> case eval e1 of \n",
    "            Just v1 -> Just (v1 `div` v2)\n",
    "            Nothing -> Nothing\n",
    "        Nothing -> Nothing"
   ]
  },
  {
   "attachments": {},
   "cell_type": "markdown",
   "metadata": {},
   "source": [
    "## nun gleicher code mit Monade\n",
    "\n",
    "`Maybe` ist eine Fehlermodade, dh Nothing ist der Fehler\n",
    "\n",
    "`Just x` ist der Erfolg mit dem Rückgabewert x"
   ]
  },
  {
   "cell_type": "code",
   "execution_count": 9,
   "metadata": {},
   "outputs": [],
   "source": [
    "eval (Num n) = return n\n",
    "eval (e1 :+: e2) = do\n",
    "    v1 <- eval e1\n",
    "    v2 <- eval e2\n",
    "    return (v1 + v2)\n",
    "eval (e1 :/: e2) = do\n",
    "    v2 <- eval e2 \n",
    "    if v2 == 0 then\n",
    "        Nothing\n",
    "    else do\n",
    "        v1 <- eval e1\n",
    "        return (v1 `div` v2)"
   ]
  },
  {
   "cell_type": "code",
   "execution_count": 10,
   "metadata": {},
   "outputs": [
    {
     "data": {
      "text/html": [
       "<style>/* Styles used for the Hoogle display in the pager */\n",
       ".hoogle-doc {\n",
       "display: block;\n",
       "padding-bottom: 1.3em;\n",
       "padding-left: 0.4em;\n",
       "}\n",
       ".hoogle-code {\n",
       "display: block;\n",
       "font-family: monospace;\n",
       "white-space: pre;\n",
       "}\n",
       ".hoogle-text {\n",
       "display: block;\n",
       "}\n",
       ".hoogle-name {\n",
       "color: green;\n",
       "font-weight: bold;\n",
       "}\n",
       ".hoogle-head {\n",
       "font-weight: bold;\n",
       "}\n",
       ".hoogle-sub {\n",
       "display: block;\n",
       "margin-left: 0.4em;\n",
       "}\n",
       ".hoogle-package {\n",
       "font-weight: bold;\n",
       "font-style: italic;\n",
       "}\n",
       ".hoogle-module {\n",
       "font-weight: bold;\n",
       "}\n",
       ".hoogle-class {\n",
       "font-weight: bold;\n",
       "}\n",
       ".get-type {\n",
       "color: green;\n",
       "font-weight: bold;\n",
       "font-family: monospace;\n",
       "display: block;\n",
       "white-space: pre-wrap;\n",
       "}\n",
       ".show-type {\n",
       "color: green;\n",
       "font-weight: bold;\n",
       "font-family: monospace;\n",
       "margin-left: 1em;\n",
       "}\n",
       ".mono {\n",
       "font-family: monospace;\n",
       "display: block;\n",
       "}\n",
       ".err-msg {\n",
       "color: red;\n",
       "font-style: italic;\n",
       "font-family: monospace;\n",
       "white-space: pre;\n",
       "display: block;\n",
       "}\n",
       "#unshowable {\n",
       "color: red;\n",
       "font-weight: bold;\n",
       "}\n",
       ".err-msg.in.collapse {\n",
       "padding-top: 0.7em;\n",
       "}\n",
       ".highlight-code {\n",
       "white-space: pre;\n",
       "font-family: monospace;\n",
       "}\n",
       ".suggestion-warning { \n",
       "font-weight: bold;\n",
       "color: rgb(200, 130, 0);\n",
       "}\n",
       ".suggestion-error { \n",
       "font-weight: bold;\n",
       "color: red;\n",
       "}\n",
       ".suggestion-name {\n",
       "font-weight: bold;\n",
       "}\n",
       "</style><div class=\"suggestion-name\" style=\"clear:both;\">Use >></div><div class=\"suggestion-row\" style=\"float: left;\"><div class=\"suggestion-warning\">Found:</div><div class=\"highlight-code\" id=\"haskell\">mx >>= \\ _ -> my</div></div><div class=\"suggestion-row\" style=\"float: left;\"><div class=\"suggestion-warning\">Why Not:</div><div class=\"highlight-code\" id=\"haskell\">mx >> my</div></div><div class=\"suggestion-name\" style=\"clear:both;\">Use const</div><div class=\"suggestion-row\" style=\"float: left;\"><div class=\"suggestion-warning\">Found:</div><div class=\"highlight-code\" id=\"haskell\">\\ _ -> my</div></div><div class=\"suggestion-row\" style=\"float: left;\"><div class=\"suggestion-warning\">Why Not:</div><div class=\"highlight-code\" id=\"haskell\">const my</div></div>"
      ],
      "text/plain": [
       "Line 5: Use >>\n",
       "Found:\n",
       "mx >>= \\ _ -> my\n",
       "Why not:\n",
       "mx >> myLine 5: Use const\n",
       "Found:\n",
       "\\ _ -> my\n",
       "Why not:\n",
       "const my"
      ]
     },
     "metadata": {},
     "output_type": "display_data"
    }
   ],
   "source": [
    "class Monad m where\n",
    "    return  :: a -> m a\n",
    "    (>>)    :: m a -> m b -> m b\n",
    "    (>>=)   :: m a -> (a -> m b) -> m b\n",
    "    mx >> my = mx >>= \\_ -> my\n",
    "\n",
    "instance Monad Maybe where\n",
    "    -- return :: a -> Maybe a\n",
    "    return = Just \n",
    "    -- (>>=) Maybe a -> (a -> Maybe b) -> Maybe b\n",
    "    Nothing >>= _ = Nothing \n",
    "    Just x >>= f  = f x\n"
   ]
  },
  {
   "cell_type": "code",
   "execution_count": 11,
   "metadata": {},
   "outputs": [
    {
     "data": {
      "text/html": [
       "<style>/* Styles used for the Hoogle display in the pager */\n",
       ".hoogle-doc {\n",
       "display: block;\n",
       "padding-bottom: 1.3em;\n",
       "padding-left: 0.4em;\n",
       "}\n",
       ".hoogle-code {\n",
       "display: block;\n",
       "font-family: monospace;\n",
       "white-space: pre;\n",
       "}\n",
       ".hoogle-text {\n",
       "display: block;\n",
       "}\n",
       ".hoogle-name {\n",
       "color: green;\n",
       "font-weight: bold;\n",
       "}\n",
       ".hoogle-head {\n",
       "font-weight: bold;\n",
       "}\n",
       ".hoogle-sub {\n",
       "display: block;\n",
       "margin-left: 0.4em;\n",
       "}\n",
       ".hoogle-package {\n",
       "font-weight: bold;\n",
       "font-style: italic;\n",
       "}\n",
       ".hoogle-module {\n",
       "font-weight: bold;\n",
       "}\n",
       ".hoogle-class {\n",
       "font-weight: bold;\n",
       "}\n",
       ".get-type {\n",
       "color: green;\n",
       "font-weight: bold;\n",
       "font-family: monospace;\n",
       "display: block;\n",
       "white-space: pre-wrap;\n",
       "}\n",
       ".show-type {\n",
       "color: green;\n",
       "font-weight: bold;\n",
       "font-family: monospace;\n",
       "margin-left: 1em;\n",
       "}\n",
       ".mono {\n",
       "font-family: monospace;\n",
       "display: block;\n",
       "}\n",
       ".err-msg {\n",
       "color: red;\n",
       "font-style: italic;\n",
       "font-family: monospace;\n",
       "white-space: pre;\n",
       "display: block;\n",
       "}\n",
       "#unshowable {\n",
       "color: red;\n",
       "font-weight: bold;\n",
       "}\n",
       ".err-msg.in.collapse {\n",
       "padding-top: 0.7em;\n",
       "}\n",
       ".highlight-code {\n",
       "white-space: pre;\n",
       "font-family: monospace;\n",
       "}\n",
       ".suggestion-warning { \n",
       "font-weight: bold;\n",
       "color: rgb(200, 130, 0);\n",
       "}\n",
       ".suggestion-error { \n",
       "font-weight: bold;\n",
       "color: red;\n",
       "}\n",
       ".suggestion-name {\n",
       "font-weight: bold;\n",
       "}\n",
       "</style><div class=\"suggestion-name\" style=\"clear:both;\">Evaluate</div><div class=\"suggestion-row\" style=\"float: left;\"><div class=\"suggestion-warning\">Found:</div><div class=\"highlight-code\" id=\"haskell\">Nothing >>= \\ x -> return (x + 1)</div></div><div class=\"suggestion-row\" style=\"float: left;\"><div class=\"suggestion-warning\">Why Not:</div><div class=\"highlight-code\" id=\"haskell\">Nothing</div></div>"
      ],
      "text/plain": [
       "Line 2: Evaluate\n",
       "Found:\n",
       "Nothing >>= \\ x -> return (x + 1)\n",
       "Why not:\n",
       "Nothing"
      ]
     },
     "metadata": {},
     "output_type": "display_data"
    },
    {
     "data": {
      "text/plain": [
       "Just 42"
      ]
     },
     "metadata": {},
     "output_type": "display_data"
    },
    {
     "data": {
      "text/plain": [
       "Nothing"
      ]
     },
     "metadata": {},
     "output_type": "display_data"
    }
   ],
   "source": [
    "Just 41 >>= \\x -> return (x + 1) -- Just 42\n",
    "Nothing >>= \\x -> return (x + 1) -- Nothing"
   ]
  },
  {
   "attachments": {},
   "cell_type": "markdown",
   "metadata": {},
   "source": [
    "## Fmap für Monaden"
   ]
  },
  {
   "cell_type": "code",
   "execution_count": 12,
   "metadata": {},
   "outputs": [],
   "source": [
    "genfmap :: Monad m => (a -> b) -> (m a -> m b)\n",
    "genfmap  f mx = mx >>= \\x -> return (f x)"
   ]
  },
  {
   "attachments": {},
   "cell_type": "markdown",
   "metadata": {},
   "source": [
    "```\n",
    " Functor f     => fmap  :: (a -> b) -> f a -> f b\n",
    "     |\n",
    "Applicative f  => (<*>) :: f (a -> b) -> f a -> f b\n",
    "     |         => pure  :: a -> f a\n",
    "     | \n",
    "  Monad m\n",
    "```\n"
   ]
  },
  {
   "cell_type": "code",
   "execution_count": 13,
   "metadata": {},
   "outputs": [],
   "source": [
    "class Functor f => Applicative f where\n",
    "    pure :: a -> f a\n",
    "    (<*>) :: f (a -> b) -> f a -> f b\n",
    "    -- (*>) :: f a -> f b -> f b\n",
    "    -- ax *> ay = pure (\\_ x -> x) <*> ay <*> ax\n",
    "    -- (<*) :: f a -> f b -> f a\n",
    "    -- ax <* ay = pure (\\_ x -> x) <*> ax <*> ay\n",
    "\n",
    "instance Applicative Maybe where\n",
    "    (<*>) :: Maybe (a -> b) -> Maybe a -> Maybe b\n",
    "    (<*>) (Just f) (Just x) = Just (f x)\n",
    "    (<*>) _ _ = Nothing\n",
    "-- weitere gesetze die später dazu gekommen sind"
   ]
  },
  {
   "cell_type": "code",
   "execution_count": 14,
   "metadata": {},
   "outputs": [
    {
     "data": {
      "text/html": [
       "<style>/* Styles used for the Hoogle display in the pager */\n",
       ".hoogle-doc {\n",
       "display: block;\n",
       "padding-bottom: 1.3em;\n",
       "padding-left: 0.4em;\n",
       "}\n",
       ".hoogle-code {\n",
       "display: block;\n",
       "font-family: monospace;\n",
       "white-space: pre;\n",
       "}\n",
       ".hoogle-text {\n",
       "display: block;\n",
       "}\n",
       ".hoogle-name {\n",
       "color: green;\n",
       "font-weight: bold;\n",
       "}\n",
       ".hoogle-head {\n",
       "font-weight: bold;\n",
       "}\n",
       ".hoogle-sub {\n",
       "display: block;\n",
       "margin-left: 0.4em;\n",
       "}\n",
       ".hoogle-package {\n",
       "font-weight: bold;\n",
       "font-style: italic;\n",
       "}\n",
       ".hoogle-module {\n",
       "font-weight: bold;\n",
       "}\n",
       ".hoogle-class {\n",
       "font-weight: bold;\n",
       "}\n",
       ".get-type {\n",
       "color: green;\n",
       "font-weight: bold;\n",
       "font-family: monospace;\n",
       "display: block;\n",
       "white-space: pre-wrap;\n",
       "}\n",
       ".show-type {\n",
       "color: green;\n",
       "font-weight: bold;\n",
       "font-family: monospace;\n",
       "margin-left: 1em;\n",
       "}\n",
       ".mono {\n",
       "font-family: monospace;\n",
       "display: block;\n",
       "}\n",
       ".err-msg {\n",
       "color: red;\n",
       "font-style: italic;\n",
       "font-family: monospace;\n",
       "white-space: pre;\n",
       "display: block;\n",
       "}\n",
       "#unshowable {\n",
       "color: red;\n",
       "font-weight: bold;\n",
       "}\n",
       ".err-msg.in.collapse {\n",
       "padding-top: 0.7em;\n",
       "}\n",
       ".highlight-code {\n",
       "white-space: pre;\n",
       "font-family: monospace;\n",
       "}\n",
       ".suggestion-warning { \n",
       "font-weight: bold;\n",
       "color: rgb(200, 130, 0);\n",
       "}\n",
       ".suggestion-error { \n",
       "font-weight: bold;\n",
       "color: red;\n",
       "}\n",
       ".suggestion-name {\n",
       "font-weight: bold;\n",
       "}\n",
       "</style><div class=\"suggestion-name\" style=\"clear:both;\">Use <$></div><div class=\"suggestion-row\" style=\"float: left;\"><div class=\"suggestion-warning\">Found:</div><div class=\"highlight-code\" id=\"haskell\">pure (+) <*> eval e1</div></div><div class=\"suggestion-row\" style=\"float: left;\"><div class=\"suggestion-warning\">Why Not:</div><div class=\"highlight-code\" id=\"haskell\">((+) <$> eval e1)</div></div><div class=\"suggestion-name\" style=\"clear:both;\">Use <$></div><div class=\"suggestion-row\" style=\"float: left;\"><div class=\"suggestion-warning\">Found:</div><div class=\"highlight-code\" id=\"haskell\">pure (flip div) <*> mv2</div></div><div class=\"suggestion-row\" style=\"float: left;\"><div class=\"suggestion-warning\">Why Not:</div><div class=\"highlight-code\" id=\"haskell\">(flip div <$> mv2)</div></div>"
      ],
      "text/plain": [
       "Line 3: Use <$>\n",
       "Found:\n",
       "pure (+) <*> eval e1\n",
       "Why not:\n",
       "((+) <$> eval e1)Line 7: Use <$>\n",
       "Found:\n",
       "pure (flip div) <*> mv2\n",
       "Why not:\n",
       "(flip div <$> mv2)"
      ]
     },
     "metadata": {},
     "output_type": "display_data"
    }
   ],
   "source": [
    "eval (Num n) = return n\n",
    "eval (e1 :+: e2) = do\n",
    "    pure (+) <*> eval e1 <*> eval e2\n",
    "eval (e1 :/: e2) = \n",
    "    case eval e2 of\n",
    "        Just 0 -> Nothing \n",
    "        mv2    -> pure (flip div) <*> mv2 <*> eval e1"
   ]
  },
  {
   "attachments": {},
   "cell_type": "markdown",
   "metadata": {},
   "source": [
    "```haskell\n",
    "(pure (+) <*> eval e1) <*> eval e2\n",
    "      (+) :: Int -> Int -> Int\n",
    " pure (+) :: Maybe (Int -> Int -> Int)\n",
    "          <*> :: Maybe (a -> b) -> Maybe a -> Maybe b\n",
    "              eval e1  :: Maybe Int\n",
    "(pure (+) <*> eval e1) :: Maybe (Int -> Int)\n",
    "                           eval e2  :: Maybe Int\n",
    "(pure (+) <*> eval e1) <*> eval e2  :: Maybe Int\n",
    "```"
   ]
  },
  {
   "cell_type": "code",
   "execution_count": 15,
   "metadata": {},
   "outputs": [
    {
     "data": {
      "text/html": [
       "<style>/* Styles used for the Hoogle display in the pager */\n",
       ".hoogle-doc {\n",
       "display: block;\n",
       "padding-bottom: 1.3em;\n",
       "padding-left: 0.4em;\n",
       "}\n",
       ".hoogle-code {\n",
       "display: block;\n",
       "font-family: monospace;\n",
       "white-space: pre;\n",
       "}\n",
       ".hoogle-text {\n",
       "display: block;\n",
       "}\n",
       ".hoogle-name {\n",
       "color: green;\n",
       "font-weight: bold;\n",
       "}\n",
       ".hoogle-head {\n",
       "font-weight: bold;\n",
       "}\n",
       ".hoogle-sub {\n",
       "display: block;\n",
       "margin-left: 0.4em;\n",
       "}\n",
       ".hoogle-package {\n",
       "font-weight: bold;\n",
       "font-style: italic;\n",
       "}\n",
       ".hoogle-module {\n",
       "font-weight: bold;\n",
       "}\n",
       ".hoogle-class {\n",
       "font-weight: bold;\n",
       "}\n",
       ".get-type {\n",
       "color: green;\n",
       "font-weight: bold;\n",
       "font-family: monospace;\n",
       "display: block;\n",
       "white-space: pre-wrap;\n",
       "}\n",
       ".show-type {\n",
       "color: green;\n",
       "font-weight: bold;\n",
       "font-family: monospace;\n",
       "margin-left: 1em;\n",
       "}\n",
       ".mono {\n",
       "font-family: monospace;\n",
       "display: block;\n",
       "}\n",
       ".err-msg {\n",
       "color: red;\n",
       "font-style: italic;\n",
       "font-family: monospace;\n",
       "white-space: pre;\n",
       "display: block;\n",
       "}\n",
       "#unshowable {\n",
       "color: red;\n",
       "font-weight: bold;\n",
       "}\n",
       ".err-msg.in.collapse {\n",
       "padding-top: 0.7em;\n",
       "}\n",
       ".highlight-code {\n",
       "white-space: pre;\n",
       "font-family: monospace;\n",
       "}\n",
       ".suggestion-warning { \n",
       "font-weight: bold;\n",
       "color: rgb(200, 130, 0);\n",
       "}\n",
       ".suggestion-error { \n",
       "font-weight: bold;\n",
       "color: red;\n",
       "}\n",
       ".suggestion-name {\n",
       "font-weight: bold;\n",
       "}\n",
       "</style><div class=\"suggestion-name\" style=\"clear:both;\">Use <$></div><div class=\"suggestion-row\" style=\"float: left;\"><div class=\"suggestion-warning\">Found:</div><div class=\"highlight-code\" id=\"haskell\">pure g <*> fx</div></div><div class=\"suggestion-row\" style=\"float: left;\"><div class=\"suggestion-warning\">Why Not:</div><div class=\"highlight-code\" id=\"haskell\">g <$> fx</div></div>"
      ],
      "text/plain": [
       "Line 2: Use <$>\n",
       "Found:\n",
       "pure g <*> fx\n",
       "Why not:\n",
       "g <$> fx"
      ]
     },
     "metadata": {},
     "output_type": "display_data"
    }
   ],
   "source": [
    "genfmap :: Applicative f => (a -> b) -> f a -> f b\n",
    "genfmap g fx = pure g <*> fx"
   ]
  },
  {
   "cell_type": "code",
   "execution_count": 16,
   "metadata": {},
   "outputs": [],
   "source": [
    "data Tree a = Empty \n",
    "        | Branch (Tree a) a (Tree a)\n",
    "        deriving Show\n",
    "\n",
    "toList :: Tree a -> [a]\n",
    "toList Empty = []\n",
    "toList (Branch l v r) = toList l ++ [v] ++ toList r"
   ]
  },
  {
   "cell_type": "code",
   "execution_count": 17,
   "metadata": {},
   "outputs": [],
   "source": [
    "largeTree :: Int -> Tree Int\n",
    "largeTree 0 = Empty\n",
    "largeTree n = Branch (largeTree (n - 1)) n (largeTree (n - 1))\n",
    "\n",
    "largeUnbalancedTree :: Int -> Tree Int\n",
    "largeUnbalancedTree 0 = Empty\n",
    "largeUnbalancedTree n = Branch (largeUnbalancedTree (n - 1)) n Empty\n",
    "\n",
    "t3 = largeTree 3\n",
    "t20 = largeTree 20\n",
    "t10k = largeUnbalancedTree 10000\n",
    "t20k = largeUnbalancedTree 20000"
   ]
  },
  {
   "cell_type": "code",
   "execution_count": 26,
   "metadata": {},
   "outputs": [
    {
     "data": {
      "text/plain": [
       "10000"
      ]
     },
     "metadata": {},
     "output_type": "display_data"
    }
   ],
   "source": [
    "length $ toList t10k\n",
    "-- braucht 1 s"
   ]
  },
  {
   "cell_type": "code",
   "execution_count": 35,
   "metadata": {},
   "outputs": [
    {
     "data": {
      "text/html": [
       "<style>/* Styles used for the Hoogle display in the pager */\n",
       ".hoogle-doc {\n",
       "display: block;\n",
       "padding-bottom: 1.3em;\n",
       "padding-left: 0.4em;\n",
       "}\n",
       ".hoogle-code {\n",
       "display: block;\n",
       "font-family: monospace;\n",
       "white-space: pre;\n",
       "}\n",
       ".hoogle-text {\n",
       "display: block;\n",
       "}\n",
       ".hoogle-name {\n",
       "color: green;\n",
       "font-weight: bold;\n",
       "}\n",
       ".hoogle-head {\n",
       "font-weight: bold;\n",
       "}\n",
       ".hoogle-sub {\n",
       "display: block;\n",
       "margin-left: 0.4em;\n",
       "}\n",
       ".hoogle-package {\n",
       "font-weight: bold;\n",
       "font-style: italic;\n",
       "}\n",
       ".hoogle-module {\n",
       "font-weight: bold;\n",
       "}\n",
       ".hoogle-class {\n",
       "font-weight: bold;\n",
       "}\n",
       ".get-type {\n",
       "color: green;\n",
       "font-weight: bold;\n",
       "font-family: monospace;\n",
       "display: block;\n",
       "white-space: pre-wrap;\n",
       "}\n",
       ".show-type {\n",
       "color: green;\n",
       "font-weight: bold;\n",
       "font-family: monospace;\n",
       "margin-left: 1em;\n",
       "}\n",
       ".mono {\n",
       "font-family: monospace;\n",
       "display: block;\n",
       "}\n",
       ".err-msg {\n",
       "color: red;\n",
       "font-style: italic;\n",
       "font-family: monospace;\n",
       "white-space: pre;\n",
       "display: block;\n",
       "}\n",
       "#unshowable {\n",
       "color: red;\n",
       "font-weight: bold;\n",
       "}\n",
       ".err-msg.in.collapse {\n",
       "padding-top: 0.7em;\n",
       "}\n",
       ".highlight-code {\n",
       "white-space: pre;\n",
       "font-family: monospace;\n",
       "}\n",
       ".suggestion-warning { \n",
       "font-weight: bold;\n",
       "color: rgb(200, 130, 0);\n",
       "}\n",
       ".suggestion-error { \n",
       "font-weight: bold;\n",
       "color: red;\n",
       "}\n",
       ".suggestion-name {\n",
       "font-weight: bold;\n",
       "}\n",
       "</style><span class='err-msg'>Could not parse: (+s)</span>"
      ],
      "text/plain": [
       "Could not parse: (+s)"
      ]
     },
     "metadata": {},
     "output_type": "display_data"
    },
    {
     "data": {
      "text/plain": [
       "20000"
      ]
     },
     "metadata": {},
     "output_type": "display_data"
    }
   ],
   "source": [
    "length $ toList t20k\n",
    "-- braucht 4s"
   ]
  },
  {
   "cell_type": "code",
   "execution_count": 38,
   "metadata": {},
   "outputs": [],
   "source": [
    "naivReverse :: [a] -> [a]\n",
    "naivReverse [] = []\n",
    "naivReverse (x:xs) = naivReverse xs ++ [x]"
   ]
  },
  {
   "cell_type": "code",
   "execution_count": 39,
   "metadata": {},
   "outputs": [],
   "source": [
    "rev :: [a] -> [a]\n",
    "rev xs = rev' xs [] where\n",
    "    rev' :: [a] -> [a] -> [a]\n",
    "    rev' [] acc = acc\n",
    "    rev' (x:xs) acc = rev' xs (x:acc)"
   ]
  },
  {
   "attachments": {},
   "cell_type": "markdown",
   "metadata": {},
   "source": [
    "**das jetzt schöner**\n",
    "\n",
    "mithilfe von functional Lists: \n",
    "```haskell\n",
    "[] = id\n",
    "(++) = (.)"
   ]
  },
  {
   "cell_type": "code",
   "execution_count": 40,
   "metadata": {},
   "outputs": [],
   "source": [
    "rev :: [a] -> [a]\n",
    "rev xs = rev' xs [] where\n",
    "    rev' :: [a] -> ([a] -> [a])\n",
    "    rev' [] = id\n",
    "    rev' (x:xs) = rev' xs . (x:)"
   ]
  },
  {
   "attachments": {},
   "cell_type": "markdown",
   "metadata": {},
   "source": [
    "**jetzt definieren wir datentypen die das alles verstecken**"
   ]
  },
  {
   "cell_type": "code",
   "execution_count": 41,
   "metadata": {},
   "outputs": [],
   "source": [
    "newtype FList a  = FList ([a] -> [a])\n",
    "\n",
    "toFList :: [a] -> FList a\n",
    "toFList xs = FList (xs ++)\n",
    "\n",
    "fromFList :: FList a -> [a]\n",
    "fromFList (FList fs) = fs []\n",
    "\n",
    "instance Semigroup (FList a) where\n",
    "    -- <> :: FList a -> FList a -> FList a\n",
    "    (<>) (FList xs) (FList ys) = FList (xs . ys)\n",
    "\n",
    "instance Monoid (FList a) where\n",
    "    mempty = FList id\n"
   ]
  },
  {
   "cell_type": "code",
   "execution_count": 48,
   "metadata": {},
   "outputs": [],
   "source": [
    "frev :: [a] -> [a]\n",
    "frev xs = fromFList (rev' xs) where\n",
    "    rev' :: [a] -> FList a\n",
    "    rev' [] = mempty\n",
    "    rev' (x:xs) = rev' xs `mappend` toFList [x]"
   ]
  }
 ],
 "metadata": {
  "kernelspec": {
   "display_name": "Haskell",
   "language": "haskell",
   "name": "haskell"
  },
  "language_info": {
   "codemirror_mode": "ihaskell",
   "file_extension": ".hs",
   "mimetype": "text/x-haskell",
   "name": "haskell",
   "pygments_lexer": "Haskell",
   "version": "9.2.7"
  },
  "orig_nbformat": 4
 },
 "nbformat": 4,
 "nbformat_minor": 2
}
