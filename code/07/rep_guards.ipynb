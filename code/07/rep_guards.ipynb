{
 "cells": [
  {
   "cell_type": "markdown",
   "metadata": {},
   "source": [
    "Definieren Sie eine Funktion `collatz :: Integer -> Integer`, die berechnet wie viele Rekursionsschritte benötigt werden, um eine natürliche Zahl n >= 1 auf 1 zu reduzieren.\n",
    "Der Fall, dass n nicht größer gleich 1 ist, muss mit einer Fehlermeldung behandelt werden.\n",
    "\n",
    "- Wenn n gerade ist, so wird n halbiert.\n",
    "- Wenn n ungerade ist, so wird n verdreifacht und um 1 erhöht.\n"
   ]
  },
  {
   "cell_type": "code",
   "execution_count": 11,
   "metadata": {},
   "outputs": [
    {
     "data": {
      "text/plain": [
       "0"
      ]
     },
     "metadata": {},
     "output_type": "display_data"
    }
   ],
   "source": [
    "collatz :: Integer -> Integer\n",
    "collatz n \n",
    "    | n < 1 = error \"error\"\n",
    "    | n == 1 = 0\n",
    "    | even n = 1 + collatz (n `div` 2)\n",
    "    | odd n = 1 + collatz (n * 3 + 1)\n",
    "\n",
    "collatz 1"
   ]
  }
 ],
 "metadata": {
  "kernelspec": {
   "display_name": "Haskell",
   "language": "haskell",
   "name": "haskell"
  },
  "language_info": {
   "codemirror_mode": "ihaskell",
   "file_extension": ".hs",
   "mimetype": "text/x-haskell",
   "name": "haskell",
   "pygments_lexer": "Haskell",
   "version": "9.2.7"
  },
  "orig_nbformat": 4
 },
 "nbformat": 4,
 "nbformat_minor": 2
}
