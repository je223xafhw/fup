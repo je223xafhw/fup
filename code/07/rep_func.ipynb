{
 "cells": [
  {
   "cell_type": "code",
   "execution_count": null,
   "metadata": {},
   "outputs": [],
   "source": [
    "-- instance Monoid FList a where\n",
    "\n",
    "\n",
    "-- instance Semigroup (FList a) where\n",
    "class MyFunctor f where\n",
    "    fmap :: (a->b) -> f a -> f b\n",
    "\n",
    "class MyMonoid m where\n",
    "    mempty :: m\n",
    "    mappend :: m -> m -> m\n",
    "\n",
    "instance MyFunctor Maybe where\n",
    "    fmap :: (a->b) -> Maybe a -> Maybe b\n",
    "    fmap f (Just a) = Just (f a)\n",
    "    fmap f _ = Nothing\n",
    "\n",
    "instance MyFunctor [] where\n",
    "    fmap :: (a -> b) -> [a] -> [b]\n",
    "    fmap f (x:xs) = f x : fmap f xs\n",
    "    fmap f _ = []\n",
    "\n",
    "\n",
    "instance MyMonoid [a] where\n",
    "    mempty = []\n",
    "    mappend = (++)\n",
    "\n",
    "instance MyMonoid Int where\n",
    "    mempty = 0\n",
    "    mappend = (+)\n",
    "\n",
    "-- data Maybe a = Just a | Nothing\n",
    "-- :i Monoid"
   ]
  }
 ],
 "metadata": {
  "kernelspec": {
   "display_name": "Haskell",
   "language": "haskell",
   "name": "haskell"
  },
  "language_info": {
   "name": "haskell"
  },
  "orig_nbformat": 4
 },
 "nbformat": 4,
 "nbformat_minor": 2
}
