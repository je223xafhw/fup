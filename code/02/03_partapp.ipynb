{
 "cells": [
  {
   "attachments": {},
   "cell_type": "markdown",
   "metadata": {},
   "source": [
    "### Partielle Funktionsapplikation\n",
    "\n",
    "Implementiert folgende Funktionen ohne Angabe eines expliziten Parameters, dies wird pointfree / punktfrei genannt:\n",
    "\n",
    "    inc :: Int -> Int, erhöht eine Zahl um eins.\n",
    "    half :: Int -> Int, halbiert eine Zahl.\n",
    "    prefix :: String -> String, liefert die ersten 5 Zeichen des übergebenen Strings.\n",
    "    fromMaybeInt :: Maybe Int -> Int, liefert den enthaltenen Int Wert oder bei Nothing einen von euch gewählten Standardwert.\n",
    "    Nutzt dafür die Funktion fromMaybe. Kopiert dafür entweder eure Implementierung oder bindet die Funktion mittels import Data.Maybe (fromMaybe) ein.\n",
    "\n",
    "Eine Verwendung von Lambda Funktionen ist hierbei nicht notwendig und auch nicht erlaubt.\n",
    "\n",
    "\n",
    "Lambda Funktionen\n",
    "\n",
    "Die folgende Funktion multipliziert ihre drei Argumente:\n",
    "\n",
    "mult :: Int -> Int -> Int -> Int\n",
    "mult x y z = x * y * z\n",
    "\n",
    "Definiert mult pointfree mit Hilfe eines oder mehrerer Lambda-Ausdrücke.\n",
    "Es gibt verschiedene Möglichkeiten das zu tun, gebt mindestens 3 verschiedene Varianten an.\n"
   ]
  },
  {
   "cell_type": "code",
   "execution_count": 11,
   "metadata": {},
   "outputs": [
    {
     "data": {
      "text/plain": [
       "2"
      ]
     },
     "metadata": {},
     "output_type": "display_data"
    }
   ],
   "source": [
    "inc :: Int -> Int -- erhöht eine Zahl um eins\n",
    "inc = (+1)\n",
    "-- inc = (`add` 1)\n",
    "\n",
    "\n",
    "inc 3"
   ]
  },
  {
   "cell_type": "code",
   "execution_count": null,
   "metadata": {},
   "outputs": [],
   "source": [
    "half :: Int -> Int -- halbiert eine Zahl\n",
    "half = (`div` 2)\n",
    "\n",
    "half 1"
   ]
  },
  {
   "cell_type": "code",
   "execution_count": 20,
   "metadata": {},
   "outputs": [
    {
     "data": {
      "text/plain": [
       "\"12345\""
      ]
     },
     "metadata": {},
     "output_type": "display_data"
    }
   ],
   "source": [
    "prefix :: String -> String -- String, liefert die ersten 5 Zeichen des übergebenen Strings.\n",
    "prefix = take 5 -- variante 1\n",
    "-- prefix = (5 `take`) -- variante 2\n",
    "\n",
    "prefix \"1234567890\""
   ]
  },
  {
   "attachments": {},
   "cell_type": "markdown",
   "metadata": {},
   "source": [
    "The fromMaybe function takes a default value and a Maybe value. If the Maybe is Nothing, it returns the default value; otherwise, it returns the value contained in the Maybe."
   ]
  },
  {
   "cell_type": "code",
   "execution_count": 32,
   "metadata": {},
   "outputs": [
    {
     "data": {
      "text/plain": [
       "3"
      ]
     },
     "metadata": {},
     "output_type": "display_data"
    },
    {
     "data": {
      "text/plain": [
       "5"
      ]
     },
     "metadata": {},
     "output_type": "display_data"
    }
   ],
   "source": [
    "import Data.Maybe (fromMaybe)\n",
    "fromMaybeInt :: Maybe Int -> Int -- liefert den enthaltenen Int Wert oder bei Nothing einen von euch gewählten Standardwert.\n",
    "fromMaybeInt = fromMaybe 3\n",
    "\n",
    "fromMaybeInt Nothing\n",
    "fromMaybeInt (Just 5)"
   ]
  },
  {
   "cell_type": "code",
   "execution_count": 63,
   "metadata": {},
   "outputs": [
    {
     "data": {
      "text/html": [
       "<style>/* Styles used for the Hoogle display in the pager */\n",
       ".hoogle-doc {\n",
       "display: block;\n",
       "padding-bottom: 1.3em;\n",
       "padding-left: 0.4em;\n",
       "}\n",
       ".hoogle-code {\n",
       "display: block;\n",
       "font-family: monospace;\n",
       "white-space: pre;\n",
       "}\n",
       ".hoogle-text {\n",
       "display: block;\n",
       "}\n",
       ".hoogle-name {\n",
       "color: green;\n",
       "font-weight: bold;\n",
       "}\n",
       ".hoogle-head {\n",
       "font-weight: bold;\n",
       "}\n",
       ".hoogle-sub {\n",
       "display: block;\n",
       "margin-left: 0.4em;\n",
       "}\n",
       ".hoogle-package {\n",
       "font-weight: bold;\n",
       "font-style: italic;\n",
       "}\n",
       ".hoogle-module {\n",
       "font-weight: bold;\n",
       "}\n",
       ".hoogle-class {\n",
       "font-weight: bold;\n",
       "}\n",
       ".get-type {\n",
       "color: green;\n",
       "font-weight: bold;\n",
       "font-family: monospace;\n",
       "display: block;\n",
       "white-space: pre-wrap;\n",
       "}\n",
       ".show-type {\n",
       "color: green;\n",
       "font-weight: bold;\n",
       "font-family: monospace;\n",
       "margin-left: 1em;\n",
       "}\n",
       ".mono {\n",
       "font-family: monospace;\n",
       "display: block;\n",
       "}\n",
       ".err-msg {\n",
       "color: red;\n",
       "font-style: italic;\n",
       "font-family: monospace;\n",
       "white-space: pre;\n",
       "display: block;\n",
       "}\n",
       "#unshowable {\n",
       "color: red;\n",
       "font-weight: bold;\n",
       "}\n",
       ".err-msg.in.collapse {\n",
       "padding-top: 0.7em;\n",
       "}\n",
       ".highlight-code {\n",
       "white-space: pre;\n",
       "font-family: monospace;\n",
       "}\n",
       ".suggestion-warning { \n",
       "font-weight: bold;\n",
       "color: rgb(200, 130, 0);\n",
       "}\n",
       ".suggestion-error { \n",
       "font-weight: bold;\n",
       "color: red;\n",
       "}\n",
       ".suggestion-name {\n",
       "font-weight: bold;\n",
       "}\n",
       "</style><div class=\"suggestion-name\" style=\"clear:both;\">Redundant lambda</div><div class=\"suggestion-row\" style=\"float: left;\"><div class=\"suggestion-warning\">Found:</div><div class=\"highlight-code\" id=\"haskell\">mult = \\ x y z -> x * y * z</div></div><div class=\"suggestion-row\" style=\"float: left;\"><div class=\"suggestion-warning\">Why Not:</div><div class=\"highlight-code\" id=\"haskell\">mult x y z = x * y * z</div></div>"
      ],
      "text/plain": [
       "Line 10: Redundant lambda\n",
       "Found:\n",
       "mult = \\ x y z -> x * y * z\n",
       "Why not:\n",
       "mult x y z = x * y * z"
      ]
     },
     "metadata": {},
     "output_type": "display_data"
    },
    {
     "data": {
      "text/plain": [
       "6"
      ]
     },
     "metadata": {},
     "output_type": "display_data"
    }
   ],
   "source": [
    "mult :: Int -> Int -> Int -> Int\n",
    "-- mult x y z = x * y * z\n",
    "\n",
    "-- mult = \\x -> (\\y z -> x * y * z) -- option 1\n",
    "\n",
    "-- mult = \\x -> \\y -> \\z -> x * y * z -- option 2\n",
    "\n",
    "-- mult = \\x -> \\y z -> x * y * z -- option 3\n",
    "\n",
    "mult = \\ x y z -> x * y * z -- option 4 -> viel geiler\n",
    "\n",
    "mult 1 2 3"
   ]
  }
 ],
 "metadata": {
  "kernelspec": {
   "display_name": "Haskell",
   "language": "haskell",
   "name": "haskell"
  },
  "language_info": {
   "codemirror_mode": "ihaskell",
   "file_extension": ".hs",
   "mimetype": "text/x-haskell",
   "name": "haskell",
   "pygments_lexer": "Haskell",
   "version": "9.0.2"
  },
  "orig_nbformat": 4
 },
 "nbformat": 4,
 "nbformat_minor": 2
}
