{
 "cells": [
  {
   "cell_type": "code",
   "execution_count": 4,
   "metadata": {},
   "outputs": [],
   "source": [
    "class MyFunctor f where\n",
    "    fmap :: (a -> b) -> f a -> f b\n",
    "\n",
    "class MyApplicative f where\n",
    "    pure :: a -> f a\n",
    "    (<*>) :: f (a -> b) -> f a -> f b\n",
    "\n",
    "class MyMonad m where\n",
    "    return :: a -> m a\n",
    "    (>>=) :: m a -> (a -> m b) -> m b\n",
    "    (>>) :: m a -> m b -> m b\n"
   ]
  },
  {
   "cell_type": "code",
   "execution_count": 24,
   "metadata": {},
   "outputs": [],
   "source": [
    "\n",
    "instance MyFunctor [] where\n",
    "    fmap :: (a -> b) -> [a] -> [b]\n",
    "    -- fmap f xs = [f x | x <- xs]\n",
    "    -- fmap f xs = f <$> xs\n",
    "    -- fmap = map\n",
    "    fmap f xs = xs >>= \\x -> return $ f x\n",
    "\n",
    "\n",
    "instance MyApplicative [] where\n",
    "    pure :: a -> [a]\n",
    "    pure x = [x]\n",
    "\n",
    "    (<*>) :: [a -> b] -> [a] -> [b]\n",
    "    fs <*> xs = [f x | f <- fs, x <- xs]    \n",
    "\n",
    "instance MyMonad [] where\n",
    "    return :: a -> [a]\n",
    "    return = pure\n",
    "\n",
    "    (>>=) :: [a] -> (a -> [b]) -> [b]\n",
    "    -- xs >>= f = concat [f x | x <- xs]\n",
    "    xs >>= f = concatMap f xs\n",
    "\n",
    "    (>>) :: [a] -> [b] -> [b]\n",
    "    xs >> ys = concat [ys | _ <- xs]\n",
    "\n"
   ]
  },
  {
   "cell_type": "code",
   "execution_count": 25,
   "metadata": {},
   "outputs": [
    {
     "data": {
      "text/plain": [
       "\"123\""
      ]
     },
     "metadata": {},
     "output_type": "display_data"
    },
    {
     "data": {
      "text/plain": [
       "[2,3]"
      ]
     },
     "metadata": {},
     "output_type": "display_data"
    }
   ],
   "source": [
    "[1,2,3] >>= show\n",
    "\n",
    "fmap (+1) [1,2]"
   ]
  }
 ],
 "metadata": {
  "kernelspec": {
   "display_name": "Haskell",
   "language": "haskell",
   "name": "haskell"
  },
  "language_info": {
   "codemirror_mode": "ihaskell",
   "file_extension": ".hs",
   "mimetype": "text/x-haskell",
   "name": "haskell",
   "pygments_lexer": "Haskell",
   "version": "9.2.7"
  },
  "orig_nbformat": 4
 },
 "nbformat": 4,
 "nbformat_minor": 2
}
