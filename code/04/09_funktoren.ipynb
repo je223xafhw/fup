{
 "cells": [
  {
   "cell_type": "code",
   "execution_count": 2,
   "metadata": {},
   "outputs": [],
   "source": [
    "class MyFunctor f where\n",
    "  fmap' :: (a -> b) -> f a -> f b\n",
    "\n",
    "instance MyFunctor ((->) a) where\n",
    "  -- fmap' f g = \\x -> f (g x)\n",
    "  -- fmap' f g x = f (g x)\n",
    "  -- fmap' f g = f . g\n",
    "  fmap' = (.)"
   ]
  },
  {
   "attachments": {},
   "cell_type": "markdown",
   "metadata": {},
   "source": [
    "Die Funktion `(fmap . fmap)` ist eine elegante Möglichkeit, eine Funktion auf den innersten Wert in einem zweifach faltbaren Kontext anzuwenden. Sie erlaubt uns, den inneren Listenkontext zu ignorieren und sich nur auf den Wert in den innersten Listen zu konzentrieren."
   ]
  },
  {
   "attachments": {},
   "cell_type": "markdown",
   "metadata": {},
   "source": [
    "## Reine Tyen verschiedener Funktoren und Funktionen\n",
    "```haskell\n",
    "fmap' test (+1)         :: Int -> Int\n",
    "fmap'                   :: MyFunctor f              => (a -> b) -> f a -> f b\n",
    "fmap' test              :: MyFunctor f              => f String -> f String\n",
    "fmap' id                :: MyFunctor f              => f b -> f b\n",
    "fmap' (test . test2)    :: MyFunctor f              => f String -> f String\n",
    "fmap' test2 . fmap test :: (MyFunctor f, Functor f) => f String -> f String\n",
    "fmap . fmap             :: (Functor f1, Functor f2) => (a -> b) -> f1 (f2 a) -> f1 (f2 b)\n",
    "fmap fmap fmap          :: (Functor f1, Functor f2) => (a -> b) -> f1 (f2 a) -> f1 (f2 b)\n",
    "```"
   ]
  },
  {
   "attachments": {},
   "cell_type": "markdown",
   "metadata": {},
   "source": [
    "## Gleichheit `fmap' id == id`\n",
    "```haskell\n",
    "    fmap' id == id              (1)\n",
    "=>  fmap (\\x -> x) == (\\x -> x) (2)\n",
    "=>  fmap' id f x === id (f x)   (3)\n",
    "\n",
    "\n",
    "    fmap id f                   (4) \n",
    "=>  \\x -> id (f x)              (5)\n",
    "=>  \\x -> f x                   (6)\n",
    "=>  f                           (7)\n",
    "=== \\x -> id x                  (8)\n",
    "=>  id                          (9)\n",
    "```\n",
    "\n",
    "Da id nur den Wert des eingegeben Paramters zurückgibt, kann diese in Gleichung (5) eliminiert werden. Durch Komposition ergibt sich dann als Ergebnis nur die Funktion, welche als 2. parameter in fmap eingegeben wird. Dies ist gleichzusetzen mit `(id)`.\n"
   ]
  },
  {
   "attachments": {},
   "cell_type": "markdown",
   "metadata": {},
   "source": [
    "```haskell\n",
    "fmap' (f . g) == fmap' f . fmap' g\n",
    "```"
   ]
  },
  {
   "attachments": {},
   "cell_type": "markdown",
   "metadata": {},
   "source": [
    "## Gleichheit `fmap fmap fmap == fmap . fmap`\n",
    "\n",
    "```haskell \n",
    "    fmap1 fmap2 fmap3\n",
    "    fmap3 :: (a -> b) -> (f a -> f b)\n",
    "=>  fmap3 :: (p       -> q)\n",
    "=>  fmap3 :: (->) p q mit p == (a->b) und q == (f a->f b)\n",
    "```\n",
    "\n",
    "da `fmap (->) p` dasselbe ist wie `(.)` (siehe konstruktor oben), kann der Ausdruck `fmap fmap fmap` reduziert werden auf `(.) fmap fmap`\n",
    "\n",
    "---"
   ]
  },
  {
   "attachments": {},
   "cell_type": "markdown",
   "metadata": {},
   "source": [
    "## Konstruktion des Typs `fmap . fmap`\n",
    "```haskell\n",
    "(.)  ::                 (   a       ->      b) -> (r -> a) -> (r -> b)                        (0)\n",
    "fmap :: Functor f =>    (c -> d)    -> (f c -> f d)\n",
    "fmap :: Functor g =>    (x -> y)    -> (g x -> g y)\n",
    "```\n",
    "```haskell\n",
    "    fmap :: Functor f =>    (c -> d)    -> (f c -> f d)                         (0.1)\n",
    "==                              a       ->      b                               (0.2)\n",
    "```\n",
    "---\n",
    "```haskell\n",
    "    fmap :: Functor g =>    (x -> y)    -> (g x -> g y)                         (1.1)\n",
    "=>                              r       -> (c   -> d)                           (1.2)\n",
    "ersetzen von a und b, kombinieren von (0) und (0.1)\n",
    "ZWISCHENERGEBNIS\n",
    "===> ((c -> d) -> (f c -> f d)) -> (r -> (c -> d)) -> (r -> (f c -> f d)) <===  (2.1)\n",
    "          a    ->       b       -> (r ->    a    ) -> (r ->      b)             (2.2)\n",
    "WEITERRECHNEN\n",
    "da (r -> (c -> d)) !== (x -> y)    -> (g x -> g y) sein muss, wird \n",
    "=> r == (x-> y), c == (g x), d == (g y)                                         (3.1)\n",
    "\n",
    "ersetzen von c und d, kombinieren von (2.1) und (3.1)\n",
    "    (( c  ->  d ) -> (f   c   -> f   d  )) -> | ((   r    ->   c   -> d )) -> |    r     -> f  c    -> f   d\n",
    "==  ((g x -> g y) -> (f (g x) -> f (g y))) -> | ((x -> y) -> (g x -> g y)) -> | (x -> y) -> f (g x) -> f (g y)\n",
    "==                  fmap                      |             fmap               |            ERGEBNIS\n",
    "damit ist das ergebnis von fmap . fmap\n",
    "(x -> y) -> f (g x) -> f (g y)\n",
    "\n",
    "```"
   ]
  },
  {
   "attachments": {},
   "cell_type": "markdown",
   "metadata": {},
   "source": [
    "## Verwendung von `fmap . fmap`"
   ]
  },
  {
   "cell_type": "code",
   "execution_count": 1,
   "metadata": {},
   "outputs": [
    {
     "data": {
      "text/plain": [
       "[\"xxxxx\",\"xxxxx\",\"xxx\",\"xx\"]"
      ]
     },
     "metadata": {},
     "output_type": "display_data"
    }
   ],
   "source": [
    "test :: String -> String\n",
    "test a = a ++ \" from a\"\n",
    "\n",
    "testList :: [String]\n",
    "testList = [\"Hello\", \"World\", \"Its\", \"me\"]\n",
    "\n",
    "test2 :: Char -> Char\n",
    "test2 a = 'x'\n",
    "\n",
    "\n",
    "result :: [String]\n",
    "result = fmap fmap fmap test2 testList\n",
    "\n",
    "result"
   ]
  },
  {
   "attachments": {},
   "cell_type": "markdown",
   "metadata": {},
   "source": [
    "**Test fmap, funktioniert leider nicht**\n",
    "```haskell\n",
    "testList3 :: [[[[String]]]]\n",
    "testList3 = [[[[\"Hello\", \"World\"], [\"Open\", \"AI\"]], [[\"Test\"], [\"123\"]]], [[[\"Hello\", \"World\"], [\"Open\", \"AI\"]], [[\"Test\"], [\"123\"]]]]\n",
    "\n",
    "test4 :: Char -> Char\n",
    "test4 x = 'x'\n",
    "\n",
    "\n",
    "result :: [[[[String]]]]\n",
    "result = fmap fmap fmap fmap fmap fmap test4 testList3\n",
    "\n",
    "```"
   ]
  },
  {
   "cell_type": "code",
   "execution_count": 5,
   "metadata": {},
   "outputs": [
    {
     "data": {
      "text/plain": [
       "[Just 2,Just 3,Just 4]"
      ]
     },
     "metadata": {},
     "output_type": "display_data"
    }
   ],
   "source": [
    "maybeTest :: [Maybe Int]\n",
    "maybeTest = [Just 1, Just 2, Just 3]\n",
    "\n",
    "(fmap . fmap) (+1) maybeTest\n"
   ]
  },
  {
   "cell_type": "code",
   "execution_count": 6,
   "metadata": {},
   "outputs": [
    {
     "data": {
      "text/html": [
       "<style>/* Styles used for the Hoogle display in the pager */\n",
       ".hoogle-doc {\n",
       "display: block;\n",
       "padding-bottom: 1.3em;\n",
       "padding-left: 0.4em;\n",
       "}\n",
       ".hoogle-code {\n",
       "display: block;\n",
       "font-family: monospace;\n",
       "white-space: pre;\n",
       "}\n",
       ".hoogle-text {\n",
       "display: block;\n",
       "}\n",
       ".hoogle-name {\n",
       "color: green;\n",
       "font-weight: bold;\n",
       "}\n",
       ".hoogle-head {\n",
       "font-weight: bold;\n",
       "}\n",
       ".hoogle-sub {\n",
       "display: block;\n",
       "margin-left: 0.4em;\n",
       "}\n",
       ".hoogle-package {\n",
       "font-weight: bold;\n",
       "font-style: italic;\n",
       "}\n",
       ".hoogle-module {\n",
       "font-weight: bold;\n",
       "}\n",
       ".hoogle-class {\n",
       "font-weight: bold;\n",
       "}\n",
       ".get-type {\n",
       "color: green;\n",
       "font-weight: bold;\n",
       "font-family: monospace;\n",
       "display: block;\n",
       "white-space: pre-wrap;\n",
       "}\n",
       ".show-type {\n",
       "color: green;\n",
       "font-weight: bold;\n",
       "font-family: monospace;\n",
       "margin-left: 1em;\n",
       "}\n",
       ".mono {\n",
       "font-family: monospace;\n",
       "display: block;\n",
       "}\n",
       ".err-msg {\n",
       "color: red;\n",
       "font-style: italic;\n",
       "font-family: monospace;\n",
       "white-space: pre;\n",
       "display: block;\n",
       "}\n",
       "#unshowable {\n",
       "color: red;\n",
       "font-weight: bold;\n",
       "}\n",
       ".err-msg.in.collapse {\n",
       "padding-top: 0.7em;\n",
       "}\n",
       ".highlight-code {\n",
       "white-space: pre;\n",
       "font-family: monospace;\n",
       "}\n",
       ".suggestion-warning { \n",
       "font-weight: bold;\n",
       "color: rgb(200, 130, 0);\n",
       "}\n",
       ".suggestion-error { \n",
       "font-weight: bold;\n",
       "color: red;\n",
       "}\n",
       ".suggestion-name {\n",
       "font-weight: bold;\n",
       "}\n",
       "</style><div class=\"suggestion-name\" style=\"clear:both;\">Use newtype instead of data</div><div class=\"suggestion-row\" style=\"float: left;\"><div class=\"suggestion-warning\">Found:</div><div class=\"highlight-code\" id=\"haskell\">data Identity a = Identity a</div></div><div class=\"suggestion-row\" style=\"float: left;\"><div class=\"suggestion-warning\">Why Not:</div><div class=\"highlight-code\" id=\"haskell\">newtype Identity a = Identity a</div></div><div class=\"suggestion-name\" style=\"clear:both;\">Use newtype instead of data</div><div class=\"suggestion-row\" style=\"float: left;\"><div class=\"suggestion-warning\">Found:</div><div class=\"highlight-code\" id=\"haskell\">data Const a b = Const a</div></div><div class=\"suggestion-row\" style=\"float: left;\"><div class=\"suggestion-warning\">Why Not:</div><div class=\"highlight-code\" id=\"haskell\">newtype Const a b = Const a</div></div>"
      ],
      "text/plain": [
       "Line 3: Use newtype instead of data\n",
       "Found:\n",
       "data Identity a = Identity a\n",
       "Why not:\n",
       "newtype Identity a = Identity aLine 4: Use newtype instead of data\n",
       "Found:\n",
       "data Const a b = Const a\n",
       "Why not:\n",
       "newtype Const a b = Const a"
      ]
     },
     "metadata": {},
     "output_type": "display_data"
    }
   ],
   "source": [
    "data Zero a\n",
    "data One a = One\n",
    "data Identity a = Identity a\n",
    "data Const a b = Const a\n",
    "data Square a = Square a a\n",
    "data Product a b = Product a b"
   ]
  },
  {
   "cell_type": "code",
   "execution_count": 8,
   "metadata": {},
   "outputs": [],
   "source": [
    "instance MyFunctor Zero where\n",
    "    fmap' _ _ = undefined\n",
    "\n",
    "instance MyFunctor One where\n",
    "    fmap' f One = One\n",
    "\n",
    "instance MyFunctor Identity where\n",
    "    fmap' f (Identity a) = Identity (f a)\n",
    "\n",
    "instance MyFunctor (Const a) where\n",
    "    fmap' f (Const a) = Const a\n",
    "\n",
    "instance MyFunctor Square where\n",
    "    fmap' f (Square a b) = Square (f a) (f b)\n",
    "\n",
    "instance MyFunctor (Product a) where\n",
    "    fmap' f (Product a b) = Product a (f b)"
   ]
  }
 ],
 "metadata": {
  "kernelspec": {
   "display_name": "Haskell",
   "language": "haskell",
   "name": "haskell"
  },
  "language_info": {
   "codemirror_mode": "ihaskell",
   "file_extension": ".hs",
   "mimetype": "text/x-haskell",
   "name": "haskell",
   "pygments_lexer": "Haskell",
   "version": "9.2.7"
  },
  "orig_nbformat": 4
 },
 "nbformat": 4,
 "nbformat_minor": 2
}
