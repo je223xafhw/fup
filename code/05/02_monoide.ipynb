{
 "cells": [
  {
   "cell_type": "code",
   "execution_count": null,
   "metadata": {},
   "outputs": [],
   "source": [
    "class Semigroup a where\n",
    "  (<>) :: a -> a -> a\n",
    "\n",
    "class Semigroup a => Monoid a where\n",
    "  mempty  :: a\n",
    "\n",
    "  mappend :: a -> a -> a\n",
    "  mappend = (<>)"
   ]
  },
  {
   "attachments": {},
   "cell_type": "markdown",
   "metadata": {},
   "source": [
    "1. sorgt dafür, dass die Funktion `mappend` in beiden Klassen die gleiche ist\n",
    "2. setzt einen Standart für Monoide und Semigruppen, welcher für alle Entwickler identisch ist"
   ]
  },
  {
   "attachments": {},
   "cell_type": "markdown",
   "metadata": {},
   "source": [
    "## Beispielinstanzen\n",
    "```haskell\n",
    "[Int, (+), 0]\n",
    "[List, (++), []]\n",
    "---\n",
    "[Maybe, (+1), []]"
   ]
  }
 ],
 "metadata": {
  "kernelspec": {
   "display_name": "Haskell",
   "language": "haskell",
   "name": "haskell"
  },
  "language_info": {
   "codemirror_mode": "ihaskell",
   "file_extension": ".hs",
   "mimetype": "text/x-haskell",
   "name": "haskell",
   "pygments_lexer": "Haskell",
   "version": "9.2.7"
  },
  "orig_nbformat": 4
 },
 "nbformat": 4,
 "nbformat_minor": 2
}
