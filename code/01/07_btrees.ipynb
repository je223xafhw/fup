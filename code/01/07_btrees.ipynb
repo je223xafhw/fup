{
 "cells": [
  {
   "attachments": {},
   "cell_type": "markdown",
   "metadata": {},
   "source": [
    "# Aufgabe 7 Binary Tree\n",
    "\n",
    "Tree Int \n",
    "- also muss der DatenTyp Tree ein parameter haben\n",
    "- an dem muss er entscheiden, welchen Typ der parameter in der Mitte hat"
   ]
  },
  {
   "cell_type": "code",
   "execution_count": 155,
   "metadata": {},
   "outputs": [],
   "source": [
    "data Tree a = Leaf a | (Tree a) :-: (Tree a) deriving (Show, Eq)\n"
   ]
  },
  {
   "cell_type": "code",
   "execution_count": 179,
   "metadata": {},
   "outputs": [
    {
     "data": {
      "text/plain": [
       "(Leaf 5 :-: (Leaf 4 :-: Leaf 3)) :-: (Leaf 5 :-: (Leaf 4 :-: Leaf 3))"
      ]
     },
     "metadata": {},
     "output_type": "display_data"
    }
   ],
   "source": [
    "let tree1 = (Leaf 5 :-: (Leaf 4 :-: Leaf 3)) :-: (Leaf 5 :-: (Leaf 4 :-: Leaf 3))\n",
    "let tree2 = Leaf 3 :-: ((Leaf 4 :-: Leaf 3) :-: ((Leaf 4 :-: Leaf 3) :-: (Leaf 4 :-: ((Leaf 4 :-: Leaf 3) :-: Leaf 3))))\n",
    "print tree1"
   ]
  },
  {
   "attachments": {},
   "cell_type": "markdown",
   "metadata": {},
   "source": [
    "Möglichkeiten: \n",
    "1. Abbruch: nur ein Leaf\n",
    "2. Node (3 x 3) => 3 + 3 + wasvorherwar\n",
    "3. Node (3 x Tree) => addier 3 und geht nach rechts\n",
    "4. Node (Tree x 3) => adder 3 und geht nach links\n",
    "5. Node (Tree x Tree) => addier den Tree von links mit dem Tree von rechts"
   ]
  },
  {
   "cell_type": "code",
   "execution_count": 180,
   "metadata": {},
   "outputs": [],
   "source": [
    "sumTree1 :: Tree Int -> Int\n",
    "sumTree1 (Leaf n) = n\n",
    "sumTree1 (l :-: r) = sumTree1 l + sumTree1 r\n",
    "\n",
    "sumTree2 :: Tree Int -> Int\n",
    "sumTree2 (Leaf n) = n\n",
    "sumTree2 n = sumTree2' n 0 where\n",
    "    sumTree2' :: Tree Int -> Int -> Int\n",
    "    sumTree2' (Leaf l) n = n + l\n",
    "    -- sumTree2' ((Leaf l) :-: (Leaf b)) n = n + b + l\n",
    "    -- sumTree2' ((Leaf l) :-: b) n = sumTree2' b (n+l)\n",
    "    -- sumTree2' (l :-: (Leaf b)) n = sumTree2' l (n+b)\n",
    "    sumTree2' (l :-: b) n = sumTree2' l n + sumTree2' b n\n",
    "    -- sumTree2' (l :-: b) n = sumTree2 l + sumTree2 b"
   ]
  },
  {
   "cell_type": "code",
   "execution_count": 181,
   "metadata": {},
   "outputs": [],
   "source": [
    "buildTree :: Int -> Int -> Tree Int\n",
    "buildTree lo hi\n",
    "  | lo > hi = error \"Invalid range\"\n",
    "  | lo == hi = Leaf lo\n",
    "  | otherwise = let mid = (lo + hi) `div` 2\n",
    "                in buildTree lo mid :-: buildTree (mid + 1) hi"
   ]
  },
  {
   "attachments": {},
   "cell_type": "markdown",
   "metadata": {},
   "source": [
    "# Tests\n",
    "Test mit 5mio Nodes ergibt eine Laufzeit von ca 14 sekunden von beiden Funktionen\n",
    "`print (sumTree1 (buildTree 1 5000000))`"
   ]
  },
  {
   "attachments": {},
   "cell_type": "markdown",
   "metadata": {},
   "source": [
    "## MirrorTree\n",
    "- Ruft sich selbst immer wieder auf, bis er am ende angekommen ist\n",
    "- tauscht dabei bei jeder Kreuzung das was er sieht"
   ]
  },
  {
   "cell_type": "code",
   "execution_count": 184,
   "metadata": {},
   "outputs": [
    {
     "data": {
      "text/plain": [
       "((Leaf 3 :-: Leaf 4) :-: Leaf 5) :-: ((Leaf 3 :-: Leaf 4) :-: Leaf 5)"
      ]
     },
     "metadata": {},
     "output_type": "display_data"
    }
   ],
   "source": [
    "mirrorTree :: Tree Int -> Tree Int\n",
    "mirrorTree (Leaf n) = Leaf n\n",
    "mirrorTree (l :-: r) = mirrorTree r :-:  mirrorTree l\n",
    "\n",
    "mirrorTree tree1"
   ]
  },
  {
   "attachments": {},
   "cell_type": "markdown",
   "metadata": {},
   "source": [
    "## To List\n",
    "- 2 versionen, weil warum nicht\n",
    "- die erste Version benutzt eine helper funktion, und speichert die liste zwischen\n",
    "- die zweite Version macht es genauso wie die SearchTree funktion, nur ohne die Node in der Mitte"
   ]
  },
  {
   "cell_type": "code",
   "execution_count": 214,
   "metadata": {},
   "outputs": [
    {
     "data": {
      "text/plain": [
       "[5,4,3,5,4,3]"
      ]
     },
     "metadata": {},
     "output_type": "display_data"
    }
   ],
   "source": [
    "toList :: Tree Int -> [Int]\n",
    "toList t = toList' t [] where\n",
    "    toList' :: Tree Int -> [Int] -> [Int]\n",
    "    toList' (Leaf t) n = n ++ [t]\n",
    "    toList' (l :-: r) n = toList' l n ++ toList' r n\n",
    "\n",
    "toList2 :: Tree Int -> [Int]\n",
    "toList2 (Leaf a) = [a]\n",
    "toList2 (l :-: r) = toList2 l ++ toList2 r\n",
    "\n",
    "\n",
    "print(toList2 tree1)"
   ]
  }
 ],
 "metadata": {
  "kernelspec": {
   "display_name": "Haskell",
   "language": "haskell",
   "name": "haskell"
  },
  "language_info": {
   "codemirror_mode": "ihaskell",
   "file_extension": ".hs",
   "mimetype": "text/x-haskell",
   "name": "haskell",
   "pygments_lexer": "Haskell",
   "version": "9.2.7"
  },
  "orig_nbformat": 4
 },
 "nbformat": 4,
 "nbformat_minor": 2
}
