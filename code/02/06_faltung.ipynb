{
 "cells": [
  {
   "cell_type": "code",
   "execution_count": 2,
   "metadata": {},
   "outputs": [],
   "source": [
    "data JSON = JNull\n",
    "          | JBool Bool\n",
    "          | JInt Int\n",
    "          | JFloat Float\n",
    "          | JString String\n",
    "          | JArray [JSON]\n",
    "          | JObject [(String, JSON)]\n",
    "  deriving Show\n",
    "\n",
    "  -- | Pretty print a JSON value\n",
    "prettyJSON :: JSON -> String\n",
    "prettyJSON JNull       = \"null\"\n",
    "prettyJSON (JBool   b) = if b then \"true\" else \"false\"\n",
    "prettyJSON (JInt    i) = show i\n",
    "prettyJSON (JFloat  f) = show f\n",
    "prettyJSON (JString s) = '\\\"' : s ++ \"\\\"\"\n",
    "prettyJSON (JArray  a) = '[' : commaSep (map prettyJSON a) ++ \"]\"\n",
    "prettyJSON (JObject o) = '{' : commaSep (map prettyKV o) ++ \"}\"\n",
    "  where\n",
    "    prettyKV (k, v) = '\\\"' : k ++ \"\\\": \" ++ prettyJSON v\n",
    "\n",
    "-- | Transform a list of strings into a comma separated string\n",
    "commaSep :: [String] -> String\n",
    "commaSep [] = \"\"\n",
    "commaSep s  = foldr1 (\\s1 s2 -> s1 ++ \", \" ++ s2) s"
   ]
  },
  {
   "cell_type": "code",
   "execution_count": 3,
   "metadata": {},
   "outputs": [
    {
     "data": {
      "text/plain": [
       "\"[{\\\"name\\\": \\\"meier\\\", \\\"besuchte_kurse\\\": [\\\"Funktionale Programmierung\\\", \\\"Verteilte Systeme\\\", \\\"Kl\\246ppeln am Nachmittag\\\"], \\\"note\\\": null, \\\"zugelassen\\\": true}, {\\\"name\\\": \\\"schmidt\\\", \\\"besuchte_kurse\\\": [\\\"Verteilte Systeme\\\", \\\"Kl\\246ppeln am Nachmittag\\\"], \\\"note\\\": 2.7, \\\"zugelassen\\\": false}]\""
      ]
     },
     "metadata": {},
     "output_type": "display_data"
    }
   ],
   "source": [
    "json1 = JArray [\n",
    "    JObject [\n",
    "    (\"name\", JString \"meier\"),\n",
    "    (\"besuchte_kurse\", JArray [JString \"Funktionale Programmierung\", JString \"Verteilte Systeme\", JString \"Klöppeln am Nachmittag\"]),\n",
    "    (\"note\", JNull),\n",
    "    (\"zugelassen\", JBool True)\n",
    "    ],\n",
    "    JObject [\n",
    "    (\"name\", JString \"schmidt\"),\n",
    "    (\"besuchte_kurse\", JArray [JString \"Verteilte Systeme\", JString \"Klöppeln am Nachmittag\"]),\n",
    "    (\"note\", JFloat 2.7),\n",
    "    (\"zugelassen\", JBool False)\n",
    "    ]\n",
    "    ]\n",
    "\n",
    "prettyJSON json1"
   ]
  },
  {
   "attachments": {},
   "cell_type": "markdown",
   "metadata": {},
   "source": [
    "### warum unsere Methode nicht funktioniert\n",
    "```\n",
    "test:: (a -> a) -> a -> Int -> JSON -> a\n",
    "test fun acc i (JInt js) = fun js\n",
    "\n",
    "test show \"\" 4\n",
    "```\n",
    "das problem ist, dass die JInt immer nen Int als wert hat. das bedeutet, das `a`, welches ich in die funktion reingeben will, wird nicht akzeptiert"
   ]
  },
  {
   "cell_type": "code",
   "execution_count": 13,
   "metadata": {},
   "outputs": [
    {
     "data": {
      "text/html": [
       "<style>/* Styles used for the Hoogle display in the pager */\n",
       ".hoogle-doc {\n",
       "display: block;\n",
       "padding-bottom: 1.3em;\n",
       "padding-left: 0.4em;\n",
       "}\n",
       ".hoogle-code {\n",
       "display: block;\n",
       "font-family: monospace;\n",
       "white-space: pre;\n",
       "}\n",
       ".hoogle-text {\n",
       "display: block;\n",
       "}\n",
       ".hoogle-name {\n",
       "color: green;\n",
       "font-weight: bold;\n",
       "}\n",
       ".hoogle-head {\n",
       "font-weight: bold;\n",
       "}\n",
       ".hoogle-sub {\n",
       "display: block;\n",
       "margin-left: 0.4em;\n",
       "}\n",
       ".hoogle-package {\n",
       "font-weight: bold;\n",
       "font-style: italic;\n",
       "}\n",
       ".hoogle-module {\n",
       "font-weight: bold;\n",
       "}\n",
       ".hoogle-class {\n",
       "font-weight: bold;\n",
       "}\n",
       ".get-type {\n",
       "color: green;\n",
       "font-weight: bold;\n",
       "font-family: monospace;\n",
       "display: block;\n",
       "white-space: pre-wrap;\n",
       "}\n",
       ".show-type {\n",
       "color: green;\n",
       "font-weight: bold;\n",
       "font-family: monospace;\n",
       "margin-left: 1em;\n",
       "}\n",
       ".mono {\n",
       "font-family: monospace;\n",
       "display: block;\n",
       "}\n",
       ".err-msg {\n",
       "color: red;\n",
       "font-style: italic;\n",
       "font-family: monospace;\n",
       "white-space: pre;\n",
       "display: block;\n",
       "}\n",
       "#unshowable {\n",
       "color: red;\n",
       "font-weight: bold;\n",
       "}\n",
       ".err-msg.in.collapse {\n",
       "padding-top: 0.7em;\n",
       "}\n",
       ".highlight-code {\n",
       "white-space: pre;\n",
       "font-family: monospace;\n",
       "}\n",
       ".suggestion-warning { \n",
       "font-weight: bold;\n",
       "color: rgb(200, 130, 0);\n",
       "}\n",
       ".suggestion-error { \n",
       "font-weight: bold;\n",
       "color: red;\n",
       "}\n",
       ".suggestion-name {\n",
       "font-weight: bold;\n",
       "}\n",
       "</style><div class=\"suggestion-name\" style=\"clear:both;\">Use second</div><div class=\"suggestion-row\" style=\"float: left;\"><div class=\"suggestion-warning\">Found:</div><div class=\"highlight-code\" id=\"haskell\">\\ (k, v) -> (k, foldJSON fn fb fi fl fs fa fo v)</div></div><div class=\"suggestion-row\" style=\"float: left;\"><div class=\"suggestion-warning\">Why Not:</div><div class=\"highlight-code\" id=\"haskell\">Data.Bifunctor.second (foldJSON fn fb fi fl fs fa fo)</div></div>"
      ],
      "text/plain": [
       "Line 9: Use second\n",
       "Found:\n",
       "\\ (k, v) -> (k, foldJSON fn fb fi fl fs fa fo v)\n",
       "Why not:\n",
       "Data.Bifunctor.second (foldJSON fn fb fi fl fs fa fo)"
      ]
     },
     "metadata": {},
     "output_type": "display_data"
    },
    {
     "data": {
      "text/plain": [
       "\"[\\\"[(\\\\\\\"name\\\\\\\",\\\\\\\"\\\\\\\\\\\\\\\"meier\\\\\\\\\\\\\\\"\\\\\\\"),(\\\\\\\"besuchte_kurse\\\\\\\",\\\\\\\"[\\\\\\\\\\\\\\\"\\\\\\\\\\\\\\\\\\\\\\\\\\\\\\\"Funktionale Programmierung\\\\\\\\\\\\\\\\\\\\\\\\\\\\\\\"\\\\\\\\\\\\\\\",\\\\\\\\\\\\\\\"\\\\\\\\\\\\\\\\\\\\\\\\\\\\\\\"Verteilte Systeme\\\\\\\\\\\\\\\\\\\\\\\\\\\\\\\"\\\\\\\\\\\\\\\",\\\\\\\\\\\\\\\"\\\\\\\\\\\\\\\\\\\\\\\\\\\\\\\"Kl\\\\\\\\\\\\\\\\\\\\\\\\\\\\\\\\246ppeln am Nachmittag\\\\\\\\\\\\\\\\\\\\\\\\\\\\\\\"\\\\\\\\\\\\\\\"]\\\\\\\"),(\\\\\\\"note\\\\\\\",\\\\\\\"\\\\\\\"),(\\\\\\\"zugelassen\\\\\\\",\\\\\\\"True\\\\\\\")]\\\",\\\"[(\\\\\\\"name\\\\\\\",\\\\\\\"\\\\\\\\\\\\\\\"schmidt\\\\\\\\\\\\\\\"\\\\\\\"),(\\\\\\\"besuchte_kurse\\\\\\\",\\\\\\\"[\\\\\\\\\\\\\\\"\\\\\\\\\\\\\\\\\\\\\\\\\\\\\\\"Verteilte Systeme\\\\\\\\\\\\\\\\\\\\\\\\\\\\\\\"\\\\\\\\\\\\\\\",\\\\\\\\\\\\\\\"\\\\\\\\\\\\\\\\\\\\\\\\\\\\\\\"Kl\\\\\\\\\\\\\\\\\\\\\\\\\\\\\\\\246ppeln am Nachmittag\\\\\\\\\\\\\\\\\\\\\\\\\\\\\\\"\\\\\\\\\\\\\\\"]\\\\\\\"),(\\\\\\\"note\\\\\\\",\\\\\\\"2.7\\\\\\\"),(\\\\\\\"zugelassen\\\\\\\",\\\\\\\"False\\\\\\\")]\\\"]\""
      ]
     },
     "metadata": {},
     "output_type": "display_data"
    }
   ],
   "source": [
    "foldJSON ::  b -> (Bool -> b) -> (Int -> b) -> (Float -> b) -> (String -> b) -> ([b] -> b) -> ([(String, b)] -> b) -> JSON -> b\n",
    "foldJSON fn _  _  _  _  _  _     JNull          = fn\n",
    "foldJSON _  fb _  _  _  _  _    (JBool b)       = fb b\n",
    "foldJSON _  _  fi _  _  _  _    (JInt  i)       = fi i\n",
    "foldJSON _  _  _  fl _  _  _    (JFloat f)      = fl f\n",
    "foldJSON _  _  _  _  fs _  _    (JString s)     = fs s\n",
    "foldJSON fn fb fi fl fs fa fo   (JArray xs)     = fa (map (foldJSON fn fb fi fl fs fa fo) xs)\n",
    "foldJSON fn fb fi fl fs fa fo   (JObject xs)    = fo (map (\\(k,v) -> (k, foldJSON fn fb fi fl fs fa fo v)) xs)\n",
    "\n",
    "foldJSON \"\" show show show show show show json1"
   ]
  }
 ],
 "metadata": {
  "kernelspec": {
   "display_name": "Haskell",
   "language": "haskell",
   "name": "haskell"
  },
  "language_info": {
   "codemirror_mode": "ihaskell",
   "file_extension": ".hs",
   "mimetype": "text/x-haskell",
   "name": "haskell",
   "pygments_lexer": "Haskell",
   "version": "9.2.7"
  },
  "orig_nbformat": 4
 },
 "nbformat": 4,
 "nbformat_minor": 2
}
