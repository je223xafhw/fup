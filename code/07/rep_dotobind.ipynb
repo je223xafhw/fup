{
 "cells": [
  {
   "cell_type": "code",
   "execution_count": 19,
   "metadata": {},
   "outputs": [],
   "source": [
    "{-# LANGUAGE UndecidableInstances, AllowAmbiguousTypes #-}\n",
    "\n",
    "data Exp = Num Int | Exp :+: Exp | Exp :/: Exp\n",
    "\n",
    "instance Show a => Show Exp where\n",
    "    show :: Exp -> String\n",
    "    show (Num x) = show x\n",
    "    show (x :/: y) = show x ++ \"/\" ++ show y\n",
    "    show (x :+: y) = show x ++ \" + \" ++ show y\n"
   ]
  },
  {
   "cell_type": "code",
   "execution_count": 21,
   "metadata": {},
   "outputs": [
    {
     "data": {
      "text/plain": [
       "3/4"
      ]
     },
     "metadata": {},
     "output_type": "display_data"
    }
   ],
   "source": [
    "Num 3 :/: Num 4"
   ]
  },
  {
   "cell_type": "code",
   "execution_count": 14,
   "metadata": {},
   "outputs": [
    {
     "data": {
      "text/html": [
       "<style>/* Styles used for the Hoogle display in the pager */\n",
       ".hoogle-doc {\n",
       "display: block;\n",
       "padding-bottom: 1.3em;\n",
       "padding-left: 0.4em;\n",
       "}\n",
       ".hoogle-code {\n",
       "display: block;\n",
       "font-family: monospace;\n",
       "white-space: pre;\n",
       "}\n",
       ".hoogle-text {\n",
       "display: block;\n",
       "}\n",
       ".hoogle-name {\n",
       "color: green;\n",
       "font-weight: bold;\n",
       "}\n",
       ".hoogle-head {\n",
       "font-weight: bold;\n",
       "}\n",
       ".hoogle-sub {\n",
       "display: block;\n",
       "margin-left: 0.4em;\n",
       "}\n",
       ".hoogle-package {\n",
       "font-weight: bold;\n",
       "font-style: italic;\n",
       "}\n",
       ".hoogle-module {\n",
       "font-weight: bold;\n",
       "}\n",
       ".hoogle-class {\n",
       "font-weight: bold;\n",
       "}\n",
       ".get-type {\n",
       "color: green;\n",
       "font-weight: bold;\n",
       "font-family: monospace;\n",
       "display: block;\n",
       "white-space: pre-wrap;\n",
       "}\n",
       ".show-type {\n",
       "color: green;\n",
       "font-weight: bold;\n",
       "font-family: monospace;\n",
       "margin-left: 1em;\n",
       "}\n",
       ".mono {\n",
       "font-family: monospace;\n",
       "display: block;\n",
       "}\n",
       ".err-msg {\n",
       "color: red;\n",
       "font-style: italic;\n",
       "font-family: monospace;\n",
       "white-space: pre;\n",
       "display: block;\n",
       "}\n",
       "#unshowable {\n",
       "color: red;\n",
       "font-weight: bold;\n",
       "}\n",
       ".err-msg.in.collapse {\n",
       "padding-top: 0.7em;\n",
       "}\n",
       ".highlight-code {\n",
       "white-space: pre;\n",
       "font-family: monospace;\n",
       "}\n",
       ".suggestion-warning { \n",
       "font-weight: bold;\n",
       "color: rgb(200, 130, 0);\n",
       "}\n",
       ".suggestion-error { \n",
       "font-weight: bold;\n",
       "color: red;\n",
       "}\n",
       ".suggestion-name {\n",
       "font-weight: bold;\n",
       "}\n",
       "</style><div class=\"suggestion-name\" style=\"clear:both;\">Redundant return</div><div class=\"suggestion-row\" style=\"float: left;\"><div class=\"suggestion-warning\">Found:</div><div class=\"highlight-code\" id=\"haskell\">do input <- getLine\n",
       "   result <- if null input then\n",
       "                 do putStrLn \"Please enter a non-empty string.\"\n",
       "                    getNonEmptyLine\n",
       "             else\n",
       "                 return input\n",
       "   return result</div></div><div class=\"suggestion-row\" style=\"float: left;\"><div class=\"suggestion-warning\">Why Not:</div><div class=\"highlight-code\" id=\"haskell\">do input <- getLine\n",
       "   if null input then\n",
       "       do putStrLn \"Please enter a non-empty string.\"\n",
       "          getNonEmptyLine\n",
       "   else\n",
       "       return input</div></div>"
      ],
      "text/plain": [
       "Line 2: Redundant return\n",
       "Found:\n",
       "do input <- getLine\n",
       "   result <- if null input then\n",
       "                 do putStrLn \"Please enter a non-empty string.\"\n",
       "                    getNonEmptyLine\n",
       "             else\n",
       "                 return input\n",
       "   return result\n",
       "Why not:\n",
       "do input <- getLine\n",
       "   if null input then\n",
       "       do putStrLn \"Please enter a non-empty string.\"\n",
       "          getNonEmptyLine\n",
       "   else\n",
       "       return input"
      ]
     },
     "metadata": {},
     "output_type": "display_data"
    }
   ],
   "source": [
    "getNonEmptyLine :: IO String\n",
    "getNonEmptyLine = do\n",
    "  input  <- getLine\n",
    "  result <- if null input \n",
    "              then do putStrLn \"Please enter a non-empty string.\"\n",
    "                      getNonEmptyLine\n",
    "              else return input\n",
    "  return result"
   ]
  },
  {
   "cell_type": "code",
   "execution_count": 9,
   "metadata": {},
   "outputs": [],
   "source": [
    "bnel :: IO String\n",
    "bnel = getLine >>= \\input -> (if null input then putStrLn \"Nicola ist mies\" >> bnel else return input) >>= \\result -> return result"
   ]
  },
  {
   "cell_type": "code",
   "execution_count": 24,
   "metadata": {},
   "outputs": [],
   "source": [
    "data Zero a\n",
    "data One a = One\n",
    "newtype Identity a = Identity a\n",
    "newtype Const a b = Const a\n",
    "data Square a = Square a a\n",
    "data Product a b = Product a b"
   ]
  },
  {
   "cell_type": "code",
   "execution_count": 41,
   "metadata": {},
   "outputs": [],
   "source": [
    "instance Functor Zero where\n",
    "    fmap :: (a -> b) -> Zero a -> Zero b\n",
    "    fmap _ _ = undefined"
   ]
  },
  {
   "cell_type": "code",
   "execution_count": 72,
   "metadata": {},
   "outputs": [
    {
     "ename": "",
     "evalue": "",
     "output_type": "error",
     "traceback": [
      "<interactive>:18:10: error: Not in scope: type constructor or class ‘MonadPlus’"
     ]
    }
   ],
   "source": [
    "import Data.Monoid \n",
    "\n",
    "\n",
    "instance Functor One where\n",
    "    fmap :: (a -> b) -> One a -> One b\n",
    "    fmap f One = One\n",
    "\n",
    "instance Functor Identity where\n",
    "    fmap :: (a -> b) -> Identity a -> Identity b\n",
    "    fmap f (Identity a) = Identity $ f a\n",
    "\n",
    "-- instance Functor (Const a) where\n",
    "--     fmap :: (a -> b) -> Const c a -> Const c b\n",
    "--     fmap f (Const a) = Const $ f a\n",
    "\n",
    "instance Functor Square where\n",
    "    fmap :: (a -> b) -> Square a -> Square b\n",
    "    fmap f (Square x y) = Square (f x) (f y)\n",
    "\n",
    "instance Functor (Product a) where\n",
    "    fmap :: (b -> c) -> Product a b -> Product a c\n",
    "    fmap f (Product a b) = Product a (f b)\n",
    "\n",
    "instance Semigroup (Product Int Int) where\n",
    "    Product a1 b1 <> Product a2 b2 = Product (a1*a2) (b1*b2)\n",
    "\n",
    "instance Monoid (Product Int Int) where\n",
    "    mempty :: Product Int Int \n",
    "    mempty = Product 0 0\n",
    "\n",
    "instance MonadPlus (Product Int Int) where\n",
    "    mzero = mempty\n",
    "    Product a1 b1 `mappend` Product a2 b2 = Product (a1*a2) (b1*b2)\n"
   ]
  }
 ],
 "metadata": {
  "kernelspec": {
   "display_name": "Haskell",
   "language": "haskell",
   "name": "haskell"
  },
  "language_info": {
   "codemirror_mode": "ihaskell",
   "file_extension": ".hs",
   "mimetype": "text/x-haskell",
   "name": "haskell",
   "pygments_lexer": "Haskell",
   "version": "9.2.7"
  },
  "orig_nbformat": 4
 },
 "nbformat": 4,
 "nbformat_minor": 2
}
