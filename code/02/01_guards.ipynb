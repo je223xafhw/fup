{
 "cells": [
  {
   "attachments": {},
   "cell_type": "markdown",
   "metadata": {},
   "source": [
    "# Aufgabe 1 - Guards"
   ]
  },
  {
   "cell_type": "code",
   "execution_count": 2,
   "metadata": {},
   "outputs": [
    {
     "data": {
      "text/plain": [
       "1"
      ]
     },
     "metadata": {},
     "output_type": "display_data"
    }
   ],
   "source": [
    "collatz :: Integer -> Integer\n",
    "collatz n \n",
    "    | n < 1 = error \"Nummer größer 1\"\n",
    "    | n == 1 = n\n",
    "    | even n = collatz (n `div` 2)\n",
    "    | odd n = collatz (n*3 + 1)\n",
    "\n",
    "print (collatz 10)"
   ]
  },
  {
   "cell_type": "code",
   "execution_count": null,
   "metadata": {},
   "outputs": [],
   "source": [
    "fib:: Integer -> Integer\n",
    "fib n\n",
    "    | n < 0 = error \"nicht positiv\"\n",
    "    | n == 0 = 0\n",
    "    | n == 1 = 1\n",
    "    | otherwise = fib (n-1) + fib (n-2)"
   ]
  },
  {
   "attachments": {},
   "cell_type": "markdown",
   "metadata": {},
   "source": []
  }
 ],
 "metadata": {
  "kernelspec": {
   "display_name": "Haskell",
   "language": "haskell",
   "name": "haskell"
  },
  "language_info": {
   "codemirror_mode": "ihaskell",
   "file_extension": ".hs",
   "mimetype": "text/x-haskell",
   "name": "haskell",
   "pygments_lexer": "Haskell",
   "version": "9.2.7"
  },
  "orig_nbformat": 4
 },
 "nbformat": 4,
 "nbformat_minor": 2
}
