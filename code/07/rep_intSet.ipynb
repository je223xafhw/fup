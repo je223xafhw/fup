{
 "cells": [
  {
   "cell_type": "code",
   "execution_count": 88,
   "metadata": {},
   "outputs": [],
   "source": [
    "type IntegerSet = Integer -> Bool"
   ]
  },
  {
   "cell_type": "code",
   "execution_count": 89,
   "metadata": {},
   "outputs": [],
   "source": [
    "exampleSet :: IntegerSet\n",
    "exampleSet x = x `elem` [4, 8, 15, 16, 23, 42]"
   ]
  },
  {
   "cell_type": "markdown",
   "metadata": {},
   "source": [
    "```haskell\n",
    "empty :: IntegerSet -- repräsentiert die leere Menge.\n",
    "insert :: Integer -> IntegerSet -> IntegerSet -- fügt eine Zahl zu einer Menge hinzu.\n",
    "remove :: Integer -> IntegerSet -> IntegerSet -- entfernt eine Zahl aus einer Menge.\n",
    "isElem :: Integer -> IntegerSet -> Bool -- prüft, ob eine Zahl in einer Menge enthalten ist.\n",
    "union :: IntegerSet -> IntegerSet -> IntegerSet -- vereinigt zwei Mengen.\n",
    "intersection :: IntegerSet -> IntegerSet -> IntegerSet -- bildet den Schnitt zweier Mengen.\n",
    "difference :: IntegerSet -> IntegerSet -> IntegerSet -- berechnet die Differenz zweier Mengen.\n",
    "complement :: IntegerSet -> IntegerSet -- liefert das Komplement einer Menge.\n"
   ]
  },
  {
   "cell_type": "code",
   "execution_count": 90,
   "metadata": {},
   "outputs": [],
   "source": [
    "empty :: IntegerSet \n",
    "empty _ = False"
   ]
  },
  {
   "cell_type": "code",
   "execution_count": 91,
   "metadata": {},
   "outputs": [
    {
     "data": {
      "text/html": [
       "<style>/* Styles used for the Hoogle display in the pager */\n",
       ".hoogle-doc {\n",
       "display: block;\n",
       "padding-bottom: 1.3em;\n",
       "padding-left: 0.4em;\n",
       "}\n",
       ".hoogle-code {\n",
       "display: block;\n",
       "font-family: monospace;\n",
       "white-space: pre;\n",
       "}\n",
       ".hoogle-text {\n",
       "display: block;\n",
       "}\n",
       ".hoogle-name {\n",
       "color: green;\n",
       "font-weight: bold;\n",
       "}\n",
       ".hoogle-head {\n",
       "font-weight: bold;\n",
       "}\n",
       ".hoogle-sub {\n",
       "display: block;\n",
       "margin-left: 0.4em;\n",
       "}\n",
       ".hoogle-package {\n",
       "font-weight: bold;\n",
       "font-style: italic;\n",
       "}\n",
       ".hoogle-module {\n",
       "font-weight: bold;\n",
       "}\n",
       ".hoogle-class {\n",
       "font-weight: bold;\n",
       "}\n",
       ".get-type {\n",
       "color: green;\n",
       "font-weight: bold;\n",
       "font-family: monospace;\n",
       "display: block;\n",
       "white-space: pre-wrap;\n",
       "}\n",
       ".show-type {\n",
       "color: green;\n",
       "font-weight: bold;\n",
       "font-family: monospace;\n",
       "margin-left: 1em;\n",
       "}\n",
       ".mono {\n",
       "font-family: monospace;\n",
       "display: block;\n",
       "}\n",
       ".err-msg {\n",
       "color: red;\n",
       "font-style: italic;\n",
       "font-family: monospace;\n",
       "white-space: pre;\n",
       "display: block;\n",
       "}\n",
       "#unshowable {\n",
       "color: red;\n",
       "font-weight: bold;\n",
       "}\n",
       ".err-msg.in.collapse {\n",
       "padding-top: 0.7em;\n",
       "}\n",
       ".highlight-code {\n",
       "white-space: pre;\n",
       "font-family: monospace;\n",
       "}\n",
       ".suggestion-warning { \n",
       "font-weight: bold;\n",
       "color: rgb(200, 130, 0);\n",
       "}\n",
       ".suggestion-error { \n",
       "font-weight: bold;\n",
       "color: red;\n",
       "}\n",
       ".suggestion-name {\n",
       "font-weight: bold;\n",
       "}\n",
       "</style><div class=\"suggestion-name\" style=\"clear:both;\">Redundant lambda</div><div class=\"suggestion-row\" style=\"float: left;\"><div class=\"suggestion-warning\">Found:</div><div class=\"highlight-code\" id=\"haskell\">insert x s1 = \\ y -> (x == y) || s1 y</div></div><div class=\"suggestion-row\" style=\"float: left;\"><div class=\"suggestion-warning\">Why Not:</div><div class=\"highlight-code\" id=\"haskell\">insert x s1 y = (x == y) || s1 y</div></div>"
      ],
      "text/plain": [
       "Line 3: Redundant lambda\n",
       "Found:\n",
       "insert x s1 = \\ y -> (x == y) || s1 y\n",
       "Why not:\n",
       "insert x s1 y = (x == y) || s1 y"
      ]
     },
     "metadata": {},
     "output_type": "display_data"
    }
   ],
   "source": [
    "insert :: Integer -> IntegerSet -> IntegerSet\n",
    "-- insert x s1 = \\y -> if x == y then True else s1 y\n",
    "insert x s1 = \\y -> (x == y) || s1 y"
   ]
  },
  {
   "cell_type": "code",
   "execution_count": 92,
   "metadata": {},
   "outputs": [],
   "source": [
    "remove :: Integer -> IntegerSet -> IntegerSet\n",
    "remove x s1 y = (x /= y) && s1 y"
   ]
  },
  {
   "cell_type": "code",
   "execution_count": 93,
   "metadata": {},
   "outputs": [],
   "source": [
    "isElem :: Integer -> IntegerSet -> Bool\n",
    "isElem x s1 = s1 x"
   ]
  },
  {
   "cell_type": "code",
   "execution_count": 94,
   "metadata": {},
   "outputs": [],
   "source": [
    "union :: IntegerSet -> IntegerSet -> IntegerSet\n",
    "union s1 s2 x = s1 x || s2 x"
   ]
  },
  {
   "cell_type": "code",
   "execution_count": 95,
   "metadata": {},
   "outputs": [],
   "source": [
    "intersection :: IntegerSet -> IntegerSet -> IntegerSet\n",
    "intersection s1 s2 x = s1 x && s2 x"
   ]
  },
  {
   "cell_type": "code",
   "execution_count": 96,
   "metadata": {},
   "outputs": [],
   "source": [
    "difference :: IntegerSet -> IntegerSet -> IntegerSet\n",
    "difference s1 s2 x = not $ intersection s1 s2 x"
   ]
  },
  {
   "cell_type": "code",
   "execution_count": 97,
   "metadata": {},
   "outputs": [
    {
     "data": {
      "text/plain": [
       "True"
      ]
     },
     "metadata": {},
     "output_type": "display_data"
    },
    {
     "data": {
      "text/plain": [
       "False"
      ]
     },
     "metadata": {},
     "output_type": "display_data"
    },
    {
     "data": {
      "text/plain": [
       "False"
      ]
     },
     "metadata": {},
     "output_type": "display_data"
    },
    {
     "data": {
      "text/plain": [
       "False"
      ]
     },
     "metadata": {},
     "output_type": "display_data"
    }
   ],
   "source": [
    "set = remove 3 $ insert 1 $ insert 2 $ insert 3 empty\n",
    "set2 = remove 5 $ insert 2 $ insert 7 $ insert 8 empty\n",
    "\n",
    "isElem 1 set\n",
    "isElem 6 (set `union` set2)\n",
    "\n",
    "isElem 5 (set `union` set2)\n",
    "isElem 2 (set `difference` set2)\n"
   ]
  },
  {
   "cell_type": "code",
   "execution_count": 98,
   "metadata": {},
   "outputs": [
    {
     "data": {
      "text/html": [
       "<style>/* Styles used for the Hoogle display in the pager */\n",
       ".hoogle-doc {\n",
       "display: block;\n",
       "padding-bottom: 1.3em;\n",
       "padding-left: 0.4em;\n",
       "}\n",
       ".hoogle-code {\n",
       "display: block;\n",
       "font-family: monospace;\n",
       "white-space: pre;\n",
       "}\n",
       ".hoogle-text {\n",
       "display: block;\n",
       "}\n",
       ".hoogle-name {\n",
       "color: green;\n",
       "font-weight: bold;\n",
       "}\n",
       ".hoogle-head {\n",
       "font-weight: bold;\n",
       "}\n",
       ".hoogle-sub {\n",
       "display: block;\n",
       "margin-left: 0.4em;\n",
       "}\n",
       ".hoogle-package {\n",
       "font-weight: bold;\n",
       "font-style: italic;\n",
       "}\n",
       ".hoogle-module {\n",
       "font-weight: bold;\n",
       "}\n",
       ".hoogle-class {\n",
       "font-weight: bold;\n",
       "}\n",
       ".get-type {\n",
       "color: green;\n",
       "font-weight: bold;\n",
       "font-family: monospace;\n",
       "display: block;\n",
       "white-space: pre-wrap;\n",
       "}\n",
       ".show-type {\n",
       "color: green;\n",
       "font-weight: bold;\n",
       "font-family: monospace;\n",
       "margin-left: 1em;\n",
       "}\n",
       ".mono {\n",
       "font-family: monospace;\n",
       "display: block;\n",
       "}\n",
       ".err-msg {\n",
       "color: red;\n",
       "font-style: italic;\n",
       "font-family: monospace;\n",
       "white-space: pre;\n",
       "display: block;\n",
       "}\n",
       "#unshowable {\n",
       "color: red;\n",
       "font-weight: bold;\n",
       "}\n",
       ".err-msg.in.collapse {\n",
       "padding-top: 0.7em;\n",
       "}\n",
       ".highlight-code {\n",
       "white-space: pre;\n",
       "font-family: monospace;\n",
       "}\n",
       ".suggestion-warning { \n",
       "font-weight: bold;\n",
       "color: rgb(200, 130, 0);\n",
       "}\n",
       ".suggestion-error { \n",
       "font-weight: bold;\n",
       "color: red;\n",
       "}\n",
       ".suggestion-name {\n",
       "font-weight: bold;\n",
       "}\n",
       "</style><div class=\"suggestion-name\" style=\"clear:both;\">Redundant lambda</div><div class=\"suggestion-row\" style=\"float: left;\"><div class=\"suggestion-warning\">Found:</div><div class=\"highlight-code\" id=\"haskell\">listToSet xs = \\ y -> y `elem` xs</div></div><div class=\"suggestion-row\" style=\"float: left;\"><div class=\"suggestion-warning\">Why Not:</div><div class=\"highlight-code\" id=\"haskell\">listToSet xs y = y `elem` xs</div></div><div class=\"suggestion-name\" style=\"clear:both;\">Avoid lambda using `infix`</div><div class=\"suggestion-row\" style=\"float: left;\"><div class=\"suggestion-warning\">Found:</div><div class=\"highlight-code\" id=\"haskell\">\\ y -> y `elem` xs</div></div><div class=\"suggestion-row\" style=\"float: left;\"><div class=\"suggestion-warning\">Why Not:</div><div class=\"highlight-code\" id=\"haskell\">(`elem` xs)</div></div>"
      ],
      "text/plain": [
       "Line 2: Redundant lambda\n",
       "Found:\n",
       "listToSet xs = \\ y -> y `elem` xs\n",
       "Why not:\n",
       "listToSet xs y = y `elem` xsLine 2: Avoid lambda using `infix`\n",
       "Found:\n",
       "\\ y -> y `elem` xs\n",
       "Why not:\n",
       "(`elem` xs)"
      ]
     },
     "metadata": {},
     "output_type": "display_data"
    },
    {
     "data": {
      "text/plain": [
       "True"
      ]
     },
     "metadata": {},
     "output_type": "display_data"
    }
   ],
   "source": [
    "listToSet :: [Integer] -> (Integer -> Bool)\n",
    "listToSet xs = \\y -> y `elem` xs\n",
    "\n",
    "a = listToSet [1,2,3]\n",
    "\n",
    "a 2"
   ]
  },
  {
   "cell_type": "code",
   "execution_count": 99,
   "metadata": {},
   "outputs": [],
   "source": [
    "data Nicola = Marc | Jonny Nicola Nicola | Nicola :.: Nicola"
   ]
  },
  {
   "cell_type": "code",
   "execution_count": 100,
   "metadata": {},
   "outputs": [],
   "source": [
    "{-# LANGUAGE UndecidableInstances, AllowAmbiguousTypes #-}\n",
    "\n",
    "instance Show Nicola => Show Nicola where\n",
    "    show :: Nicola -> String\n",
    "    show Marc = \"?\"\n",
    "    show (Jonny x y) = show x ++ \" <-> \" ++ show y\n",
    "    show (x :.: y) = show x ++ \" mit \" ++ show y\n",
    "\n"
   ]
  },
  {
   "cell_type": "code",
   "execution_count": 101,
   "metadata": {},
   "outputs": [
    {
     "data": {
      "text/plain": [
       "? <-> ? <-> ? mit ? <-> ?"
      ]
     },
     "metadata": {},
     "output_type": "display_data"
    }
   ],
   "source": [
    "a = Marc\n",
    "b = Jonny Marc Marc\n",
    "c = a :.: b\n",
    "d = Jonny (Jonny Marc Marc) (Marc :.: Jonny Marc Marc)\n",
    "\n",
    "d"
   ]
  },
  {
   "cell_type": "code",
   "execution_count": 102,
   "metadata": {},
   "outputs": [],
   "source": [
    "foldNicola :: b -> (b -> b -> b) -> (b -> b -> b) -> Nicola -> b\n",
    "foldNicola x _ _ Marc = x\n",
    "foldNicola n fb fn (Jonny x y) = fb (foldNicola n fb fn x) (foldNicola n fb fn y)\n",
    "foldNicola n fb fn (x :.: y) = fn (foldNicola n fb fn x) (foldNicola n fb fn y)"
   ]
  },
  {
   "cell_type": "code",
   "execution_count": 104,
   "metadata": {},
   "outputs": [
    {
     "data": {
      "text/plain": [
       "\"\\\"\\\\\\\"?\\\\\\\" <-> \\\\\\\"?\\\\\\\"\\\" <-> \\\"\\\\\\\"?\\\\\\\" mit \\\\\\\"\\\\\\\\\\\\\\\"?\\\\\\\\\\\\\\\" <-> \\\\\\\\\\\\\\\"?\\\\\\\\\\\\\\\"\\\\\\\"\\\"\""
      ]
     },
     "metadata": {},
     "output_type": "display_data"
    }
   ],
   "source": [
    "foldNicola \"?\" (\\x y -> show x ++ \" <-> \" ++ show y) (\\x y -> show x ++ \" mit \" ++ show y) d"
   ]
  }
 ],
 "metadata": {
  "kernelspec": {
   "display_name": "Haskell",
   "language": "haskell",
   "name": "haskell"
  },
  "language_info": {
   "codemirror_mode": "ihaskell",
   "file_extension": ".hs",
   "mimetype": "text/x-haskell",
   "name": "haskell",
   "pygments_lexer": "Haskell",
   "version": "9.2.7"
  },
  "orig_nbformat": 4
 },
 "nbformat": 4,
 "nbformat_minor": 2
}
