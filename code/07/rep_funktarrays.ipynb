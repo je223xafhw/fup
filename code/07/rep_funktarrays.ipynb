{
 "cells": [
  {
   "cell_type": "code",
   "execution_count": 26,
   "metadata": {},
   "outputs": [],
   "source": [
    "type Array a = Int -> a"
   ]
  },
  {
   "cell_type": "code",
   "execution_count": 27,
   "metadata": {},
   "outputs": [
    {
     "data": {
      "text/plain": [
       "\"moin\""
      ]
     },
     "metadata": {},
     "output_type": "display_data"
    }
   ],
   "source": [
    "emptyArray :: Array a\n",
    "emptyArray i = error(\"null at \" ++ show i)\n",
    "\n",
    "\n",
    "getIndex :: Int -> Array a -> a\n",
    "getIndex n ar = ar n\n",
    "\n",
    "\n",
    "putIndex :: Int -> a -> Array a -> Array a\n",
    "putIndex n x ar = \\y -> if y == n then x else ar y\n",
    "\n",
    "\n",
    "removeIndex :: Int -> Array a -> Array a\n",
    "removeIndex n ar = \\y -> if y == n then emptyArray n else ar y\n",
    "\n",
    "-- getIndex 4 $ removeIndex 2 $ putIndex 2 \"moin\" $ putIndex 4 \"hallo\" emptyArray\n",
    "-- (putIndex 4 \"hi\" $ putIndex 1 \"moin\" $ putIndex 2 \"wasgeht\" emptyArray) 4\n",
    "-- (if index == 4 then hi else (if index == 1 then moin else (if index == 2 then wasgeht else error)))\n",
    "\n",
    "let a = putIndex 1 \"moin\" $ putIndex 2 \"wasgeht\" emptyArray\n",
    "let b = removeIndex 1 a\n",
    "let c = removeIndex 2 a\n",
    "\n",
    "a 1\n",
    "-- (putIndex 1 \"moin\" $ putIndex 2 \"wasgeht\" emptyArray) 1\n",
    "-- b 2\n",
    "-- c 2"
   ]
  },
  {
   "cell_type": "code",
   "execution_count": 28,
   "metadata": {},
   "outputs": [],
   "source": [
    "newtype FList a = FList ([a] -> [a])\n",
    "\n",
    "\n",
    "fromFList :: FList a -> [a]\n",
    "fromFList (FList x) = x []\n",
    "\n",
    "toFList :: [a] -> FList a\n",
    "toFList xs = FList (xs ++)\n",
    "\n",
    "emptyList :: FList a\n",
    "emptyList = toFList []"
   ]
  },
  {
   "cell_type": "code",
   "execution_count": 29,
   "metadata": {},
   "outputs": [],
   "source": [
    "instance Semigroup (FList a) where\n",
    "    (<>) :: FList a -> FList a -> FList a\n",
    "    (<>) (FList fl) (FList fr) = FList (fl . fr)\n",
    "    --                                  \\y -> fr (fl y)\n",
    "\n",
    "instance Monoid (FList a) where\n",
    "    mempty = FList $ const []\n",
    "    -- mempty = FList $ \\_ -> []\n",
    "    mappend = (<>)\n",
    "\n",
    "instance Show a => Show (FList a) where\n",
    "    show :: FList a -> String\n",
    "    show fl = show (fromFList fl)\n",
    "\n",
    "-- :t (.)\n",
    "-- (.) fr fl = \\y -> fr (fl y)"
   ]
  },
  {
   "cell_type": "code",
   "execution_count": 30,
   "metadata": {},
   "outputs": [
    {
     "data": {
      "text/plain": [
       "[3,1,2,3]"
      ]
     },
     "metadata": {},
     "output_type": "display_data"
    }
   ],
   "source": [
    "singleton :: a -> FList a\n",
    "singleton x = toFList [x]\n",
    "\n",
    "cons :: a -> FList a -> FList a\n",
    "cons a fl = singleton a <> fl\n",
    "\n",
    "a = toFList [1,2,3]\n",
    "b = cons 3 a\n",
    "\n",
    "b"
   ]
  },
  {
   "cell_type": "code",
   "execution_count": 31,
   "metadata": {},
   "outputs": [
    {
     "data": {
      "text/plain": [
       "[1,2,3,3]"
      ]
     },
     "metadata": {},
     "output_type": "display_data"
    }
   ],
   "source": [
    "snoc :: FList a -> a -> FList a\n",
    "snoc fl a = fl <> singleton a\n",
    "\n",
    "a = toFList [1,2,3]\n",
    "b = snoc a 3\n",
    "\n",
    "b"
   ]
  },
  {
   "cell_type": "code",
   "execution_count": 32,
   "metadata": {},
   "outputs": [
    {
     "data": {
      "text/plain": [
       "[1,2,3,4,5,6]"
      ]
     },
     "metadata": {},
     "output_type": "display_data"
    }
   ],
   "source": [
    "append :: FList a -> FList a -> FList a\n",
    "append = (<>)\n",
    "\n",
    "toFList [1,2,3] `append` toFList [4,5,6]"
   ]
  },
  {
   "cell_type": "code",
   "execution_count": 35,
   "metadata": {},
   "outputs": [
    {
     "data": {
      "text/html": [
       "<style>/* Styles used for the Hoogle display in the pager */\n",
       ".hoogle-doc {\n",
       "display: block;\n",
       "padding-bottom: 1.3em;\n",
       "padding-left: 0.4em;\n",
       "}\n",
       ".hoogle-code {\n",
       "display: block;\n",
       "font-family: monospace;\n",
       "white-space: pre;\n",
       "}\n",
       ".hoogle-text {\n",
       "display: block;\n",
       "}\n",
       ".hoogle-name {\n",
       "color: green;\n",
       "font-weight: bold;\n",
       "}\n",
       ".hoogle-head {\n",
       "font-weight: bold;\n",
       "}\n",
       ".hoogle-sub {\n",
       "display: block;\n",
       "margin-left: 0.4em;\n",
       "}\n",
       ".hoogle-package {\n",
       "font-weight: bold;\n",
       "font-style: italic;\n",
       "}\n",
       ".hoogle-module {\n",
       "font-weight: bold;\n",
       "}\n",
       ".hoogle-class {\n",
       "font-weight: bold;\n",
       "}\n",
       ".get-type {\n",
       "color: green;\n",
       "font-weight: bold;\n",
       "font-family: monospace;\n",
       "display: block;\n",
       "white-space: pre-wrap;\n",
       "}\n",
       ".show-type {\n",
       "color: green;\n",
       "font-weight: bold;\n",
       "font-family: monospace;\n",
       "margin-left: 1em;\n",
       "}\n",
       ".mono {\n",
       "font-family: monospace;\n",
       "display: block;\n",
       "}\n",
       ".err-msg {\n",
       "color: red;\n",
       "font-style: italic;\n",
       "font-family: monospace;\n",
       "white-space: pre;\n",
       "display: block;\n",
       "}\n",
       "#unshowable {\n",
       "color: red;\n",
       "font-weight: bold;\n",
       "}\n",
       ".err-msg.in.collapse {\n",
       "padding-top: 0.7em;\n",
       "}\n",
       ".highlight-code {\n",
       "white-space: pre;\n",
       "font-family: monospace;\n",
       "}\n",
       ".suggestion-warning { \n",
       "font-weight: bold;\n",
       "color: rgb(200, 130, 0);\n",
       "}\n",
       ".suggestion-error { \n",
       "font-weight: bold;\n",
       "color: red;\n",
       "}\n",
       ".suggestion-name {\n",
       "font-weight: bold;\n",
       "}\n",
       "</style><div class=\"suggestion-name\" style=\"clear:both;\">Use foldr</div><div class=\"suggestion-row\" style=\"float: left;\"><div class=\"suggestion-warning\">Found:</div><div class=\"highlight-code\" id=\"haskell\">concat [] = emptyList\n",
       "concat (x : xs) = x <> concat xs</div></div><div class=\"suggestion-row\" style=\"float: left;\"><div class=\"suggestion-warning\">Why Not:</div><div class=\"highlight-code\" id=\"haskell\">concat xs = foldr (<>) emptyList xs</div></div>"
      ],
      "text/plain": [
       "Line 2: Use foldr\n",
       "Found:\n",
       "concat [] = emptyList\n",
       "concat (x : xs) = x <> concat xs\n",
       "Why not:\n",
       "concat xs = foldr (<>) emptyList xs"
      ]
     },
     "metadata": {},
     "output_type": "display_data"
    },
    {
     "data": {
      "text/plain": [
       "[1,2,3,4,5,6]"
      ]
     },
     "metadata": {},
     "output_type": "display_data"
    }
   ],
   "source": [
    "concat :: [FList a] -> FList a\n",
    "concat [] = emptyList\n",
    "concat (x:xs) =  x <> concat xs\n",
    "-- concat xs = foldr (<>) emptyList xs\n",
    "\n",
    "a = toFList [1,2,3]\n",
    "b = toFList [4,5,6]\n",
    "c = [a,b]\n",
    "\n",
    "concat c"
   ]
  },
  {
   "cell_type": "code",
   "execution_count": 36,
   "metadata": {},
   "outputs": [
    {
     "data": {
      "text/plain": [
       "1"
      ]
     },
     "metadata": {},
     "output_type": "display_data"
    }
   ],
   "source": [
    "head :: FList a -> a\n",
    "head fl =  fromFList fl !! 0\n",
    "\n",
    "head $ toFList [1,2,3]\n",
    "\n",
    "-- take 1 [1,2,3]"
   ]
  },
  {
   "cell_type": "code",
   "execution_count": null,
   "metadata": {},
   "outputs": [],
   "source": [
    "tail :: FList a -> FList a\n",
    "tail fs = toFList (case fromFList fs of\n",
    "                     [] -> []\n",
    "                     (_:xs) -> xs)"
   ]
  },
  {
   "cell_type": "code",
   "execution_count": null,
   "metadata": {},
   "outputs": [],
   "source": [
    "foldr :: (a -> b -> b) -> b -> FList a -> b\n",
    "foldr f b fl = foldr' f b (fromFList fl) where\n",
    "    foldr' :: (a -> b -> b) -> b -> [a] -> b\n",
    "    foldr' _ acc [] = acc\n",
    "    foldr' f acc (x:xs) = f x $ foldr' f acc xs"
   ]
  },
  {
   "cell_type": "code",
   "execution_count": null,
   "metadata": {},
   "outputs": [
    {
     "data": {
      "text/plain": [
       "[3,2,1]"
      ]
     },
     "metadata": {},
     "output_type": "display_data"
    }
   ],
   "source": [
    "reverse :: [a] -> [a]\n",
    "reverse xs = fromFList $ rev xs where\n",
    "    rev :: [a] -> FList a\n",
    "    rev [] = emptyList\n",
    "    rev (x:xs) = rev xs <> singleton x\n",
    "\n",
    "reverse [1,2,3]"
   ]
  },
  {
   "cell_type": "code",
   "execution_count": 38,
   "metadata": {},
   "outputs": [
    {
     "ename": "",
     "evalue": "",
     "output_type": "error",
     "traceback": [
      "<interactive>:3:46: error:\n    • Couldn't match expected type: Ghci106.FList a0\n                  with actual type: FList a\n      NB: ‘Ghci106.FList’ is defined at <interactive>:1:1-36\n          ‘FList’ is defined at <interactive>:1:1-36\n    • In the first argument of ‘tail’, namely ‘fl’\n      In the first argument of ‘reverseF’, namely ‘(tail fl)’\n      In the second argument of ‘cons’, namely ‘(reverseF (tail fl))’\n    • Relevant bindings include\n        fl :: FList a (bound at <interactive>:3:10)\n        reverseF :: FList a -> FList a (bound at <interactive>:2:1)\n<interactive>:3:41: error:\n    • Couldn't match expected type: FList a\n                  with actual type: Ghci106.FList a0\n      NB: ‘FList’ is defined at <interactive>:1:1-36\n          ‘Ghci106.FList’ is defined at <interactive>:1:1-36\n    • In the first argument of ‘reverseF’, namely ‘(tail fl)’\n      In the second argument of ‘cons’, namely ‘(reverseF (tail fl))’\n      In the expression: cons (head fl) (reverseF (tail fl))\n    • Relevant bindings include\n        fl :: FList a (bound at <interactive>:3:10)\n        reverseF :: FList a -> FList a (bound at <interactive>:2:1)"
     ]
    }
   ],
   "source": [
    "reverseF :: FList a -> FList a\n",
    "reverseF emptyList = emptyList\n",
    "reverseF fl = cons (head fl) (reverseF (tail fl))\n",
    "\n",
    "fromFList $ reverseF $ toFList [1,2,3]"
   ]
  }
 ],
 "metadata": {
  "kernelspec": {
   "display_name": "Haskell",
   "language": "haskell",
   "name": "haskell"
  },
  "language_info": {
   "codemirror_mode": "ihaskell",
   "file_extension": ".hs",
   "mimetype": "text/x-haskell",
   "name": "haskell",
   "pygments_lexer": "Haskell",
   "version": "9.2.7"
  },
  "orig_nbformat": 4
 },
 "nbformat": 4,
 "nbformat_minor": 2
}
