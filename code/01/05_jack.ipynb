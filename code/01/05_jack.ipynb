{
 "cells": [
  {
   "attachments": {},
   "cell_type": "markdown",
   "metadata": {},
   "source": [
    "# Aufgabe 05\n",
    "Black Jack"
   ]
  },
  {
   "attachments": {},
   "cell_type": "markdown",
   "metadata": {},
   "source": [
    "Der Type Card besteht aus einer Karte und einer Liste aus Karten. Welche Karte dann bei einer neuen Hand als erste Karte genommen wird ist noch offen.\n",
    "Der Rank wird als enum definiert und dann mit case .. of werte zugewiesen. Die Alternative wäre gewesen, den Rank als `deriving(Enum)` zu definieren, dann hat jeder von den Attributen einen Int als Wert. Allerdings sollen J,Q,K den gleichen Wert haben"
   ]
  },
  {
   "cell_type": "code",
   "execution_count": 70,
   "metadata": {},
   "outputs": [],
   "source": [
    "data Rank = R2 | R3 | R4 | R5 | R6 | R7 | R8 | R9 | R10 | Jack | Queen | King | Ace deriving (Show, Eq, Bounded, Enum)\n",
    "data Suit = Hearts | Diamonds | Spades | Clubs deriving (Show, Eq, Bounded, Enum)\n",
    "data Card = Card Suit Rank deriving (Show, Eq, Bounded)\n",
    "data Hand = Empty | Hand Card [Card] deriving (Show, Eq)\n",
    "\n",
    "rank :: Rank -> Int\n",
    "rank x = case x of \n",
    "    R2 -> 2\n",
    "    R3 -> 3\n",
    "    R4 -> 4\n",
    "    R5 -> 5\n",
    "    R6 -> 6\n",
    "    R7 -> 7\n",
    "    R8 -> 8\n",
    "    R9 -> 9\n",
    "    R10 -> 10\n",
    "    Jack -> 10\n",
    "    Queen -> 10\n",
    "    King -> 10\n",
    "    Ace -> 11\n",
    "\n"
   ]
  },
  {
   "attachments": {},
   "cell_type": "markdown",
   "metadata": {},
   "source": [
    "## Functions\n",
    "\n",
    "### <+>\n",
    "- Die Funktion bekommt 2 Hände, in jeder hand ist eine karte und eine liste von Karten.\n",
    "- es wird die *Hauptkarte* von der ersten Hand auch als *Hauptkarte* von der zurückgegebenen Hand genutzt\n",
    "- Zusätzlich wird die *Hauptkarte* der zweiten Hand zu den anderen beiden Karten-Listen konkatiniert, nachdem sie in eine Liste konvertiert wird"
   ]
  },
  {
   "cell_type": "code",
   "execution_count": 71,
   "metadata": {},
   "outputs": [],
   "source": [
    "getCardValue :: Card -> Int\n",
    "getCardValue (Card _ n)  = rank n\n",
    "\n",
    "getCards :: Hand -> [Card]\n",
    "getCards (Hand _ x) = x\n",
    "\n",
    "getCard :: Hand -> Card\n",
    "getCard (Hand x _) = x\n",
    "\n",
    "(<+>) :: Hand -> Hand -> Hand\n",
    "(<+>) Empty h = h\n",
    "(<+>) h Empty = h\n",
    "(<+>) Empty Empty = Empty\n",
    "(<+>) (Hand c1 cs1) (Hand c2 cs2) = Hand c1 ([c2] ++ cs1 ++ cs2)\n"
   ]
  },
  {
   "cell_type": "code",
   "execution_count": 72,
   "metadata": {},
   "outputs": [
    {
     "data": {
      "text/plain": [
       "Hand (Card Clubs R3) [Card Spades Ace,Card Spades R2,Card Spades Ace,Card Clubs Ace,Card Diamonds Ace,Card Hearts Ace,Card Clubs R3,Card Diamonds R10]"
      ]
     },
     "metadata": {},
     "output_type": "display_data"
    }
   ],
   "source": [
    "let card = Card Clubs R3\n",
    "let card2 = Card Spades R2\n",
    "let card3 = Card Spades Ace\n",
    "let card5 = Card Clubs Ace\n",
    "let card6 = Card Diamonds Ace\n",
    "let card7 = Card Hearts Ace\n",
    "let hand = Hand card [card2, card3, card5, card6, card7]\n",
    "\n",
    "let card4 = Card Diamonds R10\n",
    "print(hand <+> Hand card3 [card, card4])"
   ]
  },
  {
   "attachments": {},
   "cell_type": "markdown",
   "metadata": {},
   "source": [
    "\n",
    "### FullDeck\n",
    "- ziemlich faszinierende Sache: fullDeck erstellt eine Liste mit einer List-comprehension, unzwar aus den einzelnen Listen Suit und Rank. Man kann aus Card nicht direkt eine komplette Bound liste machen, da es nicht teil von Enum ist. Und kann es auch nicht sein, weil die Werte wieder mehrere Werte haben.\n",
    "- Also gehen wir durch alle werte durch und erstellen für jeden dieser Werte eine Hand mit den Attributen\n",
    "- um eine Hand zu erstellen, brauchen wir eine Hauptkarte und den Rest der Karten als array\n",
    "- also wird noch die erste Karte und dann der rest als array zurückgegeben\n",
    "### numOfAces\n",
    "- auch wieder list comprehension: erstelle eine Liste von Karten, wobei nur die karten zur liste hinzugefügt werden, welche den spezifischen Rang haben\n",
    "### getValue\n",
    "- diesmal etwas komplizierter\n",
    "- man muss tracken, wie viele asse schon 'verwendet' wurden\n",
    "- daher eine helper funktion, die nichts anderes macht als sich selbst immer wieder aufzurufen, unzwar so lange wie asse da sind, bis der wert unter oder gleich 21 ist. Dazu wird der wert immer -10 und die Asse -1 gerechnet, bis entweder keine asse mehr da sind oder 21 erreicht ist"
   ]
  },
  {
   "cell_type": "code",
   "execution_count": 73,
   "metadata": {},
   "outputs": [],
   "source": [
    "fullDeck :: Hand\n",
    "fullDeck = Hand (head deck) (tail deck) where\n",
    "    deck = [Card suit rank | suit <- [minBound .. maxBound] :: [Suit], rank <- [minBound .. maxBound] :: [Rank]]\n",
    "\n",
    "getCardsByRank :: Hand -> Int -> [Card]\n",
    "getCardsByRank (Hand c cs) n = [Card s r | Card s r <- c:cs, rank r == n]\n",
    "\n",
    "numOfAces :: Hand -> Int\n",
    "numOfAces h = length (getCardsByRank h 11)\n",
    "\n",
    "getValue :: Hand -> Int\n",
    "getValue (Hand c cs) = getValue' (sum [rank r | Card s r <- c:cs]) (numOfAces (Hand c cs)) where\n",
    "    getValue' :: Int -> Int -> Int\n",
    "    getValue' s a\n",
    "        | s > 21 && a > 0 = getValue' (s - 10) (a - 1)\n",
    "        | otherwise = s\n"
   ]
  },
  {
   "cell_type": "code",
   "execution_count": 74,
   "metadata": {},
   "outputs": [
    {
     "data": {
      "text/plain": [
       "19"
      ]
     },
     "metadata": {},
     "output_type": "display_data"
    }
   ],
   "source": [
    "deck = fullDeck\n",
    "-- print(getCardsByRank deck 11)\n",
    "-- print (numOfAces deck)\n",
    "print(getValue hand)"
   ]
  }
 ],
 "metadata": {
  "kernelspec": {
   "display_name": "Haskell",
   "language": "haskell",
   "name": "haskell"
  },
  "language_info": {
   "codemirror_mode": "ihaskell",
   "file_extension": ".hs",
   "mimetype": "text/x-haskell",
   "name": "haskell",
   "pygments_lexer": "Haskell",
   "version": "9.2.7"
  },
  "orig_nbformat": 4
 },
 "nbformat": 4,
 "nbformat_minor": 2
}
