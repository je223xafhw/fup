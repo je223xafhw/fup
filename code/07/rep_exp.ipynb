{
 "cells": [
  {
   "cell_type": "code",
   "execution_count": 42,
   "metadata": {},
   "outputs": [],
   "source": [
    "data Exp = Num Int | Exp :+: Exp | Exp :/: Exp | Var String\n",
    "\n",
    "type Env a b = a -> Maybe b\n",
    "type ExpEnv = Env String Int"
   ]
  },
  {
   "cell_type": "code",
   "execution_count": 81,
   "metadata": {},
   "outputs": [],
   "source": [
    "add :: Eq a => a -> b -> Env a b -> Env a b\n",
    "add x y env n = if n == x then return y else env n\n",
    "\n",
    "empty :: ExpEnv\n",
    "empty _ = Nothing"
   ]
  },
  {
   "cell_type": "code",
   "execution_count": 105,
   "metadata": {},
   "outputs": [],
   "source": [
    "import Control.Monad\n",
    "\n",
    "guard :: MonadPlus m => Bool -> m ()\n",
    "guard False = mzero\n",
    "guard True = return ()"
   ]
  },
  {
   "cell_type": "code",
   "execution_count": 98,
   "metadata": {},
   "outputs": [],
   "source": [
    "ewE :: ExpEnv -> Exp -> Maybe Int\n",
    "ewE env (Num a) = if a == 0 then Nothing else return a\n",
    "ewE env (x :+: y) = ewE env x >>= \\xx -> ewE env y >>= \\yy -> return (xx + yy)\n",
    "ewE env (x :/: y) = ewE env y >>= \\yy -> case yy of \n",
    "                                0 -> Nothing\n",
    "                                _ -> ewE env x >>= \\xx -> return (xx `div` yy)\n",
    "ewE env (Var i) = env i"
   ]
  },
  {
   "cell_type": "code",
   "execution_count": 100,
   "metadata": {},
   "outputs": [],
   "source": [
    "eWESCHEISSAPPLICATIVE :: ExpEnv -> Exp -> Maybe Int\n",
    "eWESCHEISSAPPLICATIVE env (Num a)   = if a == 0 then Nothing else pure a\n",
    "eWESCHEISSAPPLICATIVE env (x :+: y) = (+) <$> eWESCHEISSAPPLICATIVE env x <*> eWESCHEISSAPPLICATIVE env y\n",
    "eWESCHEISSAPPLICATIVE env (x :/: y) = div <$> eWESCHEISSAPPLICATIVE env x <*> (case eWESCHEISSAPPLICATIVE env y of \n",
    "                                                                                    Just 0 -> Nothing\n",
    "                                                                                    n -> n)"
   ]
  },
  {
   "cell_type": "code",
   "execution_count": 99,
   "metadata": {},
   "outputs": [],
   "source": [
    "eWESCHEISSMONADMIFUCKINGDO :: ExpEnv -> Exp -> Maybe Int\n",
    "eWESCHEISSMONADMIFUCKINGDO env (Num a) = if a == 0 then Nothing else return a\n",
    "eWESCHEISSMONADMIFUCKINGDO env (x :+: y) = do\n",
    "            xx <- eWESCHEISSMONADMIFUCKINGDO env x\n",
    "            yy <- eWESCHEISSMONADMIFUCKINGDO env y\n",
    "            return (xx + yy)\n",
    "eWESCHEISSMONADMIFUCKINGDO env (x :/: y) = do\n",
    "            yy <- eWESCHEISSMONADMIFUCKINGDO env y\n",
    "            case yy of\n",
    "                0 -> Nothing\n",
    "                _ -> do\n",
    "                    xx <- eWESCHEISSMONADMIFUCKINGDO env x\n",
    "                    return (xx `div` yy)\n",
    "eWESCHEISSMONADMIFUCKINGDO env (Var i) = env i"
   ]
  },
  {
   "cell_type": "code",
   "execution_count": 106,
   "metadata": {},
   "outputs": [],
   "source": [
    "eWESCHEISSMONADMIFUCKINGDOUNDDANNNOCHMITGUARD :: ExpEnv -> Exp -> Maybe Int\n",
    "eWESCHEISSMONADMIFUCKINGDOUNDDANNNOCHMITGUARD env (Num a) = if a == 0 then Nothing else return a\n",
    "eWESCHEISSMONADMIFUCKINGDOUNDDANNNOCHMITGUARD env (x :+: y) = do\n",
    "            xx <- eWESCHEISSMONADMIFUCKINGDOUNDDANNNOCHMITGUARD env x\n",
    "            yy <- eWESCHEISSMONADMIFUCKINGDOUNDDANNNOCHMITGUARD env y\n",
    "            return (xx + yy)\n",
    "eWESCHEISSMONADMIFUCKINGDOUNDDANNNOCHMITGUARD env (x :/: y) = do\n",
    "            yy <- eWESCHEISSMONADMIFUCKINGDOUNDDANNNOCHMITGUARD env y\n",
    "            guard (yy /= 0)\n",
    "            xx <- eWESCHEISSMONADMIFUCKINGDOUNDDANNNOCHMITGUARD env x\n",
    "            return (xx `div` yy)\n",
    "eWESCHEISSMONADMIFUCKINGDOUNDDANNNOCHMITGUARD env (Var i) = env i"
   ]
  },
  {
   "cell_type": "code",
   "execution_count": 110,
   "metadata": {},
   "outputs": [
    {
     "data": {
      "text/plain": [
       "Nothing"
      ]
     },
     "metadata": {},
     "output_type": "display_data"
    }
   ],
   "source": [
    "a = Num 3 :+: Num 4\n",
    "b = Num 3 :/: Var \"three\"\n",
    "\n",
    "c = add \"two\" 2 $ add \"three\" 0 empty\n",
    "\n",
    "eWESCHEISSMONADMIFUCKINGDOUNDDANNNOCHMITGUARD c b"
   ]
  },
  {
   "cell_type": "code",
   "execution_count": 118,
   "metadata": {},
   "outputs": [],
   "source": [
    "newtype State a s = St (s -> (a, s)) \n",
    "\n",
    "runState :: s -> State a s -> a\n",
    "runState init (St s) = let (a, s1) = s init in a"
   ]
  },
  {
   "cell_type": "code",
   "execution_count": null,
   "metadata": {},
   "outputs": [],
   "source": []
  }
 ],
 "metadata": {
  "kernelspec": {
   "display_name": "Haskell",
   "language": "haskell",
   "name": "haskell"
  },
  "language_info": {
   "codemirror_mode": "ihaskell",
   "file_extension": ".hs",
   "mimetype": "text/x-haskell",
   "name": "haskell",
   "pygments_lexer": "Haskell",
   "version": "9.2.7"
  },
  "orig_nbformat": 4
 },
 "nbformat": 4,
 "nbformat_minor": 2
}
