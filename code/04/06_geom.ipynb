{
 "cells": [
  {
   "cell_type": "code",
   "execution_count": 21,
   "metadata": {},
   "outputs": [
    {
     "data": {
      "text/plain": [
       "***\n",
       "* *\n",
       "***"
      ]
     },
     "metadata": {},
     "output_type": "display_data"
    }
   ],
   "source": [
    "square :: Int -> IO ()\n",
    "square 0 = putStrLn \"\"\n",
    "square 1 = putStrLn \"*\"\n",
    "square n = putStrLn (square'  \"\" n 1) where\n",
    "    square' :: String -> Int -> Int -> String\n",
    "    square' s start cur \n",
    "        | start == cur = s ++ ['*' | x<-[1..start]]\n",
    "        | cur == 1 = ['*' | x<-[1..start]] ++ \"\\n\" ++ square' s start (cur+1)\n",
    "        | otherwise = [if x == 1 || x == n then '*' else ' ' | x<-[1..n]] ++ \"\\n\" ++ square' s start (cur+1)\n",
    "\n",
    "square 3"
   ]
  },
  {
   "attachments": {},
   "cell_type": "markdown",
   "metadata": {},
   "source": [
    "```\n",
    " *\n",
    "* *\n",
    " *\n",
    "```\n",
    "---\n",
    "```\n",
    "i == 3\n",
    "  *     <= 2 spaces\n",
    " * *    <= 1 space\n",
    "*   *\n",
    " * * \n",
    "  *\n",
    "```\n",
    "---\n",
    "```\n",
    "i == 4\n",
    "   *    <= 3 space, *\n",
    "  * *   <= 2 space, *, 1 space, *\n",
    " *   *  <= 1 space, *, 3 space, *\n",
    "*     * <= 0 space, *, 5 space, *\n",
    " *   *  <= 1 space, *, 3 space, *\n",
    "  * *   <= 2 space, *, 1 space, *\n",
    "   *    <= 3 space, *\n",
    "```"
   ]
  },
  {
   "cell_type": "code",
   "execution_count": 30,
   "metadata": {},
   "outputs": [
    {
     "data": {
      "text/plain": [
       "   *\n",
       "  *   *\n",
       " *     *\n",
       "*       *\n",
       "*         *\n",
       "*           *\n",
       "*             *\n",
       "*               *\n",
       "*                 *\n",
       "*                   *\n",
       "*                     *\n",
       "*                       *\n",
       "*                         *\n",
       "*                           *\n",
       "*                             *\n",
       "*                               *\n",
       "*                                 *\n",
       "*                                   *\n",
       "*                                     *\n",
       "*                                       *\n",
       "*                                         *\n",
       "*                                           *\n",
       "*                                             *"
      ]
     },
     "metadata": {},
     "output_type": "display_data"
    }
   ],
   "source": [
    "diamond :: Int -> IO ()\n",
    "diamond 0 = putStrLn \"\"\n",
    "diamond 1 = putStrLn \"*\"\n",
    "diamond n = putStrLn (diamond' \"\" n 1 True) where\n",
    "    diamond' :: String -> Int -> Int -> Bool -> String\n",
    "    -- dir -= direction, true for up and false for down\n",
    "    diamond' s fsp lsp dir\n",
    "        | lsp == 1 && dir = [' ' | _<-[1..fsp]] ++ \"*\\n\" ++ diamond' s (fsp-1) (lsp+2) dir\n",
    "        | lsp == 1 && not dir = s ++ [' ' | _<- [1..lsp]] ++ \"*\"\n",
    "        -- way up (decrease fsp and increase lsp in 2steps)\n",
    "        | dir = [' ' | _<-[1..fsp]] ++ \"*\" ++ [' ' | _<-[1..lsp]] ++ \"*\\n\" ++ diamond' s (fsp-1) (lsp+2) dir\n",
    "        -- way down (increase fsp and decrease lsp in 2steps)\n",
    "\n",
    "diamond 3\n"
   ]
  }
 ],
 "metadata": {
  "kernelspec": {
   "display_name": "Haskell",
   "language": "haskell",
   "name": "haskell"
  },
  "language_info": {
   "codemirror_mode": "ihaskell",
   "file_extension": ".hs",
   "mimetype": "text/x-haskell",
   "name": "haskell",
   "pygments_lexer": "Haskell",
   "version": "9.2.7"
  },
  "orig_nbformat": 4
 },
 "nbformat": 4,
 "nbformat_minor": 2
}
